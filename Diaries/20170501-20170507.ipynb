{
 "cells": [
  {
   "cell_type": "markdown",
   "metadata": {},
   "source": [
    "# 20170501\n",
    "\n",
    "> Back to Higher Education Mega Center... With Miss Rong.\n",
    "\n",
    "> Ride the ofo...\n",
    "\n",
    "> AAaaBBbb12345\n",
    "\n",
    "> 学外语～\n",
    "\n",
    "---\n",
    "# 20170502\n",
    "\n",
    "> 昨天把键盘清洗了一下，拆了键帽，用酒精清洗了它们，然后安装回去后，刚开始键盘没相应，后来过了会可以用了，但是按键失灵，按一个按键，输出了两个临近的按键，上去百度了一下，可能是薄膜进水了，没清理干净，然后拆下了薄膜，用酒精擦干净，再用电吹风吹干，装上之后，就可以正常使用拉。\n",
    "\n",
    "---\n",
    "# 20170503 \n",
    "\n",
    "> 《冰血暴》 美剧，连续剧?  AAaaBBaa123\n",
    "\n",
    "> 数据库的ACID，在显示中常常发生，就是给支行们的权限，没有ACID原则在支持约束，导致的不一致性，大家看到的信息不一样，信息流通不充分。\n",
    "\n",
    "> Web开发，又出现Maven了。。。\n",
    "\n",
    "\n",
    "\n"
   ]
  }
 ],
 "metadata": {
  "kernelspec": {
   "display_name": "Python [Root]",
   "language": "python",
   "name": "Python [Root]"
  },
  "language_info": {
   "codemirror_mode": {
    "name": "ipython",
    "version": 2
   },
   "file_extension": ".py",
   "mimetype": "text/x-python",
   "name": "python",
   "nbconvert_exporter": "python",
   "pygments_lexer": "ipython2",
   "version": "2.7.12"
  }
 },
 "nbformat": 4,
 "nbformat_minor": 0
}
