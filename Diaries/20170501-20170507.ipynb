{
 "cells": [
  {
   "cell_type": "markdown",
   "metadata": {},
   "source": [
    "# 20170501 Monday\n",
    "\n",
    "> Back to Higher Education Mega Center... With Miss Rong.\n",
    "\n",
    "> Ride the ofo...\n",
    "\n",
    "> AaBb12345\n",
    "\n",
    "> 学外语～\n",
    "\n",
    "---\n",
    "# 20170502 Tuesday\n",
    "\n",
    "> 昨天把键盘清洗了一下，拆了键帽，用酒精清洗了它们，然后安装回去后，刚开始键盘没相应，后来过了会可以用了，但是按键失灵，按一个按键，输出了两个临近的按键，上去百度了一下，可能是薄膜进水了，没清理干净，然后拆下了薄膜，用酒精擦干净，再用电吹风吹干，装上之后，就可以正常使用拉。\n",
    "\n",
    "---\n",
    "# 20170503 Wednesday\n",
    "\n",
    "> 《冰血暴》 美剧，连续剧?  AaBa123\n",
    "\n",
    "> 数据库的ACID，在显示中常常发生，就是给支行们的权限，没有ACID原则在支持约束，导致的不一致性，大家看到的信息不一样，信息流通不充分。\n",
    "\n",
    "> Web开发，又出现Maven了。。。\n",
    "\n",
    "---\n",
    "# 20170504 Thursday\n",
    "\n",
    "> <人民的名义> 的确很火，可圈可点的，不少台词充满哲理，但是有时候感觉是主旋律，政治正确的强力插入，但是也没有办法。。。\n",
    "\n",
    "> 人民日报:与富二代官二代相比 寒门贵子贵在奋斗; 祁同伟：这不是废话吗？要不是权力没有收到监督，公平正义得到伸张，TM的我为何还要去走小路，不走大道？最后被迫走上不归路，其实制度/组织应该也有不少责任把。不然最后如何以身为棋，胜天半子？\n",
    "\n",
    "> 人民的名义:In The Name Of People... 就像领导让合适的人去干合适的事情，资源分配问题;让对应职业的人去出演戏里对于的角色，这样真实啊，搞一个平台，但是毕竟是职业啊，冲突是最主要的矛盾？ 第三产业，服务业，创造部分，娱乐产业只会越来越大啊。为什么没有人做人民的名字的微信表情包。。。？\n",
    "\n",
    "\n",
    "\n",
    "\n",
    "\n",
    "\n",
    "\n"
   ]
  }
 ],
 "metadata": {
  "kernelspec": {
   "display_name": "Python [Root]",
   "language": "python",
   "name": "Python [Root]"
  },
  "language_info": {
   "codemirror_mode": {
    "name": "ipython",
    "version": 2
   },
   "file_extension": ".py",
   "mimetype": "text/x-python",
   "name": "python",
   "nbconvert_exporter": "python",
   "pygments_lexer": "ipython2",
   "version": "2.7.12"
  }
 },
 "nbformat": 4,
 "nbformat_minor": 0
}
