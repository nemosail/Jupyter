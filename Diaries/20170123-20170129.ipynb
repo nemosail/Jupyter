{
 "cells": [
  {
   "cell_type": "markdown",
   "metadata": {},
   "source": [
    "# 20170123 Monday\n",
    "\n",
    "> You can do better...\n",
    "\n",
    "> 阿里和腾讯，一个电商第一，一个社交无敌。阿里抢占了大家的钱包，腾讯抢占了大家的时间。那到底是钱包重要呢？还是时间重要？两个都重要.\n",
    "\n",
    "> 围棋比赛将成为人工智能“奥运会”的雏形, 人工智能\"奥与会\",各种算法,数据,智慧,代码的比拼,也是很好玩的~\n",
    "\n",
    "---\n",
    "\n",
    "\n"
   ]
  }
 ],
 "metadata": {
  "kernelspec": {
   "display_name": "Python [Root]",
   "language": "python",
   "name": "Python [Root]"
  },
  "language_info": {
   "codemirror_mode": {
    "name": "ipython",
    "version": 2
   },
   "file_extension": ".py",
   "mimetype": "text/x-python",
   "name": "python",
   "nbconvert_exporter": "python",
   "pygments_lexer": "ipython2",
   "version": "2.7.12"
  }
 },
 "nbformat": 4,
 "nbformat_minor": 0
}
