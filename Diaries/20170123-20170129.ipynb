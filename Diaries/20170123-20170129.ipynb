{
 "cells": [
  {
   "cell_type": "markdown",
   "metadata": {},
   "source": [
    "# 20170123 Monday\n",
    "\n",
    "> You can do better...\n",
    "\n",
    "> 阿里和腾讯，一个电商第一，一个社交无敌。阿里抢占了大家的钱包，腾讯抢占了大家的时间。那到底是钱包重要呢？还是时间重要？两个都重要.\n",
    "\n",
    "> 围棋比赛将成为人工智能“奥运会”的雏形, 人工智能\"奥与会\",各种算法,数据,智慧,代码的比拼,也是很好玩的~\n",
    "\n",
    "> 未来，在时间这个战场上，有两门生意会特别值钱。第一，就是帮别人省时间，第二，就是帮别人把省下来的时间浪费在那些美好的事物上。\n",
    "\n",
    "> 强烈需求OCR这类辅助软件,深度学习下的Deep Learning下的准确率应该很高很高的.\n",
    "\n",
    "> Google glass AR/VR/OCR :Machine Learning / Aritficial Intelligence / Deep Learning\n",
    "\n",
    "---\n",
    "乘数效应\n",
    "\n",
    "冲正 \n",
    "\n"
   ]
  }
 ],
 "metadata": {
  "kernelspec": {
   "display_name": "Python [Root]",
   "language": "python",
   "name": "Python [Root]"
  },
  "language_info": {
   "codemirror_mode": {
    "name": "ipython",
    "version": 2
   },
   "file_extension": ".py",
   "mimetype": "text/x-python",
   "name": "python",
   "nbconvert_exporter": "python",
   "pygments_lexer": "ipython2",
   "version": "2.7.12"
  }
 },
 "nbformat": 4,
 "nbformat_minor": 0
}
