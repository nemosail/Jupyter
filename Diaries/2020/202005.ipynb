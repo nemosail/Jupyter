{
 "cells": [
  {
   "cell_type": "markdown",
   "metadata": {},
   "source": [
    "#### 20200430 ~ 20200510\n",
    "\n",
    "> 202004 塞翁失马焉知非福； rjr 这个月有一次不舒服，肠痉挛？？？ 什么问题？ 吃的不注意？ 喝水不够？ 运动不够？ \n",
    "\n",
    "> 出现不舒服，要了解情况，及时准确做判断，人工干预，该吃药吃药，该去医院去医院，该留医要留医，MUST，关于身体健康，必须万分注意!\n",
    "\n",
    "> 2019-ncov 防疫 进程 到 常态化防疫了...\n",
    "\n",
    "#### 20200514\n",
    "\n",
    "> PingCAP,  TiDB，  分布式数据库 OLAP, OLTP 数据库，还是很好很基础的设施。\n",
    "\n",
    "> 单位净值    累计净值   复权净值\n",
    "\n",
    "#### 20200528\n",
    "\n",
    "```\n",
    "不过是看客想听什么，茶馆说书的就说什么——这是一种媒体\n",
    "\n",
    "资本想传达/忽悠什么，拿着大喇叭的就念什么——这是一种媒体\n",
    "\n",
    "媒体就是一个收智商税，兼拿资本广告/洗脑津贴的行当\n",
    "\n",
    "报道客观/Truth——没人看，也没经费支持，找不痛快吗，地球上没这种行当的\n",
    "```"
   ]
  }
 ],
 "metadata": {
  "kernelspec": {
   "display_name": "Python 3",
   "language": "python",
   "name": "python3"
  },
  "language_info": {
   "codemirror_mode": {
    "name": "ipython",
    "version": 3
   },
   "file_extension": ".py",
   "mimetype": "text/x-python",
   "name": "python",
   "nbconvert_exporter": "python",
   "pygments_lexer": "ipython3",
   "version": "3.6.5"
  }
 },
 "nbformat": 4,
 "nbformat_minor": 2
}
