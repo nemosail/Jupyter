{
 "cells": [
  {
   "cell_type": "markdown",
   "metadata": {},
   "source": [
    "#### 20200201\n",
    "\n",
    "> 回顾已经工作4年了。。。\n",
    "\n",
    "#### 20200202 KEYWORD 魔幻现实\n",
    "\n",
    "> 到现在已经很多天了，暴露的问题缺更多了\n",
    "\n",
    "> RED CROSSS  红10会 湖北，武汉，貌似有。。。 利益....\n",
    "\n",
    "> 真是低估人性的恶，  善与恶， 那么明显对比吗？？？ what are they??? what wrong with our???\n",
    "\n",
    "> 2019-nCov 新型病毒就是一面镜子，照出了平时找不到的魑魅魍魉，恶魔的勾当， 我又想起了那句， 披着天使的外衣缺干着魔鬼的勾当。。。 疯狂对比，魔幻现实...\n",
    "\n",
    "> 捐款，捐物问题， 全链路 追踪问题， blockchain 可以解决吗？？？ how it tech can solve the problem\n",
    "\n",
    "> 他们说 学医救不了cn，那什么可以？\n",
    "\n"
   ]
  }
 ],
 "metadata": {
  "anaconda-cloud": {},
  "kernelspec": {
   "display_name": "Python [Root]",
   "language": "python",
   "name": "Python [Root]"
  },
  "language_info": {
   "codemirror_mode": {
    "name": "ipython",
    "version": 2
   },
   "file_extension": ".py",
   "mimetype": "text/x-python",
   "name": "python",
   "nbconvert_exporter": "python",
   "pygments_lexer": "ipython2",
   "version": "2.7.12"
  }
 },
 "nbformat": 4,
 "nbformat_minor": 0
}
