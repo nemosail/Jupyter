{
 "cells": [
  {
   "cell_type": "markdown",
   "metadata": {},
   "source": [
    "#### 20200314 \n",
    "\n",
    ">  还是要继续记录, 2019-conv 持续在国外发酵，意大利 法国 德国 伊朗 日本 韩国 美国等等都开始蔓延\n",
    "\n",
    "> 美股 20200312 熔断， 20200313熔断。。。 罕见的 大跌。。。\n",
    "\n",
    "> 非生鲜类的储藏食品效率估计增长较多，罐头类食品（罐头水果，午餐肉），速冻食品，速冻肉类等等，方便面 香肠？ 这个只是趋势投机的逻辑，只能是近期，见好就收了，不能赚最后一个铜板 而导致风险收益成不利的不对称；\n",
    "\n",
    "> 一流企业卖标准；二流企业卖专利；三流企业卖产品；超级企业卖大楼。。。  可是卖产品已经是非常不容易。。。\n",
    "\n",
    "> 一流人才创造工具；二流人才善用工具；三流人才被工具控制； 超级人才不用任何工具。。。\n",
    "\n",
    "\n"
   ]
  },
  {
   "cell_type": "code",
   "execution_count": 2,
   "metadata": {},
   "outputs": [
    {
     "name": "stdout",
     "output_type": "stream",
     "text": [
      "Hello\n"
     ]
    }
   ],
   "source": [
    "print('Hello')\n",
    "\n"
   ]
  }
 ],
 "metadata": {
  "kernelspec": {
   "display_name": "Python 3",
   "language": "python",
   "name": "python3"
  },
  "language_info": {
   "codemirror_mode": {
    "name": "ipython",
    "version": 3
   },
   "file_extension": ".py",
   "mimetype": "text/x-python",
   "name": "python",
   "nbconvert_exporter": "python",
   "pygments_lexer": "ipython3",
   "version": "3.7.6"
  }
 },
 "nbformat": 4,
 "nbformat_minor": 4
}
