{
 "cells": [
  {
   "cell_type": "markdown",
   "metadata": {},
   "source": [
    "#### 20200314 \n",
    "\n",
    ">  还是要继续记录, 2019-conv 持续在国外发酵，意大利 法国 德国 伊朗 日本 韩国 美国等等都开始蔓延\n",
    "\n",
    "> 美股 20200312 熔断， 20200313熔断。。。 罕见的 大跌。。。"
   ]
  }
 ],
 "metadata": {
  "kernelspec": {
   "display_name": "Python 3",
   "language": "python",
   "name": "python3"
  },
  "language_info": {
   "codemirror_mode": {
    "name": "ipython",
    "version": 3
   },
   "file_extension": ".py",
   "mimetype": "text/x-python",
   "name": "python",
   "nbconvert_exporter": "python",
   "pygments_lexer": "ipython3",
   "version": "3.7.6"
  }
 },
 "nbformat": 4,
 "nbformat_minor": 4
}
