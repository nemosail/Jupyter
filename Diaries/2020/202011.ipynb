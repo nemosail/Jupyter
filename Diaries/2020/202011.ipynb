{
 "cells": [
  {
   "cell_type": "markdown",
   "metadata": {},
   "source": [
    "#### 20201102\n",
    "\n",
    "> 原油的品种有两大类，一个是原油期货，二是油田开采股票 原油、黄金这种大宗商品的走势非常难以判断，多少专业机构死在这里，我等小散，需要抱以敬畏之心，降低收益预期，千百不可挣点小钱就要去指点江山，原油可是大国博弈的品种。\n",
    "\n",
    "> https://www.jisilu.cn/question/362925 \n",
    "\n",
    "> https://www.jisilu.cn/question/376002\n",
    "\n",
    "#### 20201104\n",
    "\n",
    "> hadoop2的hive采用了新的hive server，称为HiveServer2，HiveServer2中的CLI客户端不建议使用hive CLI，而是建议使用Beeline这个客户端，今天就说说这个客户端的用法。\n",
    "\n",
    "> 4padm的 引擎Engine是一个 运行环境，他启动了，只是说明环境OK了，一般是手工启动，能得到instanceID， 是引擎的instanceID；访问 http://aiplatform.guosen.com.cn:40123/automl-manger/v1/app?instanceId=332 得到引擎的状态和 访问url网关信息； 用得到的 网关url信息，访问 http://aiplatform.guosen.com.cn/automl-engine/332/automl/v1/pipeline/instanceId/{instanceId}/{pipelineTemplateId}/start 访问Swagger的端口，启动 pipeline， 或者 查看 pipeline信息； 还有是需要传递参数， 传递 给pipeline的所有参数\n",
    "\n",
    "> 引擎Engine是 运行环境； Pipeline是相当于一个DAG，带了定时/手工/信息 触发；  Pipeline里面是一个一个的job\n",
    "\n",
    "> 可能要考虑 工作去workspaceID等\n",
    "\n",
    "#### Long time havn't play with VIM\n",
    "\n",
    "#### 20201106 代码 Compare的工具， 可视化的，很好用 WinMerge工具就挺好用的\n",
    "\n",
    "> 大家买水果，尽量买当季的，洗干净，削皮的，把皮多削一点丢了。一些网红热门品种又很贵的，少吃（一些追求时尚的女孩子特别喜欢这些品种，不知道为啥，反正特点就是贵，味道还特好）。甜度很高，看着异常好看的，少吃。在给小孩子吃任何品种前，更要注意。\n",
    "\n",
    "#### 2020 MAGA 老美的大统领 大选， 新冠专治各种不服。。。 魔幻现实的2020\n",
    "\n",
    "> stay hungry, stay foolish.\n",
    "\n",
    "> 电视剧 Episoid <沉默的真相>\n",
    "\n",
    "> 已发布的表 在 已发布表的导航找不；\n",
    "\n",
    "> 字段映射的问题;  \n",
    "\n",
    "> 告警信息的生成， 从调度执行里面 剥离出来;  单独一个进程来处理(supervisor)； 然后需要有监控来监控这个进程\n",
    "\n",
    "> 告警信息的发送，单独一个进程来处理 (supervisor)； \n",
    "\n",
    "> rabbitmq  queue的概念，有效期;\n",
    "\n",
    "> 高可用 （数据库高可用）\n",
    "\n",
    "> queues: 15309  时效， 限制， Rabbitmq 可能用光 Memory， 消耗 Queues和 内存； rabbitmq横向扩展\n",
    "\n",
    "> 任务加一个优先级的字段；  从channel需要排序执行;\n",
    "\n",
    "> channel限流； 通道的并行度 和 通道的实际情况\n",
    "\n",
    "\n",
    "\n"
   ]
  }
 ],
 "metadata": {
  "kernelspec": {
   "display_name": "Python 3",
   "language": "python",
   "name": "python3"
  },
  "language_info": {
   "codemirror_mode": {
    "name": "ipython",
    "version": 3
   },
   "file_extension": ".py",
   "mimetype": "text/x-python",
   "name": "python",
   "nbconvert_exporter": "python",
   "pygments_lexer": "ipython3",
   "version": "3.6.5"
  }
 },
 "nbformat": 4,
 "nbformat_minor": 2
}
