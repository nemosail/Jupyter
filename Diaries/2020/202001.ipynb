{
 "cells": [
  {
   "cell_type": "markdown",
   "metadata": {},
   "source": [
    "#### 20200106\n",
    "\n",
    "> New year, Keep Physical Exercise 和赫总去爬 梧桐山，感觉身体确实在变差，不行啊，坚持锻炼！！ 为了更长远的模板，身体是革命的本钱，这个伟人已经告诉我们了。\n",
    "\n",
    "> 资讯，舆情？？？ What ？ 联想的思路， 苹果产品， 围绕这个产品提供的企业，也是有很多成长空间的； 特斯拉也是一样，也会有一样的企业不...\n",
    "\n",
    "> 有色ETF.... 需要了解和研究这个 金融产品 背后包装的真实标的，实际内在投资逻辑.\n",
    "\n",
    "> 我觉得现在这个状态和整个社会都有关系，我们就像一个在跑步机上不停奔跑的人，还有人不断给你按加速，the whole society problem???  观察，发现，总结，  大胆假设，小心求证\n",
    "\n",
    "> 宽基ETF， 主题， 行业 基金等，他们基础还是股票，只是提供从上至下 的投资决策思路...\n",
    "\n",
    "> 整理各类 主题、行业  比较典型的 基金的 投资逻辑思路\n",
    "\n",
    "> PE PB 指标类（大盘，蓝筹，非周期）， 周期类（证券类，传媒类，避险类）， 整理分类逻辑框架，还有其对应的策略？ 思维导图  (可以自顶向下，也可以自下而上）\n",
    "\n",
    "> 在图 graph 中， 实体 entity ， 然后可以给这个 entity 贴上标签 （标签是有标准控制的）， 然后   实体 - 标签 ； 标签 - 实体 的方式， 可以连起来；   也可以是  标签 - （经验 知识 思维） 的方式进行关联，这样  看某个实体，就能看到和它相关的知识， 和它相关的企业 ， 资讯 舆情；  使用中台思维  -> to client（个人投资者）， -> to business（机构）, -> to program 接口，程序 等等\n",
    "\n",
    "\n",
    "\n",
    "\n",
    "\n",
    "\n",
    "\n"
   ]
  }
 ],
 "metadata": {
  "kernelspec": {
   "display_name": "Python 3",
   "language": "python",
   "name": "python3"
  },
  "language_info": {
   "codemirror_mode": {
    "name": "ipython",
    "version": 3
   },
   "file_extension": ".py",
   "mimetype": "text/x-python",
   "name": "python",
   "nbconvert_exporter": "python",
   "pygments_lexer": "ipython3",
   "version": "3.6.5"
  }
 },
 "nbformat": 4,
 "nbformat_minor": 2
}
