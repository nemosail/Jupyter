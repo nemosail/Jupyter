{
 "cells": [
  {
   "cell_type": "markdown",
   "metadata": {},
   "source": [
    "#### 20200106\n",
    "\n",
    "> New year, Keep Physical Exercise 和赫总去爬 梧桐山，感觉身体确实在变差，不行啊，坚持锻炼！！ 为了更长远的模板，身体是革命的本钱，这个伟人已经告诉我们了。\n",
    "\n",
    "> 资讯，舆情？？？ What ？ 联想的思路， 苹果产品， 围绕这个产品提供的企业，也是有很多成长空间的； 特斯拉也是一样，也会有一样的企业不...\n",
    "\n",
    "> 有色ETF.... 需要了解和研究这个 金融产品 背后包装的真实标的，实际内在投资逻辑.\n",
    "\n",
    "> 我觉得现在这个状态和整个社会都有关系，我们就像一个在跑步机上不停奔跑的人，还有人不断给你按加速，全社会的问题，多说无益！ \n",
    "\n",
    "\n",
    "\n"
   ]
  }
 ],
 "metadata": {
  "kernelspec": {
   "display_name": "Python 3",
   "language": "python",
   "name": "python3"
  },
  "language_info": {
   "codemirror_mode": {
    "name": "ipython",
    "version": 3
   },
   "file_extension": ".py",
   "mimetype": "text/x-python",
   "name": "python",
   "nbconvert_exporter": "python",
   "pygments_lexer": "ipython3",
   "version": "3.6.5"
  }
 },
 "nbformat": 4,
 "nbformat_minor": 2
}
