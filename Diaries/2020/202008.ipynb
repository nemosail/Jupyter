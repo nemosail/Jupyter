{
 "cells": [
  {
   "cell_type": "markdown",
   "metadata": {},
   "source": [
    "#### 20200805\n",
    "\n",
    "> supervise 监督， unsupervise无监督， semisupervise半监督； Adbode的很多PS等等工具，其实就是semi-supervise半监督的。\n",
    "\n",
    "> 需要：  元数据对比的界面-> 选择左边， 选择右边， 然后对比， （元数据对比的功能）\n",
    "\n",
    "> 元数据校验结果，需要处理\n",
    "\n",
    "> 元数据校验失败的结果，一行一行写入到 告警信息里面?\n",
    "\n",
    "> 告警信息的展示， 已处理/未处理\n",
    "\n",
    "> 每个人关在自己信息孤岛里面，得到的都是加强自己内心的结论，而想要的信息。\n",
    "\n",
    "> to_number(to_char(sysdate,'yyyymmdd'))\n",
    "\n",
    "> AI -> learn a song...? 有伴奏的情况，用AI生成人声\n",
    "\n",
    "> 随机从 ( _ _ _ _ _ _ _ )的数据中抽取， 直接 random(0,1)  * len() 获取？ 是否有更好的方法 random(0,1) * len() * prime_number % len() 这样是否更加随机?"
   ]
  }
 ],
 "metadata": {
  "kernelspec": {
   "display_name": "Python 3",
   "language": "python",
   "name": "python3"
  },
  "language_info": {
   "codemirror_mode": {
    "name": "ipython",
    "version": 3
   },
   "file_extension": ".py",
   "mimetype": "text/x-python",
   "name": "python",
   "nbconvert_exporter": "python",
   "pygments_lexer": "ipython3",
   "version": "3.6.5"
  }
 },
 "nbformat": 4,
 "nbformat_minor": 2
}
