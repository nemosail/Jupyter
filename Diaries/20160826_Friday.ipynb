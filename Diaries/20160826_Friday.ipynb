{
 "cells": [
  {
   "cell_type": "markdown",
   "metadata": {},
   "source": [
    "> 所见即所得，所想即所得。。。 \n",
    "\n",
    "#### Learn SAS, Second Day\n",
    "[SAS官方资料](http://support.sas.com/training)\n",
    "\n",
    "[SAS blogs](blogs.sas.com)\n",
    "\n",
    "What is a NAS? How to build one with my hand?\n",
    "\n",
    "***\n",
    "May Need To Know Some OCR...光学字符识别?\n",
    "\n",
    "<<从IT到DT>> 工业化大生产 到 个性化小生产\n",
    "\n",
    "需要选课： \n",
    "- 个人生涯规划；\n",
    "- Time Management； \n",
    "- 编程课程； \n",
    "- 数学课程；\n",
    "\n",
    "***\n",
    "贷款的还款方式（利息永恒公式： 利息 = 贷款 \\* 利率 \\* 时间）： (Need To Check)分析不同，对应不用场景和应用\n",
    "- 等额等息\n",
    "- 只还利息（意思是期间不用换本金，只还利息，最后一次性还本金）\n",
    "- ？？？\n",
    "\n",
    "***\n",
    "银行核心系统 -> ODS， 是T+0; T+0.5; T+1; ??那个才是正确？\n",
    "\n",
    "\n"
   ]
  }
 ],
 "metadata": {
  "kernelspec": {
   "display_name": "Python [Root]",
   "language": "python",
   "name": "Python [Root]"
  },
  "language_info": {
   "codemirror_mode": {
    "name": "ipython",
    "version": 2
   },
   "file_extension": ".py",
   "mimetype": "text/x-python",
   "name": "python",
   "nbconvert_exporter": "python",
   "pygments_lexer": "ipython2",
   "version": "2.7.12"
  }
 },
 "nbformat": 4,
 "nbformat_minor": 0
}
