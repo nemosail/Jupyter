{
 "cells": [
  {
   "cell_type": "markdown",
   "metadata": {},
   "source": [
    "# 20190102 Wedneday\n",
    "\n",
    "> 目标要清晰，落地\n",
    "\n",
    "> 系统学习 经济 和 金融， 宏观 & 微观， 定性分析 同时 定量分析。。。 定性的时候走到 0-1 两个极端容易，看到问题的多面性，多样性难； 定量的时候走到 0-1 两端的最优化难，找到问题本质，然后找到最优解难，人们日常往往是 平凡解。。。\n",
    "\n",
    "> 陪她看 <明星大侦探 第四季> 有感，他们不单纯是做节目，更多的是对外输出 正能量。。。也更引观众思考。。。。\n",
    "\n",
    "> 下单的时候，应该是需要 tacdoe的，这个是基金公司代码吗？\n",
    "\n",
    "> 数据质量检查的 系统，应该要有规划了， 调度系统新增、修改任务，发现数据不平衡了，对不上了，然后定位问题。。。1220数据有问题。。。\n",
    "\n",
    "---\n",
    "# 20190104 Friday\n",
    "\n",
    "> Flink, Storm, Spark 大数据组件一个一个了解\n",
    "\n",
    "> Hbase 等等。。。\n",
    "\n",
    "\n"
   ]
  }
 ],
 "metadata": {
  "kernelspec": {
   "display_name": "Python 3",
   "language": "python",
   "name": "python3"
  },
  "language_info": {
   "codemirror_mode": {
    "name": "ipython",
    "version": 3
   },
   "file_extension": ".py",
   "mimetype": "text/x-python",
   "name": "python",
   "nbconvert_exporter": "python",
   "pygments_lexer": "ipython3",
   "version": "3.6.5"
  }
 },
 "nbformat": 4,
 "nbformat_minor": 2
}
