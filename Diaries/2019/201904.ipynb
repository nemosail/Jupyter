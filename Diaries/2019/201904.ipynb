{
 "cells": [
  {
   "cell_type": "markdown",
   "metadata": {},
   "source": [
    "## 201904 push forword\n",
    "\n",
    "> 熊市末期？ 不会个股，就增强定投，买低估了合适的筹码，那就行业ETF，大主题的ETF，流动性好，安全\n",
    "\n",
    "> 个股可以找券商股份，中信。。广发。。等等，还有给他们工作的厂商， kindom, apex, hunsun, 同类的互联网券商、公司，同花顺、大智慧，东方财富。\n",
    "\n",
    "> 编辑器插件， 类似一个 文档、字符串处理工具链条， 可以写自己的python脚本处理字符串，也可以用 awk sed等工具，然后构建这些工具...\n",
    "\n",
    "> 逻辑主键 和 物理主键的分开， 逻辑主键只是标志，表示设计的方案，但是可以用来后续的重复性检测；物理主键是强制性的，像一把锁，而逻辑主键更像是 红绿灯的建议锁，而不是强制锁。\n",
    "\n",
    "> 就像名义利率 和 实际利率，他们往往是相差很大的，算是手续费，各种费用，真实的利率往往是 名义利率的2倍左右； 很多都是名义上，组织上的划分，但是实际工作内容的划分等等，往往是不一样的。\n",
    "\n",
    "> 要对自己所拥有的数据十分熟悉，要对客户的诉求，根据自己的实际拥有，转换、引导成为 实际的需求。。。 很多事情就好办了，不能内卷啊，把自己困在困境中，应该外扩，就像橄榄球一样，war一样，扩张。。。\n",
    "\n",
    "> go travel，想租车就租车，想开去哪里就开去哪里， 自动驾驶，5G的场景？\n",
    "\n",
    "> 科大讯飞的 语音 转 文字 Voice to text 效果貌似很好。。。\n",
    "\n",
    "> navitcat 链接oracle ，需要放 instantclient-basic-12.xx.zip 里面的 oci.dll，然后去navicat的工具， oci调整路径\n",
    "\n",
    "> 测试环境的 调度 daap 等等，都是在 tomcat 上面跑的， 需要注意收藏夹的路径对不对。。。 展示不出内容，需要转ie8\n",
    "\n",
    "---\n",
    "# 20190415 \n",
    "\n",
    "> 需要 F12 换成，IE8的版本来处理... 调度不显示内容，可能是需要 IE8 的支持\n",
    "\n",
    "> 调度同步任务， 调度设计好，源 和 目标， 是 informatica 连接有，但是 181.45 的 系统dsn 上面没有这个连接，所以导致了 undefine， undefine 可能是 字段带来的问题， 也可能是 informatica 链接名 ODBC_database 和 windows系统的 dsn 匹配不上的问题。  181.45 的windows 没有mysql的ODBC驱动... 陈工 确实很厉害.... 排错的思路，一步一步定位到了问题。。。 思路还是很清晰，实际上解决了问题...\n",
    "\n",
    "> 调度看日志，选择任务，在 designer - 打开映射， 有参数和变了； 看任务的日志，点击 具体任务（不是流）可以看到准确的错误日志。\n",
    "\n",
    "> 45的 gp loader， 在 D:盘 E:盘 software 有 GP Load的使用\n",
    "\n",
    "> informatica 要 designer 打开才行啊，在designer的配置，有参数配置的地方，不能使用1900日期。。。 workflow 也是要打开的；  workflow 的 会话 和 工作流的区别是？\n",
    "\n",
    ">  调度无法 同步到 informatica 可能是 myslq timestamp datetime 的字段问题， 出现 undefine\n",
    "\n",
    "> 但是具体执行 informatica， 发现是 驱动找不到， 找不到驱动\n",
    "\n",
    "> 统计、整理的数据还是要 更漂亮，工整，更有逻辑，专业， 标题变色、居中，数值的展示，边框等等.\n",
    "\n",
    "\n",
    "\n",
    "\n",
    "\n"
   ]
  }
 ],
 "metadata": {
  "kernelspec": {
   "display_name": "Python 3",
   "language": "python",
   "name": "python3"
  },
  "language_info": {
   "codemirror_mode": {
    "name": "ipython",
    "version": 3
   },
   "file_extension": ".py",
   "mimetype": "text/x-python",
   "name": "python",
   "nbconvert_exporter": "python",
   "pygments_lexer": "ipython3",
   "version": "3.6.5"
  }
 },
 "nbformat": 4,
 "nbformat_minor": 2
}
