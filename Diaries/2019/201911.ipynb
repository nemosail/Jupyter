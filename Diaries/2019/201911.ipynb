{
 "cells": [
  {
   "cell_type": "markdown",
   "metadata": {},
   "source": [
    "# 20191103\n",
    "\n",
    "> 老板，风雨不动地读书， 每天都 1个小时读书， 读完还写比较， 深度的阅读， 得到更广的视野； 还会去体验新鲜前沿的app，流行的事务等等，跟上新的时代。。。 what? 他们很会玩啊。。。。。。\n",
    "\n",
    "> 过去一年了，感触太深。。。 看很多行业研报，报告，研究近2年、5年、10年的变化。。。\n",
    "\n",
    "> 区块链， 数据货币， how to\n",
    "\n",
    "---\n",
    "\n",
    "> where is your CS, ML, AI books? BlockChain, Finance, Economy Books?\n",
    "\n",
    "> Keep reading, man....\n",
    "\n",
    "> https://www.jisilu.cn/question/331227 Numbers and represent market 数字 和 背后的具体含义和更软的关联 发散关系\n",
    "\n",
    "```\n",
    "数据来源，数据提供商？ 还有其他吗，还有可靠的不？\n",
    "http://www.stats.gov.cn/\n",
    "\n",
    "```\n",
    "\n",
    "> 李斯哲学。。。李斯的处世哲学是“老鼠哲学”。人是一只老鼠，同样是老鼠，但有粮仓老鼠和过街老鼠之分。“我”要当一只粮仓里的老鼠。\n",
    "\n",
    "> VBA is pretty pwoerful。。。应该会有专门介绍 VBA 的书， VB & VBA？ 书籍，Blog, 还有是相关的圈子，社交网络，bbs等等\n",
    "\n",
    "> From xlsx -> xlsxm 就可以保存 写好的VBA啦，可以导出执行这个高级的语言，解决大部分常见的问题\n",
    "\n",
    "> 股吧、基金吧、、、 是天天基金， 东方财富的？ http://guba.eastmoney.com/\n",
    "\n",
    "> From JiSiLu: seems ？ 科技越发展，资本家能利用的工具手段就越先进，资本的力量就越强，劳动相对就更弱势，人越来越苦逼。所以要么创业成功，要么学好投资，总之要坚定站在资本一边。。。 回头看人类的整个历史进程，从xx社会到xx社会，到current社会，自顶向下的，最宏观的环境，what can you do? 玩法很多，关键是你选择怎么玩？"
   ]
  },
  {
   "cell_type": "code",
   "execution_count": 12,
   "metadata": {},
   "outputs": [
    {
     "name": "stdout",
     "output_type": "stream",
     "text": [
      "[1, 2, 3, 4, 5, 6, 7, 8, 9]\n"
     ]
    }
   ],
   "source": [
    "\n",
    "##### Analyse 观察现象，尝试找出里面的 内因, 归因\n",
    "# x is x-axis, integer or numeric(), represent the asset, 资产规模， 一个点 代表有这个资产的人群\n",
    "# y1 is average(profitrate)， 但是，x轴上的一个点，是一个资产群体的代表，有>0 也有 <0 average会有问题\n",
    "# y1_pos 对于x轴上的一个点，只取 profitrate>0 的账户，然后求 average(profitrate)，注意异常数据带来影响，这样\n",
    "# 代表这资产群体下的 正收益的 平均值，\n",
    "# y1_neg 对于x轴上的一个点，只取 profitrate<0 的账户，然后求 average(profitrate)，注意异常数据带来影响，这样\n",
    "# 代表这资产群体下的 负收益的 平均值，\n",
    "# y1_pos_num  x轴上的一个点，对应的账户 收益率 大于0的 数量\n",
    "# y1_neg_num  x轴上的一个点，对应的账户 收益率 小于0的 数量\n",
    "\n",
    "x = list(range(1,10,1))\n",
    "y1_pos = [10,8,7,6,5,4.5,4,3,2,1,0]\n",
    "y1_neg = [-11,-9,-8,-7,-7,-5.5,-5,-4,-3,-2,-1]\n",
    "print(x)\n",
    "\n",
    "# plot the curve, finish here\n",
    "\n",
    "\n",
    "\n",
    "\n",
    "\n",
    "\n",
    "\n",
    "\n",
    "\n",
    "\n",
    "\n",
    "\n",
    "\n",
    "\n",
    "\n",
    "\n",
    "\n",
    "\n",
    "\n",
    "\n",
    "\n",
    "\n"
   ]
  },
  {
   "cell_type": "code",
   "execution_count": null,
   "metadata": {},
   "outputs": [],
   "source": []
  }
 ],
 "metadata": {
  "kernelspec": {
   "display_name": "Python 3",
   "language": "python",
   "name": "python3"
  },
  "language_info": {
   "codemirror_mode": {
    "name": "ipython",
    "version": 3
   },
   "file_extension": ".py",
   "mimetype": "text/x-python",
   "name": "python",
   "nbconvert_exporter": "python",
   "pygments_lexer": "ipython3",
   "version": "3.6.5"
  }
 },
 "nbformat": 4,
 "nbformat_minor": 2
}
