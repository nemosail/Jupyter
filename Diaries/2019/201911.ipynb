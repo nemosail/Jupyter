{
 "cells": [
  {
   "cell_type": "markdown",
   "metadata": {},
   "source": [
    "# 20191103\n",
    "\n",
    "> 老板，风雨不动地读书， 每天都 1个小时读书， 读完还写比较， 深度的阅读， 得到更广的视野； 还会去体验新鲜前沿的app，流行的事务等等，跟上新的时代。。。 what? 他们很会玩啊。。。。。。\n",
    "\n",
    "> 过去一年了，感触太深。。。 看很多行业研报，报告，研究近2年、5年、10年的变化。。。\n",
    "\n",
    "> 区块链， 数据货币， how to\n",
    "\n",
    "---\n",
    "\n",
    "> where is your CS, ML, AI books? BlockChain, Finance, Economy Books?\n",
    "\n",
    "> Keep reading, man....\n",
    "\n",
    "\n",
    "\n",
    "\n"
   ]
  },
  {
   "cell_type": "code",
   "execution_count": 12,
   "metadata": {},
   "outputs": [
    {
     "name": "stdout",
     "output_type": "stream",
     "text": [
      "[1, 2, 3, 4, 5, 6, 7, 8, 9]\n"
     ]
    }
   ],
   "source": [
    "\n",
    "##### Analyse 观察现象，尝试找出里面的 内因, 归因\n",
    "# x is x-axis, integer or numeric(), represent the asset, 资产规模， 一个点 代表有这个资产的人群\n",
    "# y1 is average(profitrate)， 但是，x轴上的一个点，是一个资产群体的代表，有>0 也有 <0 average会有问题\n",
    "# y1_pos 对于x轴上的一个点，只取 profitrate>0 的账户，然后求 average(profitrate)，注意异常数据带来影响，这样\n",
    "# 代表这资产群体下的 正收益的 平均值，\n",
    "# y1_neg 对于x轴上的一个点，只取 profitrate<0 的账户，然后求 average(profitrate)，注意异常数据带来影响，这样\n",
    "# 代表这资产群体下的 负收益的 平均值，\n",
    "# y1_pos_num  x轴上的一个点，对应的账户 收益率 大于0的 数量\n",
    "# y1_neg_num  x轴上的一个点，对应的账户 收益率 小于0的 数量\n",
    "\n",
    "x = list(range(1,10,1))\n",
    "y1_pos = [10,8,7,6,5,4.5,4,3,2,1,0]\n",
    "y1_neg = [-11,-9,-8,-7,-7,-5.5,-5,-4,-3,-2,-1]\n",
    "print(x)\n",
    "\n",
    "# plot the curve, finish here\n",
    "\n",
    "\n",
    "\n",
    "\n",
    "\n",
    "\n",
    "\n",
    "\n",
    "\n",
    "\n",
    "\n",
    "\n",
    "\n",
    "\n",
    "\n",
    "\n",
    "\n",
    "\n",
    "\n",
    "\n",
    "\n",
    "\n"
   ]
  },
  {
   "cell_type": "code",
   "execution_count": null,
   "metadata": {},
   "outputs": [],
   "source": []
  }
 ],
 "metadata": {
  "kernelspec": {
   "display_name": "Python 3",
   "language": "python",
   "name": "python3"
  },
  "language_info": {
   "codemirror_mode": {
    "name": "ipython",
    "version": 3
   },
   "file_extension": ".py",
   "mimetype": "text/x-python",
   "name": "python",
   "nbconvert_exporter": "python",
   "pygments_lexer": "ipython3",
   "version": "3.6.5"
  }
 },
 "nbformat": 4,
 "nbformat_minor": 2
}
