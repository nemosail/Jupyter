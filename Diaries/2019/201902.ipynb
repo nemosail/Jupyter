{
 "cells": [
  {
   "cell_type": "markdown",
   "metadata": {},
   "source": [
    "# 20190201\n",
    "\n",
    "> 思考，what do you want， how can you do better?\n",
    "\n",
    "> GAN的思路， 正面去推导， 反面去推导；；； 一个direction 反过来的 direction，还有 正交的 direction...\n",
    "\n",
    "> PCA也可也降维嘛， 多维度的样本可也可视化， GAN也可以吗？ 做不同的降维方法，然后 线性回归，看看怎样最好？\n",
    "\n",
    "> class, categology: 增长型？ 稳定分红型？ 不同的成长阶段， 分析？\n",
    "\n",
    "> 计算机体系结构：量化研究方法； 把运筹学，优化的理念带进各个 领域。。牛\n",
    "\n",
    "> 伯克利教授的发现、研究思路， 更快地接受反馈，硬件设计好坏的反馈，然后优化，有点像 alphago的思路，然后设计处理 牛逼哄哄的 RISC-V 指令集？  https://riscv.org/ 更加高效的开发迭代，更快到达变化的 有效前沿\n",
    "\n",
    "> Rational people: think at margin。。。在有效的前沿、边界思考，性价比\n",
    "\n",
    "---\n",
    "# 20190211 Monday\n",
    "\n",
    "> Start Of The Year...\n",
    "\n",
    "> 保护好牙齿，保护好身体。。。 在工位上锻炼一下脖子，还有那个运动等等...\n",
    "\n",
    "> 领先一步是闲趣，领先两步是先烈？  也许这就是下棋和实践的区别，下棋需要往前多思考很多步，才行。。。\n",
    "\n",
    "> 思考要思考多更多的步数，但是落地的时候，只要左右1到2步就好了。。。\n",
    "\n",
    "> No more 瓜子。。。 No more 上火的零食。。。 只能一点点，只能一点点，否则真的会要命的啊。。。水果+维生素CE+运动\n",
    "\n",
    "> F In Law：人啊，最总要一点是要学会否定自己，自己找自己的bugs是很难的，自己会认为自己很厉害，都是对的，然后还会拉一堆人、证据、观点来证明自己是对的，形成幸存者偏差，事实可能是相反的。\n",
    "\n",
    "> 数字广东 这家公司？ 老赵也接触过了。。。\n",
    "\n",
    "> 需要将很多东西 前置解决，提前搞定东西，人无远虑必有近忧。。。才能不慌不忙\n",
    "\n",
    "\n",
    "\n",
    "\n",
    "\n",
    "\n",
    "\n",
    "\n",
    "\n",
    "\n",
    "\n",
    "\n",
    "\n",
    "\n",
    "\n",
    "\n"
   ]
  }
 ],
 "metadata": {
  "kernelspec": {
   "display_name": "Python 3",
   "language": "python",
   "name": "python3"
  },
  "language_info": {
   "codemirror_mode": {
    "name": "ipython",
    "version": 3
   },
   "file_extension": ".py",
   "mimetype": "text/x-python",
   "name": "python",
   "nbconvert_exporter": "python",
   "pygments_lexer": "ipython3",
   "version": "3.6.5"
  }
 },
 "nbformat": 4,
 "nbformat_minor": 2
}
