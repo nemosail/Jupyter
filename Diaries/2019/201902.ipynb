{
 "cells": [
  {
   "cell_type": "markdown",
   "metadata": {},
   "source": [
    "# 20190201\n",
    "\n",
    "> 思考，what do you want， how can you do better?\n",
    "\n",
    "> GAN的思路， 正面去推导， 反面去推导；；； 一个direction 反过来的 direction，还有 正交的 direction...\n",
    "\n",
    "> PCA也可也降维嘛， 多维度的样本可也可视化， GAN也可以吗？ 做不同的降维方法，然后 线性回归，看看怎样最好？\n",
    "\n",
    "> class, categology: 增长型？ 稳定分红型？ 不同的成长阶段， 分析？\n",
    "\n",
    "\n",
    "\n"
   ]
  }
 ],
 "metadata": {
  "kernelspec": {
   "display_name": "Python 3",
   "language": "python",
   "name": "python3"
  },
  "language_info": {
   "codemirror_mode": {
    "name": "ipython",
    "version": 3
   },
   "file_extension": ".py",
   "mimetype": "text/x-python",
   "name": "python",
   "nbconvert_exporter": "python",
   "pygments_lexer": "ipython3",
   "version": "3.6.5"
  }
 },
 "nbformat": 4,
 "nbformat_minor": 2
}
