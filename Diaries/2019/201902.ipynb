{
 "cells": [
  {
   "cell_type": "markdown",
   "metadata": {},
   "source": [
    "# 20190201\n",
    "\n",
    "> 思考，what do you want， how can you do better?\n",
    "\n",
    "> GAN的思路， 正面去推导， 反面去推导；；； 一个direction 反过来的 direction，还有 正交的 direction...\n",
    "\n",
    "> PCA也可也降维嘛， 多维度的样本可也可视化， GAN也可以吗？ 做不同的降维方法，然后 线性回归，看看怎样最好？\n",
    "\n",
    "> class, categology: 增长型？ 稳定分红型？ 不同的成长阶段， 分析？\n",
    "\n",
    "> 计算机体系结构：量化研究方法； 把运筹学，优化的理念带进各个 领域。。牛\n",
    "\n",
    "> 伯克利教授的发现、研究思路， 更快地接受反馈，硬件设计好坏的反馈，然后优化，有点像 alphago的思路，然后设计处理 牛逼哄哄的 RISC-V 指令集？  https://riscv.org/ 更加高效的开发迭代，更快到达变化的 有效前沿\n",
    "\n",
    "> Rational people: think at margin。。。在有效的前沿、边界思考，性价比\n",
    "\n",
    "\n",
    "\n",
    "\n",
    "\n",
    "\n",
    "\n",
    "\n"
   ]
  }
 ],
 "metadata": {
  "kernelspec": {
   "display_name": "Python 3",
   "language": "python",
   "name": "python3"
  },
  "language_info": {
   "codemirror_mode": {
    "name": "ipython",
    "version": 3
   },
   "file_extension": ".py",
   "mimetype": "text/x-python",
   "name": "python",
   "nbconvert_exporter": "python",
   "pygments_lexer": "ipython3",
   "version": "3.6.5"
  }
 },
 "nbformat": 4,
 "nbformat_minor": 2
}
