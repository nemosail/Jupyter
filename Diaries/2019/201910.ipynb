{
 "cells": [
  {
   "cell_type": "markdown",
   "metadata": {},
   "source": [
    "# 20191008 before 2/3/4/5/6\n",
    "\n",
    "> 大湾区之行, Write Something...\n",
    "\n",
    "> 广州 大学城，新校区，新造，广州南，\n",
    "\n",
    "> 虎门，西平，汇一广场，国贸中心，科学技术博物馆(启蒙的还是很好玩)，松山湖，欧洲小镇， 滨海湾新区？\n",
    "\n",
    "> 广州南沙，金州，万达，图书馆，区ZF，环球中心， 各个规划的湾等等。。。 南沙客运港，邮轮母港等等。。。天后宫\n",
    "\n",
    "> we can go again~~~\n",
    "\n",
    "---\n",
    "\n",
    "> 小程序，like clue flo，简单，可靠，好用，基础记录分析 免费，然后高级分析功能收费等等... change to full stack?\n",
    "\n",
    "> MOT 短信发送(带不带手机号码都ook)， 消息快线 都是ok的。\n",
    "\n",
    "---\n",
    "> 都是自己熟悉的事务，不是改变的，挑战自己的，不熟悉 不了解， 干起来比较不特别顺手熟悉的。。。\n",
    "\n",
    "> 乌龟量化？ https://androidinvest.com/\n",
    "\n",
    "> 在 wind 上提供服务， wind 平台有数据，可以导入 excel，然后写代码 展示 数据，统计分析等，在淘宝有服务支持？\n",
    "\n",
    "\n"
   ]
  }
 ],
 "metadata": {
  "kernelspec": {
   "display_name": "Python 3",
   "language": "python",
   "name": "python3"
  },
  "language_info": {
   "codemirror_mode": {
    "name": "ipython",
    "version": 3
   },
   "file_extension": ".py",
   "mimetype": "text/x-python",
   "name": "python",
   "nbconvert_exporter": "python",
   "pygments_lexer": "ipython3",
   "version": "3.6.5"
  }
 },
 "nbformat": 4,
 "nbformat_minor": 2
}
