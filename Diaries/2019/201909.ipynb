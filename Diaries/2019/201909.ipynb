{
 "cells": [
  {
   "cell_type": "markdown",
   "metadata": {},
   "source": [
    "#### 屏幕反光，对小孩子眼睛影响很严重啊。。。？\n",
    "\n",
    "> python 3.7 版本\n",
    "\n",
    "> Celery 4.3.0 版本\n",
    "\n",
    "> Celery 需要 backend， 生产使用 RabbitMQ 也可以使用 Redis， 先使用 RabbitMQ, rabbitmq 需要 erlang 环境，同时需要一定的版本要求， erlang 可以使用  rabbitmq 发布的 zero-depency 的版本， 结合 rabbitmq 发布的 github release，得到 erlang 的版本， 配合 https://computingforgeeks.com/how-to-install-latest-erlang-on-rhel-8/ 执行安装， 写erlang 的 helloworld，搞定 erlang 的安装，而且是 rabbitmq 支持的版本\n",
    "\n",
    "> rabbitmq 官网提示，安装需要 解决依赖( erlang(官网zero depency), socat(yum 安装), logrotate(yum安装) )\n",
    "\n",
    "> yum install rabbitmq-server-3.7.17-1.el7.noarch.rpm  (Download the Server for RHL 7.x ) 然后 yum安装 ok\n",
    "\n",
    "> Celery Event， 好东西。。。嘿嘿嘿...\n",
    "\n",
    "> 201905 清明的时候？  然后 201906的时候？ 然后 201909的时候。。。\n",
    "\n",
    "> https://liqiang.io/post/celery-source-analysis-event-implemention EVENT\n",
    "\n",
    "> TaskTracker 设计从  主动轮询 -> callback函数使用 -> 使用 event 事件队列监听的思路\n",
    "\n",
    "> pip 检查已经安装的 celery 版本 pip freeze | grep celery  : celery==4.3.0 \n",
    "\n",
    "> 官网有 rabbitmq 的手册，调整 configure file\n",
    "\n",
    "> 办公外网， 链接测试网段的机器，一般知道开默认端口 数据库等，其他端口可能不开，导致有问题\n",
    "\n",
    "> celery task  flower 来监控\n",
    "\n",
    "```\n",
    "需要准备好： 在 worker 端，启动worker的时候，需要指明发送 event的参数，这样 worker 才会有event产生\n",
    "celery worker start 启动的时候，需要指定 发送信号， celery -A tasks worker --loglevel=info --events \n",
    "同时需要在 monitor端（这个可以在任意节点，client/worker/other其他）都行，只要连接上同一个borker就行了，就相当于了进程间通信， 使用消息队列来完成  RPC， 远程进程间通信， 不是本地的进程通信\n",
    "\n",
    "event 可以的\n",
    "```\n",
    "\n",
    "> https://www.jisilu.cn/question/330841  如何快速合理估值，对现实生活的实物产品，对金融产品、公司等等，如何将头脑里面的计算方式量化计算出来？ 是有套路，相对规律的？"
   ]
  },
  {
   "cell_type": "code",
   "execution_count": null,
   "metadata": {},
   "outputs": [],
   "source": []
  }
 ],
 "metadata": {
  "kernelspec": {
   "display_name": "Python 3",
   "language": "python",
   "name": "python3"
  },
  "language_info": {
   "codemirror_mode": {
    "name": "ipython",
    "version": 3
   },
   "file_extension": ".py",
   "mimetype": "text/x-python",
   "name": "python",
   "nbconvert_exporter": "python",
   "pygments_lexer": "ipython3",
   "version": "3.6.5"
  }
 },
 "nbformat": 4,
 "nbformat_minor": 2
}
