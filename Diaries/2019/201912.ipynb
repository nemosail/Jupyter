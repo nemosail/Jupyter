{
 "cells": [
  {
   "cell_type": "markdown",
   "metadata": {},
   "source": [
    "> 1. 很多领域可能是一份耕耘就会一份收获，而股市并不是这样的地方，因为方向道路才是根本性的。唯有在（价值投资）正确的方向道路上勤奋坚持，我们才能收到不菲的回报。\n",
    "\n",
    "> 2. 成功的投资某种程度上是源于广泛的阅读，成功的投资者必须建立多学科的思维交互，需要掌握必要的数学，物理等自然科学知识，还要学习必要的经济学，哲学，历史学，文学，心理学行为，金融学等人文科学知识。\n",
    "\n",
    "> from 作者：投资是一场修行之旅 链接：https://xueqiu.com/1758564767/136609961\n",
    "\n",
    "```\n",
    "其实你看到的，你听到的，\n",
    "往往都是自己想看到的，想听到的，\n",
    "也是别人想让你看到的，想让你听到的\n",
    "```\n",
    "\n",
    "> What is DLNA\n",
    "\n",
    "> https://sspai.com/post/4356 softwares, not protocal 有否通过无线 进行屏幕共享的？\n",
    "\n",
    "> 主流无线投屏技术，解决最常见的问题 :无线投屏技术：Miracast、DLNA与AirPlay\n",
    "\n",
    "\n"
   ]
  }
 ],
 "metadata": {
  "kernelspec": {
   "display_name": "Python 3",
   "language": "python",
   "name": "python3"
  },
  "language_info": {
   "codemirror_mode": {
    "name": "ipython",
    "version": 3
   },
   "file_extension": ".py",
   "mimetype": "text/x-python",
   "name": "python",
   "nbconvert_exporter": "python",
   "pygments_lexer": "ipython3",
   "version": "3.6.5"
  }
 },
 "nbformat": 4,
 "nbformat_minor": 2
}
