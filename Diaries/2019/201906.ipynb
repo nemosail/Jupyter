{
 "cells": [
  {
   "cell_type": "markdown",
   "metadata": {},
   "source": [
    "# 20190603 Monday\n",
    "\n",
    "> SZ 租房的经历， First Year, 在公司附近，罗湖，红岭附近，150m2， bad bad; yzh 也差不多， zwp也差不多\n",
    "\n",
    "> SZ 下梅林看房，房源的分布，单纯业主， 保安+保洁手中， 中介手中，线下长租公寓，线上长租公寓等等。。What? 很多信息、资源是不联网的，就是在线下人与人之间的交易。。。 看看历史，1978 - 2000 - 2010 - 2019 经济、文化、zz是如何走来的。。。? 他们是如何在这个浪潮，大周期，小周期， 傅里叶变换里面出来的。。。?\n",
    "\n",
    "> Healty, Body Comes First... 日常生活中必须要注意，要保养的， 牙齿、眼睛，吃完饭需要走走站站，不能马上坐下。。。\n",
    "\n",
    "> Exercise... \n",
    "\n",
    "> 科创板，考验rjr的眼光，2020.06的变化，需要明确指定指数，前提条件\n",
    "\n",
    "> 合理的定价很重要 pricing model\n",
    "\n",
    "> 面积和居住感受不是线性的函数关系， 给每个房间定价，如何科学合理？\n",
    "\n",
    "> 运动，健身，这类投资都是失效慢，时间长，但是缺很重要的\n",
    "\n",
    "> 买保险？ for all\n",
    "\n",
    "> 郭树清说，理财产品收益率超过6%就要打问号，超过8%很危险，超过10%就要做好损失全部本金的准备。 要对这句话有冲分的理解，简约而不简单， simple but not too simple.\n",
    "\n",
    "> 搜索降级了， 当VPS连不上了， Google用不了了，一般只能降级到 Bing, 俄罗斯的搜索引擎等等...再到 baidu....\n",
    "\n",
    "> 当我连不上Google搜索技术的时候， 搜索降级就发生了，我只能使用一般的搜索工具来查找信息，导致解决问题的能力降级了。。。\n",
    "\n",
    " > 购买基金的原理和买股票一样，用自由现金流折现模型为基金估值，选择合适的品种，用内生性增长兜底，利用周期的波动放大收益，实现财富的增值。投资，就是在时间中实现最高效率的复利。\n",
    "\n",
    "> 电脑微信，手机微信 ，都是可以双开的。。。\n",
    "\n"
   ]
  }
 ],
 "metadata": {
  "kernelspec": {
   "display_name": "Python 3",
   "language": "python",
   "name": "python3"
  },
  "language_info": {
   "codemirror_mode": {
    "name": "ipython",
    "version": 3
   },
   "file_extension": ".py",
   "mimetype": "text/x-python",
   "name": "python",
   "nbconvert_exporter": "python",
   "pygments_lexer": "ipython3",
   "version": "3.6.5"
  }
 },
 "nbformat": 4,
 "nbformat_minor": 2
}
