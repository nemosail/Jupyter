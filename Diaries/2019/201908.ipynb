{
 "cells": [
  {
   "cell_type": "markdown",
   "metadata": {},
   "source": [
    "#### 20190812\n",
    "\n",
    "> 像 Andy 一样自律才行，每天运动 + 读书 + 早睡早起。。。\n",
    "\n",
    "> 她也有一样，监督她，哈哈哈\n",
    "\n",
    "> 公众号 是一种注意力经济？\n",
    "\n",
    "---\n",
    "#### 20190821 \n",
    "\n",
    "```\n",
    "GreenPlum:\n",
    "\n",
    "--统计一张分区表的总大小,统计结果是字节。\n",
    "select sum(pg_relation_size(partitionschemaname||'.'||partitiontablename)) from pg_partitions\n",
    "where schemaname||'.'||tablename='ods_log_tdx.zta';\n",
    "```"
   ]
  }
 ],
 "metadata": {
  "kernelspec": {
   "display_name": "Python 3",
   "language": "python",
   "name": "python3"
  },
  "language_info": {
   "codemirror_mode": {
    "name": "ipython",
    "version": 3
   },
   "file_extension": ".py",
   "mimetype": "text/x-python",
   "name": "python",
   "nbconvert_exporter": "python",
   "pygments_lexer": "ipython3",
   "version": "3.6.5"
  }
 },
 "nbformat": 4,
 "nbformat_minor": 2
}
