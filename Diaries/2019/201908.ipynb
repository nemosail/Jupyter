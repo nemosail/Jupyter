{
 "cells": [
  {
   "cell_type": "markdown",
   "metadata": {},
   "source": [
    "#### 20190812\n",
    "\n",
    "> 像 Andy 一样自律才行，每天运动 + 读书 + 早睡早起。。。\n",
    "\n",
    "> 她也有一样，监督她，哈哈哈\n",
    "\n",
    "> 公众号 是一种注意力经济？\n",
    "\n",
    "---\n",
    "#### 20190821 \n",
    "\n",
    "```\n",
    "GreenPlum:\n",
    "\n",
    "--统计一张分区表的总大小,统计结果是字节。\n",
    "select sum(pg_relation_size(partitionschemaname||'.'||partitiontablename)) from pg_partitions\n",
    "where schemaname||'.'||tablename='ods_log_tdx.zta';\n",
    "```\n",
    "\n",
    "#### Hive 的 空字符串 和 空值的区别\n",
    "\n",
    "1、如果查某个字段【 a 是否为空】应该这样写：\n",
    "a is null\n",
    "a is not null\n",
    "2、如果查某个字段 【a 是否为''】应该这样写：\n",
    "a = ''\n",
    "a <>''\n",
    "在hive的数据中，null值（空值）较为常见，比如字段没有值，就是所谓的null值（空值），而 ''（空字符串）多为人为给定的，不多见。\n",
    "\n",
    "二、【表】NULL值的处理\n",
    "HIVE表中默认将NULL存为\\N，可查看表的源文件（hadoop fs -cat或者hadoop fs -text），文件中存储大量\\N，  \n",
    "这样造成浪费大量空间。而且用java、python直接进入路径操作源数据时，解析也要注意。\n",
    "\n",
    "另外，hive表的源文件中，默认列分隔符为\\001(SOH)，行分隔符为\\n（目前只支持\\n，别的不能用，所以定义时不需要显示声明）。元素间分隔符\\002，map中key和value的分隔符为\\003。\n"
   ]
  }
 ],
 "metadata": {
  "kernelspec": {
   "display_name": "Python 3",
   "language": "python",
   "name": "python3"
  },
  "language_info": {
   "codemirror_mode": {
    "name": "ipython",
    "version": 3
   },
   "file_extension": ".py",
   "mimetype": "text/x-python",
   "name": "python",
   "nbconvert_exporter": "python",
   "pygments_lexer": "ipython3",
   "version": "3.6.5"
  }
 },
 "nbformat": 4,
 "nbformat_minor": 2
}
