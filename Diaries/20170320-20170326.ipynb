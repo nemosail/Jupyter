{
 "cells": [
  {
   "cell_type": "markdown",
   "metadata": {},
   "source": [
    "![Debian](https://dn-linuxcn.qbox.me/data/attachment/album/201703/12/092323vd0x27xmu00xd5x1.jpg)\n",
    "\n",
    "# 20170320 Monday\n",
    "\n",
    "> 更多的自动化,更好,更快,更高,更强~\n",
    "\n",
    "> 话说如何用技术解决 各地 公交 地铁 出行 不方便问题? 手机就能解决,怕是当地的财团,利益集团阻力太大,无法实施,就像共享单车一样收到破坏,如何破局,从年轻人,地铁等更加公平的入手,然后布局推广?\n",
    "\n",
    "---\n",
    "#### Kindle 阅读器 PDF 裁剪 加工 Linux \n",
    "[PDF平台好用](https://linux.cn/article-8299-1.html)\n",
    "\n",
    "---\n",
    "#### Respbery Pi, Orange Pi\n",
    "随着开源驱动的硬件越来越成为主流，比如 Arduino 和 Raspberry Pi，这些开源硬件的成本不断下降，给那些全新且具有创新性的物联网和STEM（LCTT译注：STEM 代表科学，技术，工程，数学）类软件打开了大门。\n",
    "[Source](https://linux.cn/article-8308-1.html)\n",
    "\n",
    "\n"
   ]
  }
 ],
 "metadata": {
  "kernelspec": {
   "display_name": "Python [Root]",
   "language": "python",
   "name": "Python [Root]"
  },
  "language_info": {
   "codemirror_mode": {
    "name": "ipython",
    "version": 2
   },
   "file_extension": ".py",
   "mimetype": "text/x-python",
   "name": "python",
   "nbconvert_exporter": "python",
   "pygments_lexer": "ipython2",
   "version": "2.7.12"
  }
 },
 "nbformat": 4,
 "nbformat_minor": 0
}
