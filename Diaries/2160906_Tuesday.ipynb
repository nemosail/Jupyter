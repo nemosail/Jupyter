{
 "cells": [
  {
   "cell_type": "code",
   "execution_count": 1,
   "metadata": {
    "collapsed": false
   },
   "outputs": [
    {
     "name": "stdout",
     "output_type": "stream",
     "text": [
      "A wrong step, everything starts from the beginning... so sad\n"
     ]
    }
   ],
   "source": [
    "print('A wrong step, everything starts from the beginning... so sad')"
   ]
  },
  {
   "cell_type": "markdown",
   "metadata": {},
   "source": [
    "> Desktop -> Nvidia + intel Normal; Laptop -> Nvidia + intel Optimus; \n",
    "\n",
    "> They are different, so defferent that ... NVIDIA Optimus, the infamous switchable graphics adaptation for laptops/notebooks by NVIDIA, still doesn’t fit well with Linux\n",
    "\n",
    "***\n",
    "在 .profile 这个文件的作用，了解它是如何运作就可以利用它了。。。\n",
    "\n",
    "判断进程是否存在，防止程序的第二个实例运行。\n",
    "```\n",
    "if test $( pgrep -f jupyter | wc -l ) -eq 0\n",
    "then\n",
    "    echo \"进程不存在\"\n",
    "else\n",
    "    echo \"存在进程\"\n",
    "fi \n",
    "```\n",
    "\n"
   ]
  }
 ],
 "metadata": {
  "kernelspec": {
   "display_name": "Python [Root]",
   "language": "python",
   "name": "Python [Root]"
  },
  "language_info": {
   "codemirror_mode": {
    "name": "ipython",
    "version": 2
   },
   "file_extension": ".py",
   "mimetype": "text/x-python",
   "name": "python",
   "nbconvert_exporter": "python",
   "pygments_lexer": "ipython2",
   "version": "2.7.12"
  }
 },
 "nbformat": 4,
 "nbformat_minor": 0
}
