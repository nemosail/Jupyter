{
 "cells": [
  {
   "cell_type": "markdown",
   "metadata": {},
   "source": [
    "# 20160923 IMSE Thoughts...\n",
    "\n",
    "Try to use Jupyter/Python Kernel/ to manage my worktime/sparetime\n",
    "\n",
    "尝试使用Jupyter来管理我的加班/请假信息，管理我的历史，给出今年，近月 加班时间/请假时间\n",
    "\n",
    "定好需求/设计格式/通用/设计函数\n",
    "\n",
    "> 20160921 3.5hours STA_JOB设计\n",
    "\n",
    "> 20160923 2hours SDM_JOB设计\n",
    "\n",
    "> 20160926 1.5hours SDM_JOB定长\n",
    "\n",
    "---\n",
    "需求：\n",
    "0. 输入就是一行一行的 加班/请假 记录，注意格式应该简单易懂易用;\n",
    "1. 能够打印当前月的 加班/请假 信息;\n",
    "2. 能够显示 （当年|累计） 加班时间/请假时间/可用时间; "
   ]
  },
  {
   "cell_type": "code",
   "execution_count": 21,
   "metadata": {
    "collapsed": false
   },
   "outputs": [
    {
     "name": "stdout",
     "output_type": "stream",
     "text": [
      "This year is 2016\n",
      "This month is 9\n",
      "\n",
      "20160921 3.5hours STA_JOB设计\n",
      "20160923 2hours STM_JOB设计\n",
      "20160926 1.5hours SDM_JOB定长设计\n",
      "\n",
      "20160921 3.5hours STA_JOB设计\n",
      "20160923 2hours STM_JOB设计\n",
      "20160926 1.5hours SDM_JOB定长设计\n"
     ]
    }
   ],
   "source": [
    "# -*- coding : utf-8 -*-\n",
    "\n",
    "import datetime\n",
    "\n",
    "records = \"\"\"\n",
    "20160921 3.5hours STA_JOB设计\n",
    "20160923 2hours STM_JOB设计\n",
    "20160926 1.5hours SDM_JOB定长设计\n",
    "\"\"\"\n",
    "\n",
    "run_timestamp = datetime.datetime.now()\n",
    "print( 'This year is ' + str(run_timestamp.year ) )\n",
    "print( 'This month is ' + str(run_timestamp.month ) )\n",
    "print( records )\n",
    "\n",
    "# { YYYY , { MM , ( DD, HOURS, COMMENTS ) }\n",
    "# { key  , { key , ( xx, xx, xx), (xx, xx, xx) ) }\n",
    "\n",
    "\n",
    "class OvertimeAndHoliday:\n",
    "    \n",
    "    \n",
    "    def __init__( self, org_records ):\n",
    "        \n",
    "        # A memory dict to store info\n",
    "        self.database = dict()\n",
    "        \n",
    "        splited_records = org_records.strip('\\n').split('\\n')\n",
    "        \n",
    "        for r in splited_records:\n",
    "            print( r )\n",
    "            elements = r.split(' ')\n",
    "            th_date = elements[0]\n",
    "            th_hours = elements[1]\n",
    "            th_comme = elements[2]\n",
    "            \n",
    "            # YYYY MM DD; They are integers, not a string...\n",
    "            this_year = int(th_date[0:4])\n",
    "            this_month = int(th_date[4:6])\n",
    "            this_day = int(th_date[6:])\n",
    "            \n",
    "            # this_hours > 0 Overtime; This_hours<0 holiday...\n",
    "            this_hours = float(th_hours[:-5])\n",
    "            \n",
    "            # get the value out\n",
    "            inner_dict = self.database.get( this_year, default=dict() )\n",
    "            inner_lst = inner_dict.get( this_month, defatul=list() )\n",
    "            inner_lst.append( (this_day, this_hours, th_comme) )\n",
    "            \n",
    "            # put the value back\n",
    "            inner_dict[this_month] = inner_lst\n",
    "            self.database[this_year] = inner_dict\n",
    "            \n",
    "            \n",
    "        \n",
    "    def print_month_info( YYYY_MM ):\n",
    "        print( \"Hello World\" )\n",
    "        \n",
    "OAH_obj = OvertimeAndHoliday(records)"
   ]
  }
 ],
 "metadata": {
  "kernelspec": {
   "display_name": "Python [Root]",
   "language": "python",
   "name": "Python [Root]"
  },
  "language_info": {
   "codemirror_mode": {
    "name": "ipython",
    "version": 2
   },
   "file_extension": ".py",
   "mimetype": "text/x-python",
   "name": "python",
   "nbconvert_exporter": "python",
   "pygments_lexer": "ipython2",
   "version": "2.7.12"
  }
 },
 "nbformat": 4,
 "nbformat_minor": 0
}
