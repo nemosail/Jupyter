{
 "cells": [
  {
   "cell_type": "markdown",
   "metadata": {},
   "source": [
    "# 20160923 IMSE \n",
    "\n",
    "Try to use Jupyter/Python Kernel/ to manage my worktime/sparetime\n",
    "\n",
    "尝试使用Jupyter来管理我的加班/请假信息，管理我的历史，给出今年，近月 加班时间/请假时间\n",
    "\n",
    "定好需求/设计格式/通用/设计函数\n",
    "\n",
    "> 20160921 3.5hours STA_JOB设计\n",
    "\n",
    "> 20160923 2hours SDM_JOB设计\n"
   ]
  },
  {
   "cell_type": "code",
   "execution_count": 5,
   "metadata": {
    "collapsed": false
   },
   "outputs": [
    {
     "name": "stdout",
     "output_type": "stream",
     "text": [
      "This year is 2016\n",
      "This month is 9\n"
     ]
    }
   ],
   "source": [
    "import datetime\n",
    "\n",
    "run_timestamp = datetime.datetime.now()\n",
    "print( 'This year is ' + str(run_timestamp.year ) )\n",
    "print( 'This month is ' + str(run_timestamp.month ) )"
   ]
  }
 ],
 "metadata": {
  "kernelspec": {
   "display_name": "Python [Root]",
   "language": "python",
   "name": "Python [Root]"
  },
  "language_info": {
   "codemirror_mode": {
    "name": "ipython",
    "version": 2
   },
   "file_extension": ".py",
   "mimetype": "text/x-python",
   "name": "python",
   "nbconvert_exporter": "python",
   "pygments_lexer": "ipython2",
   "version": "2.7.12"
  }
 },
 "nbformat": 4,
 "nbformat_minor": 0
}
