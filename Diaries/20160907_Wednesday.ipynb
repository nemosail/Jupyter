{
 "cells": [
  {
   "cell_type": "markdown",
   "metadata": {},
   "source": [
    "> Programming, Thinking, Modeling, Designing, Manufacturing...\n",
    "\n",
    "> 编程/思考/模型/设计/制造\n",
    "\n",
    "Handling R Environment...\n",
    "\n",
    "***\n",
    "# Congous & SmartBI\n",
    "\n",
    "商务智能(Business Intelligence)，简称BI，是以数据仓库为基础，结合决策支持系统来帮助有关部门，加强对业务信息的智能化管理，帮助企业获得竞争优势的技术，它的作用包括：\n",
    "- 将企业数据用于决策支持\n",
    "- 能够探查和分析数据以揭示企业内部的某种趋势\n",
    "\n",
    "FrameWork\n",
    "\n",
    "一般的开发规范，将模型用文件夹划分为两个部分，分别为物理层和逻辑层。物理层直接从数据源中引入表的物理定义，逻辑层是按照一定的业务视角进行组织和加工过的查询主题的逻辑定义。\n",
    "\n",
    "#### Cognos组建简介\n",
    "Cogos8 主要用到的组件包含五个：\n",
    "- Framework Manger 查询： 业务数据组织工具\n",
    "- ReportStudio 查询： 专用报表构筑工具\n",
    "- QueryStudio 查询： 即席报表生成个工具\n",
    "- Transformer 分析： 多维数据设计工具\n",
    "- AnalysisStudio 分析： 多维数据展示工具\n",
    "\n",
    "#### Cognos Framework Manager 在 Model - 物理层 - Run Metadata Wizard时候，出现错误：\n",
    "```\n",
    "QE-DEF-0285 Logon failure.\n",
    "QE-DEF-0285 Logon failure.\n",
    "QE-DEF-0325 The cause of the logon failure is:\n",
    "QE-DEF-0068 Unable to connect to at least one database during a multi-database attach to 1 database(s) in:\n",
    "databaseName\n",
    "UDA-SQL-0432 Unable to access database...\n",
    "```\n",
    "HJ/XN/ZM他们几个都没有问题，但是我就一直出现这个错误，后来google下，在[官网](http://www-01.ibm.com/support/docview.wss?uid=swg21367693) 找到提示是May not has sufficient rights to access these files. 说明又一次是**权限问题**，需要使用管理员权限来打开Framework Manger，因为它会读取ibm的一些文件，要有足够的权限。。。\n",
    "\n",
    "***\n",
    "MORE Git checkout/clone的单位是 repos，而不是单单一个文件。\n",
    "\n",
    "[GIT](http://blog.csdn.net/javafreely/article/details/18217273)\n",
    "[1](https://www.sitepoint.com/git-for-beginners/)\n",
    "[2](https://www.sitepoint.com/getting-started-git-team-environment/)\n",
    "[3]()\n",
    "\n",
    "***\n",
    "一条Select INTO语句给多个变量赋值\n",
    "```\n",
    "SELECT\n",
    "    SUM(SALARY), SUM(SALARY*0.1)\n",
    "    INTO \n",
    "    TOTAL_SALARY, TATAL_COMMISSION\n",
    "FROM EMPLOYEE\n",
    "WHERE DEPT=10;\n",
    "```"
   ]
  }
 ],
 "metadata": {
  "kernelspec": {
   "display_name": "Python [Root]",
   "language": "python",
   "name": "Python [Root]"
  },
  "language_info": {
   "codemirror_mode": {
    "name": "ipython",
    "version": 2
   },
   "file_extension": ".py",
   "mimetype": "text/x-python",
   "name": "python",
   "nbconvert_exporter": "python",
   "pygments_lexer": "ipython2",
   "version": "2.7.12"
  }
 },
 "nbformat": 4,
 "nbformat_minor": 0
}
