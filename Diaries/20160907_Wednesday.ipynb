{
 "cells": [
  {
   "cell_type": "markdown",
   "metadata": {},
   "source": [
    "> \n",
    "\n",
    "Handling R Environment...\n",
    "\n",
    "***\n",
    "# Congous & SmartBI\n",
    "\n",
    "商务智能(Business Intelligence)，简称BI，是以数据仓库为基础，结合决策支持系统来帮助有关部门，加强对业务信息的智能化管理，帮助企业获得竞争优势的技术，它的作用包括：\n",
    "- 将企业数据用于决策支持\n",
    "- 能够探查和分析数据以揭示企业内部的某种趋势\n",
    "\n"
   ]
  }
 ],
 "metadata": {
  "kernelspec": {
   "display_name": "Python [Root]",
   "language": "python",
   "name": "Python [Root]"
  },
  "language_info": {
   "codemirror_mode": {
    "name": "ipython",
    "version": 2
   },
   "file_extension": ".py",
   "mimetype": "text/x-python",
   "name": "python",
   "nbconvert_exporter": "python",
   "pygments_lexer": "ipython2",
   "version": "2.7.12"
  }
 },
 "nbformat": 4,
 "nbformat_minor": 0
}
