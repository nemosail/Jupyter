{
 "cells": [
  {
   "cell_type": "markdown",
   "metadata": {},
   "source": [
    "> Stay hungry, Stay young... 得多锻炼，多跑步，好像变胖了。。。\n",
    "\n",
    "***\n",
    "资产业务是指商业银行通过对其资金加以运用，从而形成各项资产的业务，是商业银行的主要收入来源。\n",
    "资产业务包括：\n",
    "- 信贷业务\n",
    "- 投资业务\n",
    "- 其他资产业务\n",
    "\n",
    "***\n",
    "### Stay hungry, Stay young\n",
    "好奇心、求知若渴、上进心。\n",
    "做事不设条条框框，没有太多自我要维护，经常能打破常规，**非常努力、不妥协**、不圆滑世故。“Stay young”的人基本没有到天花板，一直保持着自我的成长。\n",
    "\n",
    "1. 有好奇心，能够主动学习新事物、新知识和新技能。对网上的新技术、新工具都去了解。如果是有好奇心的人，前端、后端、算法都去掌握、至少有所了解的话，那么很多调试分析，自己一个人就可以做。\n",
    "\n",
    "2. 对不确定性保持乐观。\n",
    "\n",
    "3. 不甘于平庸。其实走向社会后，应该再设定更高的标准。\n",
    "\n",
    "4. 不傲娇，要能延迟满足感。\n",
    "\n",
    "5. 对重要的事情有判断力。\n",
    "\n",
    "***\n",
    "[信息来源](http://net-informations.com/q/faq/float.html)\n",
    "###### Decimal Vs Double Vs Float\n",
    "The Decimal, Double, and Float variable types are different in the way that they store the values. Precision is the main difference where float is a single precision (32 bit) floating point data type, double is a double precision (64 bit) floating point data type and decimal is a 128-bit floating point data type.\n",
    "- Float - 32 bit (7 digits)\n",
    "- Double - 64 bit (15-16 digits)\n",
    "- Decimal - 128 bit (28-29 significant digits)\n",
    "\n",
    "###### Difference between Decimal, Float and Double\n",
    "Decimal vs Double vs Float c# vb.net\n",
    "\n",
    "The main difference is Floats and Doubles are binary floating point types and a Decimal will store the value as a floating decimal point type. So Decimals have much higher precision and are usually used within monetary (financial) applications that require a high degree of accuracy. But in performance wise Decimals are slower than double and float types.\n",
    "\n",
    "Decimal can 100% accurately represent any number within the precision of the decimal format, whereas Float and Double, cannot accurately represent all numbers, even numbers that are within their respective formats precision.\n",
    "###### When To Use Decimal, Double, and Float\n",
    "###### Decimal\n",
    "In case of financial applications it is better to use Decimal types because it gives you a high level of accuracy and easy to avoid rounding errors\n",
    "\n",
    "###### Double\n",
    "Double Types are probably the most normally used data type for real values, except handling money.\n",
    "\n",
    "###### Float\n",
    "It is used mostly in graphic libraries because very high demands for processing powers, also used situations that can endure rounding errors. Graphic Libraries? Cuda, Nvidia, AMD, Graphics Card Programming?\n",
    "\n",
    "***"
   ]
  }
 ],
 "metadata": {
  "kernelspec": {
   "display_name": "Python [Root]",
   "language": "python",
   "name": "Python [Root]"
  },
  "language_info": {
   "codemirror_mode": {
    "name": "ipython",
    "version": 2
   },
   "file_extension": ".py",
   "mimetype": "text/x-python",
   "name": "python",
   "nbconvert_exporter": "python",
   "pygments_lexer": "ipython2",
   "version": "2.7.12"
  }
 },
 "nbformat": 4,
 "nbformat_minor": 0
}
