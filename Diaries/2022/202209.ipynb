{
 "cells": [
  {
   "cell_type": "markdown",
   "id": "3a64d773",
   "metadata": {},
   "source": [
    "#### 20220908\n",
    "\n",
    "> A prediction of ours: About Economy 2022, 2024, 2026? About House Market ; \n",
    "\n",
    "> About Economy.\n",
    "\n",
    "> About population 2020 2021 2022 2023 2024 ? my wife , 2023 2024 did no drop so fast. Keep recording data. 还会出数据吗，或者数据的统计口径一致吗？\n",
    "\n",
    "> 先交钱后消费， 先消费后交钱。 信用服务，先吃饭后买单； VS  先买单后吃饭。\n",
    "\n",
    "> 浏览器插件，怎样写？？？ 实现？\n",
    "\n",
    "\n",
    "\n",
    "\n",
    "\n",
    "\n"
   ]
  }
 ],
 "metadata": {
  "kernelspec": {
   "display_name": "Python 3 (ipykernel)",
   "language": "python",
   "name": "python3"
  },
  "language_info": {
   "codemirror_mode": {
    "name": "ipython",
    "version": 3
   },
   "file_extension": ".py",
   "mimetype": "text/x-python",
   "name": "python",
   "nbconvert_exporter": "python",
   "pygments_lexer": "ipython3",
   "version": "3.9.7"
  }
 },
 "nbformat": 4,
 "nbformat_minor": 5
}
