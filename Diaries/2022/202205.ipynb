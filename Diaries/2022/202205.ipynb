{
 "cells": [
  {
   "cell_type": "markdown",
   "id": "12cede89",
   "metadata": {},
   "source": [
    "#### 20220511\n",
    "\n",
    "> 以前使用 word excel 等等的格式刷的时候，常常发现只能使用一次格式刷，然后就需要重新点击原来文字+格式刷，格式刷不能一直传递下去，只能传递一次，后来通过HSY大佬，发现可以双击格式刷，就可以让格式一直传递下去，而不是只有一次性的格式刷。 Great... 单击 VS 双击....\n",
    "\n",
    "> 具有强大的全文本搜索引擎的桌面搜索工具。免费的Google桌面搜索替代。AnyTXT Searcher是一款免费的功能强大的本地文档搜索应用程序，就像本地磁盘Google搜索引擎一样。它是您理想的免费桌面内容全文搜索引擎\n",
    "\n",
    "> 通用式、平台式的 流程审批系统，把各个角色、参与方都考虑，然后开源涉及升级版本？\n",
    "\n",
    "#### 20220516\n",
    "\n",
    "> 既要理清晰需求文档，又要需要清楚实现的细节，这样的不容易出问题。。。\n",
    "\n",
    "#### 20220517\n",
    "\n",
    "> about 借用手机？ 借用手机来打电话，是否可以只打开使用 电话和短线的功能界面，借入人只能使用 电话+短信的功能；借出人使用后才恢复正常。\n",
    "\n",
    "#### 20220520\n",
    "\n",
    "> CDDF 中国营养博览会？？？ 肉蛋奶管够，运动管够， what is the different? 均衡 搭配。。。？  同一个话题topic下面，不同国家、民族、的解决方式。\n",
    "\n",
    "#### 20220522\n",
    "\n",
    "> 什么是 《逻辑学》  学习？？？\n",
    "\n",
    "#### 20220530\n",
    "\n",
    "> 期货市场，最后交易日，交割效应，交割结算价的定义，带来的问题。。。需要考虑的。。。\n",
    "\n"
   ]
  }
 ],
 "metadata": {
  "kernelspec": {
   "display_name": "Python 3 (ipykernel)",
   "language": "python",
   "name": "python3"
  },
  "language_info": {
   "codemirror_mode": {
    "name": "ipython",
    "version": 3
   },
   "file_extension": ".py",
   "mimetype": "text/x-python",
   "name": "python",
   "nbconvert_exporter": "python",
   "pygments_lexer": "ipython3",
   "version": "3.9.7"
  }
 },
 "nbformat": 4,
 "nbformat_minor": 5
}
