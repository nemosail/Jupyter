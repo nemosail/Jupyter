{
 "cells": [
  {
   "cell_type": "markdown",
   "id": "892e7202",
   "metadata": {},
   "source": [
    "#### 20220606\n",
    "\n",
    "> Keep Physis Execising....\n",
    "\n",
    "#### 20220607\n",
    "\n",
    "> 关于教材插画，教材内容。。。Is it real???\n",
    "\n",
    "> 关于外包，哎...\n",
    "\n",
    "\n"
   ]
  }
 ],
 "metadata": {
  "kernelspec": {
   "display_name": "Python 3 (ipykernel)",
   "language": "python",
   "name": "python3"
  },
  "language_info": {
   "codemirror_mode": {
    "name": "ipython",
    "version": 3
   },
   "file_extension": ".py",
   "mimetype": "text/x-python",
   "name": "python",
   "nbconvert_exporter": "python",
   "pygments_lexer": "ipython3",
   "version": "3.9.7"
  }
 },
 "nbformat": 4,
 "nbformat_minor": 5
}
