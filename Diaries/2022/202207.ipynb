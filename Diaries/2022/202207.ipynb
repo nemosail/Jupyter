{
 "cells": [
  {
   "cell_type": "markdown",
   "id": "bd5b03e4",
   "metadata": {},
   "source": [
    "#### 20220705 \n",
    "\n",
    "什么是 征购？？？\n",
    "\n",
    "----\n",
    "\n",
    "1、通过长按【上下按钮】控制桌面升降\n",
    "\n",
    "2、长按【档位记忆按钮】可以把当前高度记录到这个档位\n",
    "\n",
    "一个来说，根据自己的身高，设置一个站立的高度记忆和一个坐立的高度记忆，比如我的 1 挡是站立的高度（115cm），2 挡是坐立的高度（80cm）\n",
    "3、需要切换站坐姿势的时候，就按一下档位，就能自动调整到对应高度了\n",
    "\n",
    "4、童锁按钮主要是防止误触，按下童锁键之后，所有的触摸按钮就不会生效了，家里有小孩的情况比较实用\n",
    "\n",
    "----\n",
    "\n",
    "#### 20220711\n",
    "\n",
    "> 甲醛还是 超标了...\n",
    "\n",
    "> 儿童医保，一般是预收，当年的9月20日-10月30日， 预售下一年的费用？\n",
    "\n",
    "> 自动比对的工具，默认使用两个屏幕，然后里面的内容进行自动比对，减少人工的工作量。\n",
    "\n",
    "\n",
    "\n",
    "\n"
   ]
  }
 ],
 "metadata": {
  "kernelspec": {
   "display_name": "Python 3 (ipykernel)",
   "language": "python",
   "name": "python3"
  },
  "language_info": {
   "codemirror_mode": {
    "name": "ipython",
    "version": 3
   },
   "file_extension": ".py",
   "mimetype": "text/x-python",
   "name": "python",
   "nbconvert_exporter": "python",
   "pygments_lexer": "ipython3",
   "version": "3.9.7"
  }
 },
 "nbformat": 4,
 "nbformat_minor": 5
}
