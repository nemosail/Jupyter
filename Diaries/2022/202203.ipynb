{
 "cells": [
  {
   "cell_type": "markdown",
   "id": "1f1e8be9",
   "metadata": {},
   "source": [
    "#### 20220304\n",
    "\n",
    "> Using plain text to creat \"PPT\" https://github.com/slidevjs/slidev ?\n",
    "\n",
    "> building linux operation system from strech, I can't understand it when I was young and experienceless.\n",
    "\n",
    "> while building an exchange from strech, I kind of understand it. Because it diffe from previous working experience.\n",
    "\n",
    "\n",
    "#### 20220307\n",
    "\n",
    "> 石油 三傻、  石油 三杰， 在 俄乌战争中都很。。。波动很大， 从 低点 0.55净值 到了 1.569，  0.497 到了 1.309 ... 黄金也是\n",
    "\n",
    "> Keep 关注 时事，新闻，投资，学习。。。 自律，原则。。。\n",
    "\n",
    "#### 20220311\n",
    "\n",
    "> 俄乌战争 引发的， 股市、债市、能源、粮食、石油、天然气、金属镍， 大宗商品，也是深刻的一段教训。。。 这几年资本市场风云变幻。。。\n",
    "\n",
    "> 关于规则、制度 的思考，金属镍的LME期货。。。\n",
    "\n",
    "> Rule Of Thume. Rule Book...\n",
    "\n",
    "> 关注两会的内容啊。。。keep reading news... 信息的来源多样性，渠道，最近几年的发生大事，明显地分为黑白两派，都缺失对真实时间的还原，都在低维空间打架。。。被高维玩家吊打了。。。是什么原因导致了大家的趋向低维思考？推荐系统，信息茧？？？ How to 突破?\n",
    "\n"
   ]
  }
 ],
 "metadata": {
  "kernelspec": {
   "display_name": "Python 3 (ipykernel)",
   "language": "python",
   "name": "python3"
  },
  "language_info": {
   "codemirror_mode": {
    "name": "ipython",
    "version": 3
   },
   "file_extension": ".py",
   "mimetype": "text/x-python",
   "name": "python",
   "nbconvert_exporter": "python",
   "pygments_lexer": "ipython3",
   "version": "3.9.7"
  }
 },
 "nbformat": 4,
 "nbformat_minor": 5
}
