{
 "cells": [
  {
   "cell_type": "markdown",
   "id": "0fc72029",
   "metadata": {},
   "source": [
    "#### 20220207\n",
    "\n",
    "> First Work Day, from chinese lunar new year.\n",
    "\n",
    "> 全功能的type-c， + type-c 扩展坞， 会议室神器，又有充电功能，又有投影、声音功能。。。后续肯定是这条路的。。。\n",
    "\n",
    "> What is RPA?  RPA是什么？RPA（Robotic process automation）机器人流程自动化，起源于20世纪90年代初，跨软件进行自动化操作的RPA在2000年已经开始出现，Excel宏即是典型代表。RPA是企业业务自动化的核心基础设施，通过模拟人类在软件系统中的交互动作，自动执行那些基于规则、重复的业务流程，达到提升工作效率、减少人力成本的目的。 不错的分享思路。。。 Great.\n",
    "\n",
    "#### 20220214\n",
    "\n",
    "> 联想 Carbon X1 背后有个小插孔，用来重启，出现 FPM Capluse Update Fail 的时候可以使用，拔掉所有的外设，然后按那个孔reset后，可以重启，然后就正常了，需要拔掉所有外设后重启几次，然后才装回去？\n",
    "\n",
    "#### 20220215\n",
    "\n",
    "> LibreOffice is a successor project to OpenOffice.org, commonly known as OpenOffice. It adds extra features and improved Microsoft Office compatibility, and has regular releases with security updates. Learn more about the history of OpenOffice and LibreOffice here, and check out this comparison.\n",
    "\n",
    "> 开源的，portable xls Excel工具， Gnumeric 还是可以的。够用哈哈。\n",
    "\n",
    "#### 20220218\n",
    "\n",
    "> GNU 系列对于特殊场景的人来说，有自定义，个性化处理，使用到源码解决的人来说，真的是救命稻草。。。 Source Code 是个好东西啊。。。\n",
    "\n",
    "> 还有是 Portable 系列的软件，well，好用哈哈。\n",
    "\n",
    "#### 20220221\n",
    "\n",
    "> Porrable 系列的APP还是直接解压使用的，只是它是封装成为了exe的形式，解压，配置等等，目标电脑执行exe后会生成对应的目标，这个只是执行的exe不涉及安装等动作，因此权限要求低。\n",
    "\n",
    "#### 20220222\n",
    "\n",
    "> changing ico for a exe file using \"free\" software is great... https://www.wikihow.com/Change-the-Icon-for-an-Exe-File\n",
    "\n",
    "> http://www.angusj.com/resourcehacker/#download\n",
    "\n",
    "#### 20220228 \n",
    "\n",
    "> 俄乌战争，股票，债券，黄金，能源。。。 关系是？如何从日常的公开信息中捕捉信息，提炼信息，逻辑链推导，决策？\n",
    "\n",
    "> 又是新的一轮金融危机？？？ 其实在2021年底的时候，有个公告（联合国 五常的声明，不打核战争），回过头来看，确实是的，那应该是预测了俄乌不可避免的局部战争了，有这个强烈的信号，应该就要去决策，要敏感地捕捉信息，进行逻辑演绎。。。 看新闻还是十分有用的，现在的互联网信息推荐，信息茧情形下，大部分人对真实世界的认知有了严重的偏差，这个是致命的。\n",
    "\n",
    "> 在 俄乌 战争想到，一站、二战、三战后的生活、科技应该是怎样的？ 之前看过 UP主萌萌战队 介绍，有不少 《废土科技》 系列的，简单，粗暴，实用，能够简单家用制造的工具，这个思路好玩，可以搞个类似的 论坛、小组、网页，Group，利用群体的智慧，兴趣，搞出这些玩意来，right？\n",
    "\n",
    "\n",
    "\n",
    "\n"
   ]
  }
 ],
 "metadata": {
  "kernelspec": {
   "display_name": "Python 3 (ipykernel)",
   "language": "python",
   "name": "python3"
  },
  "language_info": {
   "codemirror_mode": {
    "name": "ipython",
    "version": 3
   },
   "file_extension": ".py",
   "mimetype": "text/x-python",
   "name": "python",
   "nbconvert_exporter": "python",
   "pygments_lexer": "ipython3",
   "version": "3.9.7"
  }
 },
 "nbformat": 4,
 "nbformat_minor": 5
}
