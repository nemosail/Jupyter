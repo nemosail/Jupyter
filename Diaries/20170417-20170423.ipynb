{
 "cells": [
  {
   "cell_type": "markdown",
   "metadata": {},
   "source": [
    "# 20170417 Monday\n",
    "\n",
    "> 腾讯的复制可以成功，但是它的成功不一定可以复制。。。\n",
    "\n",
    "> 生成性学习，判别性学习，给出正例来学习，还是给出正例/反例来学习，有点像真假钱来判别问题，只看真钱 和 真假都看。。。\n",
    "\n",
    "---\n",
    "#### 等比数列通项，求和，忘记拉...\n",
    "\n",
    "$a_n = a_1 \\cdot q^{n-1}$\n",
    "\n",
    "$a_1 = a_1 $\n"
   ]
  }
 ],
 "metadata": {
  "kernelspec": {
   "display_name": "Python [Root]",
   "language": "python",
   "name": "Python [Root]"
  },
  "language_info": {
   "codemirror_mode": {
    "name": "ipython",
    "version": 2
   },
   "file_extension": ".py",
   "mimetype": "text/x-python",
   "name": "python",
   "nbconvert_exporter": "python",
   "pygments_lexer": "ipython2",
   "version": "2.7.12"
  }
 },
 "nbformat": 4,
 "nbformat_minor": 0
}
