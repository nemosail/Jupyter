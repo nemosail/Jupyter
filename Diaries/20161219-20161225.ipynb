{
 "cells": [
  {
   "cell_type": "markdown",
   "metadata": {},
   "source": [
    "![Picture For This Week](http://image.beekka.com/blog/2015/bg2015051703.jpg)\n",
    "\n",
    "# 20161219 Monday\n",
    "\n",
    "> 跟你在一起,生活开始有色彩...↑\n",
    "\n",
    "> Do something amazing, awesome. [Stay Hungry, Stay Foolish](http://www.ruanyifeng.com/blog/2015/05/stay_hungry_stay_foolish.html).\n",
    "\n",
    "> Be yourself, always be yourself and free. Don't forget who you were, who you are, who you are going to be. As honest as a compass.\n",
    "\n",
    "> Promise you, be confident. 蓝色妖姬,不完美的美\n",
    "\n",
    "> 因为喜欢所以了解,也因为了解所以喜欢.\n",
    "\n",
    "> Computer Science & Technology usually prefers iterative numerical solution. Because we may not be clever to find out the closed-form solution. But you can, amazing.\n",
    "\n",
    "> 静若处子，动若脱兔. Can you? Can I? It might be tough, just don't give up.\n",
    "\n",
    "> 当年你有空了,教你用GitHub写日志啦...这样就不怕丢失数据了,很好,在一起,要很多东西要学,也许很累,累并快乐着吧...\n",
    "\n",
    "> 只是因为三轮车好学，你就要一辈子骑三轮车吗？” – Douglas Englebart.\n",
    "\n",
    "> Bring back tripod and buy a small platform...Find some interesting pics, take some interesting pics.\n",
    "\n",
    "> Why...感觉她神经比较大,或者还在关心她的手机和数据,我故意给点线索给你看我的笔记本秘密的,伤心的是我故意翻开一闪而过的设计你没看到~,庆幸的是你还是喜欢结果,哈哈哈.\n",
    "\n",
    "> 昨晚我在秋名山输给了一个华工小伙子，他用惯性漂移过弯，他跑的很快，我只看到他有个北校自动化老司机的招牌，如果知道他是谁的话，麻烦你们跟他说一声，礼拜六晚，我会在秋名山等他！\n",
    "\n",
    "> 她游200米,我800米...什么鬼啊,好可怕!\n",
    "\n",
    "---\n",
    "#### SQL distinct 的用法\n",
    "默认来说,一般distinct就应后面多列都是distinct了,但是Google英文资料更加靠谱...\n",
    "\n",
    "Mapping的xls还是很好用的,上面左右的返回按键,但是数据字典的就只有右上角的,不行诶...\n",
    "\n",
    "当修改数据字典/mapping等等文档之后,如何同步,通知他们等等? 不应该让人来干这些事情对吧?繁琐,容易出错...版本管理工具可以码?就是提示那部分发生修改了...\n",
    "\n",
    "使用更好用,更智能化的浏览器提高效率,把常用的网页地址放在首页,直接点一下就好了,不用那么复制的查找/填写操作.\n",
    "\n",
    "\n",
    "\n"
   ]
  }
 ],
 "metadata": {
  "kernelspec": {
   "display_name": "Python [Root]",
   "language": "python",
   "name": "Python [Root]"
  },
  "language_info": {
   "codemirror_mode": {
    "name": "ipython",
    "version": 2
   },
   "file_extension": ".py",
   "mimetype": "text/x-python",
   "name": "python",
   "nbconvert_exporter": "python",
   "pygments_lexer": "ipython2",
   "version": "2.7.12"
  }
 },
 "nbformat": 4,
 "nbformat_minor": 0
}
