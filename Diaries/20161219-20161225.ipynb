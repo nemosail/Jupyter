{
 "cells": [
  {
   "cell_type": "markdown",
   "metadata": {},
   "source": [
    "![Picture For This Week](http://image.beekka.com/blog/2015/bg2015051703.jpg)\n",
    "\n",
    "# 20161219 Monday\n",
    "\n",
    "> 跟你在一起,生活开始有色彩...↑\n",
    "\n",
    "> Do something amazing, awesome. Stay Hungry, Stay Foolish.\n",
    "\n",
    "> Be yourself, always be yourself and free. Don't forget who you were, who you are, who you are going to be. As honest as a compass.\n",
    "\n",
    "> Promise you, be confident.\n",
    "\n",
    "> 因为喜欢所以了解,也因为了解所以喜欢.\n",
    "\n",
    "> Computer Science & Technology usually prefers iterative numerical solution. Because we may not be clever to find out the closed-form solution. But you can, amazing.\n",
    "\n",
    "> 静若处子，动若脱兔. Can you? Can I? It might be tough, just don't give up.\n",
    "\n",
    "> 当年你有空了,教你用GitHub写日志啦...这样就不怕丢失数据了,很好,在一起,要很多东西要学,也许很累,累并快乐着吧...\n",
    "\n",
    "> 只是因为三轮车好学，你就要一辈子骑三轮车吗？” – Douglas Englebart.\n",
    "\n",
    "---\n"
   ]
  }
 ],
 "metadata": {
  "kernelspec": {
   "display_name": "Python [Root]",
   "language": "python",
   "name": "Python [Root]"
  },
  "language_info": {
   "codemirror_mode": {
    "name": "ipython",
    "version": 2
   },
   "file_extension": ".py",
   "mimetype": "text/x-python",
   "name": "python",
   "nbconvert_exporter": "python",
   "pygments_lexer": "ipython2",
   "version": "2.7.12"
  }
 },
 "nbformat": 4,
 "nbformat_minor": 0
}
