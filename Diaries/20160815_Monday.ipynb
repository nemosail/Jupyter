{
 "cells": [
  {
   "cell_type": "markdown",
   "metadata": {},
   "source": [
    "## Try Jupyter NoteBook\n",
    "\n",
    "今天是20160815, Monday，开始使用Jupyter来写日记？\n",
    "\n",
    "Git 的一些小记录：\n",
    "#### Git rm – 如何使文件脱离git的版本管理，但不是会删除它\n",
    "Git rm 命令将允许你取消git对文件的版本控制. 加上 –cached选项允许你把文件保留在你的硬盘上.\n",
    "\n",
    "每隔一段时间都会有一些不应该被git管理的文件被误加入到git中. 常见的例子是配置文件, 由包含你的个人设置的IDE生成的工程文件，甚至有人决定要签入的临时文件. 这些文件是必要的, 所以往往不能完全删除它们。然而将它们复制到其他地方, 或者从git中删除然后替换它们，这一过程是非常痛苦的, 更别提容易出现的错误.\n",
    "\n",
    "通过添加 –git rm 命令的缓存的选项, 你是能到远程文件文件从 git 控制同时保持工作树中的文件. 他们命令的语法是:\n",
    "\n",
    "git rm --cached file\n",
    "\n",
    "Git 将不再跟踪此文件，尽管它仍然是在您的硬盘上.\n",
    "\n",
    "运行上述命令后, 一定要添加一个条目到您 .gitignore 文件以便 ' 文件’ 没有显示在 ' git 状态’ 和，它不小心以后将无法重新添加.\n",
    "\n",
    "#### .gitignore文件\n",
    "这个文件放在repo的根目录下，主要用于告诉git不要跟踪目录中那些指定的文件，一般忽略二进制／与源代码无关的文件等\n",
    "\n",
    "*** \n",
    "Python 里面判断“相等”问题\n",
    "* 同一性  is　表示是不是同一个对象\n",
    "* 相等性  == 表示是不是内容相等"
   ]
  },
  {
   "cell_type": "code",
   "execution_count": 23,
   "metadata": {
    "collapsed": false
   },
   "outputs": [
    {
     "name": "stdout",
     "output_type": "stream",
     "text": [
      "True\n",
      "False\n",
      "[1, 2]\n",
      "[1, 2]\n",
      "相等性 True\n",
      "同一性 False\n"
     ]
    }
   ],
   "source": [
    "x = [1,2,3]\n",
    "y = [2,4]\n",
    "\n",
    "print x is not y\n",
    "print x == y\n",
    "\n",
    "del x[2]\n",
    "y[1]=1\n",
    "y.reverse()\n",
    "print x\n",
    "print y\n",
    "\n",
    "print '相等性', x == y\n",
    "print '同一性', x is y"
   ]
  },
  {
   "cell_type": "markdown",
   "metadata": {},
   "source": [
    "*** \n",
    "Keep Reading...\n",
    "断言"
   ]
  },
  {
   "cell_type": "code",
   "execution_count": 27,
   "metadata": {
    "collapsed": false
   },
   "outputs": [
    {
     "name": "stdout",
     "output_type": "stream",
     "text": [
      "Hello World\n",
      "Today is  2016-08-15 20:57:06.589526\n"
     ]
    },
    {
     "ename": "AssertionError",
     "evalue": "",
     "output_type": "error",
     "traceback": [
      "\u001b[1;31m---------------------------------------------------------------------------\u001b[0m",
      "\u001b[1;31mAssertionError\u001b[0m                            Traceback (most recent call last)",
      "\u001b[1;32m<ipython-input-27-7c2e3b7d2cfe>\u001b[0m in \u001b[0;36m<module>\u001b[1;34m()\u001b[0m\n\u001b[0;32m      7\u001b[0m \u001b[1;32massert\u001b[0m \u001b[1;36m0\u001b[0m \u001b[1;33m<\u001b[0m \u001b[0mage\u001b[0m \u001b[1;33m<\u001b[0m \u001b[1;36m100\u001b[0m\u001b[1;33m\u001b[0m\u001b[0m\n\u001b[0;32m      8\u001b[0m \u001b[0mage\u001b[0m \u001b[1;33m=\u001b[0m \u001b[1;33m-\u001b[0m\u001b[1;36m1\u001b[0m\u001b[1;33m\u001b[0m\u001b[0m\n\u001b[1;32m----> 9\u001b[1;33m \u001b[1;32massert\u001b[0m \u001b[1;36m0\u001b[0m \u001b[1;33m<\u001b[0m \u001b[0mage\u001b[0m \u001b[1;33m<\u001b[0m \u001b[1;36m100\u001b[0m  \u001b[1;31m# An assert Error Shall Rise Here\u001b[0m\u001b[1;33m\u001b[0m\u001b[0m\n\u001b[0m",
      "\u001b[1;31mAssertionError\u001b[0m: "
     ]
    }
   ],
   "source": [
    "import datetime\n",
    "\n",
    "print 'Hello World'\n",
    "print 'Today is ', str(datetime.datetime.now())\n",
    "\n",
    "age = 10\n",
    "assert 0 < age < 100\n",
    "age = -1\n",
    "assert 0 < age < 100  # An assert Error Shall Rise Here"
   ]
  },
  {
   "cell_type": "markdown",
   "metadata": {},
   "source": [
    "***\n",
    "### Python 类似“黑暗魔法”\n",
    "###### 使用exec 和 eval 执行和求值字符串\n",
    "有时候可能要动态地创造Python代码，然后将其作为语句执行或者作为表达式计算，这可能近似“黑暗魔法”，－－在此之前，一定要慎之又慎；\n",
    "###### 可以使用作用域scope来规定exec和eval的范围，防止做成破坏\n",
    "\n",
    "###### 列表推导式－－轻量级循环\n",
    "`[x*x for x in range(1,9)]`\n",
    "`[x*x for x in range(1,20) if x%3 == 0]`"
   ]
  },
  {
   "cell_type": "code",
   "execution_count": 25,
   "metadata": {
    "collapsed": false
   },
   "outputs": [
    {
     "name": "stdout",
     "output_type": "stream",
     "text": [
      "Hello This is a string but exec by Python...\n",
      "1432.5\n",
      "[1, 4, 9, 16, 25, 36, 49, 64]\n",
      "[9, 36, 81, 144, 225, 324]\n"
     ]
    }
   ],
   "source": [
    "exec \"print 'Hello This is a string but exec by Python...'\"\n",
    "\n",
    "express_str = \" 18 * 11 + 1234 + 0.5\"\n",
    "print eval(express_str)\n",
    "\n",
    "print [x*x for x in range(1,9)]\n",
    "print [x*x for x in range(1,20) if x%3 == 0]"
   ]
  }
 ],
 "metadata": {
  "kernelspec": {
   "display_name": "Python [Root]",
   "language": "python",
   "name": "Python [Root]"
  },
  "language_info": {
   "codemirror_mode": {
    "name": "ipython",
    "version": 2
   },
   "file_extension": ".py",
   "mimetype": "text/x-python",
   "name": "python",
   "nbconvert_exporter": "python",
   "pygments_lexer": "ipython2",
   "version": "2.7.12"
  }
 },
 "nbformat": 4,
 "nbformat_minor": 0
}
