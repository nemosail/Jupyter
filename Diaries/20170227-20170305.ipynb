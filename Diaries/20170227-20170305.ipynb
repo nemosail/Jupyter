{
 "cells": [
  {
   "cell_type": "markdown",
   "metadata": {},
   "source": [
    "# 20170227 Monday\n",
    "\n",
    "> Suddenly comes to my mind...\n",
    "\n",
    "> <爱乐之城>和<悲惨世界>的契合度\n",
    "\n",
    "---\n",
    "#### Like others stories, our life is like a story, filling a story...\n",
    "- 故事的开始:\n",
    "- 偶然的遇见:\n",
    "- 碰巧的相识:\n",
    "- 情愫的觉醒:\n",
    "- 夜短的仲夏:\n",
    "- 凛冽的北风:\n",
    "- ?\n",
    "\n",
    "---\n",
    "#### 轻资产 和 重资产\n",
    "顺丰和通达系快递，其实是我国两种企业发展模式的典型代表。\n",
    "\n",
    "先说通达系，他们采用加盟制，轻资产运营，其实是早期资本市场非常青睐的商业模式，最大的优势就是快速扩张。通过扩张实现规模，以规模降低价格，以价格为武器进一步碾压对手，看似是很符合逻辑的。\n",
    "\n",
    "这也是我国经济崛起阶段的主流企业发展模式，民营制造业、代工企业、甚至是互联网公司，比如团购、外卖、杀毒、直播，普遍采用的都是这种思路，补贴、价格战、先占领了市场再说，只怕慢一步就永远没有机会了。\n",
    "\n",
    "这套模式在过去的30年，很成功，很成功。\n",
    "\n",
    "但在最近的这几年，似乎一切都变了，价格战不再吃香，卖低端手机的一落千丈，拍五毛钱特效电影的人人喊打，代工企业被迫远走他乡，规模换来的，不再是胜利，反而很有可能是产能过剩，成为供给侧改革的对象。\n",
    "\n",
    "市场的主流价值需求转移，从价格转向了体验，体验的背后其实是这些东西在支撑：更高效率的工具，更节省时间的服务，更新鲜的创意……为了这个“更”字，用户愿意支付更贵的价格，这大概就是所谓的消费升级趋势。\n",
    "\n",
    "---\n",
    "# 20170228 Tuesday\n",
    "\n",
    "> Take back the future...\n",
    "\n",
    "> Keeping Learning...终于下决心带上自己的显示器了,使用了DVI-D接口,直接街上主机就能双屏幕了,不需要任何修改...\n",
    "\n",
    "> Submitting materials...提交人才引进申请... Please give me a chance...\n",
    "\n",
    "---\n",
    "#### Handle 查询\n",
    "搞懂要查什么,查询理解-分析-计划-SQL-执行-查询这些可以用来干什么...?\n",
    "\n",
    "\n",
    "\n",
    "\n"
   ]
  }
 ],
 "metadata": {
  "kernelspec": {
   "display_name": "Python [Root]",
   "language": "python",
   "name": "Python [Root]"
  },
  "language_info": {
   "codemirror_mode": {
    "name": "ipython",
    "version": 2
   },
   "file_extension": ".py",
   "mimetype": "text/x-python",
   "name": "python",
   "nbconvert_exporter": "python",
   "pygments_lexer": "ipython2",
   "version": "2.7.12"
  }
 },
 "nbformat": 4,
 "nbformat_minor": 0
}
