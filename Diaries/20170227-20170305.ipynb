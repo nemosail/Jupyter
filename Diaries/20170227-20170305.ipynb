{
 "cells": [
  {
   "cell_type": "markdown",
   "metadata": {},
   "source": [
    "# 20170227 Monday\n",
    "\n",
    "> Suddenly come to my mind...\n",
    "\n",
    "---\n",
    "#### Like others stories, our life is like a story, filling a story...\n",
    "- 故事的开始:\n",
    "- 偶然的遇见:\n",
    "- 碰巧的相识:\n",
    "- 情愫的觉醒:\n",
    "- 夜短的仲夏:\n",
    "- 凛冽的北风:\n",
    "- 隐约的分歧:\n",
    "- ?\n",
    "\n"
   ]
  }
 ],
 "metadata": {
  "kernelspec": {
   "display_name": "Python [Root]",
   "language": "python",
   "name": "Python [Root]"
  },
  "language_info": {
   "codemirror_mode": {
    "name": "ipython",
    "version": 2
   },
   "file_extension": ".py",
   "mimetype": "text/x-python",
   "name": "python",
   "nbconvert_exporter": "python",
   "pygments_lexer": "ipython2",
   "version": "2.7.12"
  }
 },
 "nbformat": 4,
 "nbformat_minor": 0
}
