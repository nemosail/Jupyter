{
 "cells": [
  {
   "cell_type": "markdown",
   "metadata": {},
   "source": [
    "> Svn 提交失败。。。\n",
    "\n",
    "在整合完文档之后，要把过程文档提交到svn上面，可能是版本高1.9.4的问题，点击commit就程序崩溃了，正在换成1.8版本的svn.\n",
    "**更换成1.8.9**后成功commit...\n",
    "\n",
    "---\n",
    "代码转换，代码标准化，针对源数据字典，对于字段值（varchar(1),int）等，值为代码的字段，新增标准化已经相应的转换代码，增加到数据库。(转换到统一的代码，整个数据平台使用统一套代码规范 )\n",
    "\n",
    "---\n",
    "20160920 会议小记录, csv/comma seperate values\n",
    "\n",
    "SVN -> 文档 规范 / 如何多人合作完成xls等文件的编辑，svn能管理好xls等二进制文件吗？\n",
    "\n",
    "需求 -> 实现 -> 测试\n",
    "\n",
    "源数据数据 -> 接入 数据平台 -> 提供数据\n",
    "\n",
    "| STA | SDM | FDM |\n",
    "\n",
    "自己去源数据环境 了解/分析\n",
    "\n",
    "什么是SOA?\n",
    "\n",
    "?? SVN 对于二进制文集，先update，修改先Getlock?...\n",
    "\n",
    "写文档/配置，然后自动生成代码执行，不需要写多少代码？ 自动化工具\n",
    "\n",
    "（行很多/重复的 -》 宽表）\n",
    "\n",
    "拉链算法，抽取后是贴源的，与源系统一模一样， 数据平台/基础平台 如何保留历史 /快照/拉链， 程序其实能自动理解了？）\n",
    "\n",
    "分词，自动分词，替换，词根，如何统一去表示/统一标准;  开户行|行号 => oact_bank_num， | 人为分词标记，如何让机器自动完成，机器自动完成得更好？\n",
    "\n",
    "使用数据服务层 对外统一提供数据，与外围程序打交道，区分好系统边界，什么是平台内部的任务，什么是平台之上应用的任务; 什么是数据服务层。\n",
    "\n"
   ]
  }
 ],
 "metadata": {
  "kernelspec": {
   "display_name": "Python [Root]",
   "language": "python",
   "name": "Python [Root]"
  },
  "language_info": {
   "codemirror_mode": {
    "name": "ipython",
    "version": 2
   },
   "file_extension": ".py",
   "mimetype": "text/x-python",
   "name": "python",
   "nbconvert_exporter": "python",
   "pygments_lexer": "ipython2",
   "version": "2.7.12"
  }
 },
 "nbformat": 4,
 "nbformat_minor": 0
}
