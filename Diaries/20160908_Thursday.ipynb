{
 "cells": [
  {
   "cell_type": "markdown",
   "metadata": {},
   "source": [
    "> 上帝欲使其毁灭，必先使其疯狂... People always go crazy... \n",
    "\n",
    "***\n",
    "## Cognos Framework Manager\n",
    "在Framwork建立 物理层 和 逻辑层 后，在Diagram中无法看到字段，实现不了教程PPT中的星型图，后来在xn的指导下搞定了，在 Diagram - Diagram Settings - Level of Details 中选上Query/Relationships/Scope/Cardinality 就可以了。\n",
    "\n",
    "***\n",
    "Linux 下安装wps打开office的word/xls/ppt 来简单粗暴地实现多屏幕。。。\n",
    "\n",
    "到官网下载 wps...deb包，但是这个可能是给ubuntu的，要用`gdebi wps-office_xxx.deb`\n",
    "\n",
    "看书。。。\n",
    "\n",
    "***\n",
    "<金融的本质：佰克南>\n",
    "\n",
    "利率的提高意味着什么？ 存款利率，贷款利率，应该都是同时提高，所以说银行是有利率风险的？\n",
    "\n",
    "***\n",
    "灯笼果 - - - "
   ]
  }
 ],
 "metadata": {
  "kernelspec": {
   "display_name": "Python [Root]",
   "language": "python",
   "name": "Python [Root]"
  },
  "language_info": {
   "codemirror_mode": {
    "name": "ipython",
    "version": 2
   },
   "file_extension": ".py",
   "mimetype": "text/x-python",
   "name": "python",
   "nbconvert_exporter": "python",
   "pygments_lexer": "ipython2",
   "version": "2.7.12"
  }
 },
 "nbformat": 4,
 "nbformat_minor": 0
}
