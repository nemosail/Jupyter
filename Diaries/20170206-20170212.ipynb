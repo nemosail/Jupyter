{
 "cells": [
  {
   "cell_type": "markdown",
   "metadata": {},
   "source": [
    "# 20170206 Monday\n",
    "\n",
    "> Sleepless Night... You can't be afraid of those things. Trust yourself. You can make it.\n",
    "\n",
    "---\n",
    "#### Aqua Data Studio 已经更新到了12\n",
    "使用的是exe入口,使用bat入口可能因为java版本问题而导致无法启动.\n",
    "\n",
    "**抬头看路,低头拉车** 不多不少,精确.\n",
    "\n",
    "#### 为什么数据表里面经常又多余的空格\n",
    "后面为什么要跟这空格啊,天煞的,导致我怎样使用in啊...? 虽然使用 in的时候它们好像忽略了后续的' '空格了,但是不是好事情...有问题的.\n",
    "\n",
    "#### READ: Maker's Schedule, Manager's Schedule...\n",
    "\n"
   ]
  }
 ],
 "metadata": {
  "kernelspec": {
   "display_name": "Python [Root]",
   "language": "python",
   "name": "Python [Root]"
  },
  "language_info": {
   "codemirror_mode": {
    "name": "ipython",
    "version": 2
   },
   "file_extension": ".py",
   "mimetype": "text/x-python",
   "name": "python",
   "nbconvert_exporter": "python",
   "pygments_lexer": "ipython2",
   "version": "2.7.12"
  }
 },
 "nbformat": 4,
 "nbformat_minor": 0
}
