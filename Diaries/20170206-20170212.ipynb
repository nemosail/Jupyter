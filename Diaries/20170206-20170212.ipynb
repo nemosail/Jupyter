{
 "cells": [
  {
   "cell_type": "markdown",
   "metadata": {},
   "source": [
    "# 20170206 Monday\n",
    "\n",
    "> Sleepless Night... You can't be afraid of those things. Trust yourself. You can make it.\n",
    "\n",
    "---\n",
    "#### Aqua Data Studio 已经更新到了12\n",
    "使用的是exe入口,使用bat入口可能因为java版本问题而导致无法启动.\n",
    "\n",
    "**抬头看路,低头拉车** 不多不少,精确.\n",
    "\n",
    "#### 为什么数据表里面经常又多余的空格\n",
    "后面为什么要跟这空格啊,天煞的,导致我怎样使用in啊...? 虽然使用 in的时候它们好像忽略了后续的' '空格了,但是不是好事情...有问题的.\n",
    "\n",
    "#### READ: Maker's Schedule, Manager's Schedule...\n",
    "\n",
    "---\n",
    "# 20170207 Tuesday\n",
    "\n",
    "> 我们处在瞬息万变的变革时代，传统的企业大师如彼得德鲁克、福特们所崇尚的企业管理法则——精准、流程化，在如今反而会成为企业的“毒瘤”。 Is it true?\n",
    "\n",
    "> 任正非在《管理的灰度》一文中提出：“一个企业的清晰方向，是在混沌中产生的，是从灰色中脱颖而出的，方向是随时间与空间而变的，它常常又会变得不清晰。合理地掌握合适的灰度，是使各种影响发展的要素。”在任正非看来，“清晰的方向来自灰度。一个领导人重要的素质是方向、节奏。他的水平就是合适的灰度。坚定不移的正确方向来自灰度、妥协与宽容”。\n",
    "\n",
    "> 有了理论上的保证,就不会担心这个担心那个了,一定会达到,You can sleep tight at night.\n",
    "\n",
    "---\n",
    "\n",
    "\n"
   ]
  }
 ],
 "metadata": {
  "kernelspec": {
   "display_name": "Python [Root]",
   "language": "python",
   "name": "Python [Root]"
  },
  "language_info": {
   "codemirror_mode": {
    "name": "ipython",
    "version": 2
   },
   "file_extension": ".py",
   "mimetype": "text/x-python",
   "name": "python",
   "nbconvert_exporter": "python",
   "pygments_lexer": "ipython2",
   "version": "2.7.12"
  }
 },
 "nbformat": 4,
 "nbformat_minor": 0
}
