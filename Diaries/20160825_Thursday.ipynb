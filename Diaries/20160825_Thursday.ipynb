{
 "cells": [
  {
   "cell_type": "markdown",
   "metadata": {},
   "source": [
    "> Kind of know why Docker succeed\n",
    "\n",
    "#### Learn SAS, First Day\n",
    "```\n",
    "#这个相当于导入数据库, \";\"分号在SAS里面是强制要求的，类似Java与C，不像Python\n",
    "libname eg \"D:\\SAS\\datapath\";\n",
    "\n",
    "#format只是影响数据的表示，不实际影响数据的储存方式、类型。\n",
    "#缺失数据表示，SAS字符串用空白，数值为.\n",
    "#EnterpriseGuide 时间不对，可能导致连接本地local服务器失败。\n",
    "\n",
    "#SAS 中日期常量表示为： \"01JAN2008\"d   表示的是2008年01月01日，其实就是数值类型，但是时区问题？\n",
    "#时间常量表示为： \"02FEB2009:00:00:00\"  ???\n",
    "#重新编码，Case When...  select a, (case when b<16 then 'teen' when b<35 then 'youth' else 'old' ) as era from tableName;\n",
    "\n",
    "```"
   ]
  },
  {
   "cell_type": "code",
   "execution_count": null,
   "metadata": {
    "collapsed": false
   },
   "outputs": [],
   "source": []
  }
 ],
 "metadata": {
  "anaconda-cloud": {},
  "kernelspec": {
   "display_name": "Python [Root]",
   "language": "python",
   "name": "Python [Root]"
  },
  "language_info": {
   "codemirror_mode": {
    "name": "ipython",
    "version": 2
   },
   "file_extension": ".py",
   "mimetype": "text/x-python",
   "name": "python",
   "nbconvert_exporter": "python",
   "pygments_lexer": "ipython2",
   "version": "2.7.12"
  }
 },
 "nbformat": 4,
 "nbformat_minor": 0
}
