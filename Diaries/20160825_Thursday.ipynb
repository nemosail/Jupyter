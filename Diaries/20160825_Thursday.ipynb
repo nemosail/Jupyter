{
 "cells": [
  {
   "cell_type": "markdown",
   "metadata": {},
   "source": [
    "> Kind of know why Docker succeed\n",
    "\n",
    "> 知其然，知其所以然。不能以先入为主的感觉去认知事物，而是想着去了解它,how it works的方式去感知。\n",
    "\n",
    "\n",
    "#### Learn SAS, First Day\n",
    "```\n",
    "#这个相当于导入数据库, \";\"分号在SAS里面是强制要求的，类似Java与C，不像Python\n",
    "libname DB_Name \"D:\\SAS\\datapath\";\n",
    "\n",
    "#format只是影响数据的表示，不实际影响数据的储存方式、类型。\n",
    "#缺失数据表示，SAS字符串用空白，数值为.\n",
    "#EnterpriseGuide 时间不对，可能导致连接本地local服务器失败。\n",
    "\n",
    "#SAS 中日期常量表示为： \"01JAN2008\"d   表示的是2008年01月01日，其实就是数值类型，但是时区问题？\n",
    "#时间常量表示为： \"02FEB2009:00:00:00\"  ???\n",
    "#重新编码，Case When...  select a, (case when b<16 then 'teen' when b<35 then 'youth' else 'old' ) as era from tableName;\n",
    "\n",
    "```\n",
    "\n",
    "今天主要学的还是SAS Tutorial 1.0 查询与报表 中的查询部分，在SAS中，依然主要是二维的结构，可以用数据库的角度看是表，行与列；也可以用统计角度去看，一个观察 和 对应的变量；或者一个样本与对应的特征；或者矩阵，UserItem的共现矩阵，同一事物的不同视角。\n",
    "\n",
    "使用SAS进行导入数据，导入SAS自己格式的数据，或者txt使用分割方式导入，或者导入xls或者csv格式的数据，然后在SAS中使用图形化的方式构建自己的sql语句，对于CS出身的我们，其实直接写SQL就能查询了，更多的是适合业务部门不熟悉sql的使用吧；现在一般软件都是将这些图形化的过程自动形成代码方式再去执行，本质依然是代码，依然需要程序员翻译的过程，只是机器不能直接理解自然语言，不能理解业务，什么时候机器能理解，那时候就是革命性的了。\n"
   ]
  },
  {
   "cell_type": "code",
   "execution_count": null,
   "metadata": {
    "collapsed": false
   },
   "outputs": [],
   "source": []
  }
 ],
 "metadata": {
  "anaconda-cloud": {},
  "kernelspec": {
   "display_name": "Python [Root]",
   "language": "python",
   "name": "Python [Root]"
  },
  "language_info": {
   "codemirror_mode": {
    "name": "ipython",
    "version": 2
   },
   "file_extension": ".py",
   "mimetype": "text/x-python",
   "name": "python",
   "nbconvert_exporter": "python",
   "pygments_lexer": "ipython2",
   "version": "2.7.12"
  }
 },
 "nbformat": 4,
 "nbformat_minor": 0
}
