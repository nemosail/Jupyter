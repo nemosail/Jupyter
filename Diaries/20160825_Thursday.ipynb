{
 "cells": [
  {
   "cell_type": "markdown",
   "metadata": {},
   "source": [
    "> Kind of know why Docker succeed, We Are Not A Dream.\n",
    "\n",
    "> 知其然，知其所以然。不能以先入为主的感觉去认知事物，而是想着去了解它,how it works的方式去感知。\n",
    "\n",
    "\n",
    "#### Learn SAS, First Day\n",
    "```\n",
    "#这个相当于导入数据库, \";\"分号在SAS里面是强制要求的，类似Java与C，不像Python\n",
    "libname DB_Name \"D:\\SAS\\datapath\";\n",
    "\n",
    "#format只是影响数据的表示，不实际影响数据的储存方式、类型。\n",
    "#缺失数据表示，SAS字符串用空白，数值为.\n",
    "#EnterpriseGuide 时间不对，可能导致连接本地local服务器失败。\n",
    "\n",
    "#SAS 中日期常量表示为： \"01JAN2008\"d   表示的是2008年01月01日，其实就是数值类型，但是时区问题？\n",
    "#时间常量表示为： \"02FEB2009:00:00:00\"  ???\n",
    "#重新编码，Case When...  select a, (case when b<16 then 'teen' when b<35 then 'youth' else 'old' ) as era from tableName;\n",
    "\n",
    "```\n",
    "\n",
    "今天主要学的还是SAS Tutorial 1.0 查询与报表 中的查询部分，在SAS中，依然主要是二维的结构，可以用数据库的角度看是表，行与列；也可以用统计角度去看，一个观察 和 对应的变量；或者一个样本与对应的特征；或者矩阵，UserItem的共现矩阵，同一事物的不同视角。\n",
    "\n",
    "使用SAS进行导入数据，导入SAS自己格式的数据，或者txt使用分割方式导入，或者导入xls或者csv格式的数据，然后在SAS中使用图形化的方式构建自己的sql语句，对于CS出身的我们，其实直接写SQL就能查询了，更多的是适合业务部门不熟悉sql的使用吧；现在一般软件都是将这些图形化的过程自动形成代码方式再去执行，本质依然是代码，依然需要程序员翻译的过程，只是机器不能直接理解自然语言，不能理解业务，什么时候机器能理解，那时候就是革命性的了。\n",
    "\n",
    "***\n",
    "Why 字符串是immutable?不可变（在某一些编程语言中）思考，Always Think.\n"
   ]
  },
  {
   "cell_type": "code",
   "execution_count": 5,
   "metadata": {
    "collapsed": false
   },
   "outputs": [
    {
     "name": "stdout",
     "output_type": "stream",
     "text": [
      "org\n"
     ]
    },
    {
     "ename": "TypeError",
     "evalue": "'str' object does not support item assignment",
     "output_type": "error",
     "traceback": [
      "\u001b[1;31m\u001b[0m",
      "\u001b[1;31mTypeError\u001b[0mTraceback (most recent call last)",
      "\u001b[1;32m<ipython-input-5-2611fd18a507>\u001b[0m in \u001b[0;36m<module>\u001b[1;34m()\u001b[0m\n\u001b[0;32m      3\u001b[0m \u001b[1;33m\u001b[0m\u001b[0m\n\u001b[0;32m      4\u001b[0m \u001b[1;31m#here shall error, because common string in Python is immutable\u001b[0m\u001b[1;33m\u001b[0m\u001b[1;33m\u001b[0m\u001b[0m\n\u001b[1;32m----> 5\u001b[1;33m \u001b[0mwebsite\u001b[0m\u001b[1;33m[\u001b[0m\u001b[1;33m-\u001b[0m\u001b[1;36m3\u001b[0m\u001b[1;33m:\u001b[0m\u001b[1;33m]\u001b[0m\u001b[1;33m=\u001b[0m\u001b[1;34m'com'\u001b[0m\u001b[1;33m\u001b[0m\u001b[0m\n\u001b[0m",
      "\u001b[1;31mTypeError\u001b[0m: 'str' object does not support item assignment"
     ]
    }
   ],
   "source": [
    "website = 'http://www.python.org'\n",
    "print website[-3:]\n",
    "\n",
    "#here shall error, because common string in Python is immutable\n",
    "website[-3:]='com'"
   ]
  },
  {
   "cell_type": "code",
   "execution_count": 23,
   "metadata": {
    "collapsed": false
   },
   "outputs": [
    {
     "name": "stdout",
     "output_type": "stream",
     "text": [
      "Hello. world. Hot enough for ya?\n",
      "Pi with three decimals: 3.142 \n",
      "It's slurmtastic!\n",
      "A gentleman must never show his socks.\n",
      "Price of eggs: $42\n",
      "Hexdecimal price of eggs: $2a\n",
      "Pi : 3.141593...\n",
      "      3.14\n",
      "  +10  -10\n"
     ]
    }
   ],
   "source": [
    "#using format in Python, a '%' to represent to put value\n",
    "format = 'Hello. %s. %s enough for ya?'\n",
    "value = ('world', 'Hot')    #Here Why We Must Use tuple () instead of list \n",
    "print format % value\n",
    "\n",
    "format = 'Pi with three decimals: %.3f '\n",
    "from math import pi\n",
    "print( format % pi )\n",
    "\n",
    "#string 模块有 模板字符串\n",
    "from string import Template\n",
    "s = Template( \"It's ${x}tastic!\")\n",
    "print s.substitute(x='slurm')\n",
    "\n",
    "#怎能少字典了， dict(),{}\n",
    "s = Template('A $thing must never $action.')\n",
    "d = dict()\n",
    "d['thing'] = 'gentleman'\n",
    "d['action'] = 'show his socks'\n",
    "print s.substitute(d)\n",
    "\n",
    "# Always 区分，数值，只是一个数,A Number, A Scalar，但是可以有不同的format表现形式\n",
    "print 'Price of eggs: $%d' %42\n",
    "print 'Hexdecimal price of eggs: $%x' %42\n",
    "print 'Pi : %f...' %pi\n",
    "\n",
    "print '%10.2f' %pi\n",
    "\n",
    "#+用于不管是正数还是负数都输出它的符号位\n",
    "print ('%+5d' % 10 ) + ('%+5d' % -10 ) \n"
   ]
  },
  {
   "cell_type": "code",
   "execution_count": 34,
   "metadata": {
    "collapsed": false
   },
   "outputs": [
    {
     "name": "stdout",
     "output_type": "stream",
     "text": [
      "Please enter width: 40\n",
      "========================================\n",
      "Item                               Price\n",
      "----------------------------------------\n",
      "Aples                               0.40\n",
      "Pears                               0.50\n",
      "Cantaloupes                         1.92\n",
      "Dried Apricots (16 oz.)             8.00\n",
      "Prunes(4 lbs.)                     12.00\n",
      "========================================\n"
     ]
    }
   ],
   "source": [
    "# What? We Can Input Parameter in the WebSite To interact with the program?!!\n",
    "# 直接根据用户输入的参数来控制程序行为\n",
    "width = input('Please enter width: ')\n",
    "\n",
    "price_width = 10\n",
    "item_width = width - price_width\n",
    "\n",
    "header_format = '%-*s%*s'\n",
    "format        = '%-*s%*.2f'\n",
    "\n",
    "print '=' * width\n",
    "\n",
    "print header_format % (item_width, 'Item', price_width, 'Price')\n",
    "\n",
    "print '-' * width\n",
    "\n",
    "print format % (item_width, 'Aples', price_width, 0.4)\n",
    "print format % (item_width, 'Pears', price_width, 0.5)\n",
    "print format % (item_width, 'Cantaloupes', price_width, 1.92)\n",
    "print format % (item_width, 'Dried Apricots (16 oz.)', price_width, 8 )\n",
    "print format % (item_width, 'Prunes(4 lbs.)', price_width, 12 )\n",
    "\n",
    "print '=' * width\n",
    "\n"
   ]
  },
  {
   "cell_type": "code",
   "execution_count": 52,
   "metadata": {
    "collapsed": false
   },
   "outputs": [
    {
     "name": "stdout",
     "output_type": "stream",
     "text": [
      "7\n",
      "0\n",
      "6\n",
      "15\n",
      "-1\n",
      "'1+2+3+4+5'\n",
      "'/usr/bin/env'\n",
      "'C:\\\\usr\\\\bin\\\\env'\n",
      "C:\\usr\\bin\\env\n",
      "trondheim hammer dance\n",
      "Hello Imse, Keep Working\n",
      "Theez eez a test\n",
      "['1', '2', '3', '4', '5', '6']\n",
      "'1+2+3+4+5+6'\n",
      "'inter  white space is kept'\n"
     ]
    }
   ],
   "source": [
    "# 字符串方法 === 在一个较长的字符串中查找子串，返回第一个遇到的最左索引，如果没有则返回-1\n",
    "print 'With a moo-moo here, and a moo-moo there'.find('moo')\n",
    "\n",
    "title = \"Monty Python's Flying Circus\"\n",
    "print title.find('Monty')\n",
    "print title.find('Python')\n",
    "print title.find('Flying')\n",
    "print title.find('Zirquss')\n",
    "\n",
    "# 字符串的join方法，不是线程/进程方法。。。split的逆方法\n",
    "seq = ['1', '2', '3', '4', '5']\n",
    "sep = '+'\n",
    "print repr(sep.join(seq))\n",
    "\n",
    "dirs = [ '', 'usr', 'bin', 'env']\n",
    "print repr('/'.join(dirs))\n",
    "print repr('C:' + '\\\\'.join(dirs))\n",
    "print ('C:' + '\\\\'.join(dirs))\n",
    "\n",
    "print 'Trondheim Hammer Dance'.lower()\n",
    "\n",
    "print 'hello imse, keep working'.title()\n",
    "\n",
    "print 'This is a test'.replace('is', 'eez')\n",
    "\n",
    "s = '1+2+3+4+5+6'\n",
    "print repr(s.split('+'))\n",
    "print repr(s)\n",
    "\n",
    "print repr('    inter  white space is kept   '.strip())"
   ]
  }
 ],
 "metadata": {
  "anaconda-cloud": {},
  "kernelspec": {
   "display_name": "Python [Root]",
   "language": "python",
   "name": "Python [Root]"
  },
  "language_info": {
   "codemirror_mode": {
    "name": "ipython",
    "version": 2
   },
   "file_extension": ".py",
   "mimetype": "text/x-python",
   "name": "python",
   "nbconvert_exporter": "python",
   "pygments_lexer": "ipython2",
   "version": "2.7.12"
  }
 },
 "nbformat": 4,
 "nbformat_minor": 0
}
