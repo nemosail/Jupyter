{
 "cells": [
  {
   "cell_type": "markdown",
   "metadata": {},
   "source": [
    "> Git Push Vs Pull, Different direction, think of push and pull in reality.\n",
    "\n",
    "***\n",
    "Today is the 256th day in the year, our programmers' holiday...\n",
    "\n",
    "***\n",
    "## 判别问题，True Or False... 现实世界很多都是这种问题，要冷静/理性/独立.\n",
    "\n",
    "很多企业在设计营销活动的时候会故意的留出来漏洞，让大家去主动发现，如果大家发现不了，就会找人放风“秘技”出来，就比如可以通过假离婚买房一样，然后大家就会主动钻进事先已经设计好的口袋，这也许就是请君入瓮或者叫欲擒故纵吧！\n",
    "\n",
    "\n",
    "\n"
   ]
  }
 ],
 "metadata": {
  "kernelspec": {
   "display_name": "Python [Root]",
   "language": "python",
   "name": "Python [Root]"
  },
  "language_info": {
   "codemirror_mode": {
    "name": "ipython",
    "version": 2
   },
   "file_extension": ".py",
   "mimetype": "text/x-python",
   "name": "python",
   "nbconvert_exporter": "python",
   "pygments_lexer": "ipython2",
   "version": "2.7.12"
  }
 },
 "nbformat": 4,
 "nbformat_minor": 0
}
