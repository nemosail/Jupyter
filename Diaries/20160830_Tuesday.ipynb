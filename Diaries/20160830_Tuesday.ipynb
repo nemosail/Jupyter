{
 "cells": [
  {
   "cell_type": "markdown",
   "metadata": {},
   "source": [
    "> R 可以在Jupyter Notebook上运行了，但是好像Rkernel支持不是很好，不像Python一样完善\n",
    "\n",
    "> 人物画像，[用户画像](http://36kr.com/p/5051880.html)\n",
    "\n",
    "***\n",
    "### 金融学，[巴塞尔协议](http://bbs.pinggu.org/thread-3109318-1-1.html)\n",
    "\n",
    "[财富的创造者 与 财富的占有者 ?!](http://36kr.com/p/5051920.html)\n",
    "\n",
    "财富的来源，以及获得财富的方式.... Always Think...\n",
    "\n",
    "***\n",
    "DataStage 可能要编目，编目指的是在 hosts文件里面放入几行ip hostname的关系？！不确定\n",
    "\n",
    "DataStage 包括四大部件: \n",
    "1. Administrator，新建或者删除项目，设置项目的公告属性，譬如权限；\n",
    "2. Designer， 连接到指定的项目上进行Job的设计；\n",
    "3. Director， 负责job的运行，监控，譬如Job的调度事件；\n",
    "4. Manager， 进行Job的备份等管理工作.\n",
    "\n",
    "\n",
    "\n",
    "***\n",
    "计算机安全课程。。。\n",
    "- Web安全\n",
    "- 渗透测试\n",
    "- 移动安全\n",
    "- 移动安全漏洞分析\n",
    "- 安全开发\n",
    "- 安全编程\n"
   ]
  }
 ],
 "metadata": {
  "kernelspec": {
   "display_name": "Python [Root]",
   "language": "python",
   "name": "Python [Root]"
  },
  "language_info": {
   "codemirror_mode": {
    "name": "ipython",
    "version": 2
   },
   "file_extension": ".py",
   "mimetype": "text/x-python",
   "name": "python",
   "nbconvert_exporter": "python",
   "pygments_lexer": "ipython2",
   "version": "2.7.12"
  }
 },
 "nbformat": 4,
 "nbformat_minor": 0
}
