{
 "cells": [
  {
   "cell_type": "markdown",
   "metadata": {},
   "source": [
    "# 20170103 Tuesday\n",
    "\n",
    "> I am losing control...\n",
    "\n",
    "> DataStudio 上面的菜单栏很好用的,方便很多,学会使用工具,学会设计工具~\n",
    "\n",
    "> 存在适合个人项目进度的管理软件嘛?不需要像ZenTao那样大型的项目管理功能,就用简单的就好了\n",
    "\n",
    "---\n",
    "#### 依然是数据库同步问题,这个需要统一解决的把?\n",
    "定义好规则,写代码就能自动同步东西了;\n",
    "\n",
    "同步完之后同时肯定能够自动测试数据质量怎样了...\n"
   ]
  },
  {
   "cell_type": "code",
   "execution_count": null,
   "metadata": {
    "collapsed": true
   },
   "outputs": [],
   "source": []
  }
 ],
 "metadata": {
  "kernelspec": {
   "display_name": "Python [Root]",
   "language": "python",
   "name": "Python [Root]"
  },
  "language_info": {
   "codemirror_mode": {
    "name": "ipython",
    "version": 2
   },
   "file_extension": ".py",
   "mimetype": "text/x-python",
   "name": "python",
   "nbconvert_exporter": "python",
   "pygments_lexer": "ipython2",
   "version": "2.7.12"
  }
 },
 "nbformat": 4,
 "nbformat_minor": 0
}
