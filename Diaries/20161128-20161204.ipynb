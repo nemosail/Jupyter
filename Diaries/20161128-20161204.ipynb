{
 "cells": [
  {
   "cell_type": "markdown",
   "metadata": {},
   "source": [
    "# 20161128 Monday\n",
    "\n",
    "> When you are tired of me someday, please please tell me, I can fade away silently...\n",
    "\n",
    "> 把心态摆正了，定位准确了，就不会担心害怕了。。。\n",
    "\n",
    "---\n",
    "#### 当遇到Mapping有多个黄色分组\n",
    "这个可以细看mapping的含义，分组里面的目标都是一模一样的，大概意思是这个视图的内容是多个表合并起来，应该使用union all的动作，注意到union和union all的具体动作.\n"
   ]
  }
 ],
 "metadata": {
  "kernelspec": {
   "display_name": "Python [Root]",
   "language": "python",
   "name": "Python [Root]"
  },
  "language_info": {
   "codemirror_mode": {
    "name": "ipython",
    "version": 2
   },
   "file_extension": ".py",
   "mimetype": "text/x-python",
   "name": "python",
   "nbconvert_exporter": "python",
   "pygments_lexer": "ipython2",
   "version": "2.7.12"
  }
 },
 "nbformat": 4,
 "nbformat_minor": 0
}
