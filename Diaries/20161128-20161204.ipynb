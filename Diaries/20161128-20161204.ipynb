{
 "cells": [
  {
   "cell_type": "markdown",
   "metadata": {},
   "source": [
    "# 20161128 Monday\n",
    "\n",
    "> When you are tired of me someday, please please tell me, I can fade away silently...\n",
    "\n",
    "> 把心态摆正了，定位准确了，就不会担心害怕了。。。\n",
    "\n",
    "> A secret makes a woman woman...\n",
    "\n",
    "---\n",
    "#### 当遇到Mapping有多个黄色分组\n",
    "这个可以细看mapping的含义，分组里面的目标都是一模一样的，大概意思是这个视图的内容是多个表合并起来，应该使用union all的动作，注意到union和union all的具体动作，当没有又具体指明的时候，分组之间使用union all就好了。\n",
    "\n",
    "为什么我的TDA mapping出错了？因为这个表做得比较匆忙，关键是没有按照整个流程走下来，其实这种体力活已经知道它的整体，整个流程，实现细节，等等，只要按照自己理解并设计好的流程来走的时候，一般是不会犯错的;再一次，这东西就应该给机器来完成啊，搽。\n",
    "\n",
    "---\n",
    "#### 社交网络，这类电影确实要看看拉\n",
    "社交应用的一生，始于约炮，兴于炫耀，衰于鸡汤，亡于电商。把握关键，洞察事物，关键在于下半场，国民用户时间的争夺.\n",
    "\n",
    "---\n",
    "#### Oracle 或者 DB2 经常用到了双竖线\n",
    "||是连接符号，Oracle中还有一个concat函数可以连接两个字符串\n",
    "\n",
    "concat(a,b)\n",
    "\n",
    "---\n",
    "#### Stop & Think\n",
    "想想我们每天在干什么，的确需要停下来，打坐&冥想，我们人工阅读这个xls手册，然后根据手册生成需要的建表/建立视图需求;这个需求应该在不少公司都有应用到，然后解决这个需求，解决这个问题，提供服务提供思想。。。等等，诶？这样子也应是算创造价值的，为什么？再一次使用机器/程序来扶助人类，大大加少开发中遇到的压力，从繁重的劳动中释放人类，释放生产力啊，当如如果按照非常严谨的定义去做，得到应该是结构化的协议，但是现在越来越多的程序面对的就是半结构化的数据，我们如何让机器去理解半结构化的程序，甚至去理解结构化的程序？\n",
    "\n"
   ]
  }
 ],
 "metadata": {
  "kernelspec": {
   "display_name": "Python [Root]",
   "language": "python",
   "name": "Python [Root]"
  },
  "language_info": {
   "codemirror_mode": {
    "name": "ipython",
    "version": 2
   },
   "file_extension": ".py",
   "mimetype": "text/x-python",
   "name": "python",
   "nbconvert_exporter": "python",
   "pygments_lexer": "ipython2",
   "version": "2.7.12"
  }
 },
 "nbformat": 4,
 "nbformat_minor": 0
}
