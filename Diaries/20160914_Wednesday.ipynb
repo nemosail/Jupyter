{
 "cells": [
  {
   "cell_type": "markdown",
   "metadata": {},
   "source": [
    "> A day before Mid-autumn festival...\n",
    "\n",
    "1. Install newest nvidia driver etc 352... from [debian](https://wiki.debian.org/NvidiaGraphicsDrivers#Debian_8_.22Jessie.22)\n",
    "2. Install bumblee & nvidia newsest [driver](https://fixmynix.com/install-and-configure-nvidia-optimus-with-bumblebee-in-debian/)\n",
    "3. config bumblee /etc/bumblee/bumblee.config -> Driver "
   ]
  }
 ],
 "metadata": {
  "kernelspec": {
   "display_name": "Python [Root]",
   "language": "python",
   "name": "Python [Root]"
  },
  "language_info": {
   "codemirror_mode": {
    "name": "ipython",
    "version": 2
   },
   "file_extension": ".py",
   "mimetype": "text/x-python",
   "name": "python",
   "nbconvert_exporter": "python",
   "pygments_lexer": "ipython2",
   "version": "2.7.12"
  }
 },
 "nbformat": 4,
 "nbformat_minor": 0
}
