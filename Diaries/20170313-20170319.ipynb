{
 "cells": [
  {
   "cell_type": "markdown",
   "metadata": {},
   "source": [
    "# 20170313 Monday...\n",
    "\n",
    "> 卡自助循环贷款(个人消费) 这个是什么东西诶?\n",
    "\n",
    "> 有空多跟她聊聊...?\n",
    "\n",
    "---\n",
    "#### 信贷数据对不上的问题:\n",
    "卡自助循环贷(个人消费贷)的问题,这中贷款可能导致变动? \n",
    "\n",
    "最后发现自己踩坑了, 没有his的表是状态表,记住是状态表,状态是可以发生变化的；然后应该要查询的是历史表,因为查询的是以往的记录...\n",
    "\n",
    "---\n",
    "#### 报表平台又坑我了...\n",
    "问题在于在平台输入的数据,正确的字符串,然后保存后变化了,化了,了... 什么鬼啊,导致我每次登记完,然后得重新进去,看数据有没有自动跳变了,我搽++\n",
    "\n",
    "码单!!!!\n",
    "\n",
    "\n"
   ]
  }
 ],
 "metadata": {
  "kernelspec": {
   "display_name": "Python [Root]",
   "language": "python",
   "name": "Python [Root]"
  },
  "language_info": {
   "codemirror_mode": {
    "name": "ipython",
    "version": 2
   },
   "file_extension": ".py",
   "mimetype": "text/x-python",
   "name": "python",
   "nbconvert_exporter": "python",
   "pygments_lexer": "ipython2",
   "version": "2.7.12"
  }
 },
 "nbformat": 4,
 "nbformat_minor": 0
}
