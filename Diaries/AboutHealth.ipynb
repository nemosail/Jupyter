{
 "cells": [
  {
   "cell_type": "markdown",
   "metadata": {},
   "source": [
    "# 20181130 Friday\n",
    "\n",
    "> Went Home For The First Night... She Got Sick... 喉咙痛，发高烧，寒颤，体温都到39-40度了...\n",
    "\n",
    "> 吃药，量体温，　实在　体温实在高，　去ＮＨ医院\n",
    "\n",
    "###  深夜，呕吐，咳嗽，发热\n",
    "> 温度太高了，发冷，颤抖，３９度，必须去医院了\n",
    "\n",
    "### 反复发热温度高，\n",
    "> 必须继续去医院，而且３次反复发烧了，必须要去医院住院了，检查更加全面，时间要更加长了...　在急诊，门诊，检查很可能由于稀释了，不准确...\n",
    "\n",
    "> 什么时候可以放松，什么时候一定要紧张，　什么症状要万分留意，什么症状可以放心自行恢复；　什么时候中医可以，什么时候西医才能解决这些问题，都要在生活中总结，生活中成长..."
   ]
  }
 ],
 "metadata": {
  "kernelspec": {
   "display_name": "Python 2",
   "language": "python",
   "name": "python2"
  },
  "language_info": {
   "codemirror_mode": {
    "name": "ipython",
    "version": 2
   },
   "file_extension": ".py",
   "mimetype": "text/x-python",
   "name": "python",
   "nbconvert_exporter": "python",
   "pygments_lexer": "ipython2",
   "version": "2.7.13"
  }
 },
 "nbformat": 4,
 "nbformat_minor": 2
}
