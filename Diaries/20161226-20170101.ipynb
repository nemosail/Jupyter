{
 "cells": [
  {
   "cell_type": "markdown",
   "metadata": {},
   "source": [
    "# 20161226 Monday\n",
    "\n",
    "> You are already in my world.\n",
    "\n",
    "> 那个,我的复式记帐法还没搞懂,什么期初借方,期初贷方,发生额,期末等等的...\n",
    "\n",
    "> 生活也要有仪式感,恰如其分,叶公好龙... 你是我的镜像吗?\n",
    "\n",
    "> 我的办公机需要类似Markdown的功能,不想使用word了,我受够了world/xls了,虽然他们挺好用,但是见识过更好用的工具,就曾经沧海难为水,除却巫山不是云...\n",
    "\n",
    "> 从字里行间认识你,了解你,喜欢你...\n",
    "\n",
    "> 我们要的不是相对论，而是诞生相对论的那个大脑。我们要的不是金蛋，而是下金蛋的那只鸡。\n",
    "\n",
    "> 送给你的礼物,希望TA能够成为你的常量,不要再迷茫迷失...\n",
    "\n",
    "> 基本准则是持证上岗,安全行驶,No Accident~\n",
    "\n",
    "> “人是目的,而非工具“ -- 康德（1724-1804）强调人不应该像物一样被用作工具或手段,而应该被视为目的. 原文：\"除了上帝之外,人是至高无上的；人是我们生活的全部目的,人就是目的.\" 原来是有出处的,难怪是自然而然从脑子里面冒出来,多看书,多看书.\n",
    "\n",
    "> You are my princess...忒喜欢像任菇凉那样很单纯很不做作的妹子...\n",
    "\n",
    "> 一个人的成长 就像蝴蝶破茧成蝶 痛苦是注定的 就像一句俏皮话 痛并快乐着 成长也是充满快乐的 青春散发的活力永远是金钱无法买到的 珍惜大好年华 好好把握 相信你会找到自己的快乐 相信自己 脚踏实地 仰望星空 这样的人生才是完整的。\n",
    "\n",
    "---\n",
    "不要轻易脱实向虚,找准市场/世界的发展规律.\n",
    "\n",
    "---\n",
    "开始学会查询业务请求,注意到ODS/DW的设计理念,要知其然知其所以然,OLAP 与 OLTP 的区别,我们已经脱离源系统,不会对源系统的有影响了...\n",
    "流程是了解查询业务的需求,然后熟悉几大主题,然后数据字典,然后sql,然后验证/测试,给出结果...Done\n",
    "我觉得权限问题一直很严重诶...\n",
    "\n",
    "---\n",
    "360的IE浏览器,去掉广告过滤就行了...这样就能正常使用报表页面了,它只是当成广告被屏蔽了,计算算法有问题,不是100%正确分类,犯了混淆矩阵的里面的FP,FN部分...\n",
    "\n",
    "---\n",
    "# 20161227 Tuesday. It is getting cold. \n",
    "\n",
    "> 要有直面人生的智慧与勇气.\n",
    "\n",
    "> 贪婪求解只得到贪婪意义下的解,不一定是全局最优解,甚至不是局部最优解...\n",
    "\n",
    "> Remember: We learn fastest when we are badly wrong...\n",
    "\n",
    "> I really don't know whether she like the present or not...I am still learning...\n",
    "\n",
    "> 生活也许是一场冰与火之歌的旅行...\n",
    "\n",
    "---\n",
    "\n",
    "\n",
    "\n",
    "\n",
    "\n",
    "\n"
   ]
  },
  {
   "cell_type": "code",
   "execution_count": null,
   "metadata": {
    "collapsed": true
   },
   "outputs": [],
   "source": [
    "### Write some code for her... = .=\n"
   ]
  }
 ],
 "metadata": {
  "kernelspec": {
   "display_name": "Python [Root]",
   "language": "python",
   "name": "Python [Root]"
  },
  "language_info": {
   "codemirror_mode": {
    "name": "ipython",
    "version": 2
   },
   "file_extension": ".py",
   "mimetype": "text/x-python",
   "name": "python",
   "nbconvert_exporter": "python",
   "pygments_lexer": "ipython2",
   "version": "2.7.12"
  }
 },
 "nbformat": 4,
 "nbformat_minor": 0
}
