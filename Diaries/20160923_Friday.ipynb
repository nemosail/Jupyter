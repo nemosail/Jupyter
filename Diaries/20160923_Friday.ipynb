{
 "cells": [
  {
   "cell_type": "markdown",
   "metadata": {},
   "source": [
    "> 向死而生\n",
    "\n",
    "落地的文件，至少可以从文件目录或者文件名知道这个文件是从哪天哪里来的，但进入数据库，就需要增加字段来记录这些信息.\n",
    "\n",
    "Comment on table dw.xx IS 'hello'\n",
    "; / go\n",
    "Comment on column dw.xx.xx IS 'world'\n",
    "; / go\n",
    "\n",
    "## 为什么一定要 换行 + ;/go 才是正确执行\n",
    "\n",
    "## xls char(10）表示换行?\n",
    "\n",
    "## 字段长度标准化，STA中标注代码编号的字段都需要标准 12 -> 10?怎么搞？"
   ]
  }
 ],
 "metadata": {
  "kernelspec": {
   "display_name": "Python [Root]",
   "language": "python",
   "name": "Python [Root]"
  },
  "language_info": {
   "codemirror_mode": {
    "name": "ipython",
    "version": 2
   },
   "file_extension": ".py",
   "mimetype": "text/x-python",
   "name": "python",
   "nbconvert_exporter": "python",
   "pygments_lexer": "ipython2",
   "version": "2.7.12"
  }
 },
 "nbformat": 4,
 "nbformat_minor": 0
}
