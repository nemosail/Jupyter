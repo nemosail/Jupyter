{
 "cells": [
  {
   "cell_type": "markdown",
   "metadata": {},
   "source": [
    "> 向死而生\n",
    "\n",
    "落地的文件，至少可以从文件目录或者文件名知道这个文件是从哪天哪里来的，但进入数据库，就需要增加字段来记录这些信息.\n",
    "\n",
    "Comment on table dw.xx IS 'hello'\n",
    "; / go\n",
    "Comment on column dw.xx.xx IS 'world'\n",
    "; / go\n",
    "\n",
    "----\n",
    "为什么一定要 换行 + ;/go 才是正确执行\n",
    "\n",
    "xls char(10）表示换行?\n",
    "\n",
    "字段长度标准化，STA中标注代码编号的字段都需要标准 12 -> 10?怎么搞？\n",
    "\n",
    "复制—粘贴EXCEL数据到文本时，出现双引号\"content...\"，这时候加入 =clean(A1) 的函数就好啦。。 但是同时没有了char(10)的换行效果...\n",
    "\n",
    "SVN 管理xls登二进制文件方法： （What About Git?)\n",
    "```\n",
    "1. update 更新到最新（冲突的可以先revert到服务器状态）\n",
    "2. get lock，尝试获取锁，可以上锁就可以排他地操作，获取锁失败就等待; 锁住文件，（由于上锁了，大家都有上锁的动作时候，就变成串行修改二进制文件了)\n",
    "3. 修改文件. modify;\n",
    "4. 提交，这个会释放锁，commit;\n",
    "```\n",
    "\n",
    "---\n",
    "\n",
    "数据字典 要搞好代码编号，有代码编号的说明要进行 字段标准化 | 代码标准化\n",
    "\n",
    "|\n",
    "\n",
    "根据数据字典，就可以做mapping，mapping的依据就是数据字典\n",
    "\n",
    "|\n",
    "\n",
    "根据mapping来开发DS作业\n",
    "\n",
    "---\n",
    "由于file = #$DATADIR#/.....  DATADIR 要改成/home/ap/dw/file... 这样修改作业参数之后才能view 数据\n",
    "\n",
    "在Sta文件中view data失败，因为导入的column不匹配。。。\n",
    "\n",
    "标准化处理：\n",
    "1. 字段类型标准化; 也就是从源字段类型  要转换到  目标的字段类型.\n",
    "2. 字段增加，添加新的字段.\n",
    "\n",
    "为什么在DS在扩展extended出现unicode的时候就失败了\n",
    "\n",
    "DS中SDM作业运行一直不能终止，需要用到director来监控，关闭，这时候发现，作业属性有个简短描述，这个要修改...\n",
    "\n",
    "clob出问题了，读取中文不成功\n",
    "\n",
    "---\n",
    "## 有个好想法，把加班信息，请假信息写在Jupyter上，用Python来计算 每一年，每一个月 的加班/请假 信息，总共时间/已用时间/剩余时间，使用python程序来管理我的加班/请假信息，以后加班/请假就在记录里面添加一行就好了。嘿嘿\n",
    "\n"
   ]
  }
 ],
 "metadata": {
  "kernelspec": {
   "display_name": "Python [Root]",
   "language": "python",
   "name": "Python [Root]"
  },
  "language_info": {
   "codemirror_mode": {
    "name": "ipython",
    "version": 2
   },
   "file_extension": ".py",
   "mimetype": "text/x-python",
   "name": "python",
   "nbconvert_exporter": "python",
   "pygments_lexer": "ipython2",
   "version": "2.7.12"
  }
 },
 "nbformat": 4,
 "nbformat_minor": 0
}
