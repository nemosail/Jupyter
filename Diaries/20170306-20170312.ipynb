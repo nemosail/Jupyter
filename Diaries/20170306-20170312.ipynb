{
 "cells": [
  {
   "cell_type": "markdown",
   "metadata": {},
   "source": [
    "# 20170306 March has come, has little quota again...\n",
    "\n",
    "> T字型人才把,就是专业方面的必须足够专业,精益求精,这方面是有准确精确答案的;但是对待其他事物,待人接物,这方面就没有那么多的错与对,可能更多是模糊的,都是对的,都是正确的,开阔思维,多见识见识,了解了解,别限制自己了.\n",
    "\n",
    "> 有空多去找找同学们聊聊,了解了解,虽然不在他们公司,他们行业,但是也可以去了解,去接触,用心去了解了解,什么都去干干,想想,接触接触,市场走进去逛逛对吧? 脸皮厚点,不要怕他们打骂,怕什么呢, 身心,身体与灵魂都得锻炼...\n",
    "\n",
    "> 读书与读社会, 读书,也要接触社会,了解无字天书, 两方面都要考虑平衡顾虑统一...\n",
    "\n",
    "> 要了解好多,认识好多,思考好多 才能正面刚外家啊... Anyway, just say yes man!\n",
    "\n",
    "> priority switch to the JiXiao System... \n",
    "\n",
    "---\n",
    "#### 两台主机实现共用一个鼠标一个键盘\n",
    "有软件实现了...搽\n",
    "\n",
    "硬件实现应该就是KVM切换器了.... find one...\n",
    "\n",
    "带电源USB-HUB 致动手柄...\n",
    "\n",
    "---\n",
    "#### Gray Code 格雷码,有印象,这个东西在编码的时候是有用的\n",
    "挺神奇的为什么呢,就是刚好满足条件,而又刚好用完二进制的编码[hehei](https://en.wikipedia.org/wiki/Gray_code)\n",
    "\n",
    "为什么好多其他的东西也关联了格雷码,汉诺塔也是,二进制...Binary\n",
    "\n",
    "- 迭代生成\n",
    "- 数学公式生成\n",
    "\n",
    "python 定义内部函数...\n"
   ]
  }
 ],
 "metadata": {
  "kernelspec": {
   "display_name": "Python [Root]",
   "language": "python",
   "name": "Python [Root]"
  },
  "language_info": {
   "codemirror_mode": {
    "name": "ipython",
    "version": 2
   },
   "file_extension": ".py",
   "mimetype": "text/x-python",
   "name": "python",
   "nbconvert_exporter": "python",
   "pygments_lexer": "ipython2",
   "version": "2.7.12"
  }
 },
 "nbformat": 4,
 "nbformat_minor": 0
}
