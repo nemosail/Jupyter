{
 "cells": [
  {
   "cell_type": "markdown",
   "metadata": {},
   "source": [
    "# 20161107 Monday\n",
    "\n",
    "> If I have my way... 认知是人类前进的唯一武器.\n",
    "\n",
    "> 属于别人的东西，我们不觊觎，但我们自己劳动创造的财富，也决不允许别人从我们手里抢走！ 无论豪夺，还是巧取，都不行！\n",
    "\n",
    "---\n",
    "#### 优化问题，optimization.\n",
    "许多问题还会可以优化的，包括局部的优化和全局的优化，局部的优化，着重与体验，智能化替换原来简单粗暴的规则，使得更生活更加便利舒服;全局优化要着重系统级别的优化，使用全面的数据资料来平衡系统，提升效率，一是要有全面充分的数据(开放数据据互联？)，二是有足够好的优化算法。\n",
    "\n",
    "---\n",
    "美剧 真实的人类 Humans...\n",
    "\n",
    "埃及的[货币问题](http://zhengshangcanyue.baijia.baidu.com/article/681847)，埃及的近年历史？\n",
    "\n",
    "---\n",
    "FileZilla 还是挺好用的，用于传输文件等等，注意 FTP 与 SFTP 是有不一样的诶。\n",
    "\n",
    "FTP应该默认使用21端口，有没有加密诶？\n",
    "\n",
    "SFTP使用的应该是SSH协议上的，22端口，应该是加密好的.\n",
    "\n",
    "虽然FileZilla和Xftp都无法链接到目标文件夹，但是不用担心，因为可以使用:\n",
    "`scp localfile user@ipaddress:/home/xxx/xxx..` \n",
    "来实现同样的功能，没办法了。\n",
    "\n",
    "---\n",
    "#### Debian or Ubuntu 下使用wifi热点很方便的\n",
    "在这里有线上网后，在wifi的setting里就有work as hotspto作为热点启用wifi。。。网络功能还是听完善的。\n",
    "\n",
    "\n",
    "\n"
   ]
  }
 ],
 "metadata": {
  "kernelspec": {
   "display_name": "Python [Root]",
   "language": "python",
   "name": "Python [Root]"
  },
  "language_info": {
   "codemirror_mode": {
    "name": "ipython",
    "version": 2
   },
   "file_extension": ".py",
   "mimetype": "text/x-python",
   "name": "python",
   "nbconvert_exporter": "python",
   "pygments_lexer": "ipython2",
   "version": "2.7.12"
  }
 },
 "nbformat": 4,
 "nbformat_minor": 0
}
