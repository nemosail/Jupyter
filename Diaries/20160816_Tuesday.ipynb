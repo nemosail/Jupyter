{
 "cells": [
  {
   "cell_type": "markdown",
   "metadata": {},
   "source": [
    ">爱恨两彷徨\n",
    "\n",
    "***\n",
    "$ODS^{PPT} + 数据字典^{Excel} + DB2数据库中的Schema和Table^{DataStudio}$\n",
    "\n",
    "***\n",
    "DB2中查看表名: 在syscat.tables中有记录表，以及表所在schema和一些表的元数据信息？\n",
    "```\n",
    "select *\n",
    "from syscat.tables\n",
    "where tabname like '%Ha_Ha%' and tabschema = '%myschema%';\n",
    "```\n",
    "\n",
    "***\n",
    "Datasutdio: VERY LOW ON MEMORY,应用程序超出内存，增加JVM使用内存大小, ON GOOGLE\n",
    "\n",
    ">Q: Executing queries that have large result-sets cause Aqua Data Studio to hang or crash.\n",
    "\n",
    ">A: Aqua Data Studio is a Java application, and is limited to the size of memory allocated to the Java Virtual Machine (JVM) at startup. The default is 256MB. You may increase the size of memory allocated to the JVM to increase Aqua Data Studio's memory capacity.   [Read More](http://www.aquafold.com/support_faq.html#memory)\n",
    "\n",
    "***\n",
    "SQL, group by having的小问题，待确认\n",
    "group by a\n",
    "having count(b)>2   \n",
    "这个count(b)好像一定要出现在select当中，否则会报错,但是ａ是可以不出现在select中的，\n",
    "更新其实不一定，是group by,having 之后select应该有一个聚集函数count,sum,avg,max等等,why?\n",
    "\n",
    "```\n",
    "select cust, acct\n",
    "from table\n",
    "group by cust\n",
    "having count(acct)>2  --Fail, because select clause, column function, group by clause is specified 119 42803\n",
    "\n",
    "select cust, count(acct)\n",
    "from table\n",
    "group by cust\n",
    "having count(acct)>2  --Succeed, Try More\n",
    "\n",
    "select cust, sum(money)\n",
    "from table\n",
    "group by cust\n",
    "having count(acct)>5  --Succeed, \n",
    "```\n",
    "\n",
    "##### SQL GROUP BY 语法\n",
    "group by 就是这么用的。。。\n",
    "```\n",
    "SELECT column_name, aggregate_function(column_name)\n",
    "FROM table_name\n",
    "WHERE column_name operator value\n",
    "GROUP BY column_name\n",
    "```\n",
    "\n",
    "***\n",
    "商业银行根据核算口径的不同，银行利润有多个层次：\n",
    "- 税前营业利润＝营业收入－营业支出－营业税金及附加\n",
    "- 税前净利润＝税前营业利润＋营业外收入－营业外支出－资产损失准备\n",
    "- 税后净利润＝税前净利润－所得税"
   ]
  },
  {
   "cell_type": "code",
   "execution_count": null,
   "metadata": {
    "collapsed": true
   },
   "outputs": [],
   "source": []
  }
 ],
 "metadata": {
  "kernelspec": {
   "display_name": "Python [Root]",
   "language": "python",
   "name": "Python [Root]"
  },
  "language_info": {
   "codemirror_mode": {
    "name": "ipython",
    "version": 2
   },
   "file_extension": ".py",
   "mimetype": "text/x-python",
   "name": "python",
   "nbconvert_exporter": "python",
   "pygments_lexer": "ipython2",
   "version": "2.7.12"
  }
 },
 "nbformat": 4,
 "nbformat_minor": 0
}
