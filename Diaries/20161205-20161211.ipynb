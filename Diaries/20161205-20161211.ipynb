{
 "cells": [
  {
   "cell_type": "markdown",
   "metadata": {},
   "source": [
    "# 20161205 Monday\n",
    "\n",
    "> Miss U.\n",
    "\n",
    "---\n",
    "#### 如何识别使用签章认证doc的文字\n",
    "想法是能够识别里面的文字之后,我就可以使用固定的逻辑来教程序完成任务,关键还是在识别文字和识别里面的意思. It seems I still have many things to learn and practise.\n",
    "\n",
    "---\n",
    "#### 在最后一层\n",
    "可以在xls里面添加自己的校验逻辑吗,应该很简单的,嘿嘿嘿\n",
    "\n",
    "AND（条件一，条件二.条件三....)      条件一  二  三 。。。都成立时返回   TURE  否则返回  FALSE\n",
    "\n",
    "IF(条件，条件为TURE时返回值，条件为FALSE时返回值）\n",
    "\n",
    "IF和AND 嵌套使用：    =IF(AND(A1>60,B1>60,C1>60),\"及格\",\"不及格\")\n",
    "             当  AND（A1>60，B1>60，C1>60） 为 TURE时 返回  “及格”\n",
    "              为FALSE时  返回 不及格\n",
    "          AND(A1>60,B1>60,C1>60)    当A1，B1,C1 都大于60时 返回TURE\n",
    "          \n",
    "---\n",
    "#### 想搞懂基尼系数定义\n",
    "搞懂定义,实现代码,然后运行计算指标.\n",
    "\n"
   ]
  }
 ],
 "metadata": {
  "kernelspec": {
   "display_name": "Python [Root]",
   "language": "python",
   "name": "Python [Root]"
  },
  "language_info": {
   "codemirror_mode": {
    "name": "ipython",
    "version": 2
   },
   "file_extension": ".py",
   "mimetype": "text/x-python",
   "name": "python",
   "nbconvert_exporter": "python",
   "pygments_lexer": "ipython2",
   "version": "2.7.12"
  }
 },
 "nbformat": 4,
 "nbformat_minor": 0
}
