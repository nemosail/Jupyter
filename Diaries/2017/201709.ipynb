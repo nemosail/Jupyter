{
 "cells": [
  {
   "cell_type": "code",
   "execution_count": 1,
   "metadata": {},
   "outputs": [
    {
     "name": "stdout",
     "output_type": "stream",
     "text": [
      "Hello World\n"
     ]
    }
   ],
   "source": [
    "print \"Hello World\""
   ]
  },
  {
   "cell_type": "markdown",
   "metadata": {},
   "source": [
    "# 20170904 Monday, September has come...\n",
    "\n",
    "> 软件专利？ Ideas?\n",
    "\n",
    "> Time Management...\n",
    "\n",
    "> Think...\n",
    "\n",
    "> 华为也出了 AI 芯片？ [FromBaiDu](https://baijia.baidu.com/s?id=1577568699781171664&wfr=pc&fr=idx_lst)\n",
    "\n",
    "---\n",
    "基础设施，公共交通，bus,subway, 或者其他东西，使用手机二维码付款就很方便了，不需要NFC，但是如何方便自由地使用这个二维码？ To B 还是 To C 的问题？ 利用现在手机都有的基础 sensor，靠近付款的地方时候，自动显示二维码？或者直接把而二维码藏在背景里面？\n",
    "\n",
    "ETL/ELT，图，知识图谱 graph ，如何整理这些加工逻辑，存储，展示，搜索，修改？ 拓扑逻辑结构？\n",
    "\n",
    "---\n",
    "Cities of future? or ?\n",
    "- 北京未来科技城：位于北京市昌平区。\n",
    "- 天津未来科技城：位于天津市滨海新区，天津滨海高新技术产业开发区内\n",
    "- 杭州未来科技城：位于杭州市余杭区\n",
    "- 武汉未来科技城：位于武汉市洪山区，武汉东湖新技术产业开发区内\n",
    "\n",
    "---\n",
    "# 20170905 Tuesday\n",
    "\n",
    "> 测试程序，如何测试发送有邮件的程序正常工作？ 测试... \n",
    "\n",
    "> 在excel里面，由于可以使用 alt + enter 的方式在单元格里面填写换行符号，导致转换成csv的时候，出现了额外的换行，导致数据读入不准确， How to handle this problem.... using 灵活的思维，工具的思维。。。如何 iff，充分必要的字符串处理。。\n",
    "\n",
    "---\n",
    "# 20170906 Wednesday\n",
    "\n",
    "> 去程机票，done; 21 22 汉庭， 23，24 民宿\n",
    "\n",
    "> 效率，优化，灵活，不妥协！！！\n",
    "\n",
    "---\n",
    "经常在 DataStudio 中需要替换跑批日期，然后手工来做好烦啊，当有这种感觉，就是干得不爽，用的不爽的时候，就说明这个的地方有大大优化的可能，当你感觉用得很舒服，很爽的时候，一般都已经停在了局部最优解，没有太多可以改进的地方了。。。\n",
    "\n",
    "\n"
   ]
  }
 ],
 "metadata": {
  "kernelspec": {
   "display_name": "Python 2",
   "language": "python",
   "name": "python2"
  },
  "language_info": {
   "codemirror_mode": {
    "name": "ipython",
    "version": 2
   },
   "file_extension": ".py",
   "mimetype": "text/x-python",
   "name": "python",
   "nbconvert_exporter": "python",
   "pygments_lexer": "ipython2",
   "version": "2.7.13"
  }
 },
 "nbformat": 4,
 "nbformat_minor": 2
}
