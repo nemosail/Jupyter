{
 "cells": [
  {
   "cell_type": "code",
   "execution_count": 1,
   "metadata": {},
   "outputs": [
    {
     "name": "stdout",
     "output_type": "stream",
     "text": [
      "Hello World\n"
     ]
    }
   ],
   "source": [
    "print \"Hello World\""
   ]
  },
  {
   "cell_type": "markdown",
   "metadata": {},
   "source": [
    "# 20170904 Monday, September has come...\n",
    "\n",
    "> 软件专利？ Ideas?\n",
    "\n",
    "> Time Management...\n",
    "\n",
    "> Think...\n",
    "\n",
    "> 华为也出了 AI 芯片？ [FromBaiDu](https://baijia.baidu.com/s?id=1577568699781171664&wfr=pc&fr=idx_lst)\n",
    "\n",
    "---\n",
    "基础设施，公共交通，bus,subway, 或者其他东西，使用手机二维码付款就很方便了，不需要NFC，但是如何方便自由地使用这个二维码？ To B 还是 To C 的问题？ 利用现在手机都有的基础 sensor，靠近付款的地方时候，自动显示二维码？或者直接把而二维码藏在背景里面？\n",
    "\n",
    "ETL/ELT，图，知识图谱 graph ，如何整理这些加工逻辑，存储，展示，搜索，修改？ 拓扑逻辑结构？\n",
    "\n",
    "---\n",
    "Cities of future? or ?\n",
    "- 北京未来科技城：位于北京市昌平区。\n",
    "- 天津未来科技城：位于天津市滨海新区，天津滨海高新技术产业开发区内\n",
    "- 杭州未来科技城：位于杭州市余杭区\n",
    "- 武汉未来科技城：位于武汉市洪山区，武汉东湖新技术产业开发区内"
   ]
  }
 ],
 "metadata": {
  "kernelspec": {
   "display_name": "Python 2",
   "language": "python",
   "name": "python2"
  },
  "language_info": {
   "codemirror_mode": {
    "name": "ipython",
    "version": 2
   },
   "file_extension": ".py",
   "mimetype": "text/x-python",
   "name": "python",
   "nbconvert_exporter": "python",
   "pygments_lexer": "ipython2",
   "version": "2.7.13"
  }
 },
 "nbformat": 4,
 "nbformat_minor": 2
}
