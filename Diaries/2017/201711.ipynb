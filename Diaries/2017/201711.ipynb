{
 "cells": [
  {
   "cell_type": "markdown",
   "metadata": {},
   "source": [
    "# 20171101 Wednesday\n",
    "\n",
    "> 组织/公司 整体电脑升级问题，是去旧换新，还是部分连续平滑升级？ 考虑硬件/软件问题，维护问题。\n",
    "\n",
    "> 比特币出现，从0->1的过程，十分快迅速，现代社会发展是爆炸的，增长率好恐怕，导数特别大，从简单单机代码，到显卡挖矿，到矿机，到矿厂，发展迅速，市场洪荒之力可怕，门槛不断升高，收益率下降，挡住了了大部分分个人和小公司。。。\n",
    "\n",
    "> 设计一种币种，分布式，类似bitcoin，但是不是通货紧缩类型，而是能够通过市场反映，生产力的提高而变化产出率的币种，类似reinforcement learning，既考虑以拥有的价值，同时考虑未来的价值，这部分参数不是人来决定，而是通过市场来决定，就像市场力量来干预，而不是某个中心来控制。。。\n",
    "\n",
    "> 日常工作，生活，经常需要交换/共享数据，数据库之间数据传输，需要一个标准，大家相互传送数据，重现数据环境，就好办了。。。Database Exchange Format...\n",
    "\n",
    "> 要多交流，多思考，多动手，才有新思维，新视野。。。更加广阔的平台。。。\n",
    "\n",
    "> 删除表中多余的重复记录（多个字段），只留有rowid最小的记录\n",
    "```\n",
    "delete from vitae a\n",
    "where (a.peopleId,a.seq) in (select peopleId,seq from vitae group by peopleId,seq having count(*) > 1)\n",
    "and rowid not in (select min(rowid) from vitae group by peopleId,seq having count(*)>1)\n",
    "```\n",
    "\n",
    "---\n",
    "#### 虚拟机 VPS 挂了。。。为什么？ 如何监控自己的VPS？\n",
    "需要监管/监控 自己的虚拟机 VPS 状态，是不是正常使用，是被非法入侵吗？\n",
    "\n",
    "如何制作标准的 个人 ODS， 个人 DW，就像无联网一样，使用一套系统，自动，智能监控，报表展示。。（机器智能，或者人工群体加工的智慧？）\n",
    "\n",
    "---\n",
    "oracle 处理 保留小数位的问题，需要 to_char( xx, 'FM9999990.00' )\n",
    "```\n",
    "TO_CHAR(A/B,’FM99990.99’)\n",
    "TO_CHAR()是一个格式化函数，第一个参数是计算表达式，第二个参数是指定格式化的格式，如果保留两位小数则小数点后写两个99，这里的数字9代表的数字，也是一个占位符，表示该位置上以后会是一个数字，为什么小数点前面会是一个0，而不是9，是因为如果计算结果小于1，那么只会显示小数点和小数点之后的部分，前面的0会忽略掉\n",
    "```\n",
    "\n"
   ]
  }
 ],
 "metadata": {
  "kernelspec": {
   "display_name": "Python 2",
   "language": "python",
   "name": "python2"
  },
  "language_info": {
   "codemirror_mode": {
    "name": "ipython",
    "version": 2
   },
   "file_extension": ".py",
   "mimetype": "text/x-python",
   "name": "python",
   "nbconvert_exporter": "python",
   "pygments_lexer": "ipython2",
   "version": "2.7.13"
  }
 },
 "nbformat": 4,
 "nbformat_minor": 2
}
