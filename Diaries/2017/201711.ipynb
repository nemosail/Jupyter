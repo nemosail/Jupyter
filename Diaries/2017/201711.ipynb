{
 "cells": [
  {
   "cell_type": "markdown",
   "metadata": {},
   "source": [
    "# 20171101 Wednesday\n",
    "\n",
    "> 组织/公司 整体电脑升级问题，是去旧换新，还是部分连续平滑升级？ 考虑硬件/软件问题，维护问题。\n",
    "\n",
    "> 比特币出现，从0->1的过程，十分快迅速，现代社会发展是爆炸的，增长率好恐怕，导数特别大，从简单单机代码，到显卡挖矿，到矿机，到矿厂，发展迅速，市场洪荒之力可怕，门槛不断升高，收益率下降，挡住了了大部分分个人和小公司。。。\n",
    "\n",
    "> 设计一种币种，分布式，类似bitcoin，但是不是通货紧缩类型，而是能够通过市场反映，生产力的提高而变化产出率的币种，类似reinforcement learning，既考虑以拥有的价值，同时考虑未来的价值，这部分参数不是人来决定，而是通过市场来决定，就像市场力量来干预，而不是某个中心来控制。。。\n",
    "\n",
    "> 日常工作，生活，经常需要交换/共享数据，数据库之间数据传输，需要一个标准，大家相互传送数据，重现数据环境，就好办了。。。Database Exchange Format...\n",
    "\n",
    "> 要多交流，多思考，多动手，才有新思维，新视野。。。更加广阔的平台。。。\n",
    "\n",
    "> 删除表中多余的重复记录（多个字段），只留有rowid最小的记录\n",
    "```\n",
    "delete from vitae a\n",
    "where (a.peopleId,a.seq) in (select peopleId,seq from vitae group by peopleId,seq having count(*) > 1)\n",
    "and rowid not in (select min(rowid) from vitae group by peopleId,seq having count(*)>1)\n",
    "```\n",
    "\n",
    "---\n",
    "#### 虚拟机 VPS 挂了。。。为什么？ 如何监控自己的VPS？\n",
    "需要监管/监控 自己的虚拟机 VPS 状态，是不是正常使用，是被非法入侵吗？\n",
    "\n",
    "如何制作标准的 个人 ODS， 个人 DW，就像无联网一样，使用一套系统，自动，智能监控，报表展示。。（机器智能，或者人工群体加工的智慧？）\n",
    "\n",
    "---\n",
    "oracle 处理 保留小数位的问题，需要 to_char( xx, 'FM9999990.00' )\n",
    "```\n",
    "TO_CHAR(A/B,’FM99990.99’)\n",
    "TO_CHAR()是一个格式化函数，第一个参数是计算表达式，第二个参数是指定格式化的格式，如果保留两位小数则小数点后写两个99，这里的数字9代表的数字，也是一个占位符，表示该位置上以后会是一个数字，为什么小数点前面会是一个0，而不是9，是因为如果计算结果小于1，那么只会显示小数点和小数点之后的部分，前面的0会忽略掉\n",
    "```\n",
    "\n",
    "---\n",
    "# 20171102 Thursday\n",
    "\n",
    "> From Database To Knowledgebase 开放的世界 数据库，知识库...\n",
    "\n",
    "> 做人要有想法，要有追求，创新，不然跟咸鱼有什么区别。。。stay young, stay hungry, stay foolish...say no to them.\n",
    "\n",
    "> 现在我们的ods，dw都是 T+1 的，但是可以做到实时吗？ 这个好不爽，肯定有很好的优化空间，市场还很好。。。\n",
    "\n",
    "---\n",
    "# 20171103 Friday\n",
    "\n",
    "> Error... bugs everywhere... 因为旧系统，建立起来的人。。。培训，学习。。不过关的，对整个系统的见解，对技术细节的了解，是不行的。。\n",
    "\n",
    "> DataStage的任务就是 E T L 的计算量包揽了，释放 数据库服务器的计算能力。。。数据库服务器对报表用户提供服务就好...\n",
    "\n",
    "> 没有按照 设计范式来处理， 遇到非常多 本应该 数据库理论就能给我们避免的问题，没技术，又没有标准，只能够堆人力与时间，可怕维护...\n",
    "\n",
    "\n",
    "---\n",
    "# 20171107 Tuesday\n",
    "\n",
    "> 关于 DataStage 和 数据库的思考， DS集群的作用就是做ETL，把ETL计算，需要各种资源放倒DS集群里面，释放数据库服务器，相当于负载均衡，DS就做ETL的计算密集，数据库就做存储和响应 数据挖掘 BI 的即席查询，这样子才算是合理分配资源，不浪费，如果在DS开发中，数据库控件里面都是复杂的join等运算不应该，应该把join等计算量大的计算下放到DS机器上面，DS作业开发的时候，应该主动提醒开发者，这控件里面的SQL语句应该尽量简单，不应该放join等复杂SQL查询操作，在整体上释放SQL语句。。。\n",
    "\n",
    "\n"
   ]
  }
 ],
 "metadata": {
  "kernelspec": {
   "display_name": "Python [Root]",
   "language": "python",
   "name": "Python [Root]"
  },
  "language_info": {
   "codemirror_mode": {
    "name": "ipython",
    "version": 2
   },
   "file_extension": ".py",
   "mimetype": "text/x-python",
   "name": "python",
   "nbconvert_exporter": "python",
   "pygments_lexer": "ipython2",
   "version": "2.7.12"
  }
 },
 "nbformat": 4,
 "nbformat_minor": 2
}
