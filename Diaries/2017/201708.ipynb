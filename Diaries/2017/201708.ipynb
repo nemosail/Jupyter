{
 "cells": [
  {
   "cell_type": "code",
   "execution_count": 20,
   "metadata": {
    "collapsed": false
   },
   "outputs": [
    {
     "name": "stdout",
     "output_type": "stream",
     "text": [
      "[4.3760892857142855, 4.786557857142857, 4.828167857142858, 4.856742142857144, 7.3261757142857125, 7.365752142857142, 7.420815, 6.459352857142857]\n"
     ]
    },
    {
     "data": {
      "text/plain": [
       "<matplotlib.text.Text at 0x7f38941c5cd0>"
      ]
     },
     "execution_count": 20,
     "metadata": {},
     "output_type": "execute_result"
    },
    {
     "data": {
      "image/png": "[encoded data removed]",
      "text/plain": [
       "<matplotlib.figure.Figure at 0x7f389431dc10>"
      ]
     },
     "metadata": {},
     "output_type": "display_data"
    }
   ],
   "source": [
    "%matplotlib inline\n",
    "# Try to computer the nearest 7 days profit rate...\n",
    "# Simple way? There are many ways to computer this rate... Which is better?\n",
    "\n",
    "import math\n",
    "import numpy\n",
    "\n",
    "import matplotlib\n",
    "import matplotlib.pyplot as plt\n",
    "\n",
    "plt.rcParams['font.sans-serif']=['SimHei'] #用来正常显示中文标签\n",
    "plt.rcParams['axes.unicode_minus']=False #用来正常显示负号\n",
    "\n",
    "base = 10000\n",
    "days = 6 #when we use 7 days, this is 7-1=6\n",
    "\n",
    "income_ary = [ 1.2576, 0.8627, 0.8772, 0.8762, 0.8762, 0.8464, 2.7962, \\\n",
    "               2.0448, 0.9425, 0.9320, 5.6121, 0.9521, 0.9520, 0.9523 ]\n",
    "\n",
    "x_idx = range(0,len(income_ary))\n",
    "\n",
    "plt.plot(x_idx, income_ary, linewidth=2 )\n",
    "plt.xlabel('Sequence')\n",
    "plt.ylabel('InterestAt10K')\n",
    "\n",
    "# print(income_ary)\n",
    "\n",
    "avg_rate = []\n",
    "\n",
    "for e in range(days, len(income_ary)):\n",
    "    s = e - days\n",
    "    avg_rate.append( sum( income_ary[s:(e+1)] ) / ( days + 1 ) * 365 / base  * 100 )\n",
    "    \n",
    "print( avg_rate )\n",
    "\n",
    "x_idx = range(0,len(avg_rate))\n",
    "\n",
    "plt.plot(x_idx, avg_rate, linewidth=2 )\n",
    "plt.xlabel('Sequence')\n",
    "plt.ylabel('Avg_Rage')\n"
   ]
  },
  {
   "cell_type": "markdown",
   "metadata": {},
   "source": [
    "# 20170801 Tuesday\n",
    "\n",
    "> Audio Book， 从看书到听书，C2C，国内开始有人干这个事情吗。。。\n",
    "\n",
    "---\n",
    "- 前端\n",
    "- 后台\n",
    "- 数据库\n",
    "- 产品经理\n",
    "\n",
    "为啥华为的那么拽。。。\n"
   ]
  }
 ],
 "metadata": {
  "kernelspec": {
   "display_name": "Python [Root]",
   "language": "python",
   "name": "Python [Root]"
  },
  "language_info": {
   "codemirror_mode": {
    "name": "ipython",
    "version": 2
   },
   "file_extension": ".py",
   "mimetype": "text/x-python",
   "name": "python",
   "nbconvert_exporter": "python",
   "pygments_lexer": "ipython2",
   "version": "2.7.12"
  }
 },
 "nbformat": 4,
 "nbformat_minor": 0
}
