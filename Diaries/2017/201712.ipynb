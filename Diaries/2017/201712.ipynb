{
 "cells": [
  {
   "cell_type": "markdown",
   "metadata": {},
   "source": [
    "# 20171207 Thursday\n",
    "\n",
    "> Where are you going...\n",
    "\n",
    "> Living, Life, 判断，与决策... 判断当前的状况，在广阔的解空间之间寻求解，执行～\n",
    "\n",
    "> cuda, opencl, directx... GPGPU 和 CPU，不同的设计理念，通用领域和专业领域.\n",
    "\n",
    "> 随着大家的时间越来越碎片化，人们越来越难以静下心来阅读一整篇文章。而短视频，正是目前更符合潮流的一种内容形式。\n",
    "\n",
    "> 在这个趋势下，更需要静下心来是读书和思考啊。。。 读书，思考，行动，!!!敲码～\n",
    "\n",
    "---\n",
    "# 20171210 Sunday\n",
    "\n",
    "> 和她去看 Loving Vincent... 至爱梵高...\n",
    "\n",
    "---\n",
    "# 20171212 Tuesday\n",
    "\n",
    "> 看书看书看书。。。Coding...\n",
    "\n",
    "> 全球领先的信息技术研究和顾问公司 Gartner 公布了将在 2018 年对大部分企业机构产生显著影响的首要战略科技发展趋势。这十大技术分别是人工智能基础、智能应用与分析、智能物件、数字孪生、从云到边缘、会话式平台、沉浸式体验、区块链、事件驱动、持续自适应风险和信任。\n",
    "\n",
    "> 数据资源中心... 南海区政务数据分享，公开...\n",
    "\n",
    "> 买些东西送给 爸爸妈妈哈～～～\n",
    "\n"
   ]
  }
 ],
 "metadata": {
  "kernelspec": {
   "display_name": "Python 2",
   "language": "python",
   "name": "python2"
  },
  "language_info": {
   "codemirror_mode": {
    "name": "ipython",
    "version": 2
   },
   "file_extension": ".py",
   "mimetype": "text/x-python",
   "name": "python",
   "nbconvert_exporter": "python",
   "pygments_lexer": "ipython2",
   "version": "2.7.14"
  }
 },
 "nbformat": 4,
 "nbformat_minor": 2
}
