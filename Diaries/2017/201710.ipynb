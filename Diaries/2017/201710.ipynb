{
 "cells": [
  {
   "cell_type": "markdown",
   "metadata": {},
   "source": [
    "# 20171010 Tuesday\n",
    "\n",
    "> 需要一个 智慧 聪明的助手，帮我发现错误，帮我发现规律，帮我自动修正代码...\n",
    "\n",
    "> 或者在编辑器 中使用 类似 函数的 作用， 给出参数，然后自动替换和调用， 自动替换这个功能，唯一定位一个参数，使用参数时候自动标红。\n",
    "\n",
    "> 自己开发 编辑器 插件？\n",
    "\n",
    "> 多交流，多问问，多说说，跟司机交流就有很多他的解决问题的方法，很好用，嘿嘿...\n",
    "\n",
    "---\n",
    "自动学会分类，就是什么时候，会自动 drop delete 我的历史记录，临时表，不留下没用的垃圾数据...\n",
    "\n",
    "\n",
    "# 20171012 Thursday\n",
    "\n",
    "> 810 太热。。。 为了追求性能，忽略了发热的因素，所以导致理论性能很好,但是实际使用很糟糕，只能降频率关核心运行，导致体验比理论性能的还糟糕。。。 所以会出现奇怪的现象， 1K左右的手机更流畅，反而3K左右的810手机反而不流畅了。。。 \n",
    "\n",
    "> 看看如何使用个工具，在这些固定的条件下，找到一个最优的方案，去解决问题吧。。。\n",
    "\n",
    "> root 掉，然后 RE, busybox pro, kernel auditor ... 时间都去哪了， 性能都去哪里了。。。问题出现在哪里了。。。定位问题，了解问题，解决问题。。。\n",
    "\n",
    "> 这部分知识，我自己学会了，然后可能忘记了，能不能做个自动的profile，或者管家，帮我调整方案，或者根据知识网络，找到更好的解决路径，更好的解决方法？\n",
    "\n",
    "---\n",
    "- KingRoot 使用这个工具获得Root权限。。。\n",
    "- 安装RE，thermal_engine权限, 由于我的是 nubia 的机器，直接 google 的时候，加上 nubia 关键字，去论坛找，相对安全有用。\n",
    "- busybox - ？\n",
    "- kernel auditor - 人工控制\n",
    "\n",
    "\n",
    "\n",
    "\n",
    "\n"
   ]
  }
 ],
 "metadata": {
  "kernelspec": {
   "display_name": "Python 2",
   "language": "python",
   "name": "python2"
  },
  "language_info": {
   "codemirror_mode": {
    "name": "ipython",
    "version": 2
   },
   "file_extension": ".py",
   "mimetype": "text/x-python",
   "name": "python",
   "nbconvert_exporter": "python",
   "pygments_lexer": "ipython2",
   "version": "2.7.13"
  }
 },
 "nbformat": 4,
 "nbformat_minor": 2
}
