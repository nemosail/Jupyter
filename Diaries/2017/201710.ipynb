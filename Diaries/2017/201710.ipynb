{
 "cells": [
  {
   "cell_type": "markdown",
   "metadata": {},
   "source": [
    "# 20171010 Tuesday\n",
    "\n",
    "> 需要一个 智慧 聪明的助手，帮我发现错误，帮我发现规律，帮我自动修正代码...\n",
    "\n",
    "> 或者在编辑器 中使用 类似 函数的 作用， 给出参数，然后自动替换和调用， 自动替换这个功能，唯一定位一个参数，使用参数时候自动标红。\n",
    "\n",
    "> 自己开发 编辑器 插件？\n",
    "\n",
    "> 多交流，多问问，多说说，跟司机交流就有很多他的解决问题的方法，很好用，嘿嘿...\n",
    "\n",
    "---\n",
    "自动学会分类，就是什么时候，会自动 drop delete 我的历史记录，临时表，不留下没用的垃圾数据...\n",
    "\n",
    "\n",
    "\n",
    "\n",
    "\n",
    "\n"
   ]
  }
 ],
 "metadata": {
  "kernelspec": {
   "display_name": "Python 2",
   "language": "python",
   "name": "python2"
  },
  "language_info": {
   "codemirror_mode": {
    "name": "ipython",
    "version": 2
   },
   "file_extension": ".py",
   "mimetype": "text/x-python",
   "name": "python",
   "nbconvert_exporter": "python",
   "pygments_lexer": "ipython2",
   "version": "2.7.13"
  }
 },
 "nbformat": 4,
 "nbformat_minor": 2
}
