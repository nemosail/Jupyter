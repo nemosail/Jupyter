{
 "cells": [
  {
   "cell_type": "markdown",
   "metadata": {},
   "source": [
    "![对一个现象的描述，建立自己的理论，去拟合，去接受考验](http://1.im.guokr.com/a52uxq7UajKlYw7H2AvUxiAo0I7qvkRsdexnqwhoephYAgAAUgEAAEdJ.gif)\n",
    "\n",
    "# 20170531 AutoHotKey Send String Is Working Wrong...\n",
    "\n",
    "> 新的病毒/恶意软件到来，看不见，发生了你都不知道的病毒才是最可怕的，就像冰山水面下的部分，暗网灰色交易。。。\n",
    "\n",
    "> Jupyter 肯定可以做得更好，譬如加入显示页面的排序功能，我希望最新的文件放在最前面，LRU算法，最HOT的排在最前，最COLD的在后面，\n",
    "\n",
    "> Look at that， 各种 APP 各种广告，内嵌各种奇怪的东西，要是有个不错的程序员，写个开源版本，然后官方，纯功能，纯函数，然后放在GitHub 用群体的智慧去维护这个 APP，这样的模式适合我们这种小平民？\n",
    "> 掌握核心技术多重要啊，掌握源代码 Source Code 多重要啊，那些开源领袖真心看得太准太远了，没有源代码，你永远都是被别人支配，被大公司奴役，只有有源代码，才是真正的自主可控，独立可靠...\n",
    "\n",
    "---\n",
    "# 20170601 Children's Day\n",
    "\n",
    "> Auto Hot Key is not so perfect... It has some fault... 在使用 AHK 发送字符串 String Text 的时候字母的大小写乱了，希望大写的没有大写，希望小写的没有小写，就是 希望发送的是 Happy Children's Day 变成了 hApPy chILdRen'S daY... 这样子。。。这个不是我希望的，虽然可以用 AI ML DL 的方式去修正，去理解我的意思。。。\n",
    "\n",
    "> 虽然 Auto Hot Key 这工具很好用，也能够很好地解决一些常见自动化的问题，但是这也是只是一个 Workaround，就是无奈的折衷，如果软件设计的时候很好地遵从 API 设计规划，设计哲学，Avoid 奇奇怪怪的人机接口，程序就小而美，只干一些小函数事情，然后面向字符的输入输出，然后使用这些小程序（API最基本的功能）来构建复杂可靠功能，同时可以批处理，减少人力物力。。。\n",
    "\n",
    "> 深深体会是，PPT 等电子化的文档 你还真的不一定能够拿到手的，只是最原始也不是那么优美的 拍 PPT 才是最简单最粗暴啊，关键时刻拉你一把，雪中送炭的照片。。。You can't always be so elegent... you have do some dirty works somehow someday...Although you can try be as much elegent as possible...\n",
    "\n",
    "---\n",
    "#### 之前就有想法搞搞 知识图谱，刷题网站，知识保存，题目保存，社交评论，题目修正。。。\n",
    "后台的设计灵活，健壮，适合各种需求; 前端的漂亮好用，用户体验极致。。。做上瘾的感觉。。。\n",
    "\n",
    "---\n",
    "# 20170604 A special day, finish the ccbp...\n",
    "\n",
    "> 在这个特殊的日子，发生挺多特殊的事情。。。终于过了银从， 73 75。。。只能说一般般拉，还是有复习有理解的，我是学习的 Learning... Not Remembering... Anyway，看看书，接受下不一样的知识，不一样的风景。。。银行综合基础，个人理财\n",
    "\n",
    "> 对了，俺研究生宿舍是 432... 她本科生宿舍是 321... What A Coincident...\n",
    "\n",
    "> firefox 火狐 sync 账户同步 问题解决了。。。由于火狐的同步服务有 国际版 和 国内版， 不同版本之间数据不通用，不兼容，可以找教程如何切换，在同步处，断开链接，然后就有切换账户的入口了。。。Hei Hei... 云服务， 同步 的概念，机器随着人走，数据/配置都在云上，时刻跟着人走，而不是固定在某台具体的机器上，个性化十足，很自由，不需要和物理世界的某些具体硬件绑定，很好的想法，对于经常移动，经常换机器的人，深有体会...\n",
    "\n",
    "> 同步之后，还是有小问题的，陪如小插件Pan和XX-Net的配置问题，需要配置到使用GoAgent的服务，选择服务那种，然后还要导入证书。。。因为XX-Net作为后台服务，一直都在运行的，然后需要插件Pan来告诉firefox如何处理网络链接问题。。。\n",
    "\n",
    "> 墨菲定律(Murphy's Law) 什么是墨菲定律? 最简单的表达形式是\"有可能出错的事情,就会出错(Anything that can go wrong will go wrong)\"。。。 好不容易的考试机器蓝屏都被我碰上了，还好没有蓝第二次。。。从统计来开，这么多台机器，总会有几台出问题的，那么多多台机器中出问题是大概率时间\n",
    "\n",
    "一台机器不出问题的概率$p=0.99$,假设有1000台机器，而且每台机器都是独立的，则所有机器都正常工作的概率为$P_{all}=p^{1000}=0.99^{1000}$，或者反过来至少有一台不正常的概率$P_{atleastone}=1-0.99^{1000} = 0.9999568$\n",
    "\n",
    "也就是从宏观整体去看这个系统，是有9999的把握是出问题的，所以一定要有发生问题的解决方案。。。但是从某个人的微观去看，单独某个人出问题的概率是非常小的，很难碰到，但是注意不是 零概率 事件，注意到这真是个小概率事件，只是，小概率事件是真的会发生的。。。亲身体会到 Murphy's Law... 对称序设计实现，系统级别的设计也是要考虑周全细致，尽可能完美把～\n",
    "\n",
    "神奇的 概率论，是时候搞搞 机器学习，人工智能，深度学习，经济，金融。。。公开课啦，书籍啦。。。\n"
   ]
  },
  {
   "cell_type": "code",
   "execution_count": 2,
   "metadata": {
    "collapsed": false
   },
   "outputs": [
    {
     "name": "stdout",
     "output_type": "stream",
     "text": [
      "1-0.99^1000 = 0.999956828753\n"
     ]
    }
   ],
   "source": [
    "p = 1 - 0.99**1000\n",
    "\n",
    "print(\"1-0.99^1000 = \" + str(p))"
   ]
  },
  {
   "cell_type": "code",
   "execution_count": 16,
   "metadata": {
    "collapsed": false
   },
   "outputs": [
    {
     "data": {
      "text/plain": [
       "[<matplotlib.lines.Line2D at 0x7f1fce9359d0>]"
      ]
     },
     "execution_count": 16,
     "metadata": {},
     "output_type": "execute_result"
    },
    {
     "data": {
      "image/png": "[encoded data removed]",
      "text/plain": [
       "<matplotlib.figure.Figure at 0x7f1fcea21c50>"
      ]
     },
     "metadata": {},
     "output_type": "display_data"
    }
   ],
   "source": [
    "%matplotlib inline\n",
    "\n",
    "# python plot the heart curve p = 1 - cos(x)\n",
    "\n",
    "import math\n",
    "import numpy\n",
    "\n",
    "import matplotlib\n",
    "import matplotlib.pyplot as plt\n",
    "\n",
    "PI = 3.14159\n",
    "\n",
    "x_npy_ary = numpy.linspace(0, 2*PI, num=100)\n",
    "\n",
    "x_lst = x_npy_ary.tolist()\n",
    "\n",
    "y = map(lambda x: 1 - math.cos(x), x_lst)\n",
    "\n",
    "real_x = map( lambda x,y : y * math.cos(x) , x_lst, y )\n",
    "real_y = map( lambda x,y : y * math.sin(x) , x_lst, y )\n",
    "\n",
    "plt.plot(real_x, real_y, linewidth=2 )\n",
    "\n"
   ]
  }
 ],
 "metadata": {
  "kernelspec": {
   "display_name": "Python [Root]",
   "language": "python",
   "name": "Python [Root]"
  },
  "language_info": {
   "codemirror_mode": {
    "name": "ipython",
    "version": 2
   },
   "file_extension": ".py",
   "mimetype": "text/x-python",
   "name": "python",
   "nbconvert_exporter": "python",
   "pygments_lexer": "ipython2",
   "version": "2.7.12"
  }
 },
 "nbformat": 4,
 "nbformat_minor": 0
}
