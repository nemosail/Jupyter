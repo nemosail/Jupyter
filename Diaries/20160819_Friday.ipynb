{
 "cells": [
  {
   "cell_type": "markdown",
   "metadata": {},
   "source": [
    "> What is a WebGL? Connection to OpenGL? Cuda?\n",
    "\n",
    "> WebGL [Demo](http://www.open-open.com/news/view/9d8136/)\n",
    "\n",
    "Lean [Web Coding](https://www.codecademy.com/learn) ?\n",
    "\n",
    "Books to finish..\n",
    "- CSAPP\n",
    "- SICP\n",
    "- CLRS\n",
    "- TAOCP\n",
    "- PRML\n"
   ]
  }
 ],
 "metadata": {
  "kernelspec": {
   "display_name": "Python [Root]",
   "language": "python",
   "name": "Python [Root]"
  },
  "language_info": {
   "codemirror_mode": {
    "name": "ipython",
    "version": 2
   },
   "file_extension": ".py",
   "mimetype": "text/x-python",
   "name": "python",
   "nbconvert_exporter": "python",
   "pygments_lexer": "ipython2",
   "version": "2.7.12"
  }
 },
 "nbformat": 4,
 "nbformat_minor": 0
}
