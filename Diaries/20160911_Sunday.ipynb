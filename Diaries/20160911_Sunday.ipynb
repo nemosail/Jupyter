{
 "cells": [
  {
   "cell_type": "markdown",
   "metadata": {},
   "source": [
    "> A Heartbreaking Saturday\n",
    "\n",
    "> Stay Hungry, Stay Young\n",
    "\n",
    "***\n",
    "真心不能养dog。。。玛蛋，我已经是很耐心了，又吵又臭，不听话还乱拉屎。。。什么样的人选择什么样的狗啊。。。错误的决策导致严重的后果，就像在强化学习中的决策与代价，这个错误的决策代价太大了，以后不能轻易养动物，不能轻易答应别人的要求，我有这个问题，对自己很自信诶？！\n",
    "\n",
    "我也喜欢把东西收拾干净的，放好摆好收拾好，看到我自己花了那么多能量/精力，使得世界那么有序，熵那么低，可是没有心的人把这个有序的世界搞混乱的时候我会很不爽，很不高兴，有点处女座的意思，但是不能向这个草蛋的世界妥协啊，世界就是在这些不妥协的人的努力下改变的，不能轻易被环境改变自己，内在的稳定与独立，不能成为那些你一直讨厌的人，不断成长，不断进步。StayHungry，StayYoung，Say No To Those Dead.\n",
    "\n",
    "\n",
    "***\n",
    "#### 花几个月的时间去了解汽车/汽车行业, Place to visit\n",
    "1. 知乎的汽车Topic\n",
    "2. 有公开课麽？\n",
    "\n",
    "***\n",
    "**Vimrc 放到Jupyter/Documents下，方便同步vim配置，不用每次重装都百度找资料，还是配置环境问题，Docker？**\n",
    "\n",
    "Here [GitHub amix/vimrc](https://github.com/amix) 上已经有这个想法了。\n",
    "\n",
    "其实我也可以的，把安装系统的需要的配置，使用脚本Shell/Python写成源代码，Push & Pull在Github上，以后要用就直接git clone & run，好像这个想法也不错，哈哈哈，或者很早就有人这么想到了。。。\n",
    "\n",
    "***\n",
    "- 共享经济： \n",
    "    滴滴打车/Uber， 也是挺火的理念，也是挺成功的，还能蔓延到其他领域吗，跳跃性思维诶？\n",
    "- 社交网络： \n",
    "    Github/DockerHub， Facebook， Twitter， 社交编程，已经很火了，还能蔓延到哪个领域？\n",
    "- 云： \n",
    "    可以使用Github作为个人的公开云的吗，就像火狐的收藏等那种同步方案，建立 树Tree 的结构？然后就向Github Push & Pull就好了。\n",
    "    \n",
    "***\n",
    "食品相关，酸奶是统称，**国标有GB19302**，关键看产品类型：发酵乳 Vs 风味发酵乳，可以仔细看看标签，尽量选择蛋白质高，脂肪低，碳水低的。香满楼的，碳水高了。。。\n",
    "\n",
    "发酵乳：发酵乳只添加菌种不添加其他的食品添加剂\n",
    "\n",
    "风味发酵乳：风味发酵乳可以添加其他的食品添加剂\n",
    "\n",
    "如果从健康角度考虑，建议还是购买蛋白质高、脂肪不高、碳水化合物不高的产品。\n",
    "\n",
    "国产梅果 + 燕麦"
   ]
  },
  {
   "cell_type": "code",
   "execution_count": null,
   "metadata": {
    "collapsed": true
   },
   "outputs": [],
   "source": []
  }
 ],
 "metadata": {
  "kernelspec": {
   "display_name": "Python [Root]",
   "language": "python",
   "name": "Python [Root]"
  },
  "language_info": {
   "codemirror_mode": {
    "name": "ipython",
    "version": 2
   },
   "file_extension": ".py",
   "mimetype": "text/x-python",
   "name": "python",
   "nbconvert_exporter": "python",
   "pygments_lexer": "ipython2",
   "version": "2.7.12"
  }
 },
 "nbformat": 4,
 "nbformat_minor": 0
}
