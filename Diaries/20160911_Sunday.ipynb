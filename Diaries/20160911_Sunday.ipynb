{
 "cells": [
  {
   "cell_type": "markdown",
   "metadata": {},
   "source": [
    "> A Heartbreaking Saturday\n",
    "\n",
    "> Stay Hungry, Stay Young\n",
    "\n",
    "***\n",
    "真心不能养dog。。。玛蛋，我已经是很耐心了，又吵又臭，不听话还乱拉屎。。。什么样的人选择什么样的狗啊。。。错误的决策导致严重的后果，就像在强化学习中的决策与代价，这个错误的决策代价太大了，以后不能轻易养动物，不能轻易答应别人的要求，我有这个问题，对自己很自信诶？！\n",
    "\n",
    "我也喜欢把东西收拾干净的，放好摆好收拾好，看到我自己花了那么多能量/精力，使得世界那么有序，熵那么低，可是没有心的人把这个有序的世界搞混乱的时候我会很不爽，很不高兴，有点处女座的意思，但是不能向这个草蛋的世界妥协啊，世界就是在这些不妥协的人的努力下改变的，不能轻易被环境改变自己，内在的稳定与独立，不能成为那些你一直讨厌的人，不断成长，不断进步。StayHungry，StayYoung，Say No To Those Dead.\n",
    "\n",
    "\n",
    "***\n",
    "#### 花几个月的时间去了解汽车/汽车行业, Place to visit\n",
    "1. 知乎的汽车Topic\n",
    "2. 有公开课麽？\n",
    "\n",
    "***\n",
    "**Vimrc 放到Jupyter/Documents下，方便同步vim配置，不用每次重装都百度找资料，还是配置环境问题，Docker？**"
   ]
  }
 ],
 "metadata": {
  "kernelspec": {
   "display_name": "Python [Root]",
   "language": "python",
   "name": "Python [Root]"
  },
  "language_info": {
   "codemirror_mode": {
    "name": "ipython",
    "version": 2
   },
   "file_extension": ".py",
   "mimetype": "text/x-python",
   "name": "python",
   "nbconvert_exporter": "python",
   "pygments_lexer": "ipython2",
   "version": "2.7.12"
  }
 },
 "nbformat": 4,
 "nbformat_minor": 0
}
