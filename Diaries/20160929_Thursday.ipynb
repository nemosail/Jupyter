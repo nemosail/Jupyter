{
 "cells": [
  {
   "cell_type": "markdown",
   "metadata": {},
   "source": [
    "> 要研究底层/基础，不能只关注应用，了解世界的本源才行。。。下一个世界科学中心在哪？\n",
    "\n",
    "> 可以在编辑重要文件之前先做个备份，有备无患嘛。\n",
    "\n",
    "SDM 的字段类型修改， STA是贴源的，原则上不会修改任何数据/类型;\n",
    "\n",
    "在SDM上 数据字典 不需要代码标准化的不需要变成varchar（10），同时Mapping也要修改\n",
    "\n",
    "由于SDM会创建表，所以SQL创建表的语句也要修改;\n",
    "\n",
    "---\n",
    "由于我的一个SDM表不需要做 代码标准化的流程，因此是不需要做 代码标准化/数据库 空间，怎样发现这个问题的呢》 view 一下数据，发现代码标准化数据库读取是空的，也就是没有可以转换的代码，肯定出问题了。\n",
    "\n",
    "---\n",
    "FDM不用怎么做开发？ 配置好文档，自动化脚本完成任务？\n",
    "\n",
    "---\n",
    "\n",
    "Perl入门必看小骆驼（《Perl语言入门》），之后再看其他的，诸如中级Perl，Perl语言编程（可能当手册更多），还有Perl编程实践（差不多这个名，黑豹那个）。总共就那几本书，网上到处都是的那些推荐就是了。 \n",
    "\n",
    "小骆驼 -> 大骆驼 -> 黑豹\n",
    "\n",
    "JD 上买 ( SICP + 小骆驼 + 草稿纸 ？ )\n",
    "\n",
    "---\n",
    "分形。。。"
   ]
  },
  {
   "cell_type": "code",
   "execution_count": null,
   "metadata": {
    "collapsed": true
   },
   "outputs": [],
   "source": []
  }
 ],
 "metadata": {
  "kernelspec": {
   "display_name": "Python [Root]",
   "language": "python",
   "name": "Python [Root]"
  },
  "language_info": {
   "codemirror_mode": {
    "name": "ipython",
    "version": 2
   },
   "file_extension": ".py",
   "mimetype": "text/x-python",
   "name": "python",
   "nbconvert_exporter": "python",
   "pygments_lexer": "ipython2",
   "version": "2.7.12"
  }
 },
 "nbformat": 4,
 "nbformat_minor": 0
}
