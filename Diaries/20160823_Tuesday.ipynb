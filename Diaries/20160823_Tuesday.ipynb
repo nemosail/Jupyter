{
 "cells": [
  {
   "cell_type": "markdown",
   "metadata": {},
   "source": [
    "> [Hadoop 发行版本公司 Hadoop Distributions](http://www.transwarp.io/)\n",
    "\n",
    "> 静态与动态，历史与实时\n",
    "\n",
    "> 抬头看路，低头拉车\n",
    "\n",
    "> Docker与虚拟机差别联系, TOS云操作系统\n",
    "\n",
    "银行的核心系统，　九大模型， IBM的建模支撑, DB2;\n",
    "\n",
    "***\n",
    "Transwarp, Hadoop平台, Hadoop发行版本(Hadoop开源版的企业化商业发行版本)，星环科技\n",
    "\n",
    "大数据的４V: Volumn, Variety, Volocity, Value\n",
    "\n",
    "PasS: Platform as a Service是把服务器平台作为一种服务提供的一种商业模式。\n",
    "\n",
    "Hive，Hive对SQL语句的支持度,对PL/SQL存储过程的支持度，如何衡量，量化，\n",
    "\n",
    "Hbase，图Graph计算\n",
    "\n",
    "Stream，流式计算\n",
    "\n",
    "Spark 分布式引擎\n",
    "\n",
    "国外的大数据三公司: cloudera, hortonworks, MapR\n",
    "\n",
    "XML, JSON半结构化数据，非结构化数据，结构化数据\n",
    "\n",
    "把数据仓库DW，ODS等的从传统关系型数据库RDBMS迁移到Hadoop上，但是分布式使用陈旧的MapReduce还是先进，适合内存迭代演算的Spark;\n",
    "\n",
    "时间窗口，实时流式计算；\n",
    "\n",
    "并发的**资源控制与管理**策略：FIFO;同等分配；部分优先等等。。。\n",
    "\n",
    "用户画像(Profile) ->简单统计／人工特征； ->机器自动提取的特征？\n",
    "\n",
    "商圈／用户行为分析／　　　对现实世界建模、分析、最优化\n",
    "\n",
    "数据分析常用工具:\n",
    "- R\n",
    "- Python\n",
    "- SAS\n",
    "\n",
    "R与Hadoop生态的关系，R能自动分布式计算吗？\n"
   ]
  }
 ],
 "metadata": {
  "kernelspec": {
   "display_name": "Python [Root]",
   "language": "python",
   "name": "Python [Root]"
  },
  "language_info": {
   "codemirror_mode": {
    "name": "ipython",
    "version": 2
   },
   "file_extension": ".py",
   "mimetype": "text/x-python",
   "name": "python",
   "nbconvert_exporter": "python",
   "pygments_lexer": "ipython2",
   "version": "2.7.12"
  }
 },
 "nbformat": 4,
 "nbformat_minor": 0
}
