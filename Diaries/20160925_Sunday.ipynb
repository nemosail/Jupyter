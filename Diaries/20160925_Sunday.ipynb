{
 "cells": [
  {
   "cell_type": "code",
   "execution_count": 1,
   "metadata": {
    "collapsed": false
   },
   "outputs": [
    {
     "name": "stdout",
     "output_type": "stream",
     "text": [
      "There is no spoon. Only yourself.\n"
     ]
    }
   ],
   "source": [
    "print('There is no spoon. Only yourself.')"
   ]
  },
  {
   "cell_type": "markdown",
   "metadata": {},
   "source": [
    ">在黑客帝国电影中，尼奥遇到一个能不触碰汤勺并使汤勺自由弯曲男孩，从而引起了下面一段对话。\n",
    "```\n",
    "Spoon boy: Do not try and bend the spoon. That's impossible. Instead only try to realize the truth.\n",
    "Neo: What truth?\n",
    "Spoon boy: There is no spoon.\n",
    "Neo: There is no spoon?\n",
    "Spoon boy: Then you'll see that it is not the spoon that bends, it is only yourself.\n",
    "含义浅释\n",
    "    从字面的意思来看，“there is no spoon”就是“没有汤勺”的意思。然而在黑客帝国这部电影中，它代表着另外一种境界。\n",
    "当光头持勺的男孩说出“there is no spoon”时，实际上是给了尼奥打开意念之门的钥匙，让尼奥知道弯曲的并非汤勺而是尼奥自己的意识。思想反映真实，同时思想亦可创造真实。这种“一既是全，全既是一”的概念更近乎于唯心主义的一元论（唯心主义的一元论肯定世界的本原是精神）。\n",
    "所以，如果尼奥想在这个世界继续生存并战斗下去，就必须到达这种“心外无物”的“主宰”高度。而这正是“there is no spoon”所代表的境界。\n",
    "```\n",
    "\n",
    "## 自制柠檬蜂蜜\n",
    "什么是波美度？ \n",
    "\n",
    "现在看产品/酸奶/蜂蜜，都会查看产品营养表了\n",
    "\n",
    "\n",
    "\n",
    "\n",
    "\n",
    "\n",
    "\n",
    "\n",
    "## 宿舍网络，共享经济，多人共享，有没有好的算法解决多人共享问题？路由规则?"
   ]
  }
 ],
 "metadata": {
  "kernelspec": {
   "display_name": "Python [Root]",
   "language": "python",
   "name": "Python [Root]"
  },
  "language_info": {
   "codemirror_mode": {
    "name": "ipython",
    "version": 2
   },
   "file_extension": ".py",
   "mimetype": "text/x-python",
   "name": "python",
   "nbconvert_exporter": "python",
   "pygments_lexer": "ipython2",
   "version": "2.7.12"
  }
 },
 "nbformat": 4,
 "nbformat_minor": 0
}
