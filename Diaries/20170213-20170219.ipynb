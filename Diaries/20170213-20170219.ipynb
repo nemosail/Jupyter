{
 "cells": [
  {
   "cell_type": "markdown",
   "metadata": {},
   "source": [
    "# 20170213 Monday\n",
    "\n",
    "> SQL 查询效率,解决问题\n",
    "\n",
    "> 镜像的授权\n",
    "\n",
    "> 因为中国从古至今，真正的财富表现形式其实从未改变，那就是——土地。土地在农村是耕田，是农民的根本；在城市是房子，是居民最值钱的东西。所以古代的财富在地主手里，现在的财富在房东手里。\n",
    "\n",
    "> Mouse Fixed...Changed WeiDongKaiGuan...They are standard... 更换了 D2FC-FL-N China 的标准规格微动开关之后好了。\n",
    "\n",
    "---\n",
    "#### 定位目标客户群,尽量减少计算量\n",
    "Join的时候尽量小表join小表,不要大表join 再 过滤...\n",
    "\n",
    "\n"
   ]
  },
  {
   "cell_type": "code",
   "execution_count": 30,
   "metadata": {
    "collapsed": false
   },
   "outputs": [
    {
     "name": "stdout",
     "output_type": "stream",
     "text": [
      "36822ecf9ca0da06e53d095eaa33a160\n",
      "6a5dd0a7533796bad1de1c40ad78350f297bfbe06a0c4c58fe61e637063a69fa\n",
      "Sing me to sleep, now.          \n",
      "4131025\n",
      "000000fbdc3f76d810c800369dc4efcc7c842f2c715090c14953cc0c5f00a978\n",
      "4405397\n",
      "000000581fb75120423d9a699b095c6e7c6d8c38f0d89fb75bbc27b2be7fff77\n"
     ]
    },
    {
     "ename": "KeyboardInterrupt",
     "evalue": "",
     "output_type": "error",
     "traceback": [
      "\u001b[1;31m\u001b[0m",
      "\u001b[1;31mKeyboardInterrupt\u001b[0mTraceback (most recent call last)",
      "\u001b[1;32m<ipython-input-30-b860f07cb40c>\u001b[0m in \u001b[0;36m<module>\u001b[1;34m()\u001b[0m\n\u001b[0;32m     48\u001b[0m     \u001b[0morg_str\u001b[0m \u001b[1;33m=\u001b[0m \u001b[0mledingStr\u001b[0m \u001b[1;33m+\u001b[0m \u001b[0mmiddleStr\u001b[0m \u001b[1;33m+\u001b[0m \u001b[0mstr\u001b[0m\u001b[1;33m(\u001b[0m\u001b[0mstart_num\u001b[0m\u001b[1;33m)\u001b[0m\u001b[1;33m\u001b[0m\u001b[0m\n\u001b[0;32m     49\u001b[0m     \u001b[0msh\u001b[0m\u001b[1;33m.\u001b[0m\u001b[0mupdate\u001b[0m\u001b[1;33m(\u001b[0m \u001b[0morg_str\u001b[0m \u001b[1;33m)\u001b[0m\u001b[1;33m\u001b[0m\u001b[0m\n\u001b[1;32m---> 50\u001b[1;33m     \u001b[0mhash_str\u001b[0m \u001b[1;33m=\u001b[0m \u001b[0msh\u001b[0m\u001b[1;33m.\u001b[0m\u001b[0mhexdigest\u001b[0m\u001b[1;33m(\u001b[0m\u001b[1;33m)\u001b[0m\u001b[1;33m\u001b[0m\u001b[0m\n\u001b[0m\u001b[0;32m     51\u001b[0m \u001b[1;33m\u001b[0m\u001b[0m\n\u001b[0;32m     52\u001b[0m     \u001b[1;32mif\u001b[0m\u001b[1;33m(\u001b[0m \u001b[0mhash_str\u001b[0m\u001b[1;33m[\u001b[0m\u001b[1;36m0\u001b[0m\u001b[1;33m:\u001b[0m\u001b[1;36m6\u001b[0m\u001b[1;33m]\u001b[0m \u001b[1;33m==\u001b[0m \u001b[1;34m'000000'\u001b[0m\u001b[1;33m)\u001b[0m\u001b[1;33m:\u001b[0m\u001b[1;33m\u001b[0m\u001b[0m\n",
      "\u001b[1;31mKeyboardInterrupt\u001b[0m: "
     ]
    }
   ],
   "source": [
    "# play with MD5 SHA256 AES; BlockChain ProofOfWork\n",
    "\n",
    "import hashlib\n",
    "import os\n",
    "\n",
    "# MD5 part, it is easy, result is 32 charcaters in hex\n",
    "keystr = '1314025'\n",
    "m = hashlib.md5()\n",
    "m.update(keystr)\n",
    "CryKeyStr = m.hexdigest()\n",
    "\n",
    "print(CryKeyStr)\n",
    "# print(len(CryKeyStr))\n",
    "\n",
    "# AES part, it is easy too?\n",
    "from Crypto.Cipher import AES\n",
    "import binascii\n",
    "\n",
    "key = CryKeyStr\n",
    "text = 'Sing me to sleep, now.'\n",
    "\n",
    "# padding the text to mutiple of 16\n",
    "pad = ' '\n",
    "num_need = 16 - len(text) % 16\n",
    "padded_text = text + pad * num_need\n",
    "# print(len(padded_text))\n",
    "\n",
    "iv = os.urandom(16)\n",
    "aes_mode = AES.MODE_CBC\n",
    "encryptor = AES.new(key, aes_mode, iv)\n",
    "ciphertext = encryptor.encrypt(padded_text)\n",
    "print(binascii.hexlify(ciphertext))\n",
    "\n",
    "decryptor = AES.new(key, aes_mode, iv)\n",
    "plaintext = decryptor.decrypt(ciphertext)\n",
    "print(plaintext)\n",
    "\n",
    "# SHA256 part, proof of work...\n",
    "import hashlib\n",
    "\n",
    "ledingStr = 'ProofOfWork'\n",
    "paddingStr = '4131025'\n",
    "middleStr = '43647805'\n",
    "\n",
    "for start_num in range(0,99999999):\n",
    "    sh = hashlib.sha256()\n",
    "    \n",
    "    org_str = ledingStr + middleStr + str(start_num)\n",
    "    sh.update( org_str )\n",
    "    hash_str = sh.hexdigest()\n",
    "    \n",
    "    if( hash_str[0:6] == '000000'):\n",
    "        print(str(start_num))\n",
    "        print(hash_str)\n",
    "        \n",
    "print('Searh numbers ends here...')\n",
    "    \n",
    "\n"
   ]
  }
 ],
 "metadata": {
  "kernelspec": {
   "display_name": "Python [Root]",
   "language": "python",
   "name": "Python [Root]"
  },
  "language_info": {
   "codemirror_mode": {
    "name": "ipython",
    "version": 2
   },
   "file_extension": ".py",
   "mimetype": "text/x-python",
   "name": "python",
   "nbconvert_exporter": "python",
   "pygments_lexer": "ipython2",
   "version": "2.7.12"
  }
 },
 "nbformat": 4,
 "nbformat_minor": 0
}
