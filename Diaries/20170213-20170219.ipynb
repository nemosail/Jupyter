{
 "cells": [
  {
   "cell_type": "markdown",
   "metadata": {},
   "source": [
    "# 20170213 Monday\n",
    "\n",
    "> SQL 查询效率,解决问题\n",
    "\n",
    "> 镜像的授权\n",
    "\n",
    "> 因为中国从古至今，真正的财富表现形式其实从未改变，那就是——土地。土地在农村是耕田，是农民的根本；在城市是房子，是居民最值钱的东西。所以古代的财富在地主手里，现在的财富在房东手里。\n",
    "\n",
    "---\n",
    "#### 定位目标客户群,尽量减少计算量\n",
    "Join的时候尽量小表join小表,不要大表join 再 过滤...\n",
    "\n",
    "\n"
   ]
  },
  {
   "cell_type": "code",
   "execution_count": 2,
   "metadata": {
    "collapsed": false
   },
   "outputs": [
    {
     "name": "stdout",
     "output_type": "stream",
     "text": [
      "61d10b8dde46f0b84d2c885ea4551e4b\n"
     ]
    }
   ],
   "source": [
    "# play with MD5 SHA256 AES; BlockChain ProofOfWork\n",
    "\n",
    "import hashlib\n",
    "\n",
    "# MD5 part, it is easy, result is 32 charcaters in hex\n",
    "keystr = '4131025'\n",
    "m = hashlib.md5()\n",
    "m.update(keystr)\n",
    "CryKeyStr = m.hexdigest()\n",
    "\n",
    "print(CryKeyStr)\n",
    "\n",
    "# AES part, it is easy too?\n",
    "\n",
    "\n",
    "# SHA256 part, proof of work...\n",
    "\n"
   ]
  }
 ],
 "metadata": {
  "kernelspec": {
   "display_name": "Python [Root]",
   "language": "python",
   "name": "Python [Root]"
  },
  "language_info": {
   "codemirror_mode": {
    "name": "ipython",
    "version": 2
   },
   "file_extension": ".py",
   "mimetype": "text/x-python",
   "name": "python",
   "nbconvert_exporter": "python",
   "pygments_lexer": "ipython2",
   "version": "2.7.12"
  }
 },
 "nbformat": 4,
 "nbformat_minor": 0
}
