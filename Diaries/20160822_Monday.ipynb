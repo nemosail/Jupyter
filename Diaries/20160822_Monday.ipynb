{
 "cells": [
  {
   "cell_type": "markdown",
   "metadata": {},
   "source": [
    "> It's been a busy weekend... Solved something but something remains unsolved...\n",
    "\n",
    "> OS minix source code to learn?\n",
    "\n",
    "> Play With OpenWrt, Computer Network\n",
    "\n",
    "[Google Fuchsia](https://en.wikipedia.org/wiki/Google_Fuchsia) is new generation os for mcu?鉴于传统操作系统内核存在规模庞大、不够实时、缺乏安全等问题，Google、华为等解决方案供应商认为，物联网设备需要全新的操作系统。但是[Fuchsia](http://36kr.com/p/5051522.html)会像Unix和Linux一样辉煌吗？\n",
    "\n",
    "ETL环节在ODS/DW/BI中占有比较大的分量，而ETL过程可能会面对各种问题，计划／依赖／并发／重启等问题；其实可以使用手工写程序等方式来完成／控制ETL，但是这个也可以使用对领域分析清楚的工具Moia来实现，自动与智能。\n",
    "- 任务管理 \n",
    "- 任务调度\n",
    "- 运行监控\n",
    "- 集群管理\n",
    "\n",
    "***\n",
    "源数据  ->  ODS  ->  DW  -> OLAP+前端展示，报表\n",
    "\n",
    "ODS是贴源的，接近业务系统，一般是近期的，接近实时的数据，适合监控方面，与业务系统分隔开；\n",
    "\n",
    "DW是更综合，时间跨度更长，数据来源广，种类多，更适合统计／分析／挖掘模式，知识;\n",
    "\n",
    "***\n",
    "- 同业拆借是银行为融通资金向其他银行借款的行为;\n",
    "- 同业存款就是银行把资金存放到其他银行;\n",
    "- 协议存款是社保基金等存放在银行的存款，一般期限较长，不能提前支取;\n"
   ]
  }
 ],
 "metadata": {
  "kernelspec": {
   "display_name": "Python [Root]",
   "language": "python",
   "name": "Python [Root]"
  },
  "language_info": {
   "codemirror_mode": {
    "name": "ipython",
    "version": 2
   },
   "file_extension": ".py",
   "mimetype": "text/x-python",
   "name": "python",
   "nbconvert_exporter": "python",
   "pygments_lexer": "ipython2",
   "version": "2.7.12"
  }
 },
 "nbformat": 4,
 "nbformat_minor": 0
}
