{
 "cells": [
  {
   "cell_type": "markdown",
   "metadata": {},
   "source": [
    "> It's been a busy weekend... Solved something but something remains unsolved...\n",
    "\n",
    "> OS minix source code to learn?\n",
    "\n",
    "> Play With OpenWrt, Computer Network\n",
    "\n",
    "> 世界是守恒的吗？\n",
    "\n",
    "[Google Fuchsia](https://en.wikipedia.org/wiki/Google_Fuchsia) is new generation os for mcu?鉴于传统操作系统内核存在规模庞大、不够实时、缺乏安全等问题，Google、华为等解决方案供应商认为，物联网设备需要全新的操作系统。但是[Fuchsia](http://36kr.com/p/5051522.html)会像Unix和Linux一样辉煌吗？\n",
    "\n",
    "ETL环节在ODS/DW/BI中占有比较大的分量，而ETL过程可能会面对各种问题，计划／依赖／并发／重启等问题；其实可以使用手工写程序等方式来完成／控制ETL，但是这个也可以使用对领域分析清楚的工具Moia来实现，自动与智能。\n",
    "- 任务管理 \n",
    "- 任务调度\n",
    "- 运行监控\n",
    "- 集群管理\n",
    "\n",
    "***\n",
    "源数据  ->  ODS  ->  DW  -> OLAP+前端展示，报表\n",
    "\n",
    "ODS是贴源的，接近业务系统，一般是近期的，接近实时的数据，适合监控方面，与业务系统分隔开；\n",
    "\n",
    "DW是更综合，时间跨度更长，数据来源广，种类多，更适合统计／分析／挖掘模式，知识;\n",
    "\n",
    "***\n",
    "- 同业拆借是银行为融通资金向其他银行借款的行为;\n",
    "- 同业存款就是银行把资金存放到其他银行;\n",
    "- 协议存款是社保基金等存放在银行的存款，一般期限较长，不能提前支取;\n",
    "\n",
    "***\n",
    "已经被复式记账法弄晕了。。。借贷。。。Debit & Credit\n",
    "\n",
    "$$资产　＝　负债　＋ 所有者权益$$\n",
    "\n",
    "为什么，这个是对企业资金来龙去脉的描述，等式左边是企业资产的多少，等式右边的是这些资产是属于债权人还是投资人；\n",
    "\n",
    "当费用和收入不想等时候，\n",
    "\n",
    "$$资产 + 费用 = 负债 + 所有者权益 ＋　收入$$\n",
    "\n",
    "这个等式其实也很好理解，把费用移到右边去，然后和收人合起来，再合到所有者权益上去。。。。\n",
    "\n",
    "区分：\n",
    "- 债权人\n",
    "- 投资人\n",
    "\n",
    "区分:\n",
    "- 单式记账法 ( 一种简单而不严密的记账方式，适合个人／家庭／个体商店等 )\n",
    "- [复式记账法](http://www.jianshu.com/p/3d6a1497a5ee) ( 一种比较科学、全面的记账方式，[适合企业／单位](http://blog.sina.com.cn/s/blog_62c52eba0100fkte.html) )\n",
    "\n",
    "个人／家庭如何记账？\n",
    "[链接](https://www.zhihu.com/question/24925372/answer/52908681)\n",
    "\n",
    ">先说结论：复式记账对你的生活会产生更积极主动的影响，吸引你去实现自我增值。如果条件允许，个人十分建议采用复式记账进行家庭支出的记账。但是要承认的是，复式记账确实不够直观，门槛略高且有误导性，单式记账依然是非常好的记账手段....\n",
    "\n",
    "记账，日记，日志，不管什么格式／形式，本质就是记录东西，记录过程，记录变化，只需要做好自己的任务就好，把过程记录清晰，一目了然，类似充分必要，能够不多不少／没差错地反映整个过程就很好了。不一定要按照某一种固定的格式，那为什么许多情况大家都用标准的，某一种格式，因为在群体中，需要在多个用户中沟通，这种方式相当于一门语言，大家都懂，也很好用。。。\n",
    "\n",
    "***\n",
    "[Hacking](http://www.catb.org) & Cracking...\n",
    "\n",
    "在编程中，往往需要将内存中的值转换成字符串的形式，在Python中，有两种机制：\n",
    "- 一种是使用str函数，它会把值转换为合理形式的字符串，以便用户可以理解；\n",
    "-　另一种是repr函数，会创建一个字符串，以合法的Python表达式来表示值；"
   ]
  },
  {
   "cell_type": "code",
   "execution_count": 15,
   "metadata": {
    "collapsed": false
   },
   "outputs": [
    {
     "name": "stdout",
     "output_type": "stream",
     "text": [
      "hello world\n",
      "hello world\n",
      "'hello world'\n",
      "1000\n",
      "1000L\n",
      "Using str() to 88L  => 88\n",
      "Using repr() to 88L => 88L\n",
      "C:\n",
      "ow\n",
      "C:\\now\n"
     ]
    }
   ],
   "source": [
    "print 'hello world'\n",
    "\n",
    "print str('hello world')\n",
    "\n",
    "print repr('hello world')\n",
    "\n",
    "print str(1000L)\n",
    "\n",
    "print repr(1000L)\n",
    "\n",
    "print 'Using str() to 88L  => ' + str(88L)\n",
    "\n",
    "print 'Using repr() to 88L => ' + repr(88L)\n",
    "\n",
    "print 'C:\\now'\n",
    "\n",
    "print r'C:\\now' #使用ｒ表示原始字符串"
   ]
  }
 ],
 "metadata": {
  "kernelspec": {
   "display_name": "Python [Root]",
   "language": "python",
   "name": "Python [Root]"
  },
  "language_info": {
   "codemirror_mode": {
    "name": "ipython",
    "version": 2
   },
   "file_extension": ".py",
   "mimetype": "text/x-python",
   "name": "python",
   "nbconvert_exporter": "python",
   "pygments_lexer": "ipython2",
   "version": "2.7.12"
  }
 },
 "nbformat": 4,
 "nbformat_minor": 0
}
