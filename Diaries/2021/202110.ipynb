{
 "cells": [
  {
   "cell_type": "markdown",
   "metadata": {},
   "source": [
    "#### 20211014\n",
    "\n",
    "> Gnu/Linux 的 bash shell 脚本编程不熟悉，也不一定通用，有风险，经常踩坑，掉坑里...\n",
    "\n",
    "> linux脚本里ps进程多出几个,运行shell脚本时进程数量变多。。。echo `ps aux | grep memcache | grep -v grep | wc -l` 在命令行执行的结果，和在shell脚本里面执行结果不一样，与shell进程执行有关系， \n",
    "\n",
    ">解决方案：\n",
    "1. 删除脚本头部#!/bin/bash\n",
    "2. 增加过滤：grep -v bash\n",
    "3. 改变调用方式：source run.sh\n",
    "\n",
    "> 拼音输入法和五笔输入法各有什么优点？ 知乎上有不错的选择，可以... 挺有趣的，因为自己经常提笔忘字。。。\n",
    "\n",
    "#### 知识沉淀，检索 IR\n",
    "> 知识沉淀、知识积累， 感觉就在做IR，类似百度、bing、google的，用户们在不断生产document文档（网页，word，txt）各种知识，这只是第一步生产信息、知识，还需要对文档的整理、分类、索引，然后提供给用户检索，搜索； 这个过程一般都在公开互联网成熟，但是在企业领域，有类似的镜像产品？ media-wiki? confluence? or we can build open source alternative?\n",
    "\n",
    "> linux 工具 on windows， cygwin， mingw？？？ 还有其他思路不\n",
    "\n",
    "> https://git-scm.com/download/win，  git on windows 用 mingw 编译了很多gnu/linux工具，哈哈\n",
    "\n",
    "> ELK， 企业内部的WIKI，肯定需要一个方便好用的IR，信息检索，类似 confluence、wiki media是管理（CRUD）的地方，那么肯定会有检索的需求，用ELK可以做企业级的知识检索吗？ 不仅是 confluence 自己内部的检索、wiki media内部的检索，而是这些企业里面这些所有知识的检索。  ELK on 企业内部知识检索方案？ 先是知识的管理(CRUD)版本、权限、各种等等，然后知识的检索。。。\n",
    "\n",
    "> cygwin， mingw， 是linux工具 on windows,  那个最好用和方便， 还有其他方式吗 条条大路通罗马.. WSL?\n",
    "\n",
    "> 科学技术是第一生产力啊， 就热水器来说，稳定的温度，可以有效减少工作量了，之前的人们控制水温，和现在的人们控制水温，差异大，效率差异大。 就用热水洗衣服消毒，控制温度高的热水器直接输出60+左右的热水，研究表明这温度能杀死大部分的细菌了，同时也衣物也还OK。洗衣机也许可以，但是内衣等等用热水器更好用，这也是一个能够利用好现有家电的方式把。。。 工具设计和生产好了，利用好工具，也是很厉害的，嘿嘿。。。\n",
    "\n",
    "> 设计、生产好工具的人； 把工具用户的人...\n",
    "\n",
    "> http://www.chinaclear.cn/ 中国结算， 中登， 关系是？？？ 这里可以查询自己名下的股东账户，账户类型，基金户还是股票户\n",
    "\n",
    "#### Gnu/Linux 机器下的 /var目录占用过大,  du * -sh 却无法找到对应的文件\n",
    "\n",
    "> 找到一种解析是 : 如果通过以上方法没有找到问题所在，那么可以使用 lsof | grep deleted 命令，看看是否删除掉的文件仍然被进程占用而没有进行实际删除。\n",
    "\n",
    "> 发现有几个 系统进程 rsyslogd， auditd, kagent 等等占用 /var不少的空间，尝试 service xxx status, service xxx restart, service xx restart 重启就好了?!\n",
    "\n",
    "> 使用 lsof | grep deleted 找到很多删除了但是还占用空间的文件， du * -sh 是找不到的，因为他们已经删除，只是没有释放空间，需要对应占用进程重启之后才释放，之后 /var 空间就很大了。。。 因此看见 df -h, du * -sh 看见空间被占用了，但是找不到是什么文件占用的原因。。。\n",
    "\n",
    "\n",
    "\n",
    "\n",
    "\n",
    "\n",
    "\n",
    "\n"
   ]
  }
 ],
 "metadata": {
  "kernelspec": {
   "display_name": "Python 3",
   "language": "python",
   "name": "python3"
  },
  "language_info": {
   "codemirror_mode": {
    "name": "ipython",
    "version": 3
   },
   "file_extension": ".py",
   "mimetype": "text/x-python",
   "name": "python",
   "nbconvert_exporter": "python",
   "pygments_lexer": "ipython3",
   "version": "3.6.5"
  }
 },
 "nbformat": 4,
 "nbformat_minor": 2
}
