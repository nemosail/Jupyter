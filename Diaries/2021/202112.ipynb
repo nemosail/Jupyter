{
 "cells": [
  {
   "cell_type": "markdown",
   "id": "91f41930",
   "metadata": {},
   "source": [
    "#### 20211201\n",
    "\n",
    "> Start a new journey\n",
    "\n",
    "> Just My Socks 是什么东西啊？ 因为那个图标是个小飞机，所以是 机场的说法？\n",
    "\n",
    "> Visual Studio Code 真是 神器。。。 Markdown 也可以直接预览，使用它的 View - Command Pattle.. - 查找指令。。。 markdown 也是可以预览\n",
    "\n",
    "https://code.visualstudio.com/docs\n",
    "\n",
    "> 找到好的工具， 把工具使用好， 创造好的工具， 已经是非常棒了...\n",
    "\n",
    "> 如何锻炼自己的方向能力，判断力，嗅觉，认知，投资能力，战略思维？\n",
    "\n",
    "#### 20211206\n",
    "\n",
    "> PDF是图片的时候，无法复制里面的文字，使用工具转换下，再复制到文本编辑器VSCODE，再进行word编辑，效率高很多。\n",
    "\n",
    "#### 20211210\n",
    "\n",
    "> 使用什么的 office 文档比较好用？ 开源的 Libra Office, Open Office?\n",
    "\n",
    "> chrome 自带很多工具，网页长截图， 使用 F12 进入debug模式，然后 ctrl+shfit+p 出现命令paddle，找 capture full shot得到整个屏幕的截图\n",
    "\n",
    "> 在实操中，过高的保证金占用容易影响收益，过低的保证金占用又容易放大风险，所以保证金是期权交易制度中最重要的元素之一。期权的组合保证金制度，就是把某些期权的组合视为一个整体，以一个组合的名义收取对应的保证金，组合保证金的占用往往比组合中所有义务仓占用的保证金比例要低很多，这样可以从根本上提高交易者的资金使用率。\n",
    "\n",
    "#### 20211214 \n",
    "\n",
    "> 网页保存为 mhtml 而不是保存为 html 才是正解，只是 chrome 新版，支持 mhtml 有点搞，新版的chrome://flags没有另存为 mhtml 选项,找到chrome的快捷方式右键单击“属性”。在【目标(T)】中再加入\" --save-page-as-mhtml\"，它们之间是存在一个空格的。再重新打开chrome就可以使用mhtml了。\n",
    "\n",
    "> 在网页 ctrl + s ，就会出现网页的保存为 mhtml的选项了.\n",
    "\n",
    "#### 20211215\n",
    "\n",
    "> SGX 新加坡交易所？\n",
    "\n",
    "> https://www.zhihu.com/question/62453449?sort=created 知乎的这个描述解决了我的一个疑问，为啥证券交易所大部分是stock exchange，而证券公司是security...? 可能是历史原因，交易所开始就是为了股票的，后来扩展到基金、债券的有价证券，但是一些有价证券业不在交易所交易，对不。。。为啥证券公司。。。？ keep asking and thinking .\n",
    "\n",
    "#### 20211216\n",
    "\n",
    "> 当一样东西作为一个基础服务给众多用户访问的时候，很多东西都变了。。。\n",
    "\n",
    "#### 20211229\n",
    "\n",
    "ogg 、 Shareplex和DSG RealSync 对比\n",
    "\n",
    "https://www.cnblogs.com/andy6/p/6115723.html\n",
    "\n",
    "windows下的 linux 常用工具，用于解决常见问题。。。cygwin, mingw... GitBash ? 有没有更好的。。。\n",
    "\n",
    "> 期货基金，把钱投资都期货合约里面的基金， 豆粕ETF， 有色ETF，能源化工ETF， 它们几个的底层标的不是股票，而是在期货合约上面。。。三只产品分别代表了农产品、能源化工、有色金属三个行业\n",
    "\n",
    "> 管理期货基金CTA，又被称为商品交易顾问, commodity trade accountent... 不合理，因为有 商品 金融 期货、期权的划分。。。\n",
    "\n",
    "> 夜盘是下一个交易日的早盘，其实主要为了和国际接轨。 \n",
    "\n",
    "> 我们知道期货交易是带有杠杆的，一般期货品种的杠杆倍数是在8--12倍左右，而作为基金产品，其投资追求稳健为主，所以，为了规避高杠杆带来的高波动风险，作为商品期货ETF基金，基金的仓位配置都有严格限制，一般来说，其持仓的期货合约价值站基金净资产的90%--110%，从而就规避了杠杆的属性。剩余的80%-90%的资产则配置到货币市场等固收产品。\n",
    "\n",
    "\n",
    "Minimum price fluctuation\n",
    "\n",
    "All futures contracts have a minimum price fluctuation also known as a tick. Tick sizes are set by the exchange and vary by contract instrument.\n",
    "\n",
    "E-min S&P 500 tick\n",
    "\n",
    "For example, the tick size of an E-Mini S&P 500 Futures Contract is equal to one quarter of an index point. Since an index point is valued at $50 for the E-Mini S&P 500, a movement of one tick would be\n",
    "\n",
    ".25 x $50 = $12.50\n",
    "\n",
    "NYMEX WTI Crude Oil\n",
    "\n",
    "The tick price of a NYMEX WTI Crude Oil contract is equal to one tenth of a point, and since a point is valued at $1000, the tick price is $100. The NYMEX WTI Crude Oil contract is quoted therefore in increments of .01.\n",
    "Summary\n",
    "\n",
    "Tick sizes are defined by the exchange and vary depending on the size of the financial instrument and requirements of the marketplace. Tick sizes are set to provide optimal liquidity and tight bid-ask spreads.\n",
    "\n",
    "The minimum price fluctuation for any CME Group contract can be found on the product specification pages.\n",
    "\n",
    "Visit the Futures Research Center to explore market data and trading insights.\n",
    "\n"
   ]
  },
  {
   "cell_type": "code",
   "execution_count": 1,
   "id": "5e030d10",
   "metadata": {},
   "outputs": [
    {
     "name": "stdout",
     "output_type": "stream",
     "text": [
      "2021-12-28 14:43:43.594577\n"
     ]
    }
   ],
   "source": [
    "import datetime\n",
    "\n",
    "print(datetime.datetime.now())"
   ]
  }
 ],
 "metadata": {
  "kernelspec": {
   "display_name": "Python 3 (ipykernel)",
   "language": "python",
   "name": "python3"
  },
  "language_info": {
   "codemirror_mode": {
    "name": "ipython",
    "version": 3
   },
   "file_extension": ".py",
   "mimetype": "text/x-python",
   "name": "python",
   "nbconvert_exporter": "python",
   "pygments_lexer": "ipython3",
   "version": "3.9.7"
  }
 },
 "nbformat": 4,
 "nbformat_minor": 5
}
