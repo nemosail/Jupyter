{
 "cells": [
  {
   "cell_type": "markdown",
   "id": "91f41930",
   "metadata": {},
   "source": [
    "#### 20211201\n",
    "\n",
    "> Start a new journey\n",
    "\n",
    "> Just My Socks 是什么东西啊？\n",
    "\n",
    "> Visual Studio Code 真是 神器。。。 Markdown 也可以直接预览，使用它的 View - Command Pattle.. - 查找指令。。。 markdown 也是可以预览\n",
    "\n",
    "https://code.visualstudio.com/docs\n",
    "\n",
    "> 找到好的工具， 把工具使用好， 创造好的工具， 已经是非常棒了...\n",
    "\n"
   ]
  }
 ],
 "metadata": {
  "kernelspec": {
   "display_name": "Python 3 (ipykernel)",
   "language": "python",
   "name": "python3"
  },
  "language_info": {
   "codemirror_mode": {
    "name": "ipython",
    "version": 3
   },
   "file_extension": ".py",
   "mimetype": "text/x-python",
   "name": "python",
   "nbconvert_exporter": "python",
   "pygments_lexer": "ipython3",
   "version": "3.9.7"
  }
 },
 "nbformat": 4,
 "nbformat_minor": 5
}
