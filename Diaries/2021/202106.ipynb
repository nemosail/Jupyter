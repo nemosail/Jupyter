{
 "cells": [
  {
   "cell_type": "markdown",
   "metadata": {},
   "source": [
    "#### 20210523 - 20210603\n",
    "\n",
    "> Conv-19 印度变异 strike 广州/佛山， 关键是 流行病调查，传染链还没清楚，毕竟广州第三世界 capital， 国内 国外 人口流动性强，密集。。。  \n",
    "\n",
    "> 危机， 危险 与 机遇;  \n",
    "\n",
    "> 工程设计图纸，装配知识的开源化，类似源代码开源的方式， 快速建立各种实验室，医院等等...\n",
    "\n",
    "> 方法总比问题多，对不？\n",
    "\n"
   ]
  }
 ],
 "metadata": {
  "kernelspec": {
   "display_name": "Python 3",
   "language": "python",
   "name": "python3"
  },
  "language_info": {
   "codemirror_mode": {
    "name": "ipython",
    "version": 3
   },
   "file_extension": ".py",
   "mimetype": "text/x-python",
   "name": "python",
   "nbconvert_exporter": "python",
   "pygments_lexer": "ipython3",
   "version": "3.6.5"
  }
 },
 "nbformat": 4,
 "nbformat_minor": 2
}
