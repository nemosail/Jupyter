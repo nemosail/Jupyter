{
 "cells": [
  {
   "cell_type": "markdown",
   "metadata": {},
   "source": [
    "#### 20210523 - 20210603\n",
    "\n",
    "> Conv-19 印度变异 strike 广州/佛山， 关键是 流行病调查，传染链还没清楚，毕竟广州第三世界 capital， 国内 国外 人口流动性强，密集。。。  \n",
    "\n",
    "> 危机， 危险 与 机遇;  \n",
    "\n",
    "> 工程设计图纸，装配知识的开源化，类似源代码开源的方式， 快速建立各种实验室，医院等等...\n",
    "\n",
    "> 方法总比问题多，对不？\n",
    "\n",
    "> bilibili 视频 -> Tools1 下载本地 mp4 -> Tools2 转换-> mp3 -> Tools3 cutter \n",
    "\n",
    "> 云服务， 国外的 office ？ 国内的 腾讯文档、金山文档，共享处理事情还是很方便的，效率提升不少。。。\n",
    "\n",
    "> 当前世界 新技术革命 的三大支柱 (材料、信息、能源)...\n",
    "\n",
    "> “人往往会高估一年时间发生的变化，但低估五年时间发生的变化。” Is it true?\n",
    "\n",
    "> 第三代半导体， 什么是第一代，第二代？ 区别联系？ 是什么之间的关系\n",
    "\n",
    "> SQL And NO-SQL， 当普通的关系型SQL 无法满足当前场景，可以考虑No-SQL了，还有很多其他方案呢！\n",
    "\n",
    "> NoSQL的优点正好就是SQL的软肋，而其弱点正好也就是SQL的杀手锏\n",
    "\n",
    "> event driven 事件驱动 与 轮询机制\n",
    "\n",
    "> DEFI, 中心化， 去中心化，分布式???\n",
    "\n",
    "> 有个人工观察的投资组合策略， 定性认知， 定量形式化描述， 代码实现， 进行回测， 然后 validataion验证， model selection模型选择？？？ P quant 和 Q quant 的思想同时 实现。。。\n",
    "\n",
    "> cloud 交易规则，策略发现信号提示， 相当于 在线的24x7的服务，运行的是用户提供的计算逻辑，(event driven，time driven) 等，执行用户的指令，然后计算得到相应的信号，提示用户。 举个例子，我有个交易策略，当指定的几个公募REITs，日内交易 折价率到达 10% 等等条件时候，提示用户?\n",
    "\n",
    "> DLSS1.0 AI自动补分辨率？ FSR(AMD) 深度学习超分辨率？ DLSS2.0；  深度学习确实在很多领域都是可以落地的！\n",
    "\n",
    "> AMD FSR是FidelityFX系列游戏特效中的最新成员，是一种面向游戏的超分辨率技术。提到超分辨率技术就不得不提一下Nvidia在两年前推出的DLSS技术，一种基于AI的超分辨率技术，可以将低分辨率游戏图像提升到高分辨率，从而节约显卡性能。DLSS一代推出之后因为苛刻的实现条件以及并不算出色的画质，并没有得到广大玩家的好评。之后Nvidia又推出了第二代，改善了一代中的诸多毛病，比如需要预训练，画面模糊，需要限定的游戏分辨率等等，在玩家中得到了较好的评价，但Nvidia的技术通常都是封闭的技术，所以AMD无法使用。当然作为开源急先锋的AMD肯定不会坐视不管，于是就有了FSR。\n",
    "和DLSS不同，AMD的FSR并没有使用AI来实现超分辨率，而是使用了传统的图像处理算法。\n",
    "\n",
    "> small operation。。。 还是眼泪较多，泪鼻管堵塞？ 要是更早点处理，可能会好点点，但是还是要去妇幼医院更加专业了...\n",
    "\n",
    "\n",
    "\n",
    "\n"
   ]
  }
 ],
 "metadata": {
  "kernelspec": {
   "display_name": "Python 3",
   "language": "python",
   "name": "python3"
  },
  "language_info": {
   "codemirror_mode": {
    "name": "ipython",
    "version": 3
   },
   "file_extension": ".py",
   "mimetype": "text/x-python",
   "name": "python",
   "nbconvert_exporter": "python",
   "pygments_lexer": "ipython3",
   "version": "3.6.5"
  }
 },
 "nbformat": 4,
 "nbformat_minor": 2
}
