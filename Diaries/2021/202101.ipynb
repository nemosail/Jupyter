{
 "cells": [
  {
   "cell_type": "markdown",
   "metadata": {},
   "source": [
    "#### 20210112\n",
    "\n",
    "> Is that true?\n",
    "\n",
    "> 高回报的投资： \n",
    "1. 读书，去别人的灵魂里偷窥；\n",
    "2. 旅行，去陌生的环境里去感悟；\n",
    "3. 电影，去荧屏里感受别人的生活历程；\n",
    "4. 冥想，去自己内心的秘境里探寻。\n",
    "\n",
    "---\n",
    "```\n",
    "思考，使用简单工具，排列组合来解决复杂的问题。\n",
    "\n",
    "1、网络上现成的资料\n",
    "　　格式: sed -i \"s/查找字段/替换字段/g\" `grep 查找字段 -rl 路径`\n",
    "\n",
    "　　linux sed 批量替换多个文件中的字符串\n",
    "\n",
    "　　sed -i \"s/oldstring/newstring/g\" `grep oldstring -rl yourdir`\n",
    "\n",
    "　　例如：替换/home下所有文件中的www.admin99.net为admin99.net\n",
    "\n",
    "　　sed -i \"s/www.admin99.net/admin99.net/g\" `grep www.admin99.net -rl /home`\n",
    "\n",
    "　　exp:sed -i \"s/shabi/$/g\" `grep shabi -rl ./`\n",
    "\n",
    "2、自己额外附加\n",
    "\n",
    "　　2.1 将文件1.txt内的文字“garden”替换成“mirGarden”\n",
    "\n",
    "　　# sed -i \"s/garden/mirGarden/g\" 1.txt //sed -i 很简单\n",
    "\n",
    "　　2.2 将当前目录下的所有文件内的“garden”替换成“mirGarden”\n",
    "\n",
    "　　## sed -i \"s/garden/mirGarden/g\" `ls` //其实也就是ls出多个文件名而已\n",
    "```\n",
    "\n"
   ]
  }
 ],
 "metadata": {
  "kernelspec": {
   "display_name": "Python 3",
   "language": "python",
   "name": "python3"
  },
  "language_info": {
   "codemirror_mode": {
    "name": "ipython",
    "version": 3
   },
   "file_extension": ".py",
   "mimetype": "text/x-python",
   "name": "python",
   "nbconvert_exporter": "python",
   "pygments_lexer": "ipython3",
   "version": "3.6.5"
  }
 },
 "nbformat": 4,
 "nbformat_minor": 2
}
