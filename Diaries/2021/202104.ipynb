{
 "cells": [
  {
   "cell_type": "markdown",
   "metadata": {},
   "source": [
    "#### 20210419\n",
    "\n",
    "> crontab 执行还是需要经验的， 环境变量的问题!!  这个是最常见的问题。 crontab执行计划任务时，它并不会从用户的profile文件中读取环境变量，所以会导致命令执行失败。\n",
    "\n",
    "> <走向共和> <觉醒年代> <恰同学少年> 都是一些列的近代史历史神剧。。。 9.X\n",
    "\n",
    "\n"
   ]
  }
 ],
 "metadata": {
  "kernelspec": {
   "display_name": "Python 3",
   "language": "python",
   "name": "python3"
  },
  "language_info": {
   "codemirror_mode": {
    "name": "ipython",
    "version": 3
   },
   "file_extension": ".py",
   "mimetype": "text/x-python",
   "name": "python",
   "nbconvert_exporter": "python",
   "pygments_lexer": "ipython3",
   "version": "3.6.5"
  }
 },
 "nbformat": 4,
 "nbformat_minor": 2
}
