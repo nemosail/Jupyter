{
 "cells": [
  {
   "cell_type": "markdown",
   "metadata": {},
   "source": [
    "#### 20210318\n",
    "\n",
    "> All things change.\n",
    "\n",
    "> TiDB looks like mysql, but work not like mysql\n",
    "\n",
    "> TDSQL-MySQL, TDSQ-Postgresql what?\n",
    "\n",
    "> insert into; insert ignore into; replace into; upsert 这几个概念可能需要搞清楚，不是 SQL 标准\n",
    "\n",
    "> SQL 标准，标准，标准 好重要啊\n",
    "\n",
    "#### 20210322\n",
    "\n",
    "> gawk 找出一行中所有匹配的 正则表达式，并提取出来，来自 stack overflow, 神奇的 gnu awk, stkac overflow\n",
    "\n",
    "```\n",
    "echo \"1234\\$\\$abc3232 sjkf\\$\\$abcd2345 3435\\$\\$efjk adf234 \" | gawk '\n",
    "{\n",
    "l = split($0, a, /\\$\\$[a-zA-Z]+/, m)\n",
    "for(i=1;i in m; i++)\n",
    "print m[i]\n",
    "}'\n",
    "```\n",
    "\n",
    "#### 20210324\n",
    "\n",
    "> MingW Windows的 Linux 命令行工具，处理东西，真的超级方便的.\n",
    "\n",
    "\n",
    "\n"
   ]
  },
  {
   "cell_type": "code",
   "execution_count": null,
   "metadata": {},
   "outputs": [],
   "source": []
  }
 ],
 "metadata": {
  "kernelspec": {
   "display_name": "Python 3",
   "language": "python",
   "name": "python3"
  },
  "language_info": {
   "codemirror_mode": {
    "name": "ipython",
    "version": 3
   },
   "file_extension": ".py",
   "mimetype": "text/x-python",
   "name": "python",
   "nbconvert_exporter": "python",
   "pygments_lexer": "ipython3",
   "version": "3.6.5"
  }
 },
 "nbformat": 4,
 "nbformat_minor": 2
}
