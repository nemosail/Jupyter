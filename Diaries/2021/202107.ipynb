{
 "cells": [
  {
   "cell_type": "markdown",
   "metadata": {},
   "source": [
    "#### 20210703\n",
    "\n",
    "> hair cut.... 哈哈哈 have czp' hair cut by me... 还是可以的，虽然我的水平一般，结果一般，还是有很大的进步空间的，挺好玩的，也挺乖，哈哈哈哈\n",
    "\n",
    "> 代码是开源的，大家开源维护管理；  what about data, open source VS open data 开放源代码 与 开放源数据，也就是使用社区的力量来维护数据，然后其他用户可以使用这些维护好的数据， image 模仿开发源代码的体系，建立开放源数据体系，使用 现在的区块链 blockchain的技术， 维护（CRUD）的人得到奖励，使用这些数据的人支付一点费用，形成数据生态系统, data ecosystem?\n",
    "\n",
    "\n"
   ]
  }
 ],
 "metadata": {
  "kernelspec": {
   "display_name": "Python 3",
   "language": "python",
   "name": "python3"
  },
  "language_info": {
   "codemirror_mode": {
    "name": "ipython",
    "version": 3
   },
   "file_extension": ".py",
   "mimetype": "text/x-python",
   "name": "python",
   "nbconvert_exporter": "python",
   "pygments_lexer": "ipython3",
   "version": "3.6.5"
  }
 },
 "nbformat": 4,
 "nbformat_minor": 2
}
