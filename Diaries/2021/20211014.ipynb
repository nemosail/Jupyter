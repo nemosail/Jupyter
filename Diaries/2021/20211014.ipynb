{
 "cells": [
  {
   "cell_type": "markdown",
   "metadata": {},
   "source": [
    "#### 20211014\n",
    "\n",
    "> Gnu/Linux 的 bash shell 脚本编程不熟悉，也不一定通用，有风险，经常踩坑，掉坑里...\n",
    "\n",
    "> linux脚本里ps进程多出几个,运行shell脚本时进程数量变多。。。echo `ps aux | grep memcache | grep -v grep | wc -l` 在命令行执行的结果，和在shell脚本里面执行结果不一样，与shell进程执行有关系， \n",
    "\n",
    ">解决方案：\n",
    "1. 删除脚本头部#!/bin/bash\n",
    "2. 增加过滤：grep -v bash\n",
    "3. 改变调用方式：source run.sh\n",
    "\n",
    "> 拼音输入法和五笔输入法各有什么优点？ 知乎上有不错的选择，可以... 挺有趣的，因为自己经常提笔忘字。。。\n",
    "\n",
    "#### 知识沉淀，检索 IR\n",
    "> 知识沉淀、知识积累， 感觉就在做IR，类似百度、bing、google的，用户们在不断生产document文档（网页，word，txt）各种知识，这只是第一步生产信息、知识，还需要对文档的整理、分类、索引，然后提供给用户检索，搜索； 这个过程一般都在公开互联网成熟，但是在企业领域，有类似的镜像产品？ media-wiki? confluence? or we can build open source alternative?\n",
    "\n",
    "\n"
   ]
  }
 ],
 "metadata": {
  "kernelspec": {
   "display_name": "Python 3",
   "language": "python",
   "name": "python3"
  },
  "language_info": {
   "codemirror_mode": {
    "name": "ipython",
    "version": 3
   },
   "file_extension": ".py",
   "mimetype": "text/x-python",
   "name": "python",
   "nbconvert_exporter": "python",
   "pygments_lexer": "ipython3",
   "version": "3.6.5"
  }
 },
 "nbformat": 4,
 "nbformat_minor": 2
}
