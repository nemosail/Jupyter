{
 "cells": [
  {
   "cell_type": "markdown",
   "metadata": {},
   "source": [
    "# 20170522 Monday\n",
    "\n",
    "> Switch from db2 to oracle... using sqlplus, things change somehow..\n",
    "\n",
    "> 在 sqlplus 中调用 select 查询，输出结果展示不好，导致可能出问题，需要 set line 5000 + tr -d ' \\t' ... 去解决？\n",
    "\n",
    "> 不要重复代码，提取公因子，把所有共用部分的代码都提出出来，不重复，不冗余...\n",
    "\n",
    "---\n",
    "#### The NULL behavior may be confusing in Oracle... or other database..\n",
    "1 = NULL ? The answer is no, 1 is not equal to null\n",
    "\n",
    "1 != NULL ? The answer is also no, 1 is not not equal to null\n",
    "\n",
    "Null is null, but null = null is false.. [why](http://www.techrepublic.com/article/oracle-tip-understand-how-nulls-affect-in-and-exists/)\n",
    "\n",
    "再次遇到 Oracle '' 与 NULL 也就是 空字符串 与 NULL 值的差异和比较\n",
    "\n",
    "```\n",
    "select 1 as TRUE\n",
    "from dual\n",
    "where '' = ''\n",
    "\n",
    "没有任何返回值\n",
    "\n",
    "select 1 as TRUE\n",
    "from dual\n",
    "where '' is null\n",
    "返回 1 \n",
    "\n",
    "```\n"
   ]
  }
 ],
 "metadata": {
  "kernelspec": {
   "display_name": "Python [Root]",
   "language": "python",
   "name": "Python [Root]"
  },
  "language_info": {
   "codemirror_mode": {
    "name": "ipython",
    "version": 2
   },
   "file_extension": ".py",
   "mimetype": "text/x-python",
   "name": "python",
   "nbconvert_exporter": "python",
   "pygments_lexer": "ipython2",
   "version": "2.7.12"
  }
 },
 "nbformat": 4,
 "nbformat_minor": 0
}
