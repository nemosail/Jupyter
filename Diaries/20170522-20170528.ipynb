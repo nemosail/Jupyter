{
 "cells": [
  {
   "cell_type": "markdown",
   "metadata": {},
   "source": [
    "# 20170522 Monday\n",
    "\n",
    "> Switch from db2 to oracle... using sqlplus, things change somehow..\n",
    "\n",
    "> 在 sqlplus 中调用 select 查询，输出结果展示不好，导致可能出问题，需要 set line 5000 + tr -d ' \\t' ... 去解决？\n",
    "\n",
    "> 不要重复代码，提取公因子，把所有共用部分的代码都提出出来，不重复，不冗余...\n",
    "\n",
    "---\n",
    "#### The NULL behavior may be confusing in Oracle... or other database..\n",
    "1 = NULL ? The answer is no, 1 is not equal to null\n",
    "\n",
    "1 != NULL ? The answer is also no, 1 is not not equal to null\n",
    "\n",
    "Null is null, but null = null is false.. [why](http://www.techrepublic.com/article/oracle-tip-understand-how-nulls-affect-in-and-exists/)\n",
    "\n",
    "再次遇到 Oracle '' 与 NULL 也就是 空字符串 与 NULL 值的差异和比较\n",
    "\n",
    "```\n",
    "select 1 as TRUE\n",
    "from dual\n",
    "where '' = ''\n",
    "\n",
    "没有任何返回值\n",
    "\n",
    "select 1 as TRUE\n",
    "from dual\n",
    "where '' is null\n",
    "返回 1 \n",
    "\n",
    "```\n",
    "\n",
    "---\n",
    "# 20170523 Tuesday\n",
    "\n",
    "> 可燃冰尝试开采成功，，,another revolution?\n",
    "\n",
    "> 更聪明的工具，更加好用的工具，更加自动化。。。\n",
    "\n",
    "> Real Mini PC, minimun cost, linux system... while can browse the internet fluently...? 就是能满足日常应用的情况下，机器尽量小，尽可能低价格。 衡量满足日常应用，可以使用计算力，资源，复杂度，就是机器的运算能力衡量指标，一个数值，然后某个软件是一个数字，当机器的运力 > 软件的运力，大概可以看出这个机器是可以胜任这个软件的，这样选择的时候就可以看指标就行，不需要落地买回来实践了。。\n",
    "\n",
    "> 手机 cellphone 的运算能力其实已经不差了，他们搞手机农场 fram 来搞灰产，可以收集旧手机来搞计算集群，云的集群嘛？\n",
    "\n",
    "> 保险的博弈树，婚姻保险，大部分人从买这个保险的时候已经输了。。。保险公司:3年后你们才结，算我输。。\n",
    "\n",
    "> STEM... Teaching a kid can be a game...?\n",
    "\n",
    "---\n",
    "#### 快递路径信息造假\n",
    "当地主要生产仿冒耐克、阿迪达斯和New Balance运动鞋。“顺丰”、“四通一达”等快递公司“代收点”则公开提供“异地上线服务，并搭设虚假海外物流查询网站，帮助厂商虚构海外发货信息，掩盖真实发货地点。据悉，该地的假冒产品，从地下工厂生产、电商平台销售到黄牛充当中介揽收发运，已经形成了一个庞大的黑灰产业链。\n",
    "\n",
    "可以在不同的角度，维度去解决，限制问题\n",
    "- 产品质量，管它来自国外/国内，只要质量，是真实可靠，就可以了，对不？\n",
    "- 路径打假，就像 bitcorn 一样，使用信息安全/密码学等理论应用，使得无法造假，理论上保证真实可靠\n",
    "\n",
    "真实可靠，这个太难做到了，现在电子信息那么发达，但是 电子世界记录 和 真实世界 往往不是一一对应。。\n",
    "\n"
   ]
  }
 ],
 "metadata": {
  "kernelspec": {
   "display_name": "Python [Root]",
   "language": "python",
   "name": "Python [Root]"
  },
  "language_info": {
   "codemirror_mode": {
    "name": "ipython",
    "version": 2
   },
   "file_extension": ".py",
   "mimetype": "text/x-python",
   "name": "python",
   "nbconvert_exporter": "python",
   "pygments_lexer": "ipython2",
   "version": "2.7.12"
  }
 },
 "nbformat": 4,
 "nbformat_minor": 0
}
