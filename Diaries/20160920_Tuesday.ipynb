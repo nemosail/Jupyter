{
 "cells": [
  {
   "cell_type": "markdown",
   "metadata": {},
   "source": [
    "> Counting Stars...\n",
    "\n",
    "***\n",
    "缅因街 VS 华尔街\n",
    "\n",
    "取消农业户口了？ 弄清楚先，，，What the...?这到底代表什么，代表谁的利益？公平？\n",
    "\n",
    "***\n",
    "Karl Marx\n",
    "\n",
    "商品的两个因素：使用价值和价值\n",
    "\n",
    "***\n",
    "DB2 连接字符串，就像oracle连接字符串一样\n",
    "```\n",
    "select colName||'_hello' as newColName\n",
    "from tableName;\n",
    "```\n",
    "\n",
    "***\n",
    "grep / sed / awk 三剑客，貌似都是以行处理出名。。。\n",
    "\n",
    "\n"
   ]
  }
 ],
 "metadata": {
  "kernelspec": {
   "display_name": "Python [Root]",
   "language": "python",
   "name": "Python [Root]"
  },
  "language_info": {
   "codemirror_mode": {
    "name": "ipython",
    "version": 2
   },
   "file_extension": ".py",
   "mimetype": "text/x-python",
   "name": "python",
   "nbconvert_exporter": "python",
   "pygments_lexer": "ipython2",
   "version": "2.7.12"
  }
 },
 "nbformat": 4,
 "nbformat_minor": 0
}
