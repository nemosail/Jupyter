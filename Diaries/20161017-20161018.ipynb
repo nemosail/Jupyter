{
 "cells": [
  {
   "cell_type": "markdown",
   "metadata": {},
   "source": [
    "# 20161017 Monday\n",
    "\n",
    "> 人机接口\n",
    "\n",
    "---\n",
    "好喝只是表面的。。。[配料+评测](http://www.15yan.com/story/4GAYzOZ7idq/)\n",
    "\n",
    "HHJ又出现多实例失败，是因为没有编译\n",
    "\n",
    "下载Moia日志，看日志查错\n",
    "\n",
    "工程变量不对。。。需要在 designer 修改作业参数， 然后修改数据源参数，然后修xls/moia上参数\n",
    "\n",
    "监控作业的的确需要的是 执行权限。。否在无法失败重做\n",
    "\n",
    "Datastage 出现 bulk load error 可以改成 insert 查看，可能是写入数据失败了，是因为源数据的问题，原来为非空的，但是数据为' '导致去空格之后就为null了，无法插入数据库，导致的写入数据错误.\n",
    "\n",
    "---\n",
    "终于解决了IE下载一直 停在0% 的问题。。。在于IE的Internet设置[百度经验](http://jingyan.baidu.com/article/90bc8fc8678f97f653640c91.html)\n",
    "\n",
    "---\n",
    "#### 共享经济\n",
    "共享经济的本质是通过整合线下的闲散物品或服务者，让他们以较低的价格提供产品或服务。对于供给方来说，通过在特定时间内让渡物品的使用权或提供服务，来获得一定的金钱回报。而要想真正搭建共享经济平台，资源过剩是根基，共享平台是介质，算法是手段，按需分配是原则，获得回报是结果。这其中，算法是极其重要的。如果没有算法，广泛的共享经济也就无所谈起。\n",
    "\n",
    "\n",
    "# 20161018 Tuesday\n",
    "\n",
    "> 傻白甜，真的只是看起来是傻白甜。\n",
    "\n",
    "---\n",
    "在**任务**监控可以在 忽略事件依赖 - 状态重置 - 可以改时间 \n",
    "\n",
    "在**批次**监控，可以查看依赖 - 状态重置 让其重新运行\n",
    "\n",
    "在**作业**监控，可以查看作业运行成功情况\n"
   ]
  }
 ],
 "metadata": {
  "kernelspec": {
   "display_name": "Python [Root]",
   "language": "python",
   "name": "Python [Root]"
  },
  "language_info": {
   "codemirror_mode": {
    "name": "ipython",
    "version": 2
   },
   "file_extension": ".py",
   "mimetype": "text/x-python",
   "name": "python",
   "nbconvert_exporter": "python",
   "pygments_lexer": "ipython2",
   "version": "2.7.12"
  }
 },
 "nbformat": 4,
 "nbformat_minor": 0
}
