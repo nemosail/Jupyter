{
 "cells": [
  {
   "cell_type": "markdown",
   "metadata": {},
   "source": [
    "> Do Something, Change Something. Or You are going to die.\n",
    "\n",
    "> What is MarkDown... Just like $\\Latex{}$, What you think is what you want, instead of What you see is what you want.\n",
    "\n",
    "***\n",
    "### DataStage Server Job VS Parallel Job...\n",
    "有什么区别与联系?\n",
    "\n",
    "Server Job是不会并发执行的，\n",
    "Parallel Job是会并发执行的。\n",
    "\n",
    "Server Jobs\n",
    "\n",
    "运行在Datastage server engine上，编译为Basic语言，没有并行功能；\n",
    "\n",
    "Parallel jobs\n",
    "\n",
    "运行在DataStage parallel engine上，内置管道并行和分区并行，编译为osh（Orchestrate Scripting Language）脚本，Transformer Stage编译为c++ operator ,执行速度比osh略慢;\n",
    "\n",
    "Mainframe jobs\n",
    "\n",
    "运行在mainfrmae大机上,Sequnces jobs,运行在Datastage server engine上,用于JOB的JOB的调度配置依赖等,可以启动 server jobs和parallel jobs;\n",
    "\n",
    ">讲讲前世今生，最早的时候datastage还叫argent的时候，他们只有server edition，后来收购了一家公司，将OSH弄进来才出现了enterprise edition，也就是并行job。性能可扩展性等方面上有极其显著的差别，enterprise edition远远高于server edition，而且你可以观察到datastage(现在叫infosphere information server)基本上已经不发展server edition了。二者最大的区别就是价格，可能有五倍的差距之多。 \n",
    "\n",
    "***\n",
    "This Week ... A cluster paper & code impletemantion... Can You?\n",
    "\n",
    "***\n",
    "### 任务与任务调度 Job And [Job Scheduler](https://en.wikipedia.org/wiki/Job_scheduler)\n",
    "资源管理，调度算法？\n",
    "\n"
   ]
  }
 ],
 "metadata": {
  "kernelspec": {
   "display_name": "Python [Root]",
   "language": "python",
   "name": "Python [Root]"
  },
  "language_info": {
   "codemirror_mode": {
    "name": "ipython",
    "version": 2
   },
   "file_extension": ".py",
   "mimetype": "text/x-python",
   "name": "python",
   "nbconvert_exporter": "python",
   "pygments_lexer": "ipython2",
   "version": "2.7.12"
  }
 },
 "nbformat": 4,
 "nbformat_minor": 0
}
