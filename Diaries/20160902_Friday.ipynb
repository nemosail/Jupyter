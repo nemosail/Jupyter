{
 "cells": [
  {
   "cell_type": "markdown",
   "metadata": {},
   "source": [
    "> Do Something, Change Something. Or You are going to die.\n",
    "\n",
    "***\n",
    "### DataStage Server Job VS Parallel Job...\n",
    "有什么区别与联系?\n",
    "\n",
    "Server Job是不会并发执行的，\n",
    "Parallel Job是会并发执行的。\n",
    "\n",
    "***\n",
    "This Week ... A cluster paper & code impletemantion... Can You?\n"
   ]
  }
 ],
 "metadata": {
  "kernelspec": {
   "display_name": "Python [Root]",
   "language": "python",
   "name": "Python [Root]"
  },
  "language_info": {
   "codemirror_mode": {
    "name": "ipython",
    "version": 2
   },
   "file_extension": ".py",
   "mimetype": "text/x-python",
   "name": "python",
   "nbconvert_exporter": "python",
   "pygments_lexer": "ipython2",
   "version": "2.7.12"
  }
 },
 "nbformat": 4,
 "nbformat_minor": 0
}
