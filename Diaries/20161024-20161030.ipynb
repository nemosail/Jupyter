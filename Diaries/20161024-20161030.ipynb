{
 "cells": [
  {
   "cell_type": "markdown",
   "metadata": {},
   "source": [
    "> \n",
    "\n",
    "# 20161024 Monday\n",
    "----\n",
    "**####** 基尼系数：How Things Work\n",
    "\n",
    "踏踏实实做实业，兢兢业业搞创新得来的财富最抗跌。\n",
    "\n",
    "[资本回报率与经济增长率](http://sunxiaoji.baijia.baidu.com/article/665457)\n",
    "\n",
    "---\n",
    "人群画像，用户画像，User Profile\n",
    "\n",
    "[Ambari](http://www.ibm.com/developerworks/cn/opensource/os-cn-bigdata-ambari/)\n",
    "\n",
    "---\n",
    "Work: Job Desc/任务描述， Oracle数据库， 并发可以吗？\n",
    "\n",
    "1024 ~ 1124 完成 \n",
    "0. 方向/方式定位;\n",
    "1. 实现，调优;\n",
    "2. 单元测试;\n",
    "\n",
    "完成：\n",
    "1. 公用程序: a)定长; b)“|”分隔符; 给定参数为一个SQL\n",
    "根据给出的SQL语句，从Oracle数据库中导出数据到文件，需要寻找各种方式，Gooogle;如何实现，导出，“方式不限”，效率\n",
    "java/c/Python/shell/数据库/DataStage， 百万级/千万级/亿级    (choose 数据库+Python)\n",
    "DataStage组件，能不能传参\n",
    "\n",
    "2. 尝试研究/算法， 分析SQL的相似度，分析文本/自然语言，最优路径;\n",
    "执行计划，如何定义相似度，信息定制，热点分析，埋点，数据驱动;提升效率\n",
    "\n",
    "---\n",
    "监控程序的测试与提交\n",
    "\n",
    "如何调试Shell脚本，如何单步[调试Shell脚本](http://blog.csdn.net/jerry_1126/article/details/51526266)\n",
    "\n",
    "Shell脚本中，使用变量要很小心，因为字符串的空格存在，使得命令工作不正常。\n",
    "\n",
    "单元测试\n",
    "\n",
    "\n",
    "# 20161025 Tuesday\n",
    "\n",
    "Xshell是可以调整字体大小和配色的:\n",
    "`文件-属性-外观`\n",
    "\n",
    "---\n",
    "GeekPwn\n",
    "\n",
    "shell 使用 sh -x xxx.sh 调试\n",
    "\n",
    "使用命令时候，常常因为没有使用“”将变量引用起来而导致出问题，\n"
   ]
  }
 ],
 "metadata": {
  "kernelspec": {
   "display_name": "Python [Root]",
   "language": "python",
   "name": "Python [Root]"
  },
  "language_info": {
   "codemirror_mode": {
    "name": "ipython",
    "version": 2
   },
   "file_extension": ".py",
   "mimetype": "text/x-python",
   "name": "python",
   "nbconvert_exporter": "python",
   "pygments_lexer": "ipython2",
   "version": "2.7.12"
  }
 },
 "nbformat": 4,
 "nbformat_minor": 0
}
