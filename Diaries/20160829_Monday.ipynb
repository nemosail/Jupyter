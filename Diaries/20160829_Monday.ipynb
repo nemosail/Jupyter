{
 "cells": [
  {
   "cell_type": "markdown",
   "metadata": {},
   "source": [
    "> DataStage \n",
    "\n",
    "> Play With Wordpress & Github.io ???\n",
    "\n",
    "> Keep learning, Revolutions...\n",
    "\n",
    "***\n",
    "为什么考勤网站在打卡记录出现异常时候也不会提示下？\n",
    "某个周五早上打卡了，但是晚上下班忘记打卡了，周一查看不会自动提醒打卡异常，需要补卡的记录。。。\n",
    "\n",
    "计算机信息安全学，数学：\n",
    "密码学， DES, KSA... 换加密方式?!\n",
    "\n",
    "***\n",
    "### 如何从一个分布去采样，例如从高斯分布中去采样。。。 rnorm(u,simga) 底层怎样实现？\n",
    "Sampling method?\n",
    "\n",
    "***\n",
    "**Install IRkernel For Jupyter Notebook... This means we can write R in Jupyter Notebook**\n",
    "\n",
    "[IRkernel](https://github.com/IRkernel)\n",
    "[IRkernel.io](https://irkernel.github.io)\n",
    "\n",
    "\n"
   ]
  }
 ],
 "metadata": {
  "kernelspec": {
   "display_name": "Python [Root]",
   "language": "python",
   "name": "Python [Root]"
  },
  "language_info": {
   "codemirror_mode": {
    "name": "ipython",
    "version": 2
   },
   "file_extension": ".py",
   "mimetype": "text/x-python",
   "name": "python",
   "nbconvert_exporter": "python",
   "pygments_lexer": "ipython2",
   "version": "2.7.12"
  }
 },
 "nbformat": 4,
 "nbformat_minor": 0
}
