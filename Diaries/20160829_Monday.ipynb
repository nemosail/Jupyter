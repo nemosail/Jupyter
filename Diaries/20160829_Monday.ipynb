{
 "cells": [
  {
   "cell_type": "markdown",
   "metadata": {},
   "source": [
    "> DataStage \n",
    "\n",
    "> Play With Wordpress & Github.io ???\n",
    "\n",
    "> Keep learning, Revolutions...\n",
    "\n",
    "***\n",
    "## DataStage\n",
    "\n",
    "\n",
    "\n",
    "***\n",
    "为什么考勤网站在打卡记录出现异常时候也不会提示下？\n",
    "某个周五早上打卡了，但是晚上下班忘记打卡了，周一查看不会自动提醒打卡异常，需要补卡的记录。。。\n",
    "\n",
    "计算机信息安全学，数学：\n",
    "密码学， DES, KSA... 换加密方式?!\n",
    "\n",
    "***\n",
    "### 如何从一个分布去采样，例如从高斯分布中去采样。。。 rnorm(u,simga) 底层怎样实现？\n",
    "Sampling method?\n",
    "\n",
    "***\n",
    "**Install IRkernel For Jupyter Notebook... This means we can write R in Jupyter Notebook**\n",
    "\n",
    "[IRkernel](https://github.com/IRkernel)\n",
    "[IRkernel.io](https://irkernel.github.io)\n",
    "\n",
    "在根据页面的提示安装时候，进入R console，敲入命令后出现Error字眼，Exit with non-zero state，说明应该有错误，仔细翻翻R的错误输出提示，大概意思是我的debian没有相应的lib-curl-xxx等等依赖关系，因此无法安装，**又是依赖关系，软件部署问题，这个一定会被解决的，docker能让我们一劳永逸么！？**，因此需要退出R console，在linux的console下使用root权限安装相应的依赖包，直到R的命令都能执行。\n",
    "\n",
    "然后遇到的错误是。。。旧版本的R-3.1.1不支持这个工具。。。需要升级到R-3.3.1，坑爹啊，需要到R的[官网](https://cran.r-project.org/)根据它的官方手册，使用apt-get remove 掉旧版本R-3.1.1，然后添加上新的unstable的源，然后才能安装到最新的R-3.3.1这样应该没问题了吧？继续根据IRkernel的手册安装看看，之前出现错误的libtool现在不提示错误了，因为版本问题，IRkenrenl应该需要R版本>=3.2的。。。按照Irkernel一步一步来，仔细阅读英文手册，没问题了。\n",
    "\n",
    "***\n",
    "邱奇－图灵论题 [Church–Turing thesis](https://zh.wikipedia.org/wiki/%E9%82%B1%E5%A5%87%EF%BC%8D%E5%9B%BE%E7%81%B5%E8%AE%BA%E9%A2%98)\n"
   ]
  }
 ],
 "metadata": {
  "kernelspec": {
   "display_name": "Python [Root]",
   "language": "python",
   "name": "Python [Root]"
  },
  "language_info": {
   "codemirror_mode": {
    "name": "ipython",
    "version": 2
   },
   "file_extension": ".py",
   "mimetype": "text/x-python",
   "name": "python",
   "nbconvert_exporter": "python",
   "pygments_lexer": "ipython2",
   "version": "2.7.12"
  }
 },
 "nbformat": 4,
 "nbformat_minor": 0
}
