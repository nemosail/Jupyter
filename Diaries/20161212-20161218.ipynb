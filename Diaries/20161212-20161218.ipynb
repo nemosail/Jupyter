{
 "cells": [
  {
   "cell_type": "markdown",
   "metadata": {},
   "source": [
    "# 20161212 Monday\n",
    "\n",
    "> Can't sleep, I have so many things to say. But whenever I meet you, my mind just go blank.\n",
    "\n",
    "> If I were a book, 那肯定有嬉笑怒骂, 酸甜苦辣, 绝望过, 渴望过, 也哭也笑过...这才是人生麽? 慢慢翻阅,再决策也没问题的. \n",
    "\n",
    "> 如何才能平静,温和而又深邃...?\n",
    "\n",
    "> 就像密室逃脱, At the right time, At the right place, with approriate items, they become the key to unlock my secrets. 你就能解锁我仅剩的秘密. Hints:a picture, then I will tell you about my grown up, my family, parents, sisters, my fundations, my basic rules, why I behave like this, become like this. Life is not easy, it never is, it is heavy somehow but stay alive, stay young.\n",
    "\n",
    "> Glad that I talked with my parents. They make too many mistaks at small problems, but always right at the big ones. You have to be confident, be yourself. How can you love someone if you can't be yourself or love yourself? No matter what happens, what is there is still there. LOST: what happened happened. But the future is not yet set, be bold and move on, don't be afraid of making mistakes. Human evolve by making mistakes, no one is faultless. We learn fastest when we are terribly wrong. Observe, read, learn, write, program. Take back the future.\n",
    "\n",
    "---\n",
    "#### 兔子又发观察卫星,各种各样的卫星...\n",
    "有这么多好用的卫星,好多的数据渠道,兔子可以利用这些来增强自己的硬实力,也又软实力等等,不要那么天真那么笨,对待他们就应该要有套路,有兵法.如何获得这些原始的观测数据,还有市面上的物价数据,各类属性/指标等等数据?有人专门收集这些数据吗?只知道Wind就是收集数据/整理数据/提供接口这个商业模式,但是我们能用集体智慧编程的思维,互联网思维,社交化/共享经济的思路,开源/机器/自动/大家共同提供数据成为一种新的开放数据互联解决方案,提供平台,用户提供数据等等,有了足够的原始数据,充足数据,就可以做很多很有趣的事情了. 从IT到DT,如何改变世界,利用这些数据来改变观念,改变看法,负责任的,有远见的LD,因为又更多更高层的视觉与自信/数据,因此可以看得更远更准. GA抓人,落网,思考,其实也是利用数据,分析问题,利用用户特征就应该能够很好分辨,这是个分类问题,离群点分析问题,自动归类/打标签问题,这些都是AI/ML能很好解决,很好提高效率,释放人类的问题,多想多看,当然聪明的家伙也是可以反分辨的,这是个攻防问题,肯定有论文拉...\n",
    "\n",
    "---\n",
    "#### \n",
    "\n"
   ]
  }
 ],
 "metadata": {
  "kernelspec": {
   "display_name": "Python [Root]",
   "language": "python",
   "name": "Python [Root]"
  },
  "language_info": {
   "codemirror_mode": {
    "name": "ipython",
    "version": 2
   },
   "file_extension": ".py",
   "mimetype": "text/x-python",
   "name": "python",
   "nbconvert_exporter": "python",
   "pygments_lexer": "ipython2",
   "version": "2.7.12"
  }
 },
 "nbformat": 4,
 "nbformat_minor": 0
}
