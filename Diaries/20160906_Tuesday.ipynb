{
 "cells": [
  {
   "cell_type": "code",
   "execution_count": 1,
   "metadata": {
    "collapsed": false
   },
   "outputs": [
    {
     "name": "stdout",
     "output_type": "stream",
     "text": [
      "A wrong step, everything starts from the beginning... so sad\n"
     ]
    }
   ],
   "source": [
    "print 'A wrong step, everything starts from the beginning... so sad'\n",
    "\n"
   ]
  },
  {
   "cell_type": "markdown",
   "metadata": {},
   "source": [
    "> Desktop -> Nvidia + intel Normal; Laptop -> Nvidia + intel Optimus; \n",
    "\n",
    "> They are different, so defferent that ... NVIDIA Optimus, the infamous switchable graphics adaptation for laptops/notebooks by NVIDIA, still doesn’t fit well with Linux\n",
    "\n",
    "***\n",
    "在 .profile 这个文件的作用，了解它是如何运作就可以利用它了。。。\n",
    "\n",
    "判断进程是否存在，防止程序的第二个实例运行。\n",
    "```\n",
    "if test $( pgrep -f jupyter | wc -l ) -eq 0\n",
    "then\n",
    "    echo \"进程不存在\"\n",
    "else\n",
    "    echo \"存在进程\"\n",
    "fi \n",
    "```\n",
    "\n",
    "***\n",
    "不小心使用nvidia-xconfig后无法进入桌面，黑屏，X挂掉，后来直接重命名/etc/X11/xorg.conf搞定了。 **Nvidia Fxxk Off**\n",
    "\n",
    "Turn Off Nvidia [Card](http://ubuntuguide.net/turn-off-discrete-nvidia-optimus-graphics-card-ubuntu)...\n",
    "\n",
    "```\n",
    "# dmesg | grep bbswitch\n",
    "[    3.187211] bbswitch: version 0.8\n",
    "[    3.187217] bbswitch: Found integrated VGA device 0000:00:02.0: \\_SB_.PCI0.GFX0\n",
    "[    3.187222] bbswitch: Found discrete VGA device 0000:02:00.0: \\_SB_.PCI0.PEG0.PEGP\n",
    "[    3.187323] bbswitch: detected an Optimus _DSM function\n",
    "[    3.187399] bbswitch: Succesfully loaded. Discrete card 0000:02:00.0 is on\n",
    "[    3.189238] bbswitch: disabling discrete graphics\n",
    "```\n",
    "\n",
    "***\n",
    "不再搞nvidia optimus这个了，虽然不知道是否有没有解决方案，就像在做优化一样，不能知道前面是否有更优的解决方案，但是已经花了太多的精力和时间了，不能继续一条路走到天黑了，该断则断。\n",
    "\n"
   ]
  }
 ],
 "metadata": {
  "kernelspec": {
   "display_name": "Python [Root]",
   "language": "python",
   "name": "Python [Root]"
  },
  "language_info": {
   "codemirror_mode": {
    "name": "ipython",
    "version": 2
   },
   "file_extension": ".py",
   "mimetype": "text/x-python",
   "name": "python",
   "nbconvert_exporter": "python",
   "pygments_lexer": "ipython2",
   "version": "2.7.12"
  }
 },
 "nbformat": 4,
 "nbformat_minor": 0
}
