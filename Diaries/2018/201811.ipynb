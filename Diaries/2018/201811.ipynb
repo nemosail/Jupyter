{
 "cells": [
  {
   "cell_type": "code",
   "execution_count": null,
   "metadata": {},
   "outputs": [],
   "source": []
  },
  {
   "cell_type": "markdown",
   "metadata": {},
   "source": [
    "# 20181101 Thursday\n",
    "\n",
    "> Gbase公司可以联系下，但是看产品介绍相对少\n",
    "\n",
    "> 实时性问题，近实时的问题，如何实现和解决？\n",
    "\n",
    "> 区块链，分布式计算，分布式存储。。。港交所考虑使用区块链技术开发下一代交易结算系统\n",
    "\n",
    "> 神州优车的 DataLink...\n",
    "\n",
    "> Linkedin 的 Databus...\n",
    "\n",
    "> Gbase 南大通用 数据库公司， 初步联系，后续才有\n",
    "\n",
    "> Kafka connect, MSSQL, change tracking功能;\n",
    "\n",
    "```\n",
    "富人之所以是富人，他们财商一般都较高，对宏观环境和金融环境有更多的了解，更能感知经济环境的变化，在采取临时避险措施减少财富损失的同时，可以通过转移财产、投资有升值空间的项目获得收益；\n",
    "\n",
    "作者：小白读财经\n",
    "链接：https://xueqiu.com/3851896965/116116225\n",
    "来源：雪球\n",
    "著作权归作者所有。商业转载请联系作者获得授权，非商业转载请注明出处。\n",
    "\n",
    "以基金为例，一个基金的回报率（比如年化收益率）是按时间加权（time-weighted）计算的。比如我们可以计算一个基金过去 5 年或者 10 年的年化收益率。然而，一个投资该基金的投资者获得的收益率则和他的资金何时流入、何时流出、投入量、赎回量等因素有关。因此，一般称一个投资者的回报率是资金加权的（dollar-weighted）。\n",
    "```\n",
    "\n"
   ]
  }
 ],
 "metadata": {
  "kernelspec": {
   "display_name": "Python 3",
   "language": "python",
   "name": "python3"
  },
  "language_info": {
   "codemirror_mode": {
    "name": "ipython",
    "version": 3
   },
   "file_extension": ".py",
   "mimetype": "text/x-python",
   "name": "python",
   "nbconvert_exporter": "python",
   "pygments_lexer": "ipython3",
   "version": "3.6.5"
  }
 },
 "nbformat": 4,
 "nbformat_minor": 2
}
