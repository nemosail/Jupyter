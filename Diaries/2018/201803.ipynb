{
 "cells": [
  {
   "cell_type": "markdown",
   "metadata": {},
   "source": [
    "---\n",
    "# 20180301 Thursday\n",
    "\n",
    "> \"I noticed my attitude and my results almost immediately and drastically change. Education is ultimately much more than simply memorizing individual facts, or even learning individual concepts. [What] matters most: learning how to think, learning how to reason and learning how to learn.\" -- By VK, Ethereum Founder...\n",
    "\n",
    "---\n",
    "# 20180302 Friday\n",
    "\n",
    "> Finance data on Blockchain, on IPFS，在量化金融领域，数据，许多原始数据是要加工后保存好的，但是现在都在wind的手下，客户付费下载等等，能不能使用 新blockchain，然后保持这些数据在 IPFS，更快，更方便，更加合理的付费下载方式？\n",
    "\n",
    "\n",
    "\n",
    "\n"
   ]
  }
 ],
 "metadata": {
  "kernelspec": {
   "display_name": "Python 2",
   "language": "python",
   "name": "python2"
  },
  "language_info": {
   "codemirror_mode": {
    "name": "ipython",
    "version": 2
   },
   "file_extension": ".py",
   "mimetype": "text/x-python",
   "name": "python",
   "nbconvert_exporter": "python",
   "pygments_lexer": "ipython2",
   "version": "2.7.14"
  }
 },
 "nbformat": 4,
 "nbformat_minor": 2
}
