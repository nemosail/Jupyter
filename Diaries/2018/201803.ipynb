{
 "cells": [
  {
   "cell_type": "markdown",
   "metadata": {},
   "source": [
    "---\n",
    "# 20180301 Thursday\n",
    "\n",
    "> \"I noticed my attitude and my results almost immediately and drastically change. Education is ultimately much more than simply memorizing individual facts, or even learning individual concepts. [What] matters most: learning how to think, learning how to reason and learning how to learn.\" -- By VK, Ethereum Founder...\n",
    "\n",
    "---\n",
    "# 20180302 Friday\n",
    "\n",
    "> Finance data on Blockchain, on IPFS，在量化金融领域，数据，许多原始数据是要加工后保存好的，但是现在都在wind的手下，客户付费下载等等，能不能使用 新blockchain，然后保持这些数据在 IPFS，更快，更方便，更加合理的付费下载方式？\n",
    "\n",
    "---\n",
    "# 20180303 Saturday\n",
    "\n",
    "> Keep Recording Things， 记录历史。。。自身的历史，相对自己长，相对历史长河短...\n",
    "\n",
    "> 蓉妹子 又胃痛了，要看看，已经是有几次都胃痛了，**养好胃好重要，要靠有意识地去养好** 要注意定时吃饭，注意控制饮食，少吃刺激性食物，早晚喝一杯热水。。。 也要教育好自己，教育好下一代，不能体弱多病，强壮的身体与灵魂，需要 锻炼和控制， 粗犷一点的成长，精细一点的教育。将一些思想，生活方式，想法自然而然地融入生活中，而不是外部强制， 既要知，又要行. 知行和一.\n",
    "\n",
    "> 要达到更高更快更强，更好的目的，更好的解，需要大方向没有错，细节也要补足，有意识地多花点精力去了解，去思考，去行动，去动手，才能达到理想的状态的.\n",
    "\n",
    "> 回来公司吃饭，看见SE和JW，恰好人少，开玩笑聊了不少，大概了解是，她的谁去JND了深造，上班形式，然后她可以会HG继续读书，趁机也搞定终身大事，JH/SW,好6，好会玩这个人生游戏，他读的时候，她上班支持下，她读的时候，他上班支持下。。。人生如游戏啊，强化学习，不断找新的玩法，策略。\n",
    "\n",
    "> 配置，用户使用 软件的时候，一般都有各自的 配置，喜好，就是个性化的部分，使用 云的方式，使用 个性化的配置 跟着用户走，而不是用户花心思，花时间去出来这些重复性劳动，这相当于是行业的痛点，是用户的痛点，用得很不舒心，不舒服，每当有这情形的时候，就说明优化改进的空间很大，还远远没有到局部的最优。。\n"
   ]
  }
 ],
 "metadata": {
  "kernelspec": {
   "display_name": "Python 2",
   "language": "python",
   "name": "python2"
  },
  "language_info": {
   "codemirror_mode": {
    "name": "ipython",
    "version": 2
   },
   "file_extension": ".py",
   "mimetype": "text/x-python",
   "name": "python",
   "nbconvert_exporter": "python",
   "pygments_lexer": "ipython2",
   "version": "2.7.14"
  }
 },
 "nbformat": 4,
 "nbformat_minor": 2
}
