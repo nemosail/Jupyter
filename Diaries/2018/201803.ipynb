{
 "cells": [
  {
   "cell_type": "markdown",
   "metadata": {},
   "source": [
    "---\n",
    "# 20180301 Thursday\n",
    "\n",
    "> \"I noticed my attitude and my results almost immediately and drastically change. Education is ultimately much more than simply memorizing individual facts, or even learning individual concepts. [What] matters most: learning how to think, learning how to reason and learning how to learn.\" -- By VK, Ethereum Founder...\n",
    "\n",
    "---\n",
    "# 20180302 Friday\n",
    "\n",
    "> Finance data on Blockchain, on IPFS，在量化金融领域，数据，许多原始数据是要加工后保存好的，但是现在都在wind的手下，客户付费下载等等，能不能使用 新blockchain，然后保持这些数据在 IPFS，更快，更方便，更加合理的付费下载方式？\n",
    "\n",
    "---\n",
    "# 20180303 Saturday\n",
    "\n",
    "> Keep Recording Things， 记录历史。。。自身的历史，相对自己长，相对历史长河短...\n",
    "\n",
    "> 蓉妹子 又胃痛了，要看看，已经是有几次都胃痛了，**养好胃好重要，要靠有意识地去养好** 要注意定时吃饭，注意控制饮食，少吃刺激性食物，早晚喝一杯热水。。。 也要教育好自己，教育好下一代，不能体弱多病，强壮的身体与灵魂，需要 锻炼和控制， 粗犷一点的成长，精细一点的教育。将一些思想，生活方式，想法自然而然地融入生活中，而不是外部强制， 既要知，又要行. 知行和一.\n",
    "\n",
    "> 要达到更高更快更强，更好的目的，更好的解，需要大方向没有错，细节也要补足，有意识地多花点精力去了解，去思考，去行动，去动手，才能达到理想的状态的.\n"
   ]
  }
 ],
 "metadata": {
  "kernelspec": {
   "display_name": "Python 2",
   "language": "python",
   "name": "python2"
  },
  "language_info": {
   "codemirror_mode": {
    "name": "ipython",
    "version": 2
   },
   "file_extension": ".py",
   "mimetype": "text/x-python",
   "name": "python",
   "nbconvert_exporter": "python",
   "pygments_lexer": "ipython2",
   "version": "2.7.14"
  }
 },
 "nbformat": 4,
 "nbformat_minor": 2
}
