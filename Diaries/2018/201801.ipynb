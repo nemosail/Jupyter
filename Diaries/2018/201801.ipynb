{
 "cells": [
  {
   "cell_type": "markdown",
   "metadata": {},
   "source": [
    "# 20180101 Monday, First Day In 2018\n",
    "\n",
    "> 开始要看 证券/金融的书籍/刷题目  1Hour Per Day...\n",
    "\n",
    "> 开始要计划 长期coding project， 神经网络 AI GAN 识别 验证码... 1Hour Per Day... Learn AI/ML/DL\n",
    "\n",
    "> 看News，需要 先知先觉，不能后知后觉，不能不知不觉。。。 干\n",
    "\n",
    "> 多说， talking... 像网红一样去说，吹水。。。 但是不信他们，信一半算我输...\n",
    "\n",
    "> Week... Miss Ren 需要锻炼，每周2公里，然后练练力量。。。\n",
    "\n",
    "> 贵在坚持，持续学习，持续成长～～～ 做出几个精品的产品，就算成功了。。。\n",
    "\n",
    "> 做个小游戏，类似 纪念碑谷，Gogorao,braid 对时空概念的深入了解，然后例如不同的点，在不同的角度，维度，就能得到不一样的结果。。。\n",
    "\n",
    "> 就像会计的 资产负债表。。。 利润明细表。。。 我们构建自己的excel表之后。。。 自己做自己的报表啊，使用excel就可以了...\n",
    "\n",
    "---\n",
    "# 20180102 Tuesday.\n",
    "\n"
   ]
  }
 ],
 "metadata": {
  "kernelspec": {
   "display_name": "Python 2",
   "language": "python",
   "name": "python2"
  },
  "language_info": {
   "codemirror_mode": {
    "name": "ipython",
    "version": 2
   },
   "file_extension": ".py",
   "mimetype": "text/x-python",
   "name": "python",
   "nbconvert_exporter": "python",
   "pygments_lexer": "ipython2",
   "version": "2.7.14"
  }
 },
 "nbformat": 4,
 "nbformat_minor": 2
}
