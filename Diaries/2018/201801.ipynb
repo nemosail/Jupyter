{
 "cells": [
  {
   "cell_type": "markdown",
   "metadata": {},
   "source": [
    "# 20180101 Monday, First Day In 2018\n",
    "\n",
    "> 开始要看 证券/金融的书籍/刷题目  1Hour Per Day...\n",
    "\n",
    "> 开始要计划 长期coding project， 神经网络 AI GAN 识别 验证码... 1Hour Per Day... Learn AI/ML/DL\n",
    "\n",
    "> 看News，需要 先知先觉，不能后知后觉，不能不知不觉。。。 干\n",
    "\n",
    "> 多说， talking... 像网红一样去说，吹水。。。 但是不信他们，信一半算我输...\n",
    "\n",
    "> Week... Miss Ren 需要锻炼，每周2公里，然后练练力量。。。\n",
    "\n",
    "---\n",
    "# 20180102 Tuesday.\n",
    "\n"
   ]
  }
 ],
 "metadata": {
  "kernelspec": {
   "display_name": "Python 2",
   "language": "python",
   "name": "python2"
  },
  "language_info": {
   "codemirror_mode": {
    "name": "ipython",
    "version": 2
   },
   "file_extension": ".py",
   "mimetype": "text/x-python",
   "name": "python",
   "nbconvert_exporter": "python",
   "pygments_lexer": "ipython2",
   "version": "2.7.14"
  }
 },
 "nbformat": 4,
 "nbformat_minor": 2
}
