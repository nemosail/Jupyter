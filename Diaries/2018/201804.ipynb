{
 "cells": [
  {
   "cell_type": "markdown",
   "metadata": {},
   "source": [
    "# 20180403 Tuesday\n",
    "\n",
    "> txt/csv 文件过大,导致无法直接导入excel, excel2006行限制是2^16=65536, excel2010行限制是2^20=1048576, google一下,还是有不少解决办法, 使用access导入,使用split工具拆分导入,使用excel宏来执行.\n",
    "\n",
    "> 玩家痛点, 手机过热,需要散热, 手柄 + 散热 模式组合.\n",
    "\n",
    "> Excel 是可以使用 SQL的, 更加强大的查询功能 \n",
    "\n",
    "```\n",
    "1、首先准备一份你要处理的数据。\n",
    "\n",
    "2、 打卡新的sheet或新建一个Excel文件。打开“数据->来自其他源->来自Microsoft Query”\n",
    "\n",
    "3、点击“来自Microsoft Query”后会弹出一个提示框，选择Excel Files后点确认。\n",
    "\n",
    "4、接下来就是选择你要使用的Excel文档。可以使当前文档。选择后点击确认。\n",
    "\n",
    "5、接下来会看到一个查询向导。点击选项，将“显示”部分的内容全勾选上。 然后将需要使用到的sheet移到右边的框中。\n",
    "\n",
    "6、然后一路“下一步”,如果弹出需要链接字段的,关闭就像,直到如下界面 导入数据 有个属性按钮 \n",
    "\n",
    "7、点击属性，进行SQL的编写。点击确定即可。\n",
    "\n",
    "需要确保 sql 没有写错, 就能够 work 了...\n",
    "\n",
    "```\n",
    "\n",
    "> 研发变声器, 可以给离散的选择,也可以给用户自己定制,就像GAN的头像自生成一样... can you do it? going to be funny...\n",
    "\n"
   ]
  }
 ],
 "metadata": {
  "kernelspec": {
   "display_name": "Python 2",
   "language": "python",
   "name": "python2"
  },
  "language_info": {
   "codemirror_mode": {
    "name": "ipython",
    "version": 2
   },
   "file_extension": ".py",
   "mimetype": "text/x-python",
   "name": "python",
   "nbconvert_exporter": "python",
   "pygments_lexer": "ipython2",
   "version": "2.7.14"
  }
 },
 "nbformat": 4,
 "nbformat_minor": 2
}
