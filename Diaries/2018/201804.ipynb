{
 "cells": [
  {
   "cell_type": "markdown",
   "metadata": {},
   "source": [
    "# 20180403 Tuesday\n",
    "\n",
    "> txt/csv 文件过大,导致无法直接导入excel, excel2006行限制是2^16=65536, excel2010行限制是2^20=1048576, google一下,还是有不少解决办法, 使用access导入,使用split工具拆分导入,使用excel宏来执行.\n",
    "\n",
    "> 玩家痛点, 手机过热,需要散热, 手柄 + 散热 模式组合.\n",
    "\n"
   ]
  }
 ],
 "metadata": {
  "kernelspec": {
   "display_name": "Python 2",
   "language": "python",
   "name": "python2"
  },
  "language_info": {
   "codemirror_mode": {
    "name": "ipython",
    "version": 2
   },
   "file_extension": ".py",
   "mimetype": "text/x-python",
   "name": "python",
   "nbconvert_exporter": "python",
   "pygments_lexer": "ipython2",
   "version": "2.7.14"
  }
 },
 "nbformat": 4,
 "nbformat_minor": 2
}
