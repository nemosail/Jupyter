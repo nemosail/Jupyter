{
 "cells": [
  {
   "cell_type": "markdown",
   "metadata": {},
   "source": [
    "---\n",
    "# 20180601 Friday, Happy Children's Day...\n",
    "\n",
    "> They are doing not good... In fact, they are doing it terribly...\n",
    "\n",
    "> 互联网化,更加的 flat... flatland... 扁平化,平等化,因为人都自然而然地对事物,人进行分类,打标签,简单粗暴的行为,可能会带来不少严重的后果.\n",
    "\n",
    "> 世界理应更加多元化,多样化, 从中心化->分布式 过渡,更家注重个体的权利和义务, 做xxx有人喜欢,赞美,做xxx也有人喜欢和赞同,而不是每个时代都只有的三大件,可是无奈,无奈你我都在这个环境里面,绝大多数人都是无力反抗和挣扎的... 不过只要思想不滑坡,办法总比问题多,是不? 像SE一样读博啊,像师兄一样读博,出国啊...只要动动脑子反抗,总能走到适合自己的路...Think\n",
    "\n"
   ]
  }
 ],
 "metadata": {
  "kernelspec": {
   "display_name": "Python 2",
   "language": "python",
   "name": "python2"
  },
  "language_info": {
   "codemirror_mode": {
    "name": "ipython",
    "version": 2
   },
   "file_extension": ".py",
   "mimetype": "text/x-python",
   "name": "python",
   "nbconvert_exporter": "python",
   "pygments_lexer": "ipython2",
   "version": "2.7.14"
  }
 },
 "nbformat": 4,
 "nbformat_minor": 2
}
