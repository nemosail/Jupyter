{
 "cells": [
  {
   "cell_type": "markdown",
   "metadata": {},
   "source": [
    "# 20180207 Wednesday\n",
    "\n",
    "> 向马克思学习，向马斯克学习。。。\n",
    "\n",
    "> Falcon Heavy 上天了， 重型， 成本低， 可回收， 跑车上天，最快最高的跑车。。。还去了火星。。。\n",
    "\n",
    "> 做人还是要有理想的。。。有追求， 敢于say yes possible，敢于像传统say no!!!\n",
    "\n"
   ]
  }
 ],
 "metadata": {
  "kernelspec": {
   "display_name": "Python [Root]",
   "language": "python",
   "name": "Python [Root]"
  },
  "language_info": {
   "codemirror_mode": {
    "name": "ipython",
    "version": 2
   },
   "file_extension": ".py",
   "mimetype": "text/x-python",
   "name": "python",
   "nbconvert_exporter": "python",
   "pygments_lexer": "ipython2",
   "version": "2.7.12"
  }
 },
 "nbformat": 4,
 "nbformat_minor": 0
}
