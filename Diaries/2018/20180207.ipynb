{
 "cells": [
  {
   "cell_type": "markdown",
   "metadata": {},
   "source": [
    "# 20180207 Wednesday\n",
    "\n",
    "> 向马克思学习，向马斯克学习。。。\n",
    "\n",
    "> Falcon Heavy 上天了， 重型， 成本低， 可回收， 跑车上天，最快最高的跑车。。。还去了火星。。。\n",
    "\n",
    "> 做人还是要有理想的。。。有追求， 敢于say yes possible，敢于像传统say no!!!\n",
    "\n",
    "> [制造强大的机器，玩具](https://www.bilibili.com/video/av17932942/)，低空领域的放开，肯定有很多作为，这些玩具，可以制造，设计，更加智能，更加好用。。。飞行，飞控？\n",
    "\n"
   ]
  }
 ],
 "metadata": {
  "kernelspec": {
   "display_name": "Python [Root]",
   "language": "python",
   "name": "Python [Root]"
  },
  "language_info": {
   "codemirror_mode": {
    "name": "ipython",
    "version": 2
   },
   "file_extension": ".py",
   "mimetype": "text/x-python",
   "name": "python",
   "nbconvert_exporter": "python",
   "pygments_lexer": "ipython2",
   "version": "2.7.12"
  }
 },
 "nbformat": 4,
 "nbformat_minor": 0
}
