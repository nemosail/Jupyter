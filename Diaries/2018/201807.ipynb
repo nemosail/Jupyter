{
 "cells": [
  {
   "cell_type": "markdown",
   "metadata": {},
   "source": [
    "# 20180701 July\n",
    "\n",
    "> 学习，公开课， CFA， CPA， 经济 和 金融， 宏观 和 微观。。。\n",
    "\n",
    "> 敲代码， Kaggle， 数据科学啊。。。 前沿知识，前沿学科。。。 学习基本套路，思路... 创新，联想 思维... just do something...\n",
    "\n",
    "> 教她 写基本的 日记。。。\n",
    "\n",
    "> 平台，创意平台，基本技术基础公开平台，建筑设计平台，设计思路，基本套路， 原来只有从 高达上的 设计院，设计局，大国企，大公司 里面的研究员 才能有的 设计思路，设计套路，设计水平的 图纸 公开平台，渠道，让普通的人也可以获取 基本的设计思路，套路，有一定的变化，自定义，效果好， 从 人员花大力气去设计， 到 机器算法 推荐基本的策略，规则来 辅助 人们的基本决策。。。 效率高，设计好，体验好的 新时代。。。\n",
    "\n",
    "> Father in law ask : 外资进入，流出 我锅，实际是怎么样的流程的？带来什么影响？如何理解这个过程，分析，研究 analysis...\n",
    "\n",
    "> 低头拉车，抬头看路。。。 找到自己的学习领袖，学习他们，成为他们。。。\n",
    "\n",
    "> 就像 基础学科 和 哲学。。。  战术的精细化 和 战略的高度抽象。。。 computer science 也是 abstraction 的结果啊...\n",
    "\n",
    "> 方法论，世界观，人生观，价值观。。。 what should we do? slowly find the answer... life is full of oppotunites and ideas... right? \n",
    "\n",
    "> STEM\n",
    "\n",
    "STEM是科学（Science），技术（Technology），工程（Engineering），数学（Mathematics）四门学科英文首字母的缩写，其中科学在于认识世界、解释自然界的客观规律；技术和工程则是在尊重自然规律的基础上改造世界、实现对自然界的控制和利用、解决社会发展过程中遇到的难题；数学则作为技术与工程学科的基础工具。由此可见，生活中发生的大多数问题需要应用多种学科的知识来共同解决。"
   ]
  }
 ],
 "metadata": {
  "kernelspec": {
   "display_name": "Python 2",
   "language": "python",
   "name": "python2"
  },
  "language_info": {
   "codemirror_mode": {
    "name": "ipython",
    "version": 2
   },
   "file_extension": ".py",
   "mimetype": "text/x-python",
   "name": "python",
   "nbconvert_exporter": "python",
   "pygments_lexer": "ipython2",
   "version": "2.7.13"
  }
 },
 "nbformat": 4,
 "nbformat_minor": 2
}
