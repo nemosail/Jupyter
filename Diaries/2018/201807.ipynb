{
 "cells": [
  {
   "cell_type": "markdown",
   "metadata": {},
   "source": [
    "# 20180701 July\n",
    "\n",
    "> 学习，公开课， CFA， CPA， 经济 和 金融， 宏观 和 微观。。。\n",
    "\n",
    "> 敲代码， Kaggle， 数据科学啊。。。 前沿知识，前沿学科。。。 学习基本套路，思路... 创新，联想 思维... just do something...\n",
    "\n"
   ]
  }
 ],
 "metadata": {
  "kernelspec": {
   "display_name": "Python 2",
   "language": "python",
   "name": "python2"
  },
  "language_info": {
   "codemirror_mode": {
    "name": "ipython",
    "version": 2
   },
   "file_extension": ".py",
   "mimetype": "text/x-python",
   "name": "python",
   "nbconvert_exporter": "python",
   "pygments_lexer": "ipython2",
   "version": "2.7.13"
  }
 },
 "nbformat": 4,
 "nbformat_minor": 2
}
