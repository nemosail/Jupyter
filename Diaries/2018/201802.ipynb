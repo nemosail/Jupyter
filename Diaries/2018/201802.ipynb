{
 "cells": [
  {
   "cell_type": "markdown",
   "metadata": {},
   "source": [
    "# 20180207 Wednesday\n",
    "\n",
    "> 向马克思学习，向马斯克学习。。。\n",
    "\n",
    "> Falcon Heavy 上天了， 重型， 成本低， 可回收， 跑车上天，最快最高的跑车。。。还去了火星。。。\n",
    "\n",
    "> 做人还是要有理想的。。。有追求， 敢于say yes possible，敢于像传统say no!!!\n",
    "\n",
    "> [制造强大的机器，玩具](https://www.bilibili.com/video/av17932942/)，低空领域的放开，肯定有很多作为，这些玩具，可以制造，设计，更加智能，更加好用。。。飞行，飞控？\n",
    "\n",
    "---\n",
    "# 20180214 Wednesday, Valtine's Day\n",
    "\n",
    "> 生产 制造 Production, 芯片设计， 芯片生产，优化，有核心技术，相当于有源代码，根据不同的需求场景设计优化不同的芯片，内存颗粒，存储空间等等。。。看的更加长远才行。。。\n",
    "\n",
    "> 行业的周期性，从经济，金融的角度去的看行业，不同的角度去看世界。。。\n",
    "\n",
    "\n"
   ]
  }
 ],
 "metadata": {
  "kernelspec": {
   "display_name": "Python 2",
   "language": "python",
   "name": "python2"
  },
  "language_info": {
   "codemirror_mode": {
    "name": "ipython",
    "version": 2
   },
   "file_extension": ".py",
   "mimetype": "text/x-python",
   "name": "python",
   "nbconvert_exporter": "python",
   "pygments_lexer": "ipython2",
   "version": "2.7.14"
  }
 },
 "nbformat": 4,
 "nbformat_minor": 1
}
