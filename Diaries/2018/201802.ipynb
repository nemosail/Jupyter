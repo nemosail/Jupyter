{
 "cells": [
  {
   "cell_type": "markdown",
   "metadata": {},
   "source": [
    "# 20180207 Wednesday\n",
    "\n",
    "> 向马克思学习，向马斯克学习。。。\n",
    "\n",
    "> Falcon Heavy 上天了， 重型， 成本低， 可回收， 跑车上天，最快最高的跑车。。。还去了火星。。。\n",
    "\n",
    "> 做人还是要有理想的。。。有追求， 敢于say yes possible，敢于像传统say no!!!\n",
    "\n",
    "> [制造强大的机器，玩具](https://www.bilibili.com/video/av17932942/)，低空领域的放开，肯定有很多作为，这些玩具，可以制造，设计，更加智能，更加好用。。。飞行，飞控？\n",
    "\n",
    "---\n",
    "# 20180214 Wednesday, Valtine's Day\n",
    "\n",
    "> 生产 制造 Production, 芯片设计， 芯片生产，优化，有核心技术，相当于有源代码，根据不同的需求场景设计优化不同的芯片，内存颗粒，存储空间等等。。。看的更加长远才行。。。\n",
    "\n",
    "> 行业的周期性，从经济，金融的角度去的看行业，不同的角度去看世界。。。\n",
    "\n",
    "> 观察，别人，看看，是如何成长，如何抓住机会[更少电能，更强算力](http://www.sohu.com/a/215349550_119709)\n",
    "\n",
    "> 收入，渠道，资产的多样性，如何管理，维护，程序实现，blockchain,吴忌寒手中一枚比特币也没有，作为比特大陆的创始人，他也早已成为了一名亿万富翁。\n",
    "\n",
    "> 掌握信息，市场信息，供给侧，需求侧，信息的桥梁， 搜索系统，推荐系统，比特币矿场可以说是地方政府完美的招商引资对象。矿场一举解决困扰四川、云南等省份电力供大于求的问题，带动当地消费和就业，既不污染又不扰民，还不需要政府贷款，深受地方政府喜爱。"
   ]
  }
 ],
 "metadata": {
  "kernelspec": {
   "display_name": "Python 2",
   "language": "python",
   "name": "python2"
  },
  "language_info": {
   "codemirror_mode": {
    "name": "ipython",
    "version": 2
   },
   "file_extension": ".py",
   "mimetype": "text/x-python",
   "name": "python",
   "nbconvert_exporter": "python",
   "pygments_lexer": "ipython2",
   "version": "2.7.14"
  }
 },
 "nbformat": 4,
 "nbformat_minor": 1
}
