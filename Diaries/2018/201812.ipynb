{
 "cells": [
  {
   "cell_type": "markdown",
   "metadata": {},
   "source": [
    "# 20181210 Monday\n",
    "\n",
    "> Back To Work\n",
    "\n",
    "> Plan, 0.账单的问题； 1.总线； 2.财富管理\n",
    "\n",
    "> 结构思考力。。。 这个培训机构还是有两把刷子的。。。 思考 与 知识，他们的关系， 道与术的关系，麦肯锡的，从线性思维，到 纵 横 思维，到立体的思维，更全面，MEMC；\n",
    "\n",
    "> 金字塔原理， 麦肯锡的总结，训练思维，思考方式，一套方法，科学系统地去开发思维能力，思考能，更全面，更齐全的思考，然后更好的表达，全面锻炼人。\n",
    "\n",
    "> 大佬们，理性深刻的思考，然后感性动人的表达。。。神人级别。。。\n",
    "\n",
    "> 其实这种培训、教育，就像闭源的软件；大部分人并不接触得到，如果我们使用开源模仿的方式，是否也有达到知识传递的效果？而且不侵权？\n",
    "\n",
    "> 用结构化的思维思考，然后用类似的技巧 写一个说明文档，高沟通效率，一页纸搞定它，清晰简要。\n",
    "\n",
    "> Stage All Done Here, new plan， new life... 计划去旅行。。。？ 计划学习 CFA，经济，金融，ML AI\n",
    "\n",
    "```\n",
    "1. 多读书，充电永远是全力绽放的先决条件\n",
    "\n",
    "2. 多健身，革命的本钱，有柴烧的青山\n",
    "\n",
    "3. 多屯粮，在低估的底部区域纪律性的积（定）攒（投）筹（指）码（数）\n",
    "\n",
    "4. 多唠嗑，抱团取暖，互相慰藉\n",
    "\n",
    "凛冬虽已至，阳春仍可期\n",
    "\n",
    "```\n",
    "\n",
    "# 20181211 Tuesday\n",
    "\n",
    "> 设计原则， 一个存储过程，一个表，方便调试，方便整合，应该尽可能简单明了\n",
    "\n",
    "> 设计的足够简单以致明细看不到缺陷。\n",
    "\n",
    "\n",
    "\n",
    "\n"
   ]
  }
 ],
 "metadata": {
  "kernelspec": {
   "display_name": "Python 3",
   "language": "python",
   "name": "python3"
  },
  "language_info": {
   "codemirror_mode": {
    "name": "ipython",
    "version": 3
   },
   "file_extension": ".py",
   "mimetype": "text/x-python",
   "name": "python",
   "nbconvert_exporter": "python",
   "pygments_lexer": "ipython3",
   "version": "3.6.5"
  }
 },
 "nbformat": 4,
 "nbformat_minor": 2
}
