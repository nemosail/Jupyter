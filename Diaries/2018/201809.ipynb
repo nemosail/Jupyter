{
 "cells": [
  {
   "cell_type": "markdown",
   "metadata": {},
   "source": [
    "# 20180903 Monday\n",
    "\n",
    "> take good care of yourself, and family members around you.\n",
    "\n",
    "---\n",
    "# 20180904 Tuesday\n",
    "\n",
    "> Run, man, Run... at least once a week...\n",
    "\n",
    "> Changing a batch file when its running. 问题：在bat文件正在执行的时候，修改这个文件可以吗？\n",
    "\n",
    "```\n",
    "根据 Stack Overflow，是可以的 https://stackoverflow.com/questions/906586/changing-a-batch-file-when-its-running# \n",
    "\n",
    "The command interpreter remembers the line position it's at in the batch file. As long as you modify the batch file after the current executing line position you'll be fine.\n",
    "\n",
    "If you modify it before then it will start doing strange things (repeating commands etc..).\n",
    "\n",
    "I just tried it, and against my intuition, it picked up the new commands at the end (on Windows XP)\n",
    "I created a batch file containing\n",
    "\n",
    "echo Hello\n",
    "pause\n",
    "echo world\n",
    "\n",
    "I ran the file, and while it was paused, added\n",
    "\n",
    "echo Salute\n",
    "\n",
    "Saved it and pressed enter to contine the pause, all three prompts were echoed to the console.\n",
    "\n",
    "So, go for it!\n",
    "```\n"
   ]
  }
 ],
 "metadata": {
  "kernelspec": {
   "display_name": "Python 3",
   "language": "python",
   "name": "python3"
  },
  "language_info": {
   "codemirror_mode": {
    "name": "ipython",
    "version": 3
   },
   "file_extension": ".py",
   "mimetype": "text/x-python",
   "name": "python",
   "nbconvert_exporter": "python",
   "pygments_lexer": "ipython3",
   "version": "3.6.5"
  }
 },
 "nbformat": 4,
 "nbformat_minor": 2
}
