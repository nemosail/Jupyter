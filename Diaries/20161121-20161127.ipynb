{
 "cells": [
  {
   "cell_type": "markdown",
   "metadata": {},
   "source": [
    "# 20161121 Monday\n",
    "\n",
    "> It seems that I get cold... Please...\n",
    "\n",
    "> 时间才是真正的战场... en！ 喜欢战争的没脑子，忘记战争的没良心。\n",
    "\n",
    "> Victory - Two Step From Hell - Beautiful\n",
    "\n",
    "> Amaranth: 【植】苋菜; 【诗】不凋花.\n",
    "\n",
    "---\n",
    "#### Small Mission， 分系统进行参数化\n",
    "OH MY GOD... 改改改， 心塞诶。\n",
    "\n",
    "---\n",
    "#### 源 -> 目标\n",
    "源的数据字典， 目标数据字典， 然后从源到目标的就是 mapping？ 注意检查一下，因为如果是做好了标准化的时候，正常来说他们的类型是一致的，不会不一样的，如果真的是不一致了，那么就登记一下，去修正问题。 \n",
    "\n",
    "---\n",
    "有空得花点时间去学习[spark](http://geek.csdn.net/news/detail/124168)，估计将来都是使用它来处理数据，用于机器学习算法的实现了。哈哈，从单机算法都集群算法。。\n",
    "\n",
    "微信小程序，控制平台，控制入口，控制用户时间，这有点像老罗的互联网的下半场国民总时间Gross National Time，了解事物，分析事物。\n",
    "\n",
    "---\n",
    "#### 要熟悉基本程序的输出才行... wc \n",
    "```\n",
    "# wc /etc/passwd\n",
    " 46    66    2027  /etc/passwd\n",
    "行数  单词数  字节数    文件名 \n",
    "```\n",
    "\n",
    "---\n",
    "#### 存储过程建表？\n",
    "应该是用存储过程导入数据，手动建立一个表就行了把，？\n",
    "\n",
    "当mapping需要引用到的表/视图不存在的时候，需要的去建立表的sql里面查找，可以把整个文件夹下载下来，然后使用系统自带的查找功能查找对应的表名得到建立表的sql语句，然后在开发环境中建表，这样就可以搞定了。\n"
   ]
  }
 ],
 "metadata": {
  "kernelspec": {
   "display_name": "Python [Root]",
   "language": "python",
   "name": "Python [Root]"
  },
  "language_info": {
   "codemirror_mode": {
    "name": "ipython",
    "version": 2
   },
   "file_extension": ".py",
   "mimetype": "text/x-python",
   "name": "python",
   "nbconvert_exporter": "python",
   "pygments_lexer": "ipython2",
   "version": "2.7.12"
  }
 },
 "nbformat": 4,
 "nbformat_minor": 0
}
