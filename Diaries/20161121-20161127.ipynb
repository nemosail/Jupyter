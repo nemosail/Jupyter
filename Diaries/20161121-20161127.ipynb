{
 "cells": [
  {
   "cell_type": "markdown",
   "metadata": {},
   "source": [
    "# 20161121 Monday\n",
    "\n",
    "> It seems that I get cold... Please...\n",
    "\n",
    "---\n",
    "#### Small Mission， 分系统进行参数化\n",
    "OH MY GOD...\n",
    "\n",
    "---\n",
    "#### 源 -> 目标\n",
    "源的数据字典， 目标数据字典， 然后从源到目标的就是 mapping？ 注意检查一下，因为如果是做好了标准化的时候，正常来说他们的类型是一致的，不会不一样的，如果真的是不一致了，那么就登记一下，去修正问题。 \n",
    "\n"
   ]
  }
 ],
 "metadata": {
  "kernelspec": {
   "display_name": "Python [Root]",
   "language": "python",
   "name": "Python [Root]"
  },
  "language_info": {
   "codemirror_mode": {
    "name": "ipython",
    "version": 2
   },
   "file_extension": ".py",
   "mimetype": "text/x-python",
   "name": "python",
   "nbconvert_exporter": "python",
   "pygments_lexer": "ipython2",
   "version": "2.7.12"
  }
 },
 "nbformat": 4,
 "nbformat_minor": 0
}
