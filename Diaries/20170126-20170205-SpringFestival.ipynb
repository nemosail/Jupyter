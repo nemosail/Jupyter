{
 "cells": [
  {
   "cell_type": "markdown",
   "metadata": {},
   "source": [
    "![FromGuoKr](http://2.im.guokr.com/ScAdVO97f_o8IcuoHKMOhB-vDakT3GetlRyKrJlR-k3oAwAA7gIAAEpQ.jpg?imageView2/1/w/640/h/480)\n",
    "\n",
    "# 20170126 Lots of things happened...\n",
    "\n",
    "> What are you doing? IMSE... With her, with you?\n",
    "\n",
    "> Why can't you control your self...\n",
    "\n",
    "> For the first time... I ... pants...\n",
    "\n",
    "---\n",
    "\n",
    "---\n",
    "# 20170128\n",
    "\n",
    "> 新的一年,陪你开始,陪你结束...\n",
    "\n",
    "> 南海这边的小村已经确权了,意思是每个小村的分红份数是个常量, X/N, X是每年的收入,N份数是固定了,也就是不管多少人来,都没有股份了.\n",
    "\n",
    "---\n",
    "#### 生物技术 与 信息技术 结合?\n",
    "信息技术,超大规模集成电路很好,也到达nm级别,但是如何和生物体技术结合,使用生物能量ATP能量去工作,而不是现有的电池/能源管理,或者开发更加微小的新能源(核能?新能源方向?) 或者直接模仿使用生物能量来源,进入生物体内,类似 寄生/共生 的生物模式,扶助解决生物问题,医疗,疾病问题.\n",
    "\n",
    "#### 汽车产业 与 信息技术 结合?\n",
    "AR 增强现实,扶助驾驶,HUD衍射显示 数据/驾驶仓. 这边的市场还是很大的,结合 语音识别功能,AI部分,车载系统... 作为司机,更好的倒车系统,更好的倒车影像扶助, 信息融合, 更好利用 摄像头的图像 和 雷达图像信息... 光学颜色信息 和 雷达的深度信息...\n",
    "\n",
    "VR 虚拟显示,开发驾驶,学习的模拟系统?\n",
    "\n",
    "原来隔壁村的几个小企业就是为大众生产汽车零部件的厂家,待遇不差诶...\n",
    "\n",
    "**有空真的得多问问,多听听老爸老妈,亲戚们,老同学们 的各种见闻,补充知识,一般来说大家看到的角度不同,信息量不同,偏见/误差也是有的,但是应该能够拟合到大部分正确的潜在信息**\n",
    "\n",
    "---\n",
    "# 20170202\n",
    "\n",
    "> 斗地主又输了很多次啊,如何思考记忆数字,深度搜索,博弈树,虽然习惯思考问题,用算法/计算机去解决问题,但是自己也是要动脑去解决问题的~\n",
    "\n",
    "> What is there, is already there. Trust yourself. You can do it.\n",
    "\n",
    "> 感觉现在的 凤凰 自媒体 部分的语音部分已经是使用机器合成了，不需要人工读稿了，AI的一个应用之一？\n",
    "\n",
    "---\n",
    "# 20170204 Saturday, Time to go back...\n",
    "\n",
    "> 不能怂，撸起袖子就是干～\n",
    "\n",
    "---\n",
    "# 20170205 Sunday, First day at work...\n",
    "\n",
    "> Follow Jia Hui & MingJiu & Old drivers...\n",
    "\n",
    "\n"
   ]
  }
 ],
 "metadata": {
  "kernelspec": {
   "display_name": "Python [Root]",
   "language": "python",
   "name": "Python [Root]"
  },
  "language_info": {
   "codemirror_mode": {
    "name": "ipython",
    "version": 2
   },
   "file_extension": ".py",
   "mimetype": "text/x-python",
   "name": "python",
   "nbconvert_exporter": "python",
   "pygments_lexer": "ipython2",
   "version": "2.7.12"
  }
 },
 "nbformat": 4,
 "nbformat_minor": 0
}
