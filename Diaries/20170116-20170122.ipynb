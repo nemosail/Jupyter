{
 "cells": [
  {
   "cell_type": "markdown",
   "metadata": {},
   "source": [
    "# 20170116 Monday\n",
    "\n",
    "> 一个着眼现状,一个放眼未来,既要把握现在,也要胸怀大局,开拓进取.\n",
    "\n",
    "> Making mistakes is ok, the point is to learn from it, grow with it.\n",
    "\n",
    "> 如何让机器在断电的时候待命,不会丢失状态,也就是机器把当前状态保存好了,就不害怕断电了,但是如何待命,如何处理用户响应,(轮询VS中断)\n",
    "\n",
    "> 用 按键精灵 或者 AHK(AutoHotKey) 这类更加高级好用的脚本能语言,因为它对编程的要求没有那么高,也足够完成任务,能用够用!\n",
    "\n",
    "> Jupyter 是集合了 修改 和 显示的功能,但是我能不能继续搭建类似 NBviewer那个,只能看,而且看得很漂亮的界面~?\n",
    "\n",
    "> 年初五 2017.02.01 需要在家远程RPC/VPN跑一些脚本, What? Why is this happing? Always be prepared...\n",
    "\n",
    "> Search & Read 深度复制 与 浅度复制\n",
    "\n",
    "> 无法打开页面,提示错误,按照错误提示来search,一般就是IE登浏览器的安全配置导致的问题,修改下配置就好了. 一般在 工具 - Internet属性 - Internet - 自定义级别 - 启用XSS(禁用)\n",
    "\n",
    "> Prepare things 1.fix mouse(Tools Kits); 2.fix lens()Tools Kits; 3.小而可靠的硬盘作为Git资料备份; 4.USB多分器\n",
    "\n",
    "> Currently, program is not magic, we all wish it was. but it is not. So we will nedd to tell it what to do. This process is called \"Scripting\".\n",
    "\n",
    "> 不懂业务的时候,去办个业务试试,问问题试试???\n",
    "\n",
    "---\n",
    "#### 配置权限还是有点小瑕疵\n",
    "因为对源系统的原理/底层不熟悉,所有容易犯错误,不过没有太大问题了,经历基础错误,几次投诉,我应该大概知道怎么办了,不会犯大错误,小小错误也会越来越少,嘿嘿.\n",
    "\n",
    "---\n",
    "#### Auto Hot Key \n",
    "[AHK](http://www.ahkscript.org/) 可以使用这个类似 按键精灵 的开源工具来干更加有趣的事情了,这类**工具**应该很多的,不过能够跨平台就好了..嘿嘿嘿...\n",
    "\n",
    "AHK 可以发送普通字符串,也可以发送普通的按键,发送字符串... 发送 Enter, Tab, Sleep, Arrow Down 等等...\n",
    "\n",
    "就是 Simulate Human Inputs... 这个工具应该能够模拟所有 键盘/鼠标操作,这样使用足够聪明的程序就能够替代人来的 键盘/鼠标/输入\n",
    "\n",
    "现在可以一件远程机器(AHK 开源程序完成任务), 登录远程机自动打开Datastudio...一键无忧,嘿嘿嘿~ \n",
    "\n",
    "Auto \n",
    "\n",
    "不担心自动断开了,远程原来是不会自动断开的,自动断开是因为网络中断了,或者本地机器进入睡眠/休眠状态,导致链接断开,所有连不上...\n",
    "\n",
    "---\n",
    "#### 汇率转换表\n",
    "not have everyday; 注意标价形式, 应该是 1USD : 6.7RMB 的基准汇率,就是 原来我有 10.2 usd 直接乘以那个基准汇率就行了..\n",
    "\n",
    "注意还有 \n",
    "- 钞买价\n",
    "- 钞卖价\n",
    "- 汇买价\n",
    "- 汇卖价\n",
    "\n",
    "---\n",
    "#### DB2 与 Oracle 数据表示  空字符串 与 NULL 的区别\n",
    "貌似 Oracle 的空字符串是底层使用了NULL表示,但是对于DB2,空字符串是不是使用这个NULL还是?\n",
    "\n"
   ]
  }
 ],
 "metadata": {
  "kernelspec": {
   "display_name": "Python [Root]",
   "language": "python",
   "name": "Python [Root]"
  },
  "language_info": {
   "codemirror_mode": {
    "name": "ipython",
    "version": 2
   },
   "file_extension": ".py",
   "mimetype": "text/x-python",
   "name": "python",
   "nbconvert_exporter": "python",
   "pygments_lexer": "ipython2",
   "version": "2.7.12"
  }
 },
 "nbformat": 4,
 "nbformat_minor": 0
}
