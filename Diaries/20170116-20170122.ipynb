{
 "cells": [
  {
   "cell_type": "markdown",
   "metadata": {},
   "source": [
    "# 20170116 Monday\n",
    "\n",
    "> 一个着眼现状,一个放眼未来,既要把握现在,也要胸怀大局,开拓进取.\n",
    "\n",
    "> Making mistakes is ok, the point is to learn from it, grow with it.\n",
    "\n",
    "> 如何让机器在断电的时候待命,不会丢失状态,也就是机器把当前状态保存好了,就不害怕断电了,但是如何待命,如何处理用户响应,(轮询VS中断)\n",
    "\n",
    "> 用 按键精灵 或者 AHK(AutoHotKey) 这类更加高级好用的脚本能语言,因为它对编程的要求没有那么高,也足够完成任务,能用够用!\n",
    "\n",
    "> Jupyter 是集合了 修改 和 显示的功能,但是我能不能继续搭建类似 NBviewer那个,只能看,而且看得很漂亮的界面~?\n",
    "\n",
    "> 年初五 2017.02.01 需要在家远程RPC/VPN跑一些脚本, What? Why is this happing? Always be prepared...\n",
    "\n",
    "> Search & Read 深度复制 与 浅度复制\n",
    "\n",
    "> 无法打开页面,提示错误,按照错误提示来search,一般就是IE登浏览器的安全配置导致的问题,修改下配置就好了. 一般在 工具 - Internet属性 - Internet - 自定义级别 - 启用XSS(禁用)\n",
    "\n",
    "---\n",
    "#### 配置权限还是有点小瑕疵\n",
    "因为对源系统的原理/底层不熟悉,所有容易犯错误,不过没有太大问题了,经历基础错误,几次投诉,我应该大概知道怎么办了,不会犯大错误,小小错误也会越来越少,嘿嘿.\n",
    "\n",
    "\n"
   ]
  }
 ],
 "metadata": {
  "kernelspec": {
   "display_name": "Python [Root]",
   "language": "python",
   "name": "Python [Root]"
  },
  "language_info": {
   "codemirror_mode": {
    "name": "ipython",
    "version": 2
   },
   "file_extension": ".py",
   "mimetype": "text/x-python",
   "name": "python",
   "nbconvert_exporter": "python",
   "pygments_lexer": "ipython2",
   "version": "2.7.12"
  }
 },
 "nbformat": 4,
 "nbformat_minor": 0
}
