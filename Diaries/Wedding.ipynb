{
 "cells": [
  {
   "cell_type": "markdown",
   "metadata": {},
   "source": [
    "#### Record the process\n",
    "\n",
    "> What happened...\n",
    "\n",
    "> What do you get...\n",
    "\n",
    "> ideas, thoughs. must to do...\n",
    "\n",
    "> 是否有个 to client 的模板，比较合理安排行程等等，更好的改进，更优的安排，购买计划等等。 群体的力量，给大家参考和选择...\n",
    "\n",
    "> what you have to do in the weekend, the coming three months...\n",
    "\n",
    "\n"
   ]
  }
 ],
 "metadata": {
  "kernelspec": {
   "display_name": "Python 3",
   "language": "python",
   "name": "python3"
  },
  "language_info": {
   "codemirror_mode": {
    "name": "ipython",
    "version": 3
   },
   "file_extension": ".py",
   "mimetype": "text/x-python",
   "name": "python",
   "nbconvert_exporter": "python",
   "pygments_lexer": "ipython3",
   "version": "3.6.5"
  }
 },
 "nbformat": 4,
 "nbformat_minor": 2
}
