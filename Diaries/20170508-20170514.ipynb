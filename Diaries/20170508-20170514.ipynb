{
 "cells": [
  {
   "cell_type": "markdown",
   "metadata": {},
   "source": [
    "# 20170508 Monday\n",
    "\n",
    "> You have to be prepared for the damn examination...\n",
    "\n",
    "> 使用Jupyter, Markdown 记录地址，记录代码 等等需要原始记录的，一定要使用\\`\\`\\`来括起来，防止被转义...\n",
    "\n",
    "---\n",
    "#### 关于在本地执行查找的问题\n",
    "递归，子目录  查找关键字， XSearch 很好用，需要在单词选项里面开启 Unicode 和 UTF8 的选项，之前找不出来结果，是因为中文问题，中文编码问题！\n",
    "\n",
    "使用linux工具的 grep 或者 find 功能，是可以执行在本地递归查找功能的，关键还是中文问题，它们很可能对中文支持不好。。。Try to solve it... 而且要主动告诉它，'-a' 这个将所有文件当成文本文件来处理，不要当成二进制文件。\n",
    "\n"
   ]
  }
 ],
 "metadata": {
  "kernelspec": {
   "display_name": "Python [Root]",
   "language": "python",
   "name": "Python [Root]"
  },
  "language_info": {
   "codemirror_mode": {
    "name": "ipython",
    "version": 2
   },
   "file_extension": ".py",
   "mimetype": "text/x-python",
   "name": "python",
   "nbconvert_exporter": "python",
   "pygments_lexer": "ipython2",
   "version": "2.7.12"
  }
 },
 "nbformat": 4,
 "nbformat_minor": 0
}
