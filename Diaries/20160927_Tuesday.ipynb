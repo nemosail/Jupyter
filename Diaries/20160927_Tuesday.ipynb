{
 "cells": [
  {
   "cell_type": "markdown",
   "metadata": {},
   "source": [
    "> Perl or Python, that is a question.\n",
    "\n",
    "perl和python各自擅长什么领域？[IBM](https://www.ibm.com/developerworks/cn/linux/l-cn-perl2python/)\n",
    "\n",
    "设计一个语言的初始目的决定了该语言将会内建什么功能 perl初始是Larry为了格式化处理文本而创建的 所以内建了正则 看python居然内建一个复数型别，我猜测Guido最初一定是为了数值计算 而创建了python so，perl擅长文字处理，python擅长数值处理。\n",
    "    \n",
    "Perl 设 计之初就是为了方便编写复杂高效的系统脚本，它也是应该最为广泛的脚本编程语言。它在编程方面相当于瑞士军刀，对字符、文本文件处理能力很强，以前要求 shell+sed+awk+C才能完成的任务，只需perl脚本就可以完成了。而且应用领域一直在拓宽，支持面向对象程序设计。\n",
    "    \n",
    "Python 面向对象的动态公共语言，适于脚本编程和快速开发，它最显著的特点是作为编译语言（如C）和脚本语言（如perl）之间的桥接语言，它具有的强大功能，可扩充性及面向对象的特征使其成为大规模应用程序开发工具。\n",
    "\n",
    "###### What is the difference of xls and xlsx, doc and docx...\n",
    "\n",
    "---\n",
    "oracle 是可以数字符串长度的，length(), lengthb()返回不一样, clob 需要另外处理:\n",
    "\n",
    "SELECT DBMS_LOB.GETLENGTH(aClob) FROM dual;\n",
    "\n",
    "clob 编码貌似不容易解决，查看警告信息，然后在STA层，在源数据中，使用select to_char(...) 来选择数据，然后才cp到落地文件。\n",
    "\n",
    "---\n",
    "DataStage 组件如何实现。。。BASIC/C/Java？ Not That Hard....\n",
    "\n",
    "**实现用户自定义数据转换逻辑**\n",
    "\n",
    "在 WebSphere DataStage 中实现用户自定义数据转换逻辑有三种方法。\n",
    "1. 通过 WebSphere DataStage BASIC 编程语言实现。 DataStage BASIC 语言是一种可以运行在 DataStage 平台上，功能强大的面向过程的开发语言。用户可以使用 DataStage BASIC 语言撰写用户自定义函数和自定义转换器来封装复杂的数据转换逻辑。关于具体方法，用户可以参考发表在 developerWorks 中国网站上的《 WebSphere DataStage BASIC 语言开发实践》一文，详见参考资源。\n",
    "2. 对于 Parallel Job 来说，用户还可以通过为 WebSphere DataStage 创建定制操作符来实现。 DataStage 作业运行时，后台实际上是通过一个个操作符来对输入数据流的进行处理并产生相应的输出数据流。 DataStage 提供了相应的 C++ API，使得用户可以创建自定义的操作符，并加载到 DataStage 中使用。关于具体方法，用户可以参考 developerWorks 中国网站上的教程《为 WebSphere DataStage 创建定制操作符》，详见参考资源。\n",
    "3. 通过 Java Pack 组件调用 Java 代码实现。 Java Pack 组件提供了一组 Java API，使得 DataStage 能够调用用户 Java 代码。借助 Java 语言的强大功能，用户可以方便实现任何复杂的数据转换逻辑。本文将主要介绍如何通过 Java Pack 组件来实现用户自定义数据转换逻辑。\n",
    "\n",
    "AIX 貌似也有Java 1.5 可以使用,要多挖掘下服务器上可以使用的程序，嘿嘿。\n",
    "\n",
    "\n",
    "###### SVN 查看谁上锁了，在 右键 -> check for modification -> check repository\n",
    "\n",
    "---\n",
    "FDM 主要是面向主题的。。。\n",
    "\n",
    "---\n",
    "#### psensor\n",
    "在Linux下有许多用户级工具可以检查和监控各种系统组件的温度。例如lm-sensors,它可以从硬件嵌入式传感器获取信息,以达到监测温度、电压、湿度和风扇的作用；还有hddtemp,它可以通过读取S.M.A.R.T.参数来测量温度；今天我们要介绍的是psensor,这是一款前端图形化界面温度监测工具,能够可视化显示CPU、Nvidia/ATI/AMD各家显卡以及硬盘等多个硬件设备的温度。\n",
    "\n",
    "接下来,我将描述如何设置psensor来监控CPUs和硬盘的温度。\n",
    "\n",
    "在Linux 桌面系统中安装 psensor\n",
    "\n",
    "使用psensor可视化显示系统温度,需要基于其他工具诸如lm-sensors和hddtemp等获得的数据。因此你需要在安装psensor的同时,一并安装这两款工具。\n",
    "\n",
    "在Debian或Ubuntu下安装psensor：\n",
    "\n",
    "$ sudo apt-get install lm-sensors hddtemp psensor\n"
   ]
  }
 ],
 "metadata": {
  "kernelspec": {
   "display_name": "Python [Root]",
   "language": "python",
   "name": "Python [Root]"
  },
  "language_info": {
   "codemirror_mode": {
    "name": "ipython",
    "version": 2
   },
   "file_extension": ".py",
   "mimetype": "text/x-python",
   "name": "python",
   "nbconvert_exporter": "python",
   "pygments_lexer": "ipython2",
   "version": "2.7.12"
  }
 },
 "nbformat": 4,
 "nbformat_minor": 0
}
