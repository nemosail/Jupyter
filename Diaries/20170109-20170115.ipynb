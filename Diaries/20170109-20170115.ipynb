{
 "cells": [
  {
   "cell_type": "markdown",
   "metadata": {},
   "source": [
    "# 20170109 Monday\n",
    "\n",
    "> Win7 的计划任务后来运行失败了,为什么? 可能那是环境变量没有生成正确,给出程序所在位置就ok了..\n",
    "\n",
    "> 自信点,能解决的,相信自己,这些年多困难都过来了.\n",
    "\n",
    "> Please be yourself, control yourself.\n",
    "\n",
    "---\n"
   ]
  }
 ],
 "metadata": {
  "kernelspec": {
   "display_name": "Python [Root]",
   "language": "python",
   "name": "Python [Root]"
  },
  "language_info": {
   "codemirror_mode": {
    "name": "ipython",
    "version": 2
   },
   "file_extension": ".py",
   "mimetype": "text/x-python",
   "name": "python",
   "nbconvert_exporter": "python",
   "pygments_lexer": "ipython2",
   "version": "2.7.12"
  }
 },
 "nbformat": 4,
 "nbformat_minor": 0
}
