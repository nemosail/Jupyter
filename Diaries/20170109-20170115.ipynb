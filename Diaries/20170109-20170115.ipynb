{
 "cells": [
  {
   "cell_type": "markdown",
   "metadata": {},
   "source": [
    "# 20170109 Monday\n",
    "\n",
    "> Win7 的计划任务后来运行失败了,为什么? 可能那是环境变量没有生成正确,给出程序所在位置就ok了..\n",
    "\n",
    "> 自信点,能解决的,相信自己,这些年多困难都过来了.\n",
    "\n",
    "> Life might be tough, but please try harder, can not quit easily.\n",
    "\n",
    "> Please be yourself, control yourself.\n",
    "\n",
    "> 微信小程序上线了,感觉挺不错的思想,学学,体验体验~\n",
    "\n",
    "> ML/AI/DL/Math/Programming 自己的根基不能丢掉，然后也不能被时代落下.\n",
    "\n",
    "> **SEARCH/Google 拼写SQL好用的编辑器,更方便,更少错误...Always be a better man...设计更好的工具,使用更好的工具,改变自己,改变世界**\n",
    "\n",
    "> 如何把休眠的选项放到开始->关机附近,这样就不用关机了,直接使用休眠就Perfect\n",
    "\n",
    "> **远程登录好多hop,好多跳,都要输入自己的信息,等等,破坏我的速度,破坏我的生产力,如何使用python去自动化,点击就自动登录所有动作!!!**\n",
    "\n",
    "> **登录后又用计划任务让他自动打开我需要的应用程序,注意是每次我登录就自动打开,全自动化,不再需要人工人手去参与,程序就是要走向极端**\n",
    "\n",
    "> 一个常见事实：一个复杂的程序（过程）总是由一大批相对简单的过程组成的...Lots of things happen this way.\n",
    "\n",
    "---\n",
    "#### 查询中经常使用到了 left outer join,这种情况下注意null值出现带来问题,要考虑使用NVL函数了\n",
    "\n",
    "**DataStudio 是能够直接将数据导出成CSV/XLS格式的,然后配合挂载驱动器,这样就能直接将查询好的数据导出来了,非常方便**\n",
    "\n",
    "SaveResults -> Optinos ->  Data Format Excel, 名字, Include columns as first row\n",
    "\n",
    "#### Thoughts:\n",
    "机构原来逻辑上就是一棵树,Tree,只是不一定是二叉树,而不不规则的多叉树,Anyway,理论上都是可以转变成二叉树的.\n",
    "\n",
    "机器自动化,如果机器也能够理解人类自然语言(估计需要NLP,DL的支持),并做到了生成SQL的程度,这就代替了很多人的人脑工作了,自动化不仅能够从繁重的体力劳动中解放人类,也慢慢地从脑力劳动来释放人类,甚至超越人类(类似AlphaGO),这也许是人类的胜利,站在胜利的一方,跟上时代,去设计AI/ML,去引领革命,而不是被革命,Keep Learning, Don't be afraid. You can do it.\n",
    "\n",
    "模块化的查询来处理查询请求,类似聚类分类,把一整堆的查询请求进行自动(人工实践很好很简单,但是没有理论支持,还是机器数学来出来来得好),把这些查询进行分类出类,就像Unix哲学一样,使用很多很好很准确的小程序/小零件,使用这些小零件就能够建很复杂很困难的查询,这就是一直我们在做的,如果这一步做好了,我们也能轻松高效解决问题,然后结合更加智能的AI,我们就能下岗了,对程序员的目的就是让自己下岗,让机器去完成自己的繁重劳动,让自己去做更大更广阔的事情去,Can you do it?\n",
    "\n",
    "#### 微信小程序\n",
    "Webapp VS Nativeapp ？  类似 BS架构 和 CS架构 的竞争？\n",
    "\n",
    "张小龙却总是替微信赋予工具产品的愿景（微信是一个工具，为了提高效率而生），颇为相映成趣。但是，和多数人理解的工具品类——锤子、剪刀、直尺这些——不同的是，如果微信作为工具，只会是瑞士军刀这种，看似小巧精致，但是适用场景极为丰富，从而实现了从应急品到必备品的质变。\n",
    "\n",
    "**时间窗口 Window ，每个人的时间窗口，留有的风口，机遇都是十分有限的，在到来之前要准备好，到来的时候别犹豫，生活就是一场更大的博弈～**\n",
    "\n",
    "\n",
    "\n",
    "\n",
    "\n",
    "\n"
   ]
  }
 ],
 "metadata": {
  "kernelspec": {
   "display_name": "Python [Root]",
   "language": "python",
   "name": "Python [Root]"
  },
  "language_info": {
   "codemirror_mode": {
    "name": "ipython",
    "version": 2
   },
   "file_extension": ".py",
   "mimetype": "text/x-python",
   "name": "python",
   "nbconvert_exporter": "python",
   "pygments_lexer": "ipython2",
   "version": "2.7.12"
  }
 },
 "nbformat": 4,
 "nbformat_minor": 0
}
