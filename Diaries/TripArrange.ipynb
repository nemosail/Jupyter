{
 "cells": [
  {
   "cell_type": "markdown",
   "metadata": {},
   "source": [
    "\n",
    "- 去程 高铁  广州南 - 杭州站\n",
    "先到杭州站，杭州站离西湖也不远，在西湖附近找旅馆就行， \n",
    "\n",
    "- 第一天白天，可以逛西湖，西湖很大，慢点逛，可以逛一天...\n",
    "上午可以 断桥残雪 → 白堤 → 孤山 → 曲院风荷 → 苏堤春晓 → 花港观鱼 → 吴山广场 → 西湖音乐喷泉\n",
    "下午可以 西湖后面的植物园等等\n",
    "\n",
    "晚上如果时间合适 可以去城市阳台，杭州在G20峰会新启用了很多建筑，国际会议中心，沿江一带...\n",
    "\n",
    "西溪国家湿地公园也行，附件就是 阿里巴巴的西溪园区"
   ]
  }
 ],
 "metadata": {
  "kernelspec": {
   "display_name": "Python 2",
   "language": "python",
   "name": "python2"
  },
  "language_info": {
   "codemirror_mode": {
    "name": "ipython",
    "version": 2
   },
   "file_extension": ".py",
   "mimetype": "text/x-python",
   "name": "python",
   "nbconvert_exporter": "python",
   "pygments_lexer": "ipython2",
   "version": "2.7.13"
  }
 },
 "nbformat": 4,
 "nbformat_minor": 1
}
