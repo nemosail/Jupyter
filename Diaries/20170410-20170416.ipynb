{
 "cells": [
  {
   "cell_type": "markdown",
   "metadata": {},
   "source": [
    "# 20170410 Monday\n",
    "\n",
    "> 商业吹捧，互相吹捧。。。\n",
    "\n",
    "---\n",
    "#### 投资自己呗，身心锻炼，\n",
    "身体与灵魂，理论与实践，科学与技术。。。\n",
    "\n",
    "《人民的名义》就是这么一部逆流而上的作品。\n",
    "\n",
    "别的剧用小鲜肉，它用老戏骨；别的剧架空现实，它直面当下体制最大毒瘤之一——腐败。\n",
    "\n",
    "#### dw的目录依然打不开，尝试很多次了，没事\n",
    "咱们用个work around，灵活点码，既然能够使用shell放到它的文件系统，它的文件树了，那么再搬到对应的目录就行了啊，没有问题的，买毛病，就是麻烦点，嘿嘿。。。\n",
    "\n"
   ]
  }
 ],
 "metadata": {
  "kernelspec": {
   "display_name": "Python [Root]",
   "language": "python",
   "name": "Python [Root]"
  },
  "language_info": {
   "codemirror_mode": {
    "name": "ipython",
    "version": 2
   },
   "file_extension": ".py",
   "mimetype": "text/x-python",
   "name": "python",
   "nbconvert_exporter": "python",
   "pygments_lexer": "ipython2",
   "version": "2.7.12"
  }
 },
 "nbformat": 4,
 "nbformat_minor": 0
}
