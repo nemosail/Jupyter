{
 "cells": [
  {
   "cell_type": "code",
   "execution_count": 16,
   "metadata": {},
   "outputs": [
    {
     "name": "stdout",
     "output_type": "stream",
     "text": [
      "Today noon work: Coding\n"
     ]
    }
   ],
   "source": [
    "# To automatically tell me what to do at noon, to manage you time, manage your life...\n",
    "from datetime import datetime\n",
    "\n",
    "today = datetime.now()\n",
    "base_date = datetime(2017,12,25,0,0)\n",
    "\n",
    "day_interval = (today - base_date).days\n",
    "\n",
    "# possible activities, when 0 < activities <= 5 no problem... well\n",
    "activities = ['Coding','Read Banking']\n",
    "\n",
    "select = day_interval % len(activities)\n",
    "\n",
    "print(\"Today noon work: \" + activities[select])\n"
   ]
  }
 ],
 "metadata": {
  "kernelspec": {
   "display_name": "Python 2",
   "language": "python",
   "name": "python2"
  },
  "language_info": {
   "codemirror_mode": {
    "name": "ipython",
    "version": 2
   },
   "file_extension": ".py",
   "mimetype": "text/x-python",
   "name": "python",
   "nbconvert_exporter": "python",
   "pygments_lexer": "ipython2",
   "version": "2.7.14"
  }
 },
 "nbformat": 4,
 "nbformat_minor": 2
}
