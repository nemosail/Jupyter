{
 "cells": [
  {
   "cell_type": "code",
   "execution_count": 1,
   "metadata": {},
   "outputs": [
    {
     "name": "stdout",
     "output_type": "stream",
     "text": [
      "Today noon work: Read Banking\n"
     ]
    }
   ],
   "source": [
    "# To automatically tell me what to do at noon, to manage you time, manage your life...\n",
    "from datetime import datetime\n",
    "\n",
    "today = datetime.now()\n",
    "base_date = datetime(2017,12,25,0,0)\n",
    "\n",
    "day_interval = (today - base_date).days\n",
    "\n",
    "# possible activities, when 0 < activities <= 5 no problem... well\n",
    "activities = ['Coding','Read Banking']\n",
    "\n",
    "select = day_interval % len(activities)\n",
    "\n",
    "print(\"Today noon work: \" + activities[select])\n"
   ]
  },
  {
   "cell_type": "markdown",
   "metadata": {},
   "source": [
    "#### After 201811\n",
    "\n",
    "> We work at difference places, right, two different Bank, one 'bank', one 'stock';\n",
    "\n",
    "> Time Arrangement after work, AKA after school...\n",
    "\n",
    "\n",
    "\n"
   ]
  }
 ],
 "metadata": {
  "kernelspec": {
   "display_name": "Python 3",
   "language": "python",
   "name": "python3"
  },
  "language_info": {
   "codemirror_mode": {
    "name": "ipython",
    "version": 3
   },
   "file_extension": ".py",
   "mimetype": "text/x-python",
   "name": "python",
   "nbconvert_exporter": "python",
   "pygments_lexer": "ipython3",
   "version": "3.6.5"
  }
 },
 "nbformat": 4,
 "nbformat_minor": 2
}
