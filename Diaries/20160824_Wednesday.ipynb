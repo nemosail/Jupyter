{
 "cells": [
  {
   "cell_type": "markdown",
   "metadata": {},
   "source": [
    "> Are you going play with Docker & SAS?\n",
    "\n",
    "> Docker 应该会比虚拟机更火，将来使用docker的场景会越来越多，因为它轻易解决了一个大家都遇到部署环境依赖等问题。\n",
    "\n",
    "***\n",
    "**32bit的9.3 SAS貌似无法安装在64bit的Win10中。。。**\n",
    "\n",
    "**64bit的9.3 SAS也是无法安装在64bit的Win10中。。。虽然NaBr安装成功了，但是还是不成功，双击setup后直接提示错误然后退出；**\n",
    "\n",
    "SAS安装真的超容易出问题，因为它会首先安装依赖的软件，这几个软件又需要重启，然后重启因为系统变化而不一定能自启动成功，关键是直接重新打开setup看起来跟完全重新安装一模一样，要重复之前的安装动作，然后到最后的过程才会发现是不一样，安装的1.2.3.4一步一步继续的，这样安装-重启-安装几次后就没有问题，能到达第二阶段SAS组件安装，虽然比较多，但是不会重启了，耐心等就好了，一定要注意安装事件，因为license的问题。。关键我使用VirtualBox的重量级虚拟机，刚开始设定硬盘是自动增长而不是固定分配，所以安装SAS这丫的时候，硬盘镜像要频繁扩展，导致卡死了，无法知道进度，非常麻烦，后来是重新安装虚拟机，使用固定硬盘大小的方式来安装，这样提前分配好空间后，就耐心地等就好了。\n",
    "***\n",
    "终于深深体会到Why Docker最近那么火了，因为开发者和部署实在太不一样了，换个环境，换个系统也就出问题了，所以虚拟机这个概念还是不错，但是虚拟机太heavy了，所以轻量级的虚拟技术就更火了，开发者可以发布APP同时发布APP的依赖环境等等，直接发布image一样，轻量级的虚拟，这样就解决了开发与部署，与实际用户的环境问题，真的很好用，而且轻量级，几乎不损失性能，不需要完全虚拟出整个机器。。。\n",
    "\n",
    "\n",
    "\n"
   ]
  }
 ],
 "metadata": {
  "kernelspec": {
   "display_name": "Python [Root]",
   "language": "python",
   "name": "Python [Root]"
  },
  "language_info": {
   "codemirror_mode": {
    "name": "ipython",
    "version": 2
   },
   "file_extension": ".py",
   "mimetype": "text/x-python",
   "name": "python",
   "nbconvert_exporter": "python",
   "pygments_lexer": "ipython2",
   "version": "2.7.12"
  }
 },
 "nbformat": 4,
 "nbformat_minor": 0
}
