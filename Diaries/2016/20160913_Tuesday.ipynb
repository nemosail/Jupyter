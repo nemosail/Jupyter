{
 "cells": [
  {
   "cell_type": "markdown",
   "metadata": {},
   "source": [
    "> Be wise... Read more, know more, decide...\n",
    "\n",
    "***\n",
    "Debian Jessie Unable to mount unknown type exfat\n",
    "\n",
    "Installing the below packages only will auto-mounts your exFAT formatted drives:\n",
    "\n",
    "`sudo apt-get install exfat-fuse exfat-utils`\n",
    "\n",
    "***\n",
    "/var/log 一般是存放日志的地方，可以去翻翻日志来查看信息，解决问题，这些都是半结构化的信息。。。"
   ]
  },
  {
   "cell_type": "code",
   "execution_count": 2,
   "metadata": {
    "collapsed": false
   },
   "outputs": [
    {
     "data": {
      "text/plain": [
       "5.9"
      ]
     },
     "execution_count": 2,
     "metadata": {},
     "output_type": "execute_result"
    }
   ],
   "source": [
    "1 + 0.45 + 0.45 + 1 + 0.5 + 0.5 + 0.5 + 0.5 + 0.5 + 0.5"
   ]
  }
 ],
 "metadata": {
  "kernelspec": {
   "display_name": "Python [Root]",
   "language": "python",
   "name": "Python [Root]"
  },
  "language_info": {
   "codemirror_mode": {
    "name": "ipython",
    "version": 2
   },
   "file_extension": ".py",
   "mimetype": "text/x-python",
   "name": "python",
   "nbconvert_exporter": "python",
   "pygments_lexer": "ipython2",
   "version": "2.7.12"
  }
 },
 "nbformat": 4,
 "nbformat_minor": 0
}
