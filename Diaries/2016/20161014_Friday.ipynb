{
 "cells": [
  {
   "cell_type": "markdown",
   "metadata": {},
   "source": [
    "> \n",
    "\n",
    "#### Jupyter Notebook 出问题了，一直转圈圈，无法加载的样子，也不能重命名日记，原来是不小心开启“翻墙”代理-全局代理带来的问题。\n",
    "\n",
    "---\n",
    "在Moia导入作业后，检查参数-设置有效， 检查参数失败，没有启动多个实例，回去DS里面作业参数，启动多个实例，而且要重新编译.\n",
    "\n",
    "检查参数 - 设置有效 - 设置权限\n",
    "\n",
    "可是无法使用监控查看，需要将作业流或者作业批次重置才能单个作业可见，\n",
    "\n",
    "---\n",
    "内网有时候不稳定，是自己的网络接口松动把？！ 有问题冷静，想办法。。\n"
   ]
  }
 ],
 "metadata": {
  "kernelspec": {
   "display_name": "Python [Root]",
   "language": "python",
   "name": "Python [Root]"
  },
  "language_info": {
   "codemirror_mode": {
    "name": "ipython",
    "version": 2
   },
   "file_extension": ".py",
   "mimetype": "text/x-python",
   "name": "python",
   "nbconvert_exporter": "python",
   "pygments_lexer": "ipython2",
   "version": "2.7.12"
  }
 },
 "nbformat": 4,
 "nbformat_minor": 0
}
