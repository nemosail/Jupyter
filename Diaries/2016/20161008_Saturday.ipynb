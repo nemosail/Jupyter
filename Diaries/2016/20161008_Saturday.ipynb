{
 "cells": [
  {
   "cell_type": "markdown",
   "metadata": {},
   "source": [
    "> It has been a bumblee holiday... not a vacation\n",
    "\n",
    "> 泰日天 第一个不服。。。\n",
    "\n",
    "> 豹喵：你丫的是不是傻？\n",
    "\n",
    "#### Shell 中可以获取当前时间是星期几 / 年月日 / 日\n",
    "1. 星期几 通过date命令获取，获取结果：0为星期日，1-6为星期一至星期六。\n",
    "\n",
    "    `date +%w #取得当天是星期几 `\n",
    "2. 年月日 通过date就行了，直接给出 YYYYmmdd，其中 %m month (01..12), 注意默认是 01 02 03 ..09 10 这些月份\n",
    "    \n",
    "    `date +%Y%m%d`\n",
    "    \n",
    "3. 日 通过date命令获取\n",
    "\n",
    "    `date +%d`\n",
    "    \n",
    "---\n",
    "shell中怎样可以把函数中的返回值赋值给某个变量\n",
    "1. func 1 2; ret=$?  ## 将 函数运行的返回值，return 的部分 赋予给ret\n",
    "2. ret=`func 1 2`  ## 这里 将函数的标准输出全部放到ret中，不会放return部分\n",
    "\n",
    "---\n",
    "bash 和 sh 是有区别的, bash 中 echo -e \"aaa\\nbbb\" 和 sh 中 echo \"aaa\\nbbb\" 才是一致的...\n",
    "\n",
    "使用比较笨的办法来时间时间复杂的 内存 dict把，如果job是很少的情况下，顺序遍历不成问题的。。。\n",
    "\n",
    "实践证明，在AIX上用的是ksh，linux上是bash\n",
    "sh或bsh，全名是bourne shell。它最早出现，是标准shell。后两者都兼容它。\n",
    "ksh和bash后续加入了历史记录，交互特性，数组，等新功能。\n",
    "ksh在unix上使用较多。比如hpux，AIX\n",
    "bash在linux上使用较多。\n",
    "\n",
    "```\n",
    "#!/bin/sh\n",
    "\n",
    "var2=\"hello\\ncat\\nputty\\nnewline\"\n",
    "\n",
    "echo ${var2}\n",
    "\n",
    "num_line='1'\n",
    "echo ${var2} | while read line\n",
    "do\n",
    "    echo ${num_line}\" \"${line}\n",
    "    num_line=`expr ${num_line} + 1`\n",
    "done\n",
    "\n",
    "```"
   ]
  }
 ],
 "metadata": {
  "kernelspec": {
   "display_name": "Python [Root]",
   "language": "python",
   "name": "Python [Root]"
  },
  "language_info": {
   "codemirror_mode": {
    "name": "ipython",
    "version": 2
   },
   "file_extension": ".py",
   "mimetype": "text/x-python",
   "name": "python",
   "nbconvert_exporter": "python",
   "pygments_lexer": "ipython2",
   "version": "2.7.12"
  }
 },
 "nbformat": 4,
 "nbformat_minor": 0
}
