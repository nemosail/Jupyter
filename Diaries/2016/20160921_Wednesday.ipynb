{
 "cells": [
  {
   "cell_type": "code",
   "execution_count": 1,
   "metadata": {
    "collapsed": false
   },
   "outputs": [
    {
     "name": "stdout",
     "output_type": "stream",
     "text": [
      "Busy day, doing sta... 3 documents and one program\n"
     ]
    }
   ],
   "source": [
    "print('Busy day, doing sta... 3 documents and one program')"
   ]
  },
  {
   "cell_type": "markdown",
   "metadata": {},
   "source": [
    ">\n",
    "\n",
    "Finish STA Level... \n",
    "\n",
    "STA 贴源，几乎不用改，落地成文件，DW的STA数据字典是用来描述STA里面的数据的，但是由于贴源，几乎不用修改，几乎是源系统的备份，一些字段可能由于编码问题，需要变化修改。 \n",
    "\n",
    "数据类型，由于不同数据源，可能要修改数据信息\n",
    "\n",
    "数据字段乘以 x4 在 源的地方就乘以4 就可以了\n",
    "\n",
    "clob -> varchar(4000) | 数据库的clob类型。。。\n",
    "\n",
    "int -> integer\n",
    "\n",
    "number -> integer\n",
    "\n",
    "number(4,2) -> decimal(4,2)?\n",
    "\n",
    "date -> date 'YYYYMMDD'\n",
    "\n",
    "//在sta不用做这个，sta中做好字符串中文x4就好，这个在后面的fdm做\n",
    "timestamp(6) -> timestamp(19) | \"2016-09-12 11:12:13\" | \"YYYY-MM-DD HH24:MI:SS\"\n",
    "\n",
    "---\n",
    "Mapping 是指从源 -》 目标 的映射关系，如何变换\n",
    "\n",
    "---\n",
    "源 -》 cp -》 目标文件 \n",
    "\n",
    "只需要在源 导入一次表结构，然后如果字段长度需要修改，在源修改，让那后在cp中把字段拉过去就好了 \n",
    "\n",
    "---\n",
    "根据Mapping设计DS作业\n",
    "\n",
    "落地文件名规范\n",
    "\n",
    "各个作业名都用小写，作业里面要说明要素\n",
    "\n",
    "DataStage Job作业被锁，可以解锁的。。。\n",
    "\n",
    "STA落地文件注意不能有乱码\n",
    "\n",
    "在数据库的stage，导入表后有 扩展-unicode，去掉 unicode 的之后就没有了，可能与clob有关系。。。\n",
    "\n",
    "想出更好的办法来处理多人合作合并成xls的方法，直接使用svn可以吗？\n",
    "\n",
    "- 数据字典(落地doc)\n",
    "- mapping(落地doc)\n",
    "- DS作业开发（落地代码）\n",
    "- 信息表（落地doc）\n",
    "\n"
   ]
  }
 ],
 "metadata": {
  "kernelspec": {
   "display_name": "Python [Root]",
   "language": "python",
   "name": "Python [Root]"
  },
  "language_info": {
   "codemirror_mode": {
    "name": "ipython",
    "version": 2
   },
   "file_extension": ".py",
   "mimetype": "text/x-python",
   "name": "python",
   "nbconvert_exporter": "python",
   "pygments_lexer": "ipython2",
   "version": "2.7.12"
  }
 },
 "nbformat": 4,
 "nbformat_minor": 0
}
