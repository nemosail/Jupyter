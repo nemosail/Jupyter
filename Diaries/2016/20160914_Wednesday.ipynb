{
 "cells": [
  {
   "cell_type": "markdown",
   "metadata": {},
   "source": [
    "> A day before Mid-autumn festival...\n",
    "\n",
    "1. Install newest nvidia driver etc 352... from [debian](https://wiki.debian.org/NvidiaGraphicsDrivers#Debian_8_.22Jessie.22)\n",
    "2. Install bumblee & nvidia newsest [driver](https://fixmynix.com/install-and-configure-nvidia-optimus-with-bumblebee-in-debian/)\n",
    "3. config bumblee /etc/bumblee/bumblee.config -> Driver \n",
    "\n",
    "***\n",
    "问题大概找到在/var/log/Xorg.0.log 说无法打开\n",
    "```\n",
    "[     3.357] (EE) open /dev/dri/card0: No such file or directory\n",
    "[     3.357] (EE) open /dev/dri/card0: No such file or directory\n",
    "[     3.358] (EE) Screen 0 deleted because of no matching config section.\n",
    "[     3.360] (EE) FBDEV(0): FBIOBLANK: Invalid argument\n",
    "[     3.368] (EE) AIGLX: reverting to software rendering\n",
    "[     3.571] (EE) FBDEV(0): FBIOBLANK: Invalid argument\n",
    "[     5.587] (EE) FBDEV(0): FBIOBLANK: Invalid argument\n",
    "[    15.338] (EE) FBDEV(0): FBIOBLANK: Invalid argument\n",
    "```\n",
    "\n",
    "然后根据 `# glxinfo | grep 'OpenGL'` 得到render渲染使用的方式是：\n",
    "```\n",
    "OpenGL vendor string: VMware, Inc.\n",
    "OpenGL renderer string: Gallium 0.4 on llvmpipe (LLVM 3.5, 256 bits)\n",
    "OpenGL version string: 3.0 Mesa 11.1.3\n",
    "OpenGL shading language version string: 1.30\n",
    "OpenGL context flags: (none)\n",
    "OpenGL extensions:\n",
    "```\n",
    "但是，这个Gallium llvmpipe 是什么鬼呢？！(this crap is software rendering... OpenGL in the CPU!)\n",
    "\n",
    "***\n",
    "# 写一个监控程序; shell 脚本; 根据业务部门的需求，读取moia数据库状态，根据规则发短信等等\n",
    "\n",
    "If you need to write code on AIX/Unix old OS, you may need vi config file location;\n",
    "search [ibm center](http://www.ibm.com/developerworks/aix/library/au-customize_vi/)\n",
    "[learn](http://alvinalexander.com/unix/edu/un010003/)\n",
    "[viC](http://docstore.mik.ua/orelly/linux/lnut/ch11_14.htm)\n",
    "\n",
    "which shell used on AIX?  \n",
    "\n",
    "echo $SHELL \n",
    "\n",
    "ksh....\n",
    "\n",
    "ksh is not that bad..\n",
    "\n",
    "A customer asks me if it's possible to enable file autocompletion under AIX and also history navigation through the cursor keys, basically to have AIX cli with the same behaviour as Linux/Windows.\n",
    "\n",
    "I know that under ksh file autocompletion is done through **Esc+\\**, and history navigation with **Esc+k and Esc+j**.\n",
    "\n",
    "I have tried with the extended shell available under AIX v7.1.0.0 (ksh93) but so far had no luck.\n",
    "\n",
    "#### AIX + SecureCRT 中文乱码的 是可以解决的，在SecureCRT选择编码就行，就是要注意源系统的编码问题，编码一直都是麻烦的。"
   ]
  }
 ],
 "metadata": {
  "kernelspec": {
   "display_name": "Python [Root]",
   "language": "python",
   "name": "Python [Root]"
  },
  "language_info": {
   "codemirror_mode": {
    "name": "ipython",
    "version": 2
   },
   "file_extension": ".py",
   "mimetype": "text/x-python",
   "name": "python",
   "nbconvert_exporter": "python",
   "pygments_lexer": "ipython2",
   "version": "2.7.12"
  }
 },
 "nbformat": 4,
 "nbformat_minor": 0
}
