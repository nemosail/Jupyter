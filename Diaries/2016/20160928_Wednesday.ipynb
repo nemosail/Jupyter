{
 "cells": [
  {
   "cell_type": "markdown",
   "metadata": {},
   "source": [
    "> So many problems, so many mistakes\n",
    "\n",
    "FDM：\n",
    "数据字典\n",
    "Mapping\n",
    "\n",
    "分词？\n",
    "\n",
    "---\n",
    "###### SVN 提交出错，需要回退版本，再次提交的问题： （What About Git?)\n",
    "如果客户端是TortoiseSVN的话，右键点击要回退的文件，选择TortoiseSVN--显示日志，找到要回退的那个版本，右键点击该文件，选择复原到此版本，这时文件会标记成红色感叹号，然后重新提交就行了。\n",
    "\n",
    "---\n",
    "SDM层出现 The input schema column xxx is not and the connector is configured to stop when ...\n",
    "\n",
    "Problem Found...因为的确 DEPTID这个没有使用到，因为写入数据库表名写错了。。。写错了。。。写错了。。。\n",
    "\n",
    "说明数据出问题了，出问题了，怎么把，思考。。。\n",
    "\n",
    "在 源文件 查看数据view data，发现无法查看，然后继续看 错误信息，delimeter问题，源文件的列属性被修改了？》》?\n",
    "\n",
    "用Peek去Debug， 不会用peek和Datastage自带的工具去DEBUG啊。。。\n",
    "\n",
    "DataStage Job 作业名 有中文，可能会有很大的问题。。。作业名都用英文\n",
    "\n",
    "---\n",
    "#### 新买的电脑有时候开机没响应，屏幕没输出，键盘鼠标没响应，可能是内存送松动了，内存接触不良导致开机自检失败。。。\n",
    "#### 坑爹的宿舍，地线没有接好的，TMD，那些混蛋真TMD烂/懒。\n",
    "\n",
    "Git解决冲突的方法，在git diff - git add - git commit 之后，进行git pull 或者 git push 与远程仓库交互的时候，可能引发冲突，因为多人同时修改同一个文件等等原因，因为是源文件/文本文件，解决冲突是比较方便的，由于git diff出来的变化写在了文件里面了\n",
    "\n",
    "```\n",
    "<<<< HEAD  之间的就是自己的修改\n",
    "\n",
    "====\n",
    "\n",
    ">>>> ah3sha256 之间的就是远程的修改，他们冲突了，git 没有办法将他们自动合并\n",
    "```\n",
    "\n",
    "需要手工修改"
   ]
  }
 ],
 "metadata": {
  "kernelspec": {
   "display_name": "Python [Root]",
   "language": "python",
   "name": "Python [Root]"
  },
  "language_info": {
   "codemirror_mode": {
    "name": "ipython",
    "version": 2
   },
   "file_extension": ".py",
   "mimetype": "text/x-python",
   "name": "python",
   "nbconvert_exporter": "python",
   "pygments_lexer": "ipython2",
   "version": "2.7.12"
  }
 },
 "nbformat": 4,
 "nbformat_minor": 0
}
