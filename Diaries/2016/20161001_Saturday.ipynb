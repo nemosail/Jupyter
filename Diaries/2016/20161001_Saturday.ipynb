{
 "cells": [
  {
   "cell_type": "markdown",
   "metadata": {},
   "source": [
    "> 客观地去认识事物，而不是带有主观因素地去了解，了解事物本源才是最重要的，别人的指指点点不重要，多听听老美总统的演讲。\n",
    "\n",
    "公司宿舍的地线明显没有接地，家里的地线明显有接地，分辨的方法很简单（也又很多种方法分辨），带着我的Dell7559的电源就知道了，如果没有接地，接触接口金属会又明显的触电感觉;如果充分接地了，是没有感觉的，所以公司那边的电器非常有可能带110V电。。。搽，如何解决。。。发现问题，解决问题。。。\n",
    "\n",
    "需要把宿舍门锁搞定了，不然冷死。。。这NH太低效率了，如其傻傻地死等，不如自己动手。。。"
   ]
  }
 ],
 "metadata": {
  "kernelspec": {
   "display_name": "Python [Root]",
   "language": "python",
   "name": "Python [Root]"
  },
  "language_info": {
   "codemirror_mode": {
    "name": "ipython",
    "version": 2
   },
   "file_extension": ".py",
   "mimetype": "text/x-python",
   "name": "python",
   "nbconvert_exporter": "python",
   "pygments_lexer": "ipython2",
   "version": "2.7.12"
  }
 },
 "nbformat": 4,
 "nbformat_minor": 0
}
