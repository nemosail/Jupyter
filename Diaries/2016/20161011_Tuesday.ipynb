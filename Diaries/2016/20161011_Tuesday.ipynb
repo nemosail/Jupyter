{
 "cells": [
  {
   "cell_type": "markdown",
   "metadata": {},
   "source": [
    "> WestWorld, the most violatent leads to the most pleasure??\n",
    "\n",
    "> 傻白甜，有时候真的不是傻白甜。。。Dolors: \"These violent delights have violent ends. ”\n",
    "\n",
    "Moia 是有有区分 当前状态表 和 历史状态？\n",
    "\n",
    "---\n",
    "Windows 下的 .gitignore 用来告诉git要忽略那些文件，不要跟踪他们的变化，git bash shell > touch .gitignore 就好了\n",
    "\n",
    "---\n",
    "不让Vim自动生成~备份文件 _vimrc set no backup\n",
    "\n",
    "---\n",
    "#### excel中如何对选中单元格快速进入编辑状态\n",
    "如果是空白的话，直接输入就可以编辑，如果有内容的话就按F2进入编辑状态。\n",
    "\n",
    "---\n",
    "ETL 作业， 对于一般表格，使用 全量+truncate ; 拉链+增量+upsert ; 切片是 增量+append"
   ]
  }
 ],
 "metadata": {
  "kernelspec": {
   "display_name": "Python [Root]",
   "language": "python",
   "name": "Python [Root]"
  },
  "language_info": {
   "codemirror_mode": {
    "name": "ipython",
    "version": 2
   },
   "file_extension": ".py",
   "mimetype": "text/x-python",
   "name": "python",
   "nbconvert_exporter": "python",
   "pygments_lexer": "ipython2",
   "version": "2.7.12"
  }
 },
 "nbformat": 4,
 "nbformat_minor": 0
}
