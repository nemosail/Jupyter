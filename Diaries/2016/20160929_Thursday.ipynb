{
 "cells": [
  {
   "cell_type": "markdown",
   "metadata": {},
   "source": [
    "> 要研究底层/基础，不能只关注应用，了解世界的本源才行。。。下一个世界科学中心在哪？\n",
    "\n",
    "> 可以在编辑重要文件之前先做个备份，有备无患嘛。\n",
    "\n",
    "> 更多的数据分析工作是由于过度复杂而非由于过于简单的失败的。\n",
    "\n",
    "> 最重要的必备条件是好奇心。\n",
    "\n",
    "SDM 的字段类型修改， STA是贴源的，原则上不会修改任何数据/类型;\n",
    "\n",
    "在SDM上 数据字典 不需要代码标准化的不需要变成varchar（10），同时Mapping也要修改\n",
    "\n",
    "由于SDM会创建表，所以SQL创建表的语句也要修改;\n",
    "\n",
    "---\n",
    "由于我的一个SDM表不需要做 代码标准化的流程，因此是不需要做 代码标准化/数据库 空间，怎样发现这个问题的呢》 view 一下数据，发现代码标准化数据库读取是空的，也就是没有可以转换的代码，肯定出问题了。\n",
    "\n",
    "代码转换/代码标准化的过程，如果 需要转换的代码，可以查看 SDM层的表的字段内容，出现\"!xxx\"的时候，表明找不到对应的转换关系，需要找源系统和公司那边解决。我的机构代码缺失问题解决了，因为HHJ帮我搞定了。哈哈\n",
    "\n",
    "---\n",
    "FDM不用怎么做开发？ 配置好文档，自动化脚本完成任务？\n",
    "\n",
    "---\n",
    "\n",
    "Perl入门必看小骆驼（《Perl语言入门》），之后再看其他的，诸如中级Perl，Perl语言编程（可能当手册更多），还有Perl编程实践（差不多这个名，黑豹那个）。总共就那几本书，网上到处都是的那些推荐就是了。 \n",
    "\n",
    "小骆驼 -> 大骆驼 -> 黑豹\n",
    "\n",
    "JD 上买 ( SICP + 小骆驼 + 草稿纸 ？ )\n",
    "\n",
    "---\n",
    "分形。。。\n",
    "\n",
    "Markdown VS HTML VS Latex\n",
    "\n",
    "markdown 非常简单容易懂，但是应该系统学习下，可以直接使用编辑器就达到非常漂亮的排版效果。\n",
    "\n",
    "---\n",
    "#### 黑客与画家\n",
    "《地球商品目录》目的是要帮助读者**“理解整个系统”**，试图从许许多多不同的方面解析这个时代的内在脉络，揭示它的发展轨迹，帮助你看清我们现在的位置和未来的方向。\n",
    "\n",
    "#### GITHUB每次提交都要用户名和密码。。。很不爽，Stay Hungry, Stay Young，不妥协，解决它!\n",
    "解决 [向github提交代码是老要输入用户名密码](http://www.jianshu.com/p/81ae6e77ff47)\n",
    "\n",
    "---\n",
    "貌似每个领域都有：\n",
    "** 天才 - 精英 - 普通人 - XX **"
   ]
  },
  {
   "cell_type": "code",
   "execution_count": null,
   "metadata": {
    "collapsed": true
   },
   "outputs": [],
   "source": []
  }
 ],
 "metadata": {
  "kernelspec": {
   "display_name": "Python [Root]",
   "language": "python",
   "name": "Python [Root]"
  },
  "language_info": {
   "codemirror_mode": {
    "name": "ipython",
    "version": 2
   },
   "file_extension": ".py",
   "mimetype": "text/x-python",
   "name": "python",
   "nbconvert_exporter": "python",
   "pygments_lexer": "ipython2",
   "version": "2.7.12"
  }
 },
 "nbformat": 4,
 "nbformat_minor": 0
}
