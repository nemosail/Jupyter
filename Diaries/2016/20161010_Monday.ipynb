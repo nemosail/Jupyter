{
 "cells": [
  {
   "cell_type": "markdown",
   "metadata": {},
   "source": [
    "> Start New Workday...\n",
    "\n",
    "> 程序是写出来给人看的，附带能在机器上运行 -- <计算机程序的结构与解释>\n",
    "\n",
    "发现现在我们做的过程的问题，同样的数据在不同的xls表中出现，这样子不好，应该是同样的数据，只有一个源，要引用的时候，就直接引用好了，而不是复制一份，这样又多个备份就容易出问题啊，搽。\n",
    "\n",
    "---\n",
    "Kindle DXG 死机了。。。解决办法，充满电，然后向右拨10s左右就会自动重启了。。。记得选系统。。。\n",
    "\n",
    "---\n",
    "源表里面都没有主键出现，导致做历史拉链的时候，就只有一个STRT_DT作为主键，单靠这一个字段作为主键明显是不够的，导致无法对源表做历史拉链，需要做的是切片，就是不加入 STRT_DT和END_DT了，加入一个时点日期字段，当成普通表了。每天做append入库，而不是做拉链入库\n",
    "\n",
    "---\n",
    "Trying the 即食燕麦+葡萄干\n",
    "\n",
    "\n",
    "注意 有 SDM的数据字典 然后有 FDM的数据字典， SDM -》 FDM 的就是 FDM层的Mapping， mapping需要的表要建立，mapping的作业也建立。\n",
    "\n",
    "#### 在拉链算法中，为什么一定要主键？是可以针对某几列的变化做比较的，那些变化可以不关注。。。\n",
    "\n",
    "\n"
   ]
  }
 ],
 "metadata": {
  "kernelspec": {
   "display_name": "Python [Root]",
   "language": "python",
   "name": "Python [Root]"
  },
  "language_info": {
   "codemirror_mode": {
    "name": "ipython",
    "version": 2
   },
   "file_extension": ".py",
   "mimetype": "text/x-python",
   "name": "python",
   "nbconvert_exporter": "python",
   "pygments_lexer": "ipython2",
   "version": "2.7.12"
  }
 },
 "nbformat": 4,
 "nbformat_minor": 0
}
