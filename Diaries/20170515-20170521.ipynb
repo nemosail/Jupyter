{
 "cells": [
  {
   "cell_type": "markdown",
   "metadata": {},
   "source": [
    "# 20170515 Monday\n",
    "\n",
    "> Lots of things happen this weekend...\n",
    "\n",
    "> 一带一路, One Belt One Road 峰会，合作互惠，开放包容，更多是平等合作共赢的局面？ Of course... 大方向是这样的，到细节方面，投资与投资回报率，这个是长期才能体现的，或在比较高级别的统计形式才能体现出来是有回报的，当站的不够高，看得不够远的时候，时间尺度不够长的时候，比较难看懂看清他们的意图吧。相对于工业革命之后的资本主义国家，英国等等的产品输出，资本输出，文化，政治输出，是主从关系，殖民与被殖民的关系，看懂了这个的人们当然不干，要反抗啊，但是反抗就要被镇压，战争？比较好的共赢啊，各取所需，地位相对平等，不是纯粹的商品倾销，也有技术交流，共同成长，形成经济共同体，使得每个成员都在发展中都又获得感，有希望，又盼头啊，而不是绝望和失望。。。\n",
    "\n",
    "> 信息安全"
   ]
  }
 ],
 "metadata": {
  "kernelspec": {
   "display_name": "Python [Root]",
   "language": "python",
   "name": "Python [Root]"
  },
  "language_info": {
   "codemirror_mode": {
    "name": "ipython",
    "version": 2
   },
   "file_extension": ".py",
   "mimetype": "text/x-python",
   "name": "python",
   "nbconvert_exporter": "python",
   "pygments_lexer": "ipython2",
   "version": "2.7.12"
  }
 },
 "nbformat": 4,
 "nbformat_minor": 0
}
