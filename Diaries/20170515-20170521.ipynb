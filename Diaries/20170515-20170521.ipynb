{
 "cells": [
  {
   "cell_type": "markdown",
   "metadata": {},
   "source": [
    "# 20170515 Monday\n",
    "\n",
    "> Lots of things happen this weekend...\n",
    "\n",
    "> Hangging out with her, huo guo, beef, it's ok for her during this period of time? It seems ok.\n",
    "\n",
    "> 一带一路, One Belt One Road 峰会，合作互惠，开放包容，更多是平等合作共赢的局面？ Of course... 大方向是这样的，到细节方面，投资与投资回报率，这个是长期才能体现的，或在比较高级别的统计形式才能体现出来是有回报的，当站的不够高，看得不够远的时候，时间尺度不够长的时候，比较难看懂看清他们的意图吧。相对于工业革命之后的资本主义国家，英国等等的产品输出，资本输出，文化，政治输出，是主从关系，殖民与被殖民的关系，看懂了这个的人们当然不干，要反抗啊，但是反抗就要被镇压，战争？比较好的共赢啊，各取所需，地位相对平等，不是纯粹的商品倾销，也有技术交流，共同成长，形成经济共同体，使得每个成员都在发展中都又获得感，有希望，又盼头啊，而不是绝望和失望。。。\n",
    "\n",
    "> 信息安全, 毕竟是计算科学与技术出身的人，上过信息安全的课，从历史来看复杂的系统都难免有漏洞，有漏洞就需要更新补丁等等，不然面对专门找你漏洞，在黑暗中暗算你的，你就像在裸奔一样了，关键是 人的意识，理解。这是个攻防问题，没有一劳永逸的方法，只有不断升级，不断了解所发生的情况，才能安全把。\n",
    "\n",
    "> 俺们不是运维的啊。但是就是被看成修电脑的，我的天。。。。\n",
    "\n",
    "> 人肉运维那么多台机器，那么多系统，程序，坑爹啊啊啊，不是办法，批处理，docker的思想可以直接运用过来吗？ 不是虚拟机，不是镜像，而是代码，构建一模一样的运行环境，这时候不久好办了啊？\n",
    "\n",
    "> NSA 牛啊，一大波系统性风险漏洞都找到了，真心防不胜防，WannaCry 这件事之所以充满了讽刺意味，是因为美国政府和美国媒体总喜欢把西方企业遭遇的网络袭击和感染的网络病毒，都说成是我们中国人干的。可实际上真正引发全球恐慌的病毒程序，都出自美国人自己的国家安全部门…… 如果 NSA 还有更多没有暴露的系统漏洞，难怪他们能监控很多重要信息了，就像老大哥一样，棱镜计划一样，绝大多数人都是裸奔一样诶！ 难怪以后的 RFC 都把安全放在了很重要的位置了。。。\n",
    "\n",
    "> 不过这次大规模的病毒爆发，给了各位观众老爷们一大启示，我们所处的信息时代，已经离不开计算机，离不开信息化，要有相当的安全意思才能避免问题，杀毒软件还是要定时更新，补丁也是要自动更新的。。。尽可能用上新的系统，有支持的系统，有漏洞，被发现就麻烦了。。。\n",
    "\n",
    "---\n",
    "#### 转换角度，使用更简单，更优美的方式去覆盖所有情况\n",
    "而不是一个 if 一个 if 来处理特例。。。[BeautyCodes](https://linux.cn/article-8498-1.html)\n",
    "\n",
    "---\n",
    "# 20170516 Tuesday\n",
    "\n",
    "> Back to normal work...\n",
    "\n",
    "> Hadoop: 搬运算要比搬数据要容易; 机器/程序来学习人类的习惯 要比 人类来学习使用程序更好...\n",
    "\n",
    "> 和袁老板去建地税门前那两颗木棉数的种子，有棉花+种子，感觉就像蒲公英模式，种子成熟了，爆开，随风飞走，然后在地上滚啊滚，去到更远跟不熟悉的远方，好神奇诶，之前以为木棉到达木棉花就停止了，只会开花，不结果，貌似我认识有问题，它是有果实的？ 不过更像是异木棉吧？\n",
    "\n",
    "> 看了百科，应该更像 import 自南美洲的异木棉，花期为每年的9月至次年1月，冬季为盛花期。美丽异木棉花谢后结果，果实有大有小，大的像柚子，一个个如炮弹般倒挂在光秃秃的枝杈上，甚为壮观。果实成熟后，厚厚的外皮自然脱落，一团白色的絮状物脱颖而出，洁白炫目，悬挂在枝头，状如成熟开裂的棉花团，这些絮状物柔软性、保暖性还胜过真正的棉花，用它还可以填充枕头。\n",
    " \n",
    "---\n",
    "#### Notepad ++ 的作者还是很有创意的，嘿嘿嘿，很好地解释了我们所在的状态，很好理解\n",
    "\"Vault 7: CIA Hacking Tools Revealed\" has been published by Wikileaks recentely, and Notepad++ is on the list.\n",
    "\n",
    "The issue of a hijacked DLL concerns scilexer.dll (needed by Notepad++) on a compromised PC, which is replaced by a modified scilexer.dll built by the CIA. When Notepad++ is launched, the modified scilexer.dll is loaded instead of the original one.\n",
    "It doesn't mean that CIA is interested in your coding skill or in your sex message content typed in Notepad++, but rather it prevents raising any red flags while the DLL does data collection in the background.\n",
    "\n",
    "It's not a vulnerability/security issue in Notepad++, but for remedying this issue, from this release (v7.3.3) forward, notepad++.exe checks the certificate validation in scilexer.dll before loading it. If the certificate is missing or invalid, then it just won't be loaded, and Notepad++ will fail to launch.\n",
    "\n",
    "Checking the certificate of DLL makes it harder to hack. Note that once users’ PCs are compromised, the hackers can do anything on the PCs. This solution only prevents from Notepad++ loading a CIA homemade DLL. It doesn't prevent your original notepad++.exe from being replaced by modified notepad++.exe while the CIA is controlling your PC.\n",
    "\n",
    "Just like knowing the lock is useless for people who are willing to go into my house, I still shut the door and lock it every morning when I leave home. We are in a f**king corrupted world, unfortunately.\n",
    "\n",
    "\n",
    "\n"
   ]
  }
 ],
 "metadata": {
  "kernelspec": {
   "display_name": "Python [Root]",
   "language": "python",
   "name": "Python [Root]"
  },
  "language_info": {
   "codemirror_mode": {
    "name": "ipython",
    "version": 2
   },
   "file_extension": ".py",
   "mimetype": "text/x-python",
   "name": "python",
   "nbconvert_exporter": "python",
   "pygments_lexer": "ipython2",
   "version": "2.7.12"
  }
 },
 "nbformat": 4,
 "nbformat_minor": 0
}
