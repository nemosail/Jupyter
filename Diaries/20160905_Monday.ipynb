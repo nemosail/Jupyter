{
 "cells": [
  {
   "cell_type": "markdown",
   "metadata": {},
   "source": [
    "> 人无远虑，必有近忧\n",
    "\n",
    "> Remember, never trust command line that people ask you to execute without knowing what it does.\n",
    "\n",
    "***\n",
    "写着操作AIX的时候，最好用view ?! Why\n",
    "\n",
    "应该是只读操作问题？\n",
    "\n",
    "***\n",
    "```\n",
    "# apt-cache search inxi\n",
    "inxi - full featured system information script\n",
    "\n",
    "# inxi -b\n",
    "System:    Host: DEBIAN-DELL-7559 Kernel: 4.6.0-0.bpo.1-amd64 x86_64 (64 bit) \n",
    "           Desktop: Gnome 3.14.4 Distro: Debian GNU/Linux 8 \n",
    "Machine:   System: Dell product: Inspiron 7559 v: 1.1.3 serial: 9GZ38B2 \n",
    "           Mobo: Dell model: 0H87XC v: A00 serial: .9GZ38B2.CN486436250062.\n",
    "           Bios: Dell v: 1.1.3 date: 11/05/2015\n",
    "CPU:       Quad core Intel Core i5-6300HQ (-MCP-) clocked at 3055 MHz\n",
    "Graphics:  Card-1: Intel Device 191b\n",
    "           Card-2: NVIDIA Device 139b\n",
    "           Display Server: X.org 1.16.4 drivers: nouveau,intel (unloaded: fbdev,vesa)\n",
    "           tty size: 100x30 Advanced Data: N/A for root\n",
    "Network:   Card-1: Intel Device 3165 driver: iwlwifi\n",
    "           Card-2: Realtek RTL8111/8168/8411 PCI Express Gigabit Ethernet Controller driver: r8169\n",
    "Drives:    HDD Total Size: 1120.2GB (2.0% used) \n",
    "Info:      Processes: 194 Uptime: 2:02 Memory: 1695.4/11893.4MB Client: Shell (bash) inxi: 2.1.28 \n",
    "\n",
    "```"
   ]
  }
 ],
 "metadata": {
  "kernelspec": {
   "display_name": "Python [Root]",
   "language": "python",
   "name": "Python [Root]"
  },
  "language_info": {
   "codemirror_mode": {
    "name": "ipython",
    "version": 2
   },
   "file_extension": ".py",
   "mimetype": "text/x-python",
   "name": "python",
   "nbconvert_exporter": "python",
   "pygments_lexer": "ipython2",
   "version": "2.7.12"
  }
 },
 "nbformat": 4,
 "nbformat_minor": 0
}
