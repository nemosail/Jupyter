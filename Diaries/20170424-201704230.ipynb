{
 "cells": [
  {
   "cell_type": "markdown",
   "metadata": {},
   "source": [
    "# 20170424 Monday\n",
    "\n",
    "> PL/SQL Developer 使用Oracle本身提供的工具，会好用一下，有**SQL命令窗口，就像sqlplus || 解析计划窗口 **，能用Oracle特性\n",
    "\n",
    "> 蓉菇凉的微信又出问题拉，Why? 有空Search & Solve it.\n",
    "\n",
    "> Keep Calm & Carry On.\n",
    "\n",
    "\n",
    "---\n",
    "#### 需要找到 开发环境 和 生产环境 的EM(Enterprise Manager), 得到SQL Monitering, 和 AWR 报告入口\n",
    "\n",
    "---\n",
    "#### 解决问题，要用正确的方式去解决问题，跳出局部思维，跳出局部最优解，找到问题的根源，直接找全局最优方式去解决\n",
    "不能固步自封，不要给自己设定上下限制，想法设法去优化，不能停止，各个方向都尝试下，就像优化算法一样，还没到理论的极限，就继续搞下去.\n",
    "\n",
    "---\n",
    "#### Jupyter 左手作家，右手程序员 很不错，很好，但是不是最好的，还可以更好，更加Extreme.\n",
    "但是网页上去编辑，不方便啊，要是有vim支持就好了，就是使用vim来编辑，更加不需要动鼠标了\n",
    "\n",
    "---\n",
    "#### Let AutoHotKey 自启动，就是不需要自己开机后不需要主动去添加 键盘快捷键\n",
    "\n",
    "---\n",
    "#### 貌似GitHub的查找功能不是太好用？ Git Clone到本地，然后使用本地的查找引擎啊，Xsearch 等等工具\n",
    "这样就不用忍受GitHub的破查找功能了，多去走走，多去沟通交流，多冥想/联想，就能找到更好的问题解决方案拉，优化&最优化。\n",
    "\n",
    "**然后想了想，linux自带的工具箱貌似就已经具有这个功能，或者组装一下就得到效率很高，又很好用的的了。。。**\n",
    "\n",
    "---\n",
    "#### Firefox Flash 插件自动化。。\n",
    "什么时候才能扔掉Flash啊，哎，这些应该都给HTML自己搞定就好了，然后几大浏览器支持就ok...\n",
    "\n",
    "Python也许是非常好的解决方式，也许linux的shell+工具本身就够用了？？？\n",
    "\n",
    "---\n",
    "#### 强力清洗机，可以把东西洗得好干净好干净。。。\n",
    "\n",
    "---\n",
    "#### 全民阅读 图书 公共图书馆 就像支付入口只是一个必要的  基础设施\n",
    "公共图书馆的建设，线性思维，参考，看看跑在前面的国家，现在也许需要更多非传统的思维，共享经济，如何改变人均读书少，看书少的情况？\n",
    "\n",
    "\n",
    "\n",
    "\n",
    "\n",
    "\n",
    "\n",
    "\n",
    "\n",
    "\n"
   ]
  }
 ],
 "metadata": {
  "kernelspec": {
   "display_name": "Python [Root]",
   "language": "python",
   "name": "Python [Root]"
  },
  "language_info": {
   "codemirror_mode": {
    "name": "ipython",
    "version": 2
   },
   "file_extension": ".py",
   "mimetype": "text/x-python",
   "name": "python",
   "nbconvert_exporter": "python",
   "pygments_lexer": "ipython2",
   "version": "2.7.12"
  }
 },
 "nbformat": 4,
 "nbformat_minor": 0
}
