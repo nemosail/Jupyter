{
 "cells": [
  {
   "cell_type": "markdown",
   "metadata": {},
   "source": [
    "![to the moon](https://pic1.zhimg.com/e3a6a63812f4d69c877cfdb0b73590ec_b.jpg)\n",
    "\n",
    "# 20170405 Wednesday\n",
    "\n",
    "> 雄安，政策红利，人们对它的预期，千年计划，在更长的时间尺度上去观看？\n",
    "\n",
    "> 机会，更多是抓紧机会，平时更注重努力锻炼与成长， 机会 与 努力 的辩证统一...\n",
    "\n",
    "> 不动产登记。。。\n",
    "\n",
    "> 互联网+地铁 使用的形式是 互联网网上购票，线下取票的问题，但是为什么不能直接刷码过闸？ 成本问题？ 一本万利啊，所有城市地铁，公交都可以解决这个难题了，应该是无现金的社会啊，减少成本，更方便快捷。。。\n",
    "\n",
    "> 无现金社会...\n",
    "\n",
    "> 安居乐业，多少人能够安居，然后又有多少人能够乐业? 俺是graduate student啊，怎么可能就这样被你们束缚，俺要自由，俺要公平，俺要民主，俺什么都想要，不是不要，只是时候没到而已。。。\n",
    "\n",
    "> 感人的 To the moon 游戏，有空一起解解迷～ \n",
    "\n",
    "> Stop and think, DFS/BFS 深度搜索，广度搜索， Are you confining yourself? Jump out and see and think. Are you opening it using the correct way? You can not calculate human madness -- by Aissic Newton.\n",
    "\n",
    "---\n",
    "#### 使用Google+微软自带教程，将Excel打开成为独立的窗口，Simply Solved.\n",
    "[link](https://support.microsoft.com/en-us/help/2636670/how-to-open-excel-files-in-separate-windows-in-windows-7)\n",
    "\n",
    "#### 报表管理协同好不好用！明明应该提供查找功能的却没有提供查找功能，\n",
    "但是根据使用经验来看，这个网页的xml就已经提供了所有的信息，也就是所有的报表并不需要主动点开的时候，它已经是获取到本地来了，要是会网络，网页编程，使用python就能搞出自己的搜索，嘿嘿。\n",
    "\n",
    "#### 写SQL还是使用全部大写好，大写大法好\n",
    "- 直接使caps，输入的时候就是使用大写;\n",
    "- notepad++ 全选，右键，转成大写;\n",
    "\n",
    "#### 把知识沉淀下来，太细节的不用管，不用记住，记住的是大方向的，通用思维式的，\n",
    "其他使用工具，计算机，知识图谱，知识拓扑等方式表示，然后以后查询就好了，\n",
    "\n",
    "#### To The Moon\n",
    "> \"你觉得天上的星星是什么呢？\"\n",
    "\n",
    "> \"我觉得是千千万万的灯塔，它们让那光芒照耀着其他灯塔，也照耀着我。\"\n",
    "\n",
    "\n"
   ]
  }
 ],
 "metadata": {
  "kernelspec": {
   "display_name": "Python [Root]",
   "language": "python",
   "name": "Python [Root]"
  },
  "language_info": {
   "codemirror_mode": {
    "name": "ipython",
    "version": 2
   },
   "file_extension": ".py",
   "mimetype": "text/x-python",
   "name": "python",
   "nbconvert_exporter": "python",
   "pygments_lexer": "ipython2",
   "version": "2.7.12"
  }
 },
 "nbformat": 4,
 "nbformat_minor": 0
}
