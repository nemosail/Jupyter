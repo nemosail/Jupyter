{
 "cells": [
  {
   "cell_type": "markdown",
   "metadata": {},
   "source": [
    "![HaveToBeSmater](http://g.hiphotos.baidu.com/news/crop%3D0%2C2%2C800%2C480%3Bw%3D638/sign=985e4821b0014a9095711cfd94471520/d8f9d72a6059252d5263ea973d9b033b5bb5b929.jpg)\n",
    "\n",
    "# 20170220 Monday\n",
    "\n",
    "> 不担心,勇敢承担起责任.\n",
    "\n",
    "> 办理证件/护照等等这些,都要多问问老员工把,看看规章制度,毕竟这里的要求严格点...\n",
    "\n",
    "> 市盈率\n",
    "\n",
    "> There is stil many optitunities, 了解业务知识,了解经济,了解金融, Just be prepared...\n",
    "\n",
    "---\n",
    "#### excel 版本坑爹的地方...\n",
    "65536行的限制? 使用 xls2007 以上的就好了...?\n",
    "\n",
    "excel 固定表头,固定第0行, 选中第二行 - 视图 - “冻结窗格”下拉菜单中的“冻结拆分窗格”按钮\n",
    "\n",
    "[jobole](http://blog.jobbole.com/110194/)\n",
    "---\n",
    "#### 多学习,多看看,[coolshell](http://coolshell.cn/articles/17583.html)\n",
    "![doitims](http://wx3.sinaimg.cn/large/63918611gy1fcsemf9t5dj20jg08y7ah.jpg)"
   ]
  }
 ],
 "metadata": {
  "kernelspec": {
   "display_name": "Python [Root]",
   "language": "python",
   "name": "Python [Root]"
  },
  "language_info": {
   "codemirror_mode": {
    "name": "ipython",
    "version": 2
   },
   "file_extension": ".py",
   "mimetype": "text/x-python",
   "name": "python",
   "nbconvert_exporter": "python",
   "pygments_lexer": "ipython2",
   "version": "2.7.12"
  }
 },
 "nbformat": 4,
 "nbformat_minor": 0
}
