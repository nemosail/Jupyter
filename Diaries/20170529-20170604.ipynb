{
 "cells": [
  {
   "cell_type": "markdown",
   "metadata": {},
   "source": [
    "# 20170531 AutoHotKey Send String Is Working Wrong...\n",
    "\n",
    "> 新的病毒/恶意软件到来，看不见，发生了你都不知道的病毒才是最可怕的，就像冰山水面下的部分，暗网灰色交易。。。\n",
    "\n",
    "> 掌握核心技术多重要啊，掌握源代码 Source Code 多重要啊，那些开源领袖真心看得太准太远了，没有源代码，你永远都是被别人支配，只有有源代码，才是真正的自主可控，独立可靠...\n",
    "\n",
    "---\n",
    "# 20170601 Children's Day\n",
    "\n",
    "> Auto Hot Key is not so perfect... It has some fault... 在使用 AHK 发送字符串 String Text 的时候字母的大小写乱了，希望大写的没有大写，希望小写的没有小写，就是 希望发送的是 Happy Children's Day 变成了 hApPy chILdRen'S daY... 这样子。。。这个不是我希望的，虽然可以用 AI ML DL 的方式去修正，去理解我的意思。。。\n",
    "\n",
    "> 虽然 Auto Hot Key 这工具很好用，也能够很好地解决一些常见自动化的问题，但是这也是只是一个 Workaround，就是无奈的折衷，如果软件设计的时候很好地遵从 API 设计规划，设计哲学，Avoid 奇奇怪怪的人机接口，程序就小而美，只干一些小函数事情，然后面向字符的输入输出，然后使用这些小程序（API最基本的功能）来构建复杂可靠功能，同时可以批处理，减少人力物力。。。\n",
    "\n",
    "> 深深体会是，PPT 等电子化的文档 你还真的不一定能够拿到手的，只是最原始也不是那么优美的 拍 PPT 才是最简单最粗暴啊，关键时刻拉你一把，雪中送炭的照片。。。You can't always be so elegent... you have do some dirty works somehow someday...Although you can try be as much elegent as possible...\n",
    "\n",
    "\n"
   ]
  }
 ],
 "metadata": {
  "kernelspec": {
   "display_name": "Python [Root]",
   "language": "python",
   "name": "Python [Root]"
  },
  "language_info": {
   "codemirror_mode": {
    "name": "ipython",
    "version": 2
   },
   "file_extension": ".py",
   "mimetype": "text/x-python",
   "name": "python",
   "nbconvert_exporter": "python",
   "pygments_lexer": "ipython2",
   "version": "2.7.12"
  }
 },
 "nbformat": 4,
 "nbformat_minor": 0
}
