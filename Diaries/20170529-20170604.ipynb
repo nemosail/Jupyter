{
 "cells": [
  {
   "cell_type": "markdown",
   "metadata": {},
   "source": [
    "# 20170531 AutoHotKey Send String Is Working Wrong...\n",
    "\n",
    "> 新的病毒/恶意软件到来，看不见，发生了你都不知道的病毒才是最可怕的，就像冰山水面下的部分，暗网灰色交易。。。\n",
    "\n",
    "> Jupyter 肯定可以做得更好，譬如加入显示页面的排序功能，我希望最新的文件放在最前面，LRU算法，最HOT的排在最前，最COLD的在后面，\n",
    "\n",
    "> Look at that， 各种 APP 各种广告，内嵌各种奇怪的东西，要是有个不错的程序员，写个开源版本，然后官方，纯功能，纯函数，然后放在GitHub 用群体的智慧去维护这个 APP，这样的模式适合我们这种小平民？\n",
    "\n"
   ]
  }
 ],
 "metadata": {
  "kernelspec": {
   "display_name": "Python [Root]",
   "language": "python",
   "name": "Python [Root]"
  },
  "language_info": {
   "codemirror_mode": {
    "name": "ipython",
    "version": 2
   },
   "file_extension": ".py",
   "mimetype": "text/x-python",
   "name": "python",
   "nbconvert_exporter": "python",
   "pygments_lexer": "ipython2",
   "version": "2.7.12"
  }
 },
 "nbformat": 4,
 "nbformat_minor": 0
}
