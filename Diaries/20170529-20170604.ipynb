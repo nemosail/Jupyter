{
 "cells": [
  {
   "cell_type": "markdown",
   "metadata": {},
   "source": [
    "# 20170531 AutoHotKey Send String Is Working Wrong...\n",
    "\n",
    "> 新的病毒/恶意软件到来，看不见，发生了你都不知道的病毒才是最可怕的，就像冰山水面下的部分，暗网灰色交易。。。\n",
    "\n",
    "> 掌握核心技术多重要啊，掌握源代码 Source Code 多重要啊，那些开源领袖真心看得太准太远了，没有源代码，你永远都是被别人支配，只有有源代码，才是真正的自主可控，独立可靠...\n",
    "\n",
    "---\n",
    "# 20170601 Children's Day\n",
    "\n",
    "> Auto Hot Key is not so perfect... It has some fault... 在使用 AHK 发送字符串 String Text 的时候字母的大小写乱了，希望大写的没有大写，希望小写的没有小写，就是 希望发送的是 Happy Children's Day 变成了 hApPy chILdRen'S daY... 这样子。。。这个不是我希望的，虽然可以用 AI ML DL 的方式去修正，去理解我的意思。。。\n",
    "\n"
   ]
  }
 ],
 "metadata": {
  "kernelspec": {
   "display_name": "Python [Root]",
   "language": "python",
   "name": "Python [Root]"
  },
  "language_info": {
   "codemirror_mode": {
    "name": "ipython",
    "version": 2
   },
   "file_extension": ".py",
   "mimetype": "text/x-python",
   "name": "python",
   "nbconvert_exporter": "python",
   "pygments_lexer": "ipython2",
   "version": "2.7.12"
  }
 },
 "nbformat": 4,
 "nbformat_minor": 0
}
