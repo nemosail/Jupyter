{
 "cells": [
  {
   "cell_type": "markdown",
   "metadata": {},
   "source": [
    "# 20170327 Monday\n",
    "\n",
    "> 找到问题,定位问题,解决问题,思路,独立自主,独立思考\n",
    "\n",
    "> I am so bad. Do it no more...\n",
    "\n",
    "> 货币乘数,存贷比, 这些东西都在银从里面,看看看\n",
    "\n",
    "> 国有大计划,人有小目标...\n",
    "\n",
    "---\n",
    "#### 民间借贷,高利贷,是有司法定义,\n",
    "需要借钱的人没有办法从银行和大金融机构成功借到钱，就只好求助于民间金融系统，同时，民间社会的钱缺乏投资渠道，因此选择进入高利贷。高利贷的借方贷方，就是如此接上了头。 供给与需求,同一类商品所有交易起来就是市场,民间借贷市场.\n",
    "\n",
    "媒体曝光的个别高利贷催债事件就像是蟑螂，当你在客厅发现一只蟑螂的时候，去你的厨房看看，那里应该已经生长了许多蟑螂。\n",
    "\n",
    "两个一结合,就像自持续的化学反应,根部停不下来...\n",
    "\n",
    "#### Linear & Non-Linear Thinking, Search On Google.\n",
    "线性思维是一种直线的、单向的、单维的、缺乏 变化的思维方式，它的好处是有助于深入思考，探究到事物的本质，弊病是无法认识复杂的事物。\n",
    "\n",
    "非线性思维是无须经过大量资料信息分析的综合系统，不受逻辑思维和线性思维局限的多维度的跳跃性思维，是互相联系的非平面、立体化、无中心、无边缘的网状结构，类似人的大脑神经和血管组织。它能拓宽思路，看到事物的普遍联系。非线性思维能弥补线性思维的局限性，有助于认识事物的本质，有助于认识复杂的事物。\n",
    "\n",
    "西方的科学家认为，线性思维是目的，非线性思维是手段。\n",
    "\n",
    "\n"
   ]
  }
 ],
 "metadata": {
  "kernelspec": {
   "display_name": "Python [Root]",
   "language": "python",
   "name": "Python [Root]"
  },
  "language_info": {
   "codemirror_mode": {
    "name": "ipython",
    "version": 2
   },
   "file_extension": ".py",
   "mimetype": "text/x-python",
   "name": "python",
   "nbconvert_exporter": "python",
   "pygments_lexer": "ipython2",
   "version": "2.7.12"
  }
 },
 "nbformat": 4,
 "nbformat_minor": 0
}
