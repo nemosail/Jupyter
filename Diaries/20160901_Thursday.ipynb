{
 "cells": [
  {
   "cell_type": "markdown",
   "metadata": {},
   "source": [
    "> A New September... Wake Me Up When September Ends.\n",
    "\n",
    "***\n",
    "**OA 太慢太卡了，打卡系统明明少了没有打卡完整，这样居然没提示异常。。。Python自动化工具，读取网页，判别异常准备上线**\n",
    "\n",
    "**阅读同事上传的文档，只能下载到本地，然后使用word/xls打开，为什么不能直接在网页上解释/展示啊，效率效率...不爽,Stay Young...解决了，安装电子签章就好了，不用下载了**\n",
    "\n",
    "\n",
    "***\n",
    "窗帘应该解决了。。。罗马杆(伸缩杆)+能遮光的窗帘... Shall Work. 测量长度？ 使用网线作为全长。。。\n",
    "\n",
    "***\n",
    "### Moia\n",
    "**作业主题**\n",
    "\n",
    "静态作业管理的一个逻辑概念，将有共同特点的作业划分到一个主题下，便于用户对作业的管理。通常会按照业务分类进行划分，譬如对于银行系统，可以将所有对“贷款”业务进行加工的作业划分到“贷款\"Topic下。\n",
    "\n",
    "**作业包**\n",
    "\n",
    "静态作业管理的一个逻辑概念，作业包是作业主题的下级对象，是对作业粒度更细的划分，通常我们会将不同阶段的加工作业划分到不同的作业包中，继续以Bank系统为例，在“贷款”主题下，可以将从源OLTP系统抽取数据的作业划分到一个作业包，将源数据转换成标准数据的作业划分到一个作业包，将标准数据加工成汇总数据的作业划分到另外一个作业包。\n",
    "\n",
    "\n"
   ]
  }
 ],
 "metadata": {
  "kernelspec": {
   "display_name": "Python [Root]",
   "language": "python",
   "name": "Python [Root]"
  },
  "language_info": {
   "codemirror_mode": {
    "name": "ipython",
    "version": 2
   },
   "file_extension": ".py",
   "mimetype": "text/x-python",
   "name": "python",
   "nbconvert_exporter": "python",
   "pygments_lexer": "ipython2",
   "version": "2.7.12"
  }
 },
 "nbformat": 4,
 "nbformat_minor": 0
}
