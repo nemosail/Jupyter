{
 "cells": [
  {
   "cell_type": "markdown",
   "metadata": {},
   "source": [
    "> A New September... Wake Me Up When September Ends.\n",
    "\n",
    "***\n",
    "**OA 太慢太卡了，打卡系统明明少了没有打卡完整，这样居然没提示异常。。。Python自动化工具，读取网页，判别异常准备上线**\n",
    "\n",
    "**阅读同事上传的文档，只能下载到本地，然后使用word/xls打开，为什么不能直接在网页上解释/展示啊，效率效率...不爽,Stay Young...解决了，安装电子签章就好了，不用下载了**\n",
    "\n",
    "\n",
    "***\n",
    "窗帘应该解决了。。。罗马杆(伸缩杆)+能遮光的窗帘... Shall Work.\n"
   ]
  }
 ],
 "metadata": {
  "kernelspec": {
   "display_name": "Python [Root]",
   "language": "python",
   "name": "Python [Root]"
  },
  "language_info": {
   "codemirror_mode": {
    "name": "ipython",
    "version": 2
   },
   "file_extension": ".py",
   "mimetype": "text/x-python",
   "name": "python",
   "nbconvert_exporter": "python",
   "pygments_lexer": "ipython2",
   "version": "2.7.12"
  }
 },
 "nbformat": 4,
 "nbformat_minor": 0
}
