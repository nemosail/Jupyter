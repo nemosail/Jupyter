{
 "cells": [
  {
   "cell_type": "markdown",
   "metadata": {},
   "source": [
    "# Books To Read\n",
    "\n",
    "- 结构化思维\n",
    "\n",
    "> Go To 知乎 Find Some Books Recommanded，未雨绸缪，做好准备，像微软解决方案框架(MSF) 一套科学系统的方法论，Get Ready；\n",
    "\n",
    "> 不能只会一味地否定别人来看高自己，Wrong Perspective,应该更加客观，准确的看待事物，ＭＥＭＣ，不重不漏，不偏不倚\n",
    "\n",
    "> 锻炼，是投资自己的身材，也是长期缓慢回报的效应；读书学习，是投资自己的头脑，也是更长期的复利效应；　现代人都被类似奶头乐的方式所蒙蔽，更加追求短期，刺激，即时快速的满足感觉，你可以沉迷其中，也可以成为利用人群的喜好来设计对应的　事物产品，虚拟产品，快消品，奶茶，吃的，零食；小视频，抖音等...\n",
    "\n",
    "> 出来后更需要学习和补充知识，从社会中学习，从身边人中学习，形成自己的学习成长的系统，道与术；不仅补充学校里面学不到的知识，985211里面都学不到的日常知识，医学知识，营养知识，小孩子知识等等；还要不断锻炼自己思维能力，广度和深度，对人性更深刻的思考，对世界更准确的认识．\n",
    "\n",
    ">　一整天的忙碌工作，照顾好老人，小孩，对象；还有那么多的娱乐节目／游戏　诱惑，静下心来看书，思考，是这个时代最奢侈的行为吧...\n",
    "\n",
    "- 关于健康的\n",
    "- 关于健身的\n",
    "- 关于小孩子\n",
    "- 关于饮食的，做菜，做汤，营养，养生　的科学，营养学才行\n",
    "- 关于医学的\n",
    "\n"
   ]
  }
 ],
 "metadata": {
  "kernelspec": {
   "display_name": "Python 2",
   "language": "python",
   "name": "python2"
  },
  "language_info": {
   "codemirror_mode": {
    "name": "ipython",
    "version": 2
   },
   "file_extension": ".py",
   "mimetype": "text/x-python",
   "name": "python",
   "nbconvert_exporter": "python",
   "pygments_lexer": "ipython2",
   "version": "2.7.13"
  }
 },
 "nbformat": 4,
 "nbformat_minor": 2
}
