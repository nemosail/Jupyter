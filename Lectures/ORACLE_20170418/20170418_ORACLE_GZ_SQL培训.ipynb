{
 "cells": [
  {
   "cell_type": "markdown",
   "metadata": {},
   "source": [
    "# 201704 ORACLE OLTP OLAP SQL优化 培训\n",
    "---\n",
    "\n",
    "> ORACLE 培训，遇到不少很厉害，很有经验的前辈，学到不少技术，更学到解决问题的通用思路，方法。\n",
    "\n",
    "> 多交流，多学习，去看看用户组，去听听前辈经验，收获丰富啊，跟牛X的人混啊，学习他们，成为他们～\n",
    "\n",
    "> 感触良多，毕竟他们也接触不少 遇到各式各样的问题的用户，解决不少光怪陆离的问题，既懂数据库底层运作机制（理论），又充分和实际应用打交道了，会很厉害，看问题比较深刻透彻。\n",
    "\n",
    "---\n",
    "\n",
    "有想法，就去试试\n",
    "\n",
    "统计信息，准确，具有代表性, representive..\n",
    "\n",
    "set based operation\n",
    "\n",
    "SQL Moniter 存储过程里面的SQL\n",
    "\n",
    "OLTP 小数量处理， row by row\n",
    "\n",
    "OLAP 大量数据，set based\n",
    "\n",
    "**exists** 多用用这个关键词，是set based的？ not exists...\n",
    "\n",
    "大量的数据，不用update deleta， 直接创建新表，直接路径插入.\n",
    "\n",
    "去更大，更新，更多聪明人的地方，交流，见识，成长。。。\n",
    "\n",
    "spool on, echo on, spool off\n",
    "\n",
    "AWR report, cpus sessions 最大连接数， 推荐数据库进程数 为经验值的 cpu * 1~10\n",
    "\n",
    "SQL moniter report 查看sql的执行计划，首先找到问题的根本原因，才能解决啊，定位问题。。。\n",
    "\n",
    "不要设定限制，上限，要有高远的目标，万一实现了呢？\n",
    "\n",
    "在ETL/TLT过程，可以使用程序逻辑来达到主键约束，外键约束功能，在数据库中开启这些，但是不实际执行，只是告诉优化器执行更好。。。\n",
    "\n",
    "\n"
   ]
  }
 ],
 "metadata": {
  "kernelspec": {
   "display_name": "Python [Root]",
   "language": "python",
   "name": "Python [Root]"
  },
  "language_info": {
   "codemirror_mode": {
    "name": "ipython",
    "version": 2
   },
   "file_extension": ".py",
   "mimetype": "text/x-python",
   "name": "python",
   "nbconvert_exporter": "python",
   "pygments_lexer": "ipython2",
   "version": "2.7.12"
  }
 },
 "nbformat": 4,
 "nbformat_minor": 0
}
