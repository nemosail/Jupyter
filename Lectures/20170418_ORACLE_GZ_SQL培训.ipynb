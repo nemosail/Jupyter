{
 "cells": [
  {
   "cell_type": "markdown",
   "metadata": {},
   "source": [
    "# 201704 ORACLE OLTP OLAP SQL优化 培训\n",
    "---\n",
    "\n",
    "> ORACLE 培训，遇到不少很厉害，很有经验的前辈，学到不少技术，更学到解决问题的通用思路，方法。\n",
    "\n",
    "> 多交流，多学习，去看看用户组，去听听前辈经验，收获丰富啊，跟牛X的人混啊，学习他们，成为他们～\n",
    "\n",
    "> 感触良多，毕竟他们也接触不少 遇到各式各样的问题的用户，解决不少光怪陆离的问题，既懂数据库底层运作机制（理论），又充分和实际应用打交道了，会很厉害，看问题比较深刻透彻。\n",
    "\n"
   ]
  }
 ],
 "metadata": {
  "kernelspec": {
   "display_name": "Python [Root]",
   "language": "python",
   "name": "Python [Root]"
  },
  "language_info": {
   "codemirror_mode": {
    "name": "ipython",
    "version": 2
   },
   "file_extension": ".py",
   "mimetype": "text/x-python",
   "name": "python",
   "nbconvert_exporter": "python",
   "pygments_lexer": "ipython2",
   "version": "2.7.12"
  }
 },
 "nbformat": 4,
 "nbformat_minor": 0
}
