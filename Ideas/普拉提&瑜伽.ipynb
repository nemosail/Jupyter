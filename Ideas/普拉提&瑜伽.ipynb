{
 "cells": [
  {
   "cell_type": "markdown",
   "metadata": {},
   "source": [
    "#### 普拉提 和 瑜伽 是有很大区别的拉\n",
    "[Source](https://www.zhihu.com/question/20937568)\n",
    "\n",
    "普拉提运用的是“横向”呼吸法，也就是是胸式呼吸，简单的说，腹部一直是收紧的，能感觉到肋骨架的收缩和扩展，鼻子吸口出；\n",
    "\n",
    "瑜伽是腹式呼吸，吸气时小腹扩张，呼气时小腹收缩，鼻子吸鼻子出。\n",
    "\n",
    "所以普拉提的呼吸也是要用胸腹配合的。普拉提的呼吸也非常重要，通过控制呼吸，把注意力集中在呼吸上，减少人对肌肉酸痛的敏感度。\n",
    "\n",
    "普拉提更关注的是身体本身，是肌肉，每一个动作老师都会告诉你接下来锻炼的地方是哪里，你感觉那个地方酸痛了，那证明你做对了；\n",
    "\n",
    "瑜伽，高端大气的说是灵肉合一，练的是境界。自然，我无法达到，也未曾感受……但练习的过程中，更讲究的是心与身的整体与和谐，这是我自己的体会。\n",
    "\n",
    "从来源讲，普拉提来自于运动医学，瑜伽来自于宗教。换个比喻，普拉提更像是科学，而瑜伽更像是哲学。\n",
    "\n",
    "作者：杨阿米\n",
    "链接：https://www.zhihu.com/question/20937568/answer/19607769\n",
    "来源：知乎\n",
    "著作权归作者所有。商业转载请联系作者获得授权，非商业转载请注明出处。\n"
   ]
  }
 ],
 "metadata": {
  "kernelspec": {
   "display_name": "Python [Root]",
   "language": "python",
   "name": "Python [Root]"
  },
  "language_info": {
   "codemirror_mode": {
    "name": "ipython",
    "version": 2
   },
   "file_extension": ".py",
   "mimetype": "text/x-python",
   "name": "python",
   "nbconvert_exporter": "python",
   "pygments_lexer": "ipython2",
   "version": "2.7.12"
  }
 },
 "nbformat": 4,
 "nbformat_minor": 0
}
