{
 "cells": [
  {
   "cell_type": "markdown",
   "metadata": {},
   "source": [
    "> \n",
    "\n",
    "- 新的shell脚本将会代替原来脚本，所以要兼容原来脚本能实现的功能\n",
    "- 新的shell脚本加入了 系统 的概念\n",
    "- 设计需要简单/易用/可扩展\n",
    "- 模块名字，大小写不区分 dw DW dW Dw\n",
    "\n",
    "程序本身的日志信息\n",
    "\n",
    "格式: 每一行\n",
    "\n",
    "[YYYYMMDD %H:%M:%S] | [INFO/WARN/ERRO] | [Message]\n",
    "\n",
    "---\n",
    "Shell 函数， \\$1 表明是第一个参数，不是\\$0...\n",
    "\n",
    "\n",
    "#### 全局变量（配置文件的变量其实都是全局的，why？） 全部都是大写，局部变量小写开头，不会全部大写\n",
    "\n",
    "在shell中， 09 -eq 9 是成立的\n",
    "\n",
    "更换手机号码的条件，一天只更换一次，在早上第一次进入9点的时候 更换手机，并可能发送新的值班情况\n",
    "(date +%H -eq 9 ) and ( reDate != curDate ) 条件成立，表明在9点这个时间段，然后日期已经变化了， 之后的reDate需要=curDate\n",
    "\n",
    "#### Shell 里面自己实现字典。。效率低，先不管，嘿嘿\n",
    "dtphone:\n",
    "```\n",
    "ODS:phone1;phone2;phone3\\n\n",
    "dW:phone1;phone2\\n\n",
    "CIF:phone3;phont4\n",
    "```\n",
    "\n",
    "shell去除末尾的符号\n",
    "`newnum=${num%\";\"}`\n",
    "\n",
    "`echo \"${line}\" | grep \"#\" | wc -l ) eq -1 ` 这只能说明这一行具有“#”这个符号，不是以“#”为开头，所以注意了，但是在当前的上下文环境下，就是足够了。\n",
    "\n",
    "```\n",
    "shell 判断变量中是否包含某个字符串\n",
    "比如变量是str\n",
    "str=\"this is a string\"\n",
    "  11 str=\"hhh;bbb;aaa\"\n",
    "  12 mod=\"aaa\"\n",
    "  13 if [ $( echo \"${str}\" | grep \"${mod}\" | wc -l ) -eq 1 ]\n",
    "  14 then\n",
    "  15     echo ${mod}\" is in \"${str}\n",
    "  16 fi\n",
    "\n",
    "```"
   ]
  }
 ],
 "metadata": {
  "kernelspec": {
   "display_name": "Python [Root]",
   "language": "python",
   "name": "Python [Root]"
  },
  "language_info": {
   "codemirror_mode": {
    "name": "ipython",
    "version": 2
   },
   "file_extension": ".py",
   "mimetype": "text/x-python",
   "name": "python",
   "nbconvert_exporter": "python",
   "pygments_lexer": "ipython2",
   "version": "2.7.12"
  }
 },
 "nbformat": 4,
 "nbformat_minor": 0
}
