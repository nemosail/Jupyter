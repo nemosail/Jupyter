{
 "cells": [
  {
   "cell_type": "markdown",
   "metadata": {},
   "source": [
    "# This script try to update firefox flash plugin\n",
    "尝试更新firefox插件。。。\n",
    "\n",
    "想法：\n",
    "每次firefox下的flash插件更新都很烦人啊，能否自动更新，或者写程序代替人工手动更新？！\n",
    "\n",
    "人工手动更新的方法：(注：一些网站可能要翻墙才能到达)\n",
    "1. check flash and other plugin status on [firefoxpluginsite](https://www.mozilla.org/en-US/plugincheck/)\n",
    "2. download newest version from flash [website](https://get.adobe.com/cn/flashplayer/)\n",
    "3. get the tar.gz 格式下载\n",
    "4. 看readme就可以了，注我用的plugin目录/usr/lib/mozilla/plugins[s](http://blog.csdn.net/wangyuchun_799/article/details/46995675)\n",
    "5. check again [firefoxpluginsite](https://www.mozilla.org/en-US/plugincheck/) and shall work fine\n",
    "7. check again about:plugins\n",
    "\n",
    "貌似要用python的网络编程了。。。搽"
   ]
  },
  {
   "cell_type": "code",
   "execution_count": 9,
   "metadata": {
    "collapsed": false
   },
   "outputs": [
    {
     "name": "stdout",
     "output_type": "stream",
     "text": [
      "--------------------------------------\n",
      "Now is 2016-11-02 11:21:19.944874\n",
      "--------------------------------------\n",
      "This script is created on # 20161102 #\n",
      "If you are far way from this date, be aware of changes of Linux/Firefox/Flash, this script may fail.\n",
      "\n",
      "Working directory is /home/imse/Jupyter/Ideas\n",
      "Moving directory to /tmp \n",
      "Working directory is /tmp\n"
     ]
    }
   ],
   "source": [
    "import datetime\n",
    "import os\n",
    "\n",
    "print(\"--------------------------------------\")\n",
    "print(\"Now is \" + str(datetime.datetime.now()))\n",
    "print(\"--------------------------------------\")\n",
    "print(\"This script is created on # 20161102 #\")\n",
    "print(\"If you are far way from this date, be aware of changes of Linux/Firefox/Flash, this script may fail.\\n\")\n",
    "\n",
    "print(\"Working directory is \" + os.getcwd())\n",
    "print(\"Moving directory to /tmp \")\n",
    "os.chdir(\"/tmp\")\n",
    "print(\"Working directory is \" + os.getcwd())\n"
   ]
  }
 ],
 "metadata": {
  "kernelspec": {
   "display_name": "Python [Root]",
   "language": "python",
   "name": "Python [Root]"
  },
  "language_info": {
   "codemirror_mode": {
    "name": "ipython",
    "version": 2
   },
   "file_extension": ".py",
   "mimetype": "text/x-python",
   "name": "python",
   "nbconvert_exporter": "python",
   "pygments_lexer": "ipython2",
   "version": "2.7.12"
  }
 },
 "nbformat": 4,
 "nbformat_minor": 0
}
