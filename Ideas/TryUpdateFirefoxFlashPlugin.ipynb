{
 "cells": [
  {
   "cell_type": "markdown",
   "metadata": {},
   "source": [
    "# This script try to update firefox flash plugin\n",
    "尝试更新firefox插件。。。\n",
    "\n",
    "想法：\n",
    "每次firefox下的flash插件更新都很烦人啊，能否自动更新，或者写程序代替人工手动更新？！\n",
    "\n",
    "人工手动更新的方法：(注：一些网站可能要翻墙才能到达)\n",
    "1. check flash and other plugin status on [firefoxpluginsite](https://www.mozilla.org/en-US/plugincheck/)\n",
    "2. download newest version from flash [website](https://get.adobe.com/cn/flashplayer/)\n",
    "3. get the tar.gz 格式下载\n",
    "4. 看readme就可以了，注我用的plugin目录/usr/lib/mozilla/plugins[s](http://blog.csdn.net/wangyuchun_799/article/details/46995675)\n",
    "5. check again [firefoxpluginsite](https://www.mozilla.org/en-US/plugincheck/) and shall work fine\n",
    "7. check again about:plugins\n",
    "\n",
    "貌似要用python的网络编程了。。。搽"
   ]
  },
  {
   "cell_type": "code",
   "execution_count": 11,
   "metadata": {
    "collapsed": false
   },
   "outputs": [
    {
     "name": "stdout",
     "output_type": "stream",
     "text": [
      "--------------------------------------\n",
      "Now is 2016-11-02 12:48:59.595583\n",
      "--------------------------------------\n",
      "This script is created on # 20161102 #\n",
      "If you are far way from this date, be aware of changes of Linux/Firefox/Flash, this script may fail.\n",
      "\n",
      "Working directory is /tmp\n",
      "Moving directory to /tmp \n",
      "Working directory is /tmp\n",
      "Files: ['.X11-unix', '.ICE-unix', '.XIM-unix', '.font-unix', '.Test-unix', 'pulse-PKdhtXMmr18n', 'systemd-private-fa23d3059e19456ab8785aa4a5c33673-systemd-timesyncd.service-dsNhuS', '.X0-lock', 'systemd-private-fa23d3059e19456ab8785aa4a5c33673-colord.service-v8I5Xh', 'systemd-private-fa23d3059e19456ab8785aa4a5c33673-rtkit-daemon.service-56JuEN', 'ssh-zC08Xm7fJNUU', 'fcitx-socket-:0', 'tracker-extract-files.1000', 'orbit-imse', 'mozilla_imse0', 'plugtmp', 'aaa']\n"
     ]
    }
   ],
   "source": [
    "import datetime\n",
    "import os\n",
    "\n",
    "# This script try to update linux.firefox.flash, because it update often, don't want to do it manaually everytime.\n",
    "print(\"--------------------------------------\")\n",
    "print(\"Now is \" + str(datetime.datetime.now()))\n",
    "print(\"--------------------------------------\")\n",
    "print(\"This script is created on # 20161102 #\")\n",
    "print(\"If you are far way from this date, be aware of changes of Linux/Firefox/Flash, this script may fail.\\n\")\n",
    "\n",
    "# Try to verify the run code scene, seems the code run on the local machine, code is on the web\n",
    "print(\"Working directory is \" + os.getcwd())\n",
    "print(\"Moving directory to /tmp \")\n",
    "os.chdir(\"/tmp\")\n",
    "print(\"Working directory is \" + os.getcwd())\n",
    "\n"
   ]
  }
 ],
 "metadata": {
  "kernelspec": {
   "display_name": "Python [Root]",
   "language": "python",
   "name": "Python [Root]"
  },
  "language_info": {
   "codemirror_mode": {
    "name": "ipython",
    "version": 2
   },
   "file_extension": ".py",
   "mimetype": "text/x-python",
   "name": "python",
   "nbconvert_exporter": "python",
   "pygments_lexer": "ipython2",
   "version": "2.7.12"
  }
 },
 "nbformat": 4,
 "nbformat_minor": 0
}
