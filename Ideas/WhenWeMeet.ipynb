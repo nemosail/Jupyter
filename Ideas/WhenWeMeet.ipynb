{
 "cells": [
  {
   "cell_type": "markdown",
   "metadata": {},
   "source": [
    "#### Here I record the date we met...\n",
    "So I can calculate how many days we meet.\n",
    "\n",
    "Story starts at 2016-11-11 22:30 (Verified by IMSE at 20161201 using WeChat. Glad that information is still there)\n",
    "\n",
    "The day when **Schrodinger's Cat** met **Pavlov's dog**.\n",
    "\n",
    "Once we know the source of the day and current day in UTC+8(AKA Beijing Time), we can calculate how many days we have met. Remember, try not to make the off by one error.\n",
    "\n"
   ]
  }
 ],
 "metadata": {
  "kernelspec": {
   "display_name": "Python [Root]",
   "language": "python",
   "name": "Python [Root]"
  },
  "language_info": {
   "codemirror_mode": {
    "name": "ipython",
    "version": 2
   },
   "file_extension": ".py",
   "mimetype": "text/x-python",
   "name": "python",
   "nbconvert_exporter": "python",
   "pygments_lexer": "ipython2",
   "version": "2.7.12"
  }
 },
 "nbformat": 4,
 "nbformat_minor": 0
}
