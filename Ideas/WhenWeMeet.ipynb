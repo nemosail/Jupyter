{
 "cells": [
  {
   "cell_type": "markdown",
   "metadata": {},
   "source": [
    "# Here I record the date we met...\n",
    "\n",
    "> I am not good at remembering things, but my heart and program is.\n",
    "\n",
    "---\n",
    "#### Date\n",
    "So I can calculate how many days we meet.\n",
    "\n",
    "Story starts at 2016-11-11 22:30 (Verified by IMSE at 20161201 using WeChat. Glad that information is still there)\n",
    "\n",
    "The day when **Schrodinger's Cat** met **Pavlov's dog**.\n",
    "\n",
    "Once we know the source of the day and current day in UTC+8(AKA Beijing Time), we can calculate how many days we have met. Remember, try not to make the off by one error.\n",
    "\n",
    "---\n",
    "#### Movie\n",
    "Movie is 名侦探柯南：纯黑的噩梦 at 2016-11-27\n",
    "\n",
    "Special Interval is 520 or 2^0 2^1 2^2 2^3 2^4 2^5 ... etc? Days away From Special Interval ... \n",
    "\n",
    "Program please give some hit to me.\n"
   ]
  },
  {
   "cell_type": "code",
   "execution_count": 18,
   "metadata": {
    "collapsed": false
   },
   "outputs": [
    {
     "name": "stdout",
     "output_type": "stream",
     "text": [
      "   December 2016      \n",
      "Su Mo Tu We Th Fr Sa  \n",
      "             1  2  3  \n",
      " 4  5  6  7  8  9 10  \n",
      "11 12 13 14 15 16 17  \n",
      "18 19 20 21 22 23 24  \n",
      "25 26 27 28 29 30 31  \n",
      "                      \n",
      "\n",
      "Source date is  : 2016-11-11\n",
      "Current date is : 2016-12-02\n",
      "\n",
      "Starting from zero, today is 21th day since we met.\n",
      "\n",
      "set([32, 1, 2, 4096, 100, 1024, 8192, 520, 64, 128, 256, 16384, 16, 8, 512, 4, 32768, 65536, 2048])\n"
     ]
    }
   ],
   "source": [
    "# Handling Datetime must be careful, try to understand things and do the right thing\n",
    "import datetime\n",
    "import os\n",
    "\n",
    "# put a calender here to help IMSE\n",
    "shell_code = \"cal -h\"\n",
    "process = os.popen(shell_code)\n",
    "output = process.read()\n",
    "process.close()\n",
    "print(output)\n",
    "\n",
    "# Source is the Zero day\n",
    "Source_timestamp_str = \"2016-11-11 22:30\"\n",
    "Source_date = datetime.datetime.strptime(Source_timestamp_str, \"%Y-%m-%d %H:%M\").date()\n",
    "\n",
    "# Current day, we are all living in UTC+8, right?\n",
    "Current_date = datetime.datetime.now().date()\n",
    "\n",
    "# Find the current interval, be careful, +1 or not +1 ? first day is set to 0, because I am a programmer.\n",
    "th_day = ( Current_date - Source_date ).days\n",
    "\n",
    "print(\"Source date is  : \" + str(Source_date))\n",
    "print(\"Current date is : \" + str(Current_date))\n",
    "print(\"\\nStarting from zero, today is \" + str(th_day) + \"th day since we met.\\n\" )\n",
    "\n",
    "\n",
    "# Special days set...\n",
    "special_days_set = set()\n",
    "special_days_set.add(100)\n",
    "special_days_set.add(520)\n",
    "\n",
    "# 2^16 has many many days...\n",
    "for idx in range(0,17):\n",
    "    special_days_set.add(2 ** idx)\n",
    "\n",
    "# solution: \n",
    "# [sort -> binary search] takes (nlogn + logn) time complexity;\n",
    "# [find distance -> find min] takes (n) time complexity...\n",
    "\n",
    "# Find the minimal postive number\n",
    "\n",
    "\n",
    "\n"
   ]
  }
 ],
 "metadata": {
  "kernelspec": {
   "display_name": "Python [Root]",
   "language": "python",
   "name": "Python [Root]"
  },
  "language_info": {
   "codemirror_mode": {
    "name": "ipython",
    "version": 2
   },
   "file_extension": ".py",
   "mimetype": "text/x-python",
   "name": "python",
   "nbconvert_exporter": "python",
   "pygments_lexer": "ipython2",
   "version": "2.7.12"
  }
 },
 "nbformat": 4,
 "nbformat_minor": 0
}
