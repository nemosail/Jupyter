{
 "cells": [
  {
   "cell_type": "markdown",
   "metadata": {},
   "source": [
    "# Write Words To GitHub\n",
    "\n",
    "> Thoughts Come Over My Mind... Because of you.\n",
    "\n",
    "---\n",
    "简单来说就是程序读取我要写到Github上的ASCII字符串，例如\"Hello World!\"这个是ASCII的字符串，然后像现实在点阵的LED上一样，把这些字显示在LED矩阵上，不过由于Github是按天来更新的，所以就是控制好每天是否应该提交变化。。。Just Do It...\n",
    "\n"
   ]
  },
  {
   "cell_type": "code",
   "execution_count": null,
   "metadata": {
    "collapsed": true
   },
   "outputs": [],
   "source": [
    "# Python Program To Help Human..\n",
    "# It get ASCII String And Help Human to Put it on github"
   ]
  }
 ],
 "metadata": {
  "kernelspec": {
   "display_name": "Python [Root]",
   "language": "python",
   "name": "Python [Root]"
  },
  "language_info": {
   "codemirror_mode": {
    "name": "ipython",
    "version": 2
   },
   "file_extension": ".py",
   "mimetype": "text/x-python",
   "name": "python",
   "nbconvert_exporter": "python",
   "pygments_lexer": "ipython2",
   "version": "2.7.12"
  }
 },
 "nbformat": 4,
 "nbformat_minor": 0
}
