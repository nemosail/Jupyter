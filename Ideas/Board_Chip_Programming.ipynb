{
 "cells": [
  {
   "cell_type": "markdown",
   "metadata": {},
   "source": [
    "# 找一些好玩的板子，编程。。。\n",
    "\n",
    "Orange Pi PC 2...\n",
    "\n",
    "Respberry Pi...\n",
    "\n",
    "Cubicboard...\n",
    "\n",
    "Orange Pi One\n",
    "\n",
    "Raspberry Pi II\n",
    "\n",
    "\n",
    "更小的，嵌入式等等。。。"
   ]
  }
 ],
 "metadata": {
  "kernelspec": {
   "display_name": "Python [Root]",
   "language": "python",
   "name": "Python [Root]"
  },
  "language_info": {
   "codemirror_mode": {
    "name": "ipython",
    "version": 2
   },
   "file_extension": ".py",
   "mimetype": "text/x-python",
   "name": "python",
   "nbconvert_exporter": "python",
   "pygments_lexer": "ipython2",
   "version": "2.7.12"
  }
 },
 "nbformat": 4,
 "nbformat_minor": 0
}
