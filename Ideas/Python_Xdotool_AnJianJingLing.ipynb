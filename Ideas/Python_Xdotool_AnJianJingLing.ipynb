{
 "cells": [
  {
   "cell_type": "markdown",
   "metadata": {},
   "source": [
    "# Some Interesting ideas\n",
    "\n",
    "Windows, we have An Jian Jing Ling 按键精灵;\n",
    "\n",
    "Linux, we have xdotool(apt-cache search xdotool; apt-get install xdotool)\n",
    "\n",
    "Maybe we can use python alone can do the job. or may be we can write xdotool code to a file, then use python call it. And all of this work on the web/github!!!\n",
    "\n",
    "也许使用Python就能实现模拟鼠标点击/键盘输入的动作，但是使用xdotoo和按键精灵应该更加简单快捷，可以使用python将xdotool的代码/tmp目录下的文件，然后使用系统调用sh运行他就行了，重要在于代码都放在github上，然后在网页上就可以运行了？装好python的linux系统就ok，这样共享代码就更加方便了。。。\n",
    "\n",
    "xdotool:\n",
    "```\n",
    "watch -n 1 xdotool click 1\n",
    "```"
   ]
  },
  {
   "cell_type": "code",
   "execution_count": 4,
   "metadata": {
    "collapsed": false
   },
   "outputs": [
    {
     "name": "stdout",
     "output_type": "stream",
     "text": [
      "\n",
      "watch -n 1 xdotool click 1\n",
      "\n",
      "2016-11-08-183734\n",
      "/tmp/2016-11-08-183734.xdotool\n"
     ]
    }
   ],
   "source": [
    "import datetime\n",
    "\n",
    "# Here put the xdotool code, will be put into /tmp/xdotool_date file\n",
    "xdotool_code = \"\"\"\n",
    "watch -n 1 xdotool click 1\n",
    "\"\"\"\n",
    "\n",
    "# write code to file\n",
    "print(xdotool_code)\n",
    "\n",
    "cur_date = str(datetime.datetime.now().strftime('%Y-%m-%d-%H%M%S'))\n",
    "print( cur_date )\n",
    "\n",
    "file_in_tmp = \"/tmp/\" + cur_date + \".xdotool\"\n",
    "print(file_in_tmp)\n",
    "\n",
    "with open(file_in_tmp, 'w') as xdf:\n",
    "    xdf.wrtelines(xdotool_code)\n",
    "\n"
   ]
  }
 ],
 "metadata": {
  "kernelspec": {
   "display_name": "Python [Root]",
   "language": "python",
   "name": "Python [Root]"
  },
  "language_info": {
   "codemirror_mode": {
    "name": "ipython",
    "version": 2
   },
   "file_extension": ".py",
   "mimetype": "text/x-python",
   "name": "python",
   "nbconvert_exporter": "python",
   "pygments_lexer": "ipython2",
   "version": "2.7.12"
  }
 },
 "nbformat": 4,
 "nbformat_minor": 0
}
