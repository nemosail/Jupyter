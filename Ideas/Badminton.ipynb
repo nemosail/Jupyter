{
 "cells": [
  {
   "cell_type": "markdown",
   "metadata": {},
   "source": [
    "> 知己知彼\n",
    "\n",
    "#### 羽毛球第一次自己拉线\n",
    "使用的是 BG65Ti... 和 BG65 有什么区别吗？ 合适才是好的，价格只是很概括的反映，对事物的属性全面认识才是正道。。。\n",
    "\n",
    "磅数是 23/24 左右，应该没有，川崎的老拍子了。\n",
    "\n",
    "羽毛球70以内就挑 泰来/WeCan威肯... 还有一个忘记了， \n",
    "80以内的亚狮龙RSL6号？也是可以的，多交流，多学习才是正解啊，社交化麽？\n",
    "\n",
    "###### 值得买系列\n",
    "\n",
    "[以后怎么选羽毛球](http://post.smzdm.com/p/485363/)\n",
    "\n",
    "[球拍](http://post.smzdm.com/p/6804/)\n",
    "\n",
    "[球鞋](http://post.smzdm.com/p/349554/)\n",
    "\n",
    "###### 羽毛球教程[Bilibili](http://www.bilibili.com/video/av6142971/)\n",
    "1. 网前球可以让它翻滚过去，而不是正常的打过去，手腕的切动作，使得有翻转的力距，手指扭动球拍。。。\n",
    "2. 步伐，要迎着球发力，不要让球到后面，高点击球。\n",
    "3. 握球拍，正面 VS 反面 击球，握拍方式不一样，不用紧紧握拍，灵活."
   ]
  }
 ],
 "metadata": {
  "kernelspec": {
   "display_name": "Python [Root]",
   "language": "python",
   "name": "Python [Root]"
  },
  "language_info": {
   "codemirror_mode": {
    "name": "ipython",
    "version": 2
   },
   "file_extension": ".py",
   "mimetype": "text/x-python",
   "name": "python",
   "nbconvert_exporter": "python",
   "pygments_lexer": "ipython2",
   "version": "2.7.12"
  }
 },
 "nbformat": 4,
 "nbformat_minor": 0
}
