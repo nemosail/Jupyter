{
 "cells": [
  {
   "cell_type": "code",
   "execution_count": 7,
   "metadata": {
    "collapsed": false
   },
   "outputs": [
    {
     "name": "stdout",
     "output_type": "stream",
     "text": [
      "Please Input Begin Date: 20160101\n",
      "Please Input End Date: 20160319\n",
      "Days Interval Is : 78\n"
     ]
    }
   ],
   "source": [
    "# This is a small python tool to calculate date interval\n",
    "# Input format 20170101\n",
    "\n",
    "# Input \n",
    "#     Begin Date\n",
    "#     End Date\n",
    "\n",
    "# Output\n",
    "#     day in interval, shall we pluse one? don't make the off by one error\n",
    "\n",
    "import datetime\n",
    "\n",
    "# Get begin date\n",
    "b = raw_input('Please Input Begin Date: ')\n",
    "\n",
    "# Get end date\n",
    "e = raw_input('Please Input End Date: ')\n",
    "\n",
    "bd = datetime.datetime.strptime(b,'%Y%m%d')\n",
    "ed = datetime.datetime.strptime(e,'%Y%m%d')\n",
    "\n",
    "print(\"Days Interval Is : \" + str((ed - bd).days))\n",
    "\n"
   ]
  }
 ],
 "metadata": {
  "kernelspec": {
   "display_name": "Python [Root]",
   "language": "python",
   "name": "Python [Root]"
  },
  "language_info": {
   "codemirror_mode": {
    "name": "ipython",
    "version": 2
   },
   "file_extension": ".py",
   "mimetype": "text/x-python",
   "name": "python",
   "nbconvert_exporter": "python",
   "pygments_lexer": "ipython2",
   "version": "2.7.12"
  }
 },
 "nbformat": 4,
 "nbformat_minor": 0
}
