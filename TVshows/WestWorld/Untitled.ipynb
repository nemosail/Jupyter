{
 "cells": [
  {
   "cell_type": "markdown",
   "metadata": {},
   "source": [
    "# Thoughts...\n",
    "\n",
    "关键：这部剧的剪辑在于不明显告诉你时间线，场景在各个时间线上交替发展。\n",
    "\n",
    "35年前： host可以用肢体反抗的，Even not to fight...\n",
    "35年后： host人只会用枪支了，\n",
    "\n",
    "劳伦斯也是关键，一些host留下来超过35年，他们经过果那个\"事件\"。。。那个西装小孩子是什么鬼？ 老黑帽是有水的，故意把小孩子支开了。。。老黑帽就是大股东，如果它是年轻的白帽，就应该是了，他们打算投资这个WW公司。\n",
    "\n",
    "deloris lie撒谎，她貌似一直说we，也就是anorid？\n",
    "\n",
    "一部好的剧"
   ]
  }
 ],
 "metadata": {
  "kernelspec": {
   "display_name": "Python [Root]",
   "language": "python",
   "name": "Python [Root]"
  },
  "language_info": {
   "codemirror_mode": {
    "name": "ipython",
    "version": 2
   },
   "file_extension": ".py",
   "mimetype": "text/x-python",
   "name": "python",
   "nbconvert_exporter": "python",
   "pygments_lexer": "ipython2",
   "version": "2.7.12"
  }
 },
 "nbformat": 4,
 "nbformat_minor": 0
}
