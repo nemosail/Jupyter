{
 "cells": [
  {
   "cell_type": "code",
   "execution_count": null,
   "metadata": {
    "collapsed": true
   },
   "outputs": [],
   "source": [
    "# -*- coding:utf-8 -*-\n",
    "\n",
    "import cv2\n",
    "import numpy as np\n",
    "#from matplotlib import pyplot as plt\n",
    "import tifffile as tiff\n",
    "\n",
    "band_one = './Out/band_0pass.tiff'\n",
    "band_two = './Out/band_1pass.tiff'\n",
    "band_three = './Out/band_2pass.tiff'\n",
    "band_four = './Out/band_3pass.tiff'\n",
    "\n",
    "im_one = tiff.imread(band_one)\n",
    "\n",
    "im_two = tiff.imread(band_two)\n",
    "\n",
    "im_three = tiff.imread(band_three)\n",
    "\n",
    "im_four = tiff.imread(band_four)\n",
    "\n",
    "print('im_one is ' + str(im_one.shape))\n",
    "\n",
    "print('im_two is ' + str(im_two.shape))\n",
    "\n",
    "print('im_three is ' + str(im_three.shape))\n",
    "\n",
    "print('im_four is ' + str(im_four.shape))\n",
    "\n",
    "# combine them?\n",
    "comb =im_one + im_two + 1 * im_three + 1 * im_four\n",
    "\n",
    "thread_mean = np.mean(comb)  # 均值，改为中位数，试试\n",
    "thread_sigma = np.std(comb)\n",
    "thread_median = np.median(comb)\n",
    "\n",
    "print('mean is ' + str(thread_mean))\n",
    "print('median is ' + str(thread_median))\n",
    "\n",
    "thread = thread_mean + 1 * thread_sigma\n",
    "tf = comb >= thread\n",
    "out_b = tf.astype(np.uint8)\n",
    "tiff.imsave('./Out/band_comb_pass.tiff', out_b)\n"
   ]
  }
 ],
 "metadata": {
  "kernelspec": {
   "display_name": "Python [Root]",
   "language": "python",
   "name": "Python [Root]"
  },
  "language_info": {
   "codemirror_mode": {
    "name": "ipython",
    "version": 2
   },
   "file_extension": ".py",
   "mimetype": "text/x-python",
   "name": "python",
   "nbconvert_exporter": "python",
   "pygments_lexer": "ipython2",
   "version": "2.7.12"
  }
 },
 "nbformat": 4,
 "nbformat_minor": 0
}
