{
 "cells": [
  {
   "cell_type": "code",
   "execution_count": null,
   "metadata": {
    "collapsed": true
   },
   "outputs": [],
   "source": [
    "# -*- coding:utf-8 -*-\n",
    "\n",
    "import numpy as np\n",
    "import cv2\n",
    "import numpy as np\n",
    "from matplotlib import pyplot as plt\n",
    "\n",
    "# 写一个且分图片的程序，面向的这个图片是 cubic 立体的，输出也是 cubic\n",
    "# end_row, end_col 是不可以取得到的\n",
    "def GetSubCubic(pic_cubic, (start_row, end_row, start_col, end_col)):\n",
    "    num_rows = end_row - start_row\n",
    "    num_cols = end_col - start_col\n",
    "    layer = pic_cubic.shape\n",
    "\n",
    "    if 2 == len(layer):  # normal mxn picture\n",
    "        sub_Cubic = np.zeros((num_rows, num_cols), dtype=np.uint16)\n",
    "        sub_Cubic[:,:] = pic_cubic[start_row:end_row, start_col:end_col]\n",
    "\n",
    "    else:\n",
    "        sub_Cubic = np.zeros((num_rows, num_cols, layer[2]), dtype=np.uint16)\n",
    "        sub_Cubic[:, :, :] = pic_cubic[start_row:end_row, start_col:end_col,:]\n",
    "\n",
    "    return sub_Cubic\n",
    "\n",
    "# 写一个函数，生成我的\n",
    "def GenerateSamples():\n",
    "\n",
    "\n",
    "    # Get From 2015 左上\n",
    "\n",
    "    # 图像处理, 2015 频率域 右上\n",
    "\n",
    "    # Get From 2017 右下\n",
    "\n",
    "    # 图像处理, 2017 频率域 左下\n",
    "\n",
    "    # 合成完整一个图片\n",
    "\n",
    "    # Get From Half Fake Target...\n",
    "\n",
    "    # 图片样本 目标样本\n",
    "\n",
    "    print('hello')\n",
    "\n",
    "# 这个函数将矩阵拉长成向量\n",
    "\n",
    "# 这个函数将向量变成矩阵\n",
    "\n",
    "# 这个函数将小矩阵合并成大矩阵，作为输出，输出就是 5106x15106\n",
    "\n",
    "if __name__ == '__main__':\n",
    "    print('hello world')\n",
    "\n"
   ]
  }
 ],
 "metadata": {
  "kernelspec": {
   "display_name": "Python 2",
   "language": "python",
   "name": "python2"
  },
  "language_info": {
   "codemirror_mode": {
    "name": "ipython",
    "version": 2
   },
   "file_extension": ".py",
   "mimetype": "text/x-python",
   "name": "python",
   "nbconvert_exporter": "python",
   "pygments_lexer": "ipython2",
   "version": "2.7.13"
  }
 },
 "nbformat": 4,
 "nbformat_minor": 2
}
